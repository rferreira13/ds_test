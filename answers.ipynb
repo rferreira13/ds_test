{
 "cells": [
  {
   "cell_type": "code",
   "execution_count": 141,
   "id": "e8651ac7",
   "metadata": {},
   "outputs": [],
   "source": [
    "import pandas as pd\n",
    "df = pd.read_excel(\"Test O_G_Equipment_Data.xlsx\")\n",
    "\n",
    "df.to_csv(\"data.csv\", index=False)"
   ]
  },
  {
   "cell_type": "markdown",
   "id": "82cc33a7",
   "metadata": {},
   "source": [
    "## Major task\n",
    "\n",
    " - Investigate one piece of equipment in different time cycles to understand what **characteristics and parameters** of the sensors **might indicate that the equipment is on the verge of failing**."
   ]
  },
  {
   "cell_type": "markdown",
   "id": "5bb82ef8",
   "metadata": {},
   "source": [
    "## Task 1 \n",
    "\n",
    "- Calculate how many times the equipment has failed.\n",
    "\n",
    "During the FPSO’s operation, various factors can cause the machine to fail and prolong its failure state. \n",
    "\n",
    "We ask you to explore the available data, identify, and calculate the number of times the\n",
    "equipment has failed throughout its operation."
   ]
  },
  {
   "cell_type": "code",
   "execution_count": 271,
   "id": "efd7056e",
   "metadata": {},
   "outputs": [
    {
     "data": {
      "application/vnd.plotly.v1+json": {
       "config": {
        "plotlyServerURL": "https://plot.ly"
       },
       "data": [
        {
         "hovertemplate": "Fail=%{x}<br>count=%{y}<extra></extra>",
         "legendgroup": "",
         "marker": {
          "color": "#636efa",
          "pattern": {
           "shape": ""
          }
         },
         "name": "",
         "orientation": "v",
         "showlegend": false,
         "textposition": "outside",
         "texttemplate": "%{y:.s}",
         "type": "bar",
         "x": [
          false,
          true
         ],
         "xaxis": "x",
         "y": {
          "bdata": "3gJCAA==",
          "dtype": "i2"
         },
         "yaxis": "y"
        }
       ],
       "layout": {
        "barmode": "relative",
        "legend": {
         "tracegroupgap": 0
        },
        "margin": {
         "b": 50,
         "l": 60,
         "r": 40,
         "t": 120
        },
        "template": {
         "data": {
          "bar": [
           {
            "error_x": {
             "color": "#2a3f5f"
            },
            "error_y": {
             "color": "#2a3f5f"
            },
            "marker": {
             "line": {
              "color": "#E5ECF6",
              "width": 0.5
             },
             "pattern": {
              "fillmode": "overlay",
              "size": 10,
              "solidity": 0.2
             }
            },
            "type": "bar"
           }
          ],
          "barpolar": [
           {
            "marker": {
             "line": {
              "color": "#E5ECF6",
              "width": 0.5
             },
             "pattern": {
              "fillmode": "overlay",
              "size": 10,
              "solidity": 0.2
             }
            },
            "type": "barpolar"
           }
          ],
          "carpet": [
           {
            "aaxis": {
             "endlinecolor": "#2a3f5f",
             "gridcolor": "white",
             "linecolor": "white",
             "minorgridcolor": "white",
             "startlinecolor": "#2a3f5f"
            },
            "baxis": {
             "endlinecolor": "#2a3f5f",
             "gridcolor": "white",
             "linecolor": "white",
             "minorgridcolor": "white",
             "startlinecolor": "#2a3f5f"
            },
            "type": "carpet"
           }
          ],
          "choropleth": [
           {
            "colorbar": {
             "outlinewidth": 0,
             "ticks": ""
            },
            "type": "choropleth"
           }
          ],
          "contour": [
           {
            "colorbar": {
             "outlinewidth": 0,
             "ticks": ""
            },
            "colorscale": [
             [
              0,
              "#0d0887"
             ],
             [
              0.1111111111111111,
              "#46039f"
             ],
             [
              0.2222222222222222,
              "#7201a8"
             ],
             [
              0.3333333333333333,
              "#9c179e"
             ],
             [
              0.4444444444444444,
              "#bd3786"
             ],
             [
              0.5555555555555556,
              "#d8576b"
             ],
             [
              0.6666666666666666,
              "#ed7953"
             ],
             [
              0.7777777777777778,
              "#fb9f3a"
             ],
             [
              0.8888888888888888,
              "#fdca26"
             ],
             [
              1,
              "#f0f921"
             ]
            ],
            "type": "contour"
           }
          ],
          "contourcarpet": [
           {
            "colorbar": {
             "outlinewidth": 0,
             "ticks": ""
            },
            "type": "contourcarpet"
           }
          ],
          "heatmap": [
           {
            "colorbar": {
             "outlinewidth": 0,
             "ticks": ""
            },
            "colorscale": [
             [
              0,
              "#0d0887"
             ],
             [
              0.1111111111111111,
              "#46039f"
             ],
             [
              0.2222222222222222,
              "#7201a8"
             ],
             [
              0.3333333333333333,
              "#9c179e"
             ],
             [
              0.4444444444444444,
              "#bd3786"
             ],
             [
              0.5555555555555556,
              "#d8576b"
             ],
             [
              0.6666666666666666,
              "#ed7953"
             ],
             [
              0.7777777777777778,
              "#fb9f3a"
             ],
             [
              0.8888888888888888,
              "#fdca26"
             ],
             [
              1,
              "#f0f921"
             ]
            ],
            "type": "heatmap"
           }
          ],
          "histogram": [
           {
            "marker": {
             "pattern": {
              "fillmode": "overlay",
              "size": 10,
              "solidity": 0.2
             }
            },
            "type": "histogram"
           }
          ],
          "histogram2d": [
           {
            "colorbar": {
             "outlinewidth": 0,
             "ticks": ""
            },
            "colorscale": [
             [
              0,
              "#0d0887"
             ],
             [
              0.1111111111111111,
              "#46039f"
             ],
             [
              0.2222222222222222,
              "#7201a8"
             ],
             [
              0.3333333333333333,
              "#9c179e"
             ],
             [
              0.4444444444444444,
              "#bd3786"
             ],
             [
              0.5555555555555556,
              "#d8576b"
             ],
             [
              0.6666666666666666,
              "#ed7953"
             ],
             [
              0.7777777777777778,
              "#fb9f3a"
             ],
             [
              0.8888888888888888,
              "#fdca26"
             ],
             [
              1,
              "#f0f921"
             ]
            ],
            "type": "histogram2d"
           }
          ],
          "histogram2dcontour": [
           {
            "colorbar": {
             "outlinewidth": 0,
             "ticks": ""
            },
            "colorscale": [
             [
              0,
              "#0d0887"
             ],
             [
              0.1111111111111111,
              "#46039f"
             ],
             [
              0.2222222222222222,
              "#7201a8"
             ],
             [
              0.3333333333333333,
              "#9c179e"
             ],
             [
              0.4444444444444444,
              "#bd3786"
             ],
             [
              0.5555555555555556,
              "#d8576b"
             ],
             [
              0.6666666666666666,
              "#ed7953"
             ],
             [
              0.7777777777777778,
              "#fb9f3a"
             ],
             [
              0.8888888888888888,
              "#fdca26"
             ],
             [
              1,
              "#f0f921"
             ]
            ],
            "type": "histogram2dcontour"
           }
          ],
          "mesh3d": [
           {
            "colorbar": {
             "outlinewidth": 0,
             "ticks": ""
            },
            "type": "mesh3d"
           }
          ],
          "parcoords": [
           {
            "line": {
             "colorbar": {
              "outlinewidth": 0,
              "ticks": ""
             }
            },
            "type": "parcoords"
           }
          ],
          "pie": [
           {
            "automargin": true,
            "type": "pie"
           }
          ],
          "scatter": [
           {
            "fillpattern": {
             "fillmode": "overlay",
             "size": 10,
             "solidity": 0.2
            },
            "type": "scatter"
           }
          ],
          "scatter3d": [
           {
            "line": {
             "colorbar": {
              "outlinewidth": 0,
              "ticks": ""
             }
            },
            "marker": {
             "colorbar": {
              "outlinewidth": 0,
              "ticks": ""
             }
            },
            "type": "scatter3d"
           }
          ],
          "scattercarpet": [
           {
            "marker": {
             "colorbar": {
              "outlinewidth": 0,
              "ticks": ""
             }
            },
            "type": "scattercarpet"
           }
          ],
          "scattergeo": [
           {
            "marker": {
             "colorbar": {
              "outlinewidth": 0,
              "ticks": ""
             }
            },
            "type": "scattergeo"
           }
          ],
          "scattergl": [
           {
            "marker": {
             "colorbar": {
              "outlinewidth": 0,
              "ticks": ""
             }
            },
            "type": "scattergl"
           }
          ],
          "scattermap": [
           {
            "marker": {
             "colorbar": {
              "outlinewidth": 0,
              "ticks": ""
             }
            },
            "type": "scattermap"
           }
          ],
          "scattermapbox": [
           {
            "marker": {
             "colorbar": {
              "outlinewidth": 0,
              "ticks": ""
             }
            },
            "type": "scattermapbox"
           }
          ],
          "scatterpolar": [
           {
            "marker": {
             "colorbar": {
              "outlinewidth": 0,
              "ticks": ""
             }
            },
            "type": "scatterpolar"
           }
          ],
          "scatterpolargl": [
           {
            "marker": {
             "colorbar": {
              "outlinewidth": 0,
              "ticks": ""
             }
            },
            "type": "scatterpolargl"
           }
          ],
          "scatterternary": [
           {
            "marker": {
             "colorbar": {
              "outlinewidth": 0,
              "ticks": ""
             }
            },
            "type": "scatterternary"
           }
          ],
          "surface": [
           {
            "colorbar": {
             "outlinewidth": 0,
             "ticks": ""
            },
            "colorscale": [
             [
              0,
              "#0d0887"
             ],
             [
              0.1111111111111111,
              "#46039f"
             ],
             [
              0.2222222222222222,
              "#7201a8"
             ],
             [
              0.3333333333333333,
              "#9c179e"
             ],
             [
              0.4444444444444444,
              "#bd3786"
             ],
             [
              0.5555555555555556,
              "#d8576b"
             ],
             [
              0.6666666666666666,
              "#ed7953"
             ],
             [
              0.7777777777777778,
              "#fb9f3a"
             ],
             [
              0.8888888888888888,
              "#fdca26"
             ],
             [
              1,
              "#f0f921"
             ]
            ],
            "type": "surface"
           }
          ],
          "table": [
           {
            "cells": {
             "fill": {
              "color": "#EBF0F8"
             },
             "line": {
              "color": "white"
             }
            },
            "header": {
             "fill": {
              "color": "#C8D4E3"
             },
             "line": {
              "color": "white"
             }
            },
            "type": "table"
           }
          ]
         },
         "layout": {
          "annotationdefaults": {
           "arrowcolor": "#2a3f5f",
           "arrowhead": 0,
           "arrowwidth": 1
          },
          "autotypenumbers": "strict",
          "coloraxis": {
           "colorbar": {
            "outlinewidth": 0,
            "ticks": ""
           }
          },
          "colorscale": {
           "diverging": [
            [
             0,
             "#8e0152"
            ],
            [
             0.1,
             "#c51b7d"
            ],
            [
             0.2,
             "#de77ae"
            ],
            [
             0.3,
             "#f1b6da"
            ],
            [
             0.4,
             "#fde0ef"
            ],
            [
             0.5,
             "#f7f7f7"
            ],
            [
             0.6,
             "#e6f5d0"
            ],
            [
             0.7,
             "#b8e186"
            ],
            [
             0.8,
             "#7fbc41"
            ],
            [
             0.9,
             "#4d9221"
            ],
            [
             1,
             "#276419"
            ]
           ],
           "sequential": [
            [
             0,
             "#0d0887"
            ],
            [
             0.1111111111111111,
             "#46039f"
            ],
            [
             0.2222222222222222,
             "#7201a8"
            ],
            [
             0.3333333333333333,
             "#9c179e"
            ],
            [
             0.4444444444444444,
             "#bd3786"
            ],
            [
             0.5555555555555556,
             "#d8576b"
            ],
            [
             0.6666666666666666,
             "#ed7953"
            ],
            [
             0.7777777777777778,
             "#fb9f3a"
            ],
            [
             0.8888888888888888,
             "#fdca26"
            ],
            [
             1,
             "#f0f921"
            ]
           ],
           "sequentialminus": [
            [
             0,
             "#0d0887"
            ],
            [
             0.1111111111111111,
             "#46039f"
            ],
            [
             0.2222222222222222,
             "#7201a8"
            ],
            [
             0.3333333333333333,
             "#9c179e"
            ],
            [
             0.4444444444444444,
             "#bd3786"
            ],
            [
             0.5555555555555556,
             "#d8576b"
            ],
            [
             0.6666666666666666,
             "#ed7953"
            ],
            [
             0.7777777777777778,
             "#fb9f3a"
            ],
            [
             0.8888888888888888,
             "#fdca26"
            ],
            [
             1,
             "#f0f921"
            ]
           ]
          },
          "colorway": [
           "#636efa",
           "#EF553B",
           "#00cc96",
           "#ab63fa",
           "#FFA15A",
           "#19d3f3",
           "#FF6692",
           "#B6E880",
           "#FF97FF",
           "#FECB52"
          ],
          "font": {
           "color": "#2a3f5f"
          },
          "geo": {
           "bgcolor": "white",
           "lakecolor": "white",
           "landcolor": "#E5ECF6",
           "showlakes": true,
           "showland": true,
           "subunitcolor": "white"
          },
          "hoverlabel": {
           "align": "left"
          },
          "hovermode": "closest",
          "mapbox": {
           "style": "light"
          },
          "paper_bgcolor": "white",
          "plot_bgcolor": "#E5ECF6",
          "polar": {
           "angularaxis": {
            "gridcolor": "white",
            "linecolor": "white",
            "ticks": ""
           },
           "bgcolor": "#E5ECF6",
           "radialaxis": {
            "gridcolor": "white",
            "linecolor": "white",
            "ticks": ""
           }
          },
          "scene": {
           "xaxis": {
            "backgroundcolor": "#E5ECF6",
            "gridcolor": "white",
            "gridwidth": 2,
            "linecolor": "white",
            "showbackground": true,
            "ticks": "",
            "zerolinecolor": "white"
           },
           "yaxis": {
            "backgroundcolor": "#E5ECF6",
            "gridcolor": "white",
            "gridwidth": 2,
            "linecolor": "white",
            "showbackground": true,
            "ticks": "",
            "zerolinecolor": "white"
           },
           "zaxis": {
            "backgroundcolor": "#E5ECF6",
            "gridcolor": "white",
            "gridwidth": 2,
            "linecolor": "white",
            "showbackground": true,
            "ticks": "",
            "zerolinecolor": "white"
           }
          },
          "shapedefaults": {
           "line": {
            "color": "#2a3f5f"
           }
          },
          "ternary": {
           "aaxis": {
            "gridcolor": "white",
            "linecolor": "white",
            "ticks": ""
           },
           "baxis": {
            "gridcolor": "white",
            "linecolor": "white",
            "ticks": ""
           },
           "bgcolor": "#E5ECF6",
           "caxis": {
            "gridcolor": "white",
            "linecolor": "white",
            "ticks": ""
           }
          },
          "title": {
           "x": 0.05
          },
          "xaxis": {
           "automargin": true,
           "gridcolor": "white",
           "linecolor": "white",
           "ticks": "",
           "title": {
            "standoff": 15
           },
           "zerolinecolor": "white",
           "zerolinewidth": 2
          },
          "yaxis": {
           "automargin": true,
           "gridcolor": "white",
           "linecolor": "white",
           "ticks": "",
           "title": {
            "standoff": 15
           },
           "zerolinecolor": "white",
           "zerolinewidth": 2
          }
         }
        },
        "title": {
         "font": {
          "size": 26
         },
         "pad": {
          "b": 10,
          "t": 10
         },
         "text": "Count of Fail and Not Fail Events",
         "x": 0.5,
         "xanchor": "center",
         "y": 0.94,
         "yanchor": "top"
        },
        "xaxis": {
         "anchor": "y",
         "domain": [
          0,
          1
         ],
         "title": {
          "text": "Fail"
         }
        },
        "yaxis": {
         "anchor": "x",
         "domain": [
          0,
          1
         ],
         "range": [
          0,
          800
         ],
         "title": {
          "text": "count"
         }
        }
       }
      }
     },
     "metadata": {},
     "output_type": "display_data"
    }
   ],
   "source": [
    "import plotly.express as px\n",
    "\n",
    "fig = px.bar(df[\"Fail\"].value_counts().reset_index(), x='Fail', y='count', text_auto='.s')\n",
    "fig.update_traces(textposition=\"outside\")\n",
    "fig.update_layout(\n",
    "        title=dict(\n",
    "            text=\"Count of Fail and Not Fail Events\",\n",
    "            x=0.5, xanchor='center',\n",
    "            y=0.94, yanchor='top',\n",
    "            font=dict(size=26),\n",
    "            pad=dict(t=10, b=10)\n",
    "        ),\n",
    "        margin=dict(l=60, r=40, t=120, b=50)\n",
    "    )\n",
    "fig.update_yaxes(range=[0, df.shape[0]])\n",
    "fig.show()"
   ]
  },
  {
   "cell_type": "code",
   "execution_count": 268,
   "id": "b63be142",
   "metadata": {},
   "outputs": [
    {
     "data": {
      "text/plain": [
       "'8.25%'"
      ]
     },
     "execution_count": 268,
     "metadata": {},
     "output_type": "execute_result"
    }
   ],
   "source": [
    "\"{:.2%}\".format(df['Fail'].mean())"
   ]
  },
  {
   "cell_type": "markdown",
   "id": "042989e6",
   "metadata": {},
   "source": [
    "## Task 1 answer"
   ]
  },
  {
   "cell_type": "markdown",
   "id": "afdbc17a",
   "metadata": {},
   "source": [
    "- From figure Count of *Fail and Not Fail Events* we may answer that the equipment has failed 66 times\n",
    "\n",
    "- That is 8.25 % from all observed Cycles."
   ]
  },
  {
   "cell_type": "markdown",
   "id": "e958d386",
   "metadata": {},
   "source": [
    "## Task 2\n",
    "\n",
    "- Categorize equipment failures by setup configurations (Preset 1 and Preset 2).\n",
    "\n",
    "- How do the variables Preset_1 and Preset_2 behave during operation? \n",
    "\n",
    "- What insights can we derive from these variables?"
   ]
  },
  {
   "cell_type": "code",
   "execution_count": 262,
   "id": "b0546fb8",
   "metadata": {},
   "outputs": [],
   "source": [
    "import pandas as pd\n",
    "import plotly.graph_objects as go\n",
    "from plotly.subplots import make_subplots\n",
    "\n",
    "def failure_report(data, group):\n",
    "    data_copy = data.copy()\n",
    "\n",
    "    total = (data_copy[group].astype(str)\n",
    "            .value_counts().rename_axis(group)\n",
    "            .reset_index(name='Number of observations'))\n",
    "\n",
    "    taxa = (\n",
    "        data_copy[data_copy[\"Fail\"]][group].astype(str).value_counts() \n",
    "        / data_copy[group].astype(str).value_counts()\n",
    "        ).reset_index(name='Failure percentage')\n",
    "\n",
    "    base = (total.merge(taxa, on=group, how='left')\n",
    "                .fillna({'Failure percentage': 0})\n",
    "                .sort_values(group))\n",
    "\n",
    "    fig = make_subplots(specs=[[{\"secondary_y\": True}]])\n",
    "\n",
    "    fig.add_trace(\n",
    "        go.Bar(x=base[group], y=base['Number of observations'],\n",
    "            name='Number of observations',\n",
    "            text=base['Number of observations'], textposition='outside'),\n",
    "        secondary_y=False\n",
    "    )\n",
    "\n",
    "    fig.add_trace(\n",
    "        go.Scatter(x=base[group], y=base['Failure percentage'],\n",
    "                name='Failure percentage',\n",
    "                mode='lines+markers+text',\n",
    "                line=dict(color='red', width=2),\n",
    "                text=base['Failure percentage'],\n",
    "                texttemplate='%{y:.1%}',\n",
    "                textposition='top center',\n",
    "                cliponaxis=False),\n",
    "        secondary_y=True\n",
    "    )\n",
    "\n",
    "    fig.update_yaxes(title_text='Number of observations', secondary_y=False)\n",
    "    fig.update_yaxes(title_text='Failure (%)', tickformat='.1%', secondary_y=True)\n",
    "    fig.update_xaxes(title_text=group)\n",
    "    fig.update_layout(\n",
    "        title=dict(\n",
    "            text=f\"Number of observations versus Failure percentage<br><span style='font-size:16px;'>Considering {group}</span>\",\n",
    "            x=0.5, xanchor='center',\n",
    "            y=0.94, yanchor='top',\n",
    "            font=dict(size=26),\n",
    "            pad=dict(t=10, b=10)\n",
    "        ),\n",
    "        margin=dict(l=60, r=40, t=120, b=50)\n",
    "    )\n",
    "    fig.show()\n",
    "\n",
    "def heatmap_failure(data):\n",
    "\n",
    "    data_copy = data.copy()\n",
    "\n",
    "    matrix_data = (data_copy.groupby(['Preset_1','Preset_2'])['Fail'].mean()\n",
    "        .mul(100).unstack(fill_value=0).sort_index())\n",
    "\n",
    "    matrix_data.columns = matrix_data.columns.astype(str)\n",
    "    matrix_data.index = matrix_data.index.astype(str)\n",
    "\n",
    "    fig = px.imshow(matrix_data, text_auto='.1f', aspect='auto',\n",
    "            color_continuous_scale='Reds',\n",
    "            labels=dict(color='Fail %')).update_layout(\n",
    "        xaxis_title='Preset_2', yaxis_title='Preset_1'\n",
    "    )\n",
    "\n",
    "    fig.update_layout(\n",
    "        title=dict(\n",
    "            text=\"Heatmap<br><span style='font-size:16px;'>Combinating Preset_1 and Preset_2</span>\",\n",
    "            x=0.5, xanchor='center',\n",
    "            y=0.94, yanchor='top',\n",
    "            font=dict(size=26),\n",
    "            pad=dict(t=10, b=10)\n",
    "        ),\n",
    "        margin=dict(l=60, r=40, t=120, b=50)\n",
    "    )\n",
    "    \n",
    "    \n",
    "    fig.show()"
   ]
  },
  {
   "cell_type": "code",
   "execution_count": null,
   "id": "13245d4d",
   "metadata": {},
   "outputs": [
    {
     "name": "stdout",
     "output_type": "stream",
     "text": [
      "   From  To  Times\n",
      "0     1   2     97\n",
      "1     2   1     90\n",
      "2     2   3     90\n",
      "3     3   1     87\n",
      "4     3   2     83\n",
      "5     1   3     80\n"
     ]
    }
   ],
   "source": [
    "### Changes from presets\n",
    "\n",
    "d = (df[['Cycle','Preset_1']]\n",
    "       .sort_values('Cycle')\n",
    "       .assign(prev=lambda x: x['Preset_1'].shift()))\n",
    "\n",
    "modifications = d.loc[d['Preset_1'].ne(d['prev']) & d['prev'].notna(), ['prev','Preset_1']]\n",
    "\n",
    "transitions = (modifications.astype(int)\n",
    "                .value_counts()\n",
    "                .reset_index(name='Times')\n",
    "                .rename(columns={'prev':'From','Preset_1':'To'})\n",
    "                .sort_values('Times', ascending=False))\n",
    "\n",
    "print(transitions)"
   ]
  },
  {
   "cell_type": "code",
   "execution_count": null,
   "id": "401824c9",
   "metadata": {},
   "outputs": [
    {
     "name": "stdout",
     "output_type": "stream",
     "text": [
      "    From  To  Times\n",
      "0      6   2     20\n",
      "1      3   4     18\n",
      "2      4   1     16\n",
      "3      2   1     16\n",
      "4      2   3     16\n",
      "5      7   6     16\n",
      "6      5   7     16\n",
      "7      4   6     15\n",
      "8      8   6     15\n",
      "9      1   7     15\n",
      "10     7   2     15\n",
      "11     6   4     15\n",
      "16     7   5     14\n",
      "19     8   5     14\n",
      "18     8   3     14\n",
      "17     1   8     14\n",
      "12     4   7     14\n",
      "15     8   7     14\n",
      "14     5   3     14\n",
      "13     5   2     14\n",
      "30     2   4     13\n",
      "29     2   8     13\n",
      "25     3   8     13\n",
      "27     1   6     13\n",
      "26     3   7     13\n",
      "28     3   6     13\n",
      "24     1   2     13\n",
      "22     4   5     13\n",
      "21     5   8     13\n",
      "20     6   1     13\n",
      "23     7   1     13\n",
      "33     2   5     12\n",
      "34     6   5     12\n",
      "35     7   8     12\n",
      "32     6   3     12\n",
      "31     3   5     12\n",
      "36     6   8     11\n",
      "37     7   4     11\n",
      "38     5   4     11\n",
      "39     8   4     11\n",
      "45     4   2     10\n",
      "48     4   8     10\n",
      "47     1   3     10\n",
      "46     5   6     10\n",
      "41     1   5     10\n",
      "44     2   6     10\n",
      "43     6   7     10\n",
      "42     4   3     10\n",
      "40     7   3     10\n",
      "49     2   7      9\n",
      "50     3   1      9\n",
      "51     8   1      9\n",
      "52     8   2      9\n",
      "53     1   4      9\n",
      "54     5   1      9\n",
      "55     3   2      8\n"
     ]
    }
   ],
   "source": [
    "### Changes from presets\n",
    "\n",
    "d = (df[['Cycle','Preset_2']]\n",
    "       .sort_values('Cycle')\n",
    "       .assign(prev=lambda x: x['Preset_2'].shift()))\n",
    "\n",
    "modifications = d.loc[d['Preset_2'].ne(d['prev']) & d['prev'].notna(), ['prev','Preset_2']]\n",
    "\n",
    "transitions = (modifications.astype(int)\n",
    "                .value_counts()\n",
    "                .reset_index(name='Times')\n",
    "                .rename(columns={'prev':'From','Preset_2':'To'})\n",
    "                .sort_values('Times', ascending=False))\n",
    "\n",
    "print(transitions)"
   ]
  },
  {
   "cell_type": "code",
   "execution_count": null,
   "id": "a68eba4c",
   "metadata": {},
   "outputs": [
    {
     "name": "stdout",
     "output_type": "stream",
     "text": [
      "     From  To  Times\n",
      "0      24  22      6\n",
      "2      22  38      5\n",
      "3      31  13      5\n",
      "4      28  27      5\n",
      "5      35  38      5\n",
      "..    ...  ..    ...\n",
      "290    11  16      1\n",
      "291    38  33      1\n",
      "292    38  34      1\n",
      "293    11  14      1\n",
      "424    22  26      1\n",
      "\n",
      "[425 rows x 3 columns]\n"
     ]
    }
   ],
   "source": [
    "### Changes from presets\n",
    "\n",
    "aux_data = df.copy()\n",
    "aux_data[\"Preset_1_2\"] = df['Preset_1'].astype(str) + df['Preset_2'].astype(str)\n",
    "\n",
    "d = (aux_data[['Cycle','Preset_1_2']]\n",
    "       .sort_values('Cycle')\n",
    "       .assign(prev=lambda x: x['Preset_1_2'].shift()))\n",
    "\n",
    "modifications = d.loc[d['Preset_1_2'].ne(d['prev']) & d['prev'].notna(), ['prev','Preset_1_2']]\n",
    "\n",
    "transitions = (modifications.astype(int)\n",
    "                .value_counts()\n",
    "                .reset_index(name='Times')\n",
    "                .rename(columns={'prev':'From','Preset_1_2':'To'})\n",
    "                .sort_values('Times', ascending=False))\n",
    "\n",
    "print(transitions)"
   ]
  },
  {
   "cell_type": "code",
   "execution_count": 263,
   "id": "7b7a6c50",
   "metadata": {},
   "outputs": [
    {
     "data": {
      "application/vnd.plotly.v1+json": {
       "config": {
        "plotlyServerURL": "https://plot.ly"
       },
       "data": [
        {
         "name": "Number of observations",
         "text": {
          "bdata": "AAAAAACAcEAAAAAAAJBxQAAAAAAA4G9A",
          "dtype": "f8"
         },
         "textposition": "outside",
         "type": "bar",
         "x": [
          "1",
          "2",
          "3"
         ],
         "xaxis": "x",
         "y": {
          "bdata": "CAEZAf8A",
          "dtype": "i2"
         },
         "yaxis": "y"
        },
        {
         "cliponaxis": false,
         "line": {
          "color": "red",
          "width": 2
         },
         "mode": "lines+markers+text",
         "name": "Failure percentage",
         "text": {
          "bdata": "L7rooosuuj/Jm51LtSGzPxISEhISErI/",
          "dtype": "f8"
         },
         "textposition": "top center",
         "texttemplate": "%{y:.1%}",
         "type": "scatter",
         "x": [
          "1",
          "2",
          "3"
         ],
         "xaxis": "x",
         "y": {
          "bdata": "L7rooosuuj/Jm51LtSGzPxISEhISErI/",
          "dtype": "f8"
         },
         "yaxis": "y2"
        }
       ],
       "layout": {
        "margin": {
         "b": 50,
         "l": 60,
         "r": 40,
         "t": 120
        },
        "template": {
         "data": {
          "bar": [
           {
            "error_x": {
             "color": "#2a3f5f"
            },
            "error_y": {
             "color": "#2a3f5f"
            },
            "marker": {
             "line": {
              "color": "#E5ECF6",
              "width": 0.5
             },
             "pattern": {
              "fillmode": "overlay",
              "size": 10,
              "solidity": 0.2
             }
            },
            "type": "bar"
           }
          ],
          "barpolar": [
           {
            "marker": {
             "line": {
              "color": "#E5ECF6",
              "width": 0.5
             },
             "pattern": {
              "fillmode": "overlay",
              "size": 10,
              "solidity": 0.2
             }
            },
            "type": "barpolar"
           }
          ],
          "carpet": [
           {
            "aaxis": {
             "endlinecolor": "#2a3f5f",
             "gridcolor": "white",
             "linecolor": "white",
             "minorgridcolor": "white",
             "startlinecolor": "#2a3f5f"
            },
            "baxis": {
             "endlinecolor": "#2a3f5f",
             "gridcolor": "white",
             "linecolor": "white",
             "minorgridcolor": "white",
             "startlinecolor": "#2a3f5f"
            },
            "type": "carpet"
           }
          ],
          "choropleth": [
           {
            "colorbar": {
             "outlinewidth": 0,
             "ticks": ""
            },
            "type": "choropleth"
           }
          ],
          "contour": [
           {
            "colorbar": {
             "outlinewidth": 0,
             "ticks": ""
            },
            "colorscale": [
             [
              0,
              "#0d0887"
             ],
             [
              0.1111111111111111,
              "#46039f"
             ],
             [
              0.2222222222222222,
              "#7201a8"
             ],
             [
              0.3333333333333333,
              "#9c179e"
             ],
             [
              0.4444444444444444,
              "#bd3786"
             ],
             [
              0.5555555555555556,
              "#d8576b"
             ],
             [
              0.6666666666666666,
              "#ed7953"
             ],
             [
              0.7777777777777778,
              "#fb9f3a"
             ],
             [
              0.8888888888888888,
              "#fdca26"
             ],
             [
              1,
              "#f0f921"
             ]
            ],
            "type": "contour"
           }
          ],
          "contourcarpet": [
           {
            "colorbar": {
             "outlinewidth": 0,
             "ticks": ""
            },
            "type": "contourcarpet"
           }
          ],
          "heatmap": [
           {
            "colorbar": {
             "outlinewidth": 0,
             "ticks": ""
            },
            "colorscale": [
             [
              0,
              "#0d0887"
             ],
             [
              0.1111111111111111,
              "#46039f"
             ],
             [
              0.2222222222222222,
              "#7201a8"
             ],
             [
              0.3333333333333333,
              "#9c179e"
             ],
             [
              0.4444444444444444,
              "#bd3786"
             ],
             [
              0.5555555555555556,
              "#d8576b"
             ],
             [
              0.6666666666666666,
              "#ed7953"
             ],
             [
              0.7777777777777778,
              "#fb9f3a"
             ],
             [
              0.8888888888888888,
              "#fdca26"
             ],
             [
              1,
              "#f0f921"
             ]
            ],
            "type": "heatmap"
           }
          ],
          "histogram": [
           {
            "marker": {
             "pattern": {
              "fillmode": "overlay",
              "size": 10,
              "solidity": 0.2
             }
            },
            "type": "histogram"
           }
          ],
          "histogram2d": [
           {
            "colorbar": {
             "outlinewidth": 0,
             "ticks": ""
            },
            "colorscale": [
             [
              0,
              "#0d0887"
             ],
             [
              0.1111111111111111,
              "#46039f"
             ],
             [
              0.2222222222222222,
              "#7201a8"
             ],
             [
              0.3333333333333333,
              "#9c179e"
             ],
             [
              0.4444444444444444,
              "#bd3786"
             ],
             [
              0.5555555555555556,
              "#d8576b"
             ],
             [
              0.6666666666666666,
              "#ed7953"
             ],
             [
              0.7777777777777778,
              "#fb9f3a"
             ],
             [
              0.8888888888888888,
              "#fdca26"
             ],
             [
              1,
              "#f0f921"
             ]
            ],
            "type": "histogram2d"
           }
          ],
          "histogram2dcontour": [
           {
            "colorbar": {
             "outlinewidth": 0,
             "ticks": ""
            },
            "colorscale": [
             [
              0,
              "#0d0887"
             ],
             [
              0.1111111111111111,
              "#46039f"
             ],
             [
              0.2222222222222222,
              "#7201a8"
             ],
             [
              0.3333333333333333,
              "#9c179e"
             ],
             [
              0.4444444444444444,
              "#bd3786"
             ],
             [
              0.5555555555555556,
              "#d8576b"
             ],
             [
              0.6666666666666666,
              "#ed7953"
             ],
             [
              0.7777777777777778,
              "#fb9f3a"
             ],
             [
              0.8888888888888888,
              "#fdca26"
             ],
             [
              1,
              "#f0f921"
             ]
            ],
            "type": "histogram2dcontour"
           }
          ],
          "mesh3d": [
           {
            "colorbar": {
             "outlinewidth": 0,
             "ticks": ""
            },
            "type": "mesh3d"
           }
          ],
          "parcoords": [
           {
            "line": {
             "colorbar": {
              "outlinewidth": 0,
              "ticks": ""
             }
            },
            "type": "parcoords"
           }
          ],
          "pie": [
           {
            "automargin": true,
            "type": "pie"
           }
          ],
          "scatter": [
           {
            "fillpattern": {
             "fillmode": "overlay",
             "size": 10,
             "solidity": 0.2
            },
            "type": "scatter"
           }
          ],
          "scatter3d": [
           {
            "line": {
             "colorbar": {
              "outlinewidth": 0,
              "ticks": ""
             }
            },
            "marker": {
             "colorbar": {
              "outlinewidth": 0,
              "ticks": ""
             }
            },
            "type": "scatter3d"
           }
          ],
          "scattercarpet": [
           {
            "marker": {
             "colorbar": {
              "outlinewidth": 0,
              "ticks": ""
             }
            },
            "type": "scattercarpet"
           }
          ],
          "scattergeo": [
           {
            "marker": {
             "colorbar": {
              "outlinewidth": 0,
              "ticks": ""
             }
            },
            "type": "scattergeo"
           }
          ],
          "scattergl": [
           {
            "marker": {
             "colorbar": {
              "outlinewidth": 0,
              "ticks": ""
             }
            },
            "type": "scattergl"
           }
          ],
          "scattermap": [
           {
            "marker": {
             "colorbar": {
              "outlinewidth": 0,
              "ticks": ""
             }
            },
            "type": "scattermap"
           }
          ],
          "scattermapbox": [
           {
            "marker": {
             "colorbar": {
              "outlinewidth": 0,
              "ticks": ""
             }
            },
            "type": "scattermapbox"
           }
          ],
          "scatterpolar": [
           {
            "marker": {
             "colorbar": {
              "outlinewidth": 0,
              "ticks": ""
             }
            },
            "type": "scatterpolar"
           }
          ],
          "scatterpolargl": [
           {
            "marker": {
             "colorbar": {
              "outlinewidth": 0,
              "ticks": ""
             }
            },
            "type": "scatterpolargl"
           }
          ],
          "scatterternary": [
           {
            "marker": {
             "colorbar": {
              "outlinewidth": 0,
              "ticks": ""
             }
            },
            "type": "scatterternary"
           }
          ],
          "surface": [
           {
            "colorbar": {
             "outlinewidth": 0,
             "ticks": ""
            },
            "colorscale": [
             [
              0,
              "#0d0887"
             ],
             [
              0.1111111111111111,
              "#46039f"
             ],
             [
              0.2222222222222222,
              "#7201a8"
             ],
             [
              0.3333333333333333,
              "#9c179e"
             ],
             [
              0.4444444444444444,
              "#bd3786"
             ],
             [
              0.5555555555555556,
              "#d8576b"
             ],
             [
              0.6666666666666666,
              "#ed7953"
             ],
             [
              0.7777777777777778,
              "#fb9f3a"
             ],
             [
              0.8888888888888888,
              "#fdca26"
             ],
             [
              1,
              "#f0f921"
             ]
            ],
            "type": "surface"
           }
          ],
          "table": [
           {
            "cells": {
             "fill": {
              "color": "#EBF0F8"
             },
             "line": {
              "color": "white"
             }
            },
            "header": {
             "fill": {
              "color": "#C8D4E3"
             },
             "line": {
              "color": "white"
             }
            },
            "type": "table"
           }
          ]
         },
         "layout": {
          "annotationdefaults": {
           "arrowcolor": "#2a3f5f",
           "arrowhead": 0,
           "arrowwidth": 1
          },
          "autotypenumbers": "strict",
          "coloraxis": {
           "colorbar": {
            "outlinewidth": 0,
            "ticks": ""
           }
          },
          "colorscale": {
           "diverging": [
            [
             0,
             "#8e0152"
            ],
            [
             0.1,
             "#c51b7d"
            ],
            [
             0.2,
             "#de77ae"
            ],
            [
             0.3,
             "#f1b6da"
            ],
            [
             0.4,
             "#fde0ef"
            ],
            [
             0.5,
             "#f7f7f7"
            ],
            [
             0.6,
             "#e6f5d0"
            ],
            [
             0.7,
             "#b8e186"
            ],
            [
             0.8,
             "#7fbc41"
            ],
            [
             0.9,
             "#4d9221"
            ],
            [
             1,
             "#276419"
            ]
           ],
           "sequential": [
            [
             0,
             "#0d0887"
            ],
            [
             0.1111111111111111,
             "#46039f"
            ],
            [
             0.2222222222222222,
             "#7201a8"
            ],
            [
             0.3333333333333333,
             "#9c179e"
            ],
            [
             0.4444444444444444,
             "#bd3786"
            ],
            [
             0.5555555555555556,
             "#d8576b"
            ],
            [
             0.6666666666666666,
             "#ed7953"
            ],
            [
             0.7777777777777778,
             "#fb9f3a"
            ],
            [
             0.8888888888888888,
             "#fdca26"
            ],
            [
             1,
             "#f0f921"
            ]
           ],
           "sequentialminus": [
            [
             0,
             "#0d0887"
            ],
            [
             0.1111111111111111,
             "#46039f"
            ],
            [
             0.2222222222222222,
             "#7201a8"
            ],
            [
             0.3333333333333333,
             "#9c179e"
            ],
            [
             0.4444444444444444,
             "#bd3786"
            ],
            [
             0.5555555555555556,
             "#d8576b"
            ],
            [
             0.6666666666666666,
             "#ed7953"
            ],
            [
             0.7777777777777778,
             "#fb9f3a"
            ],
            [
             0.8888888888888888,
             "#fdca26"
            ],
            [
             1,
             "#f0f921"
            ]
           ]
          },
          "colorway": [
           "#636efa",
           "#EF553B",
           "#00cc96",
           "#ab63fa",
           "#FFA15A",
           "#19d3f3",
           "#FF6692",
           "#B6E880",
           "#FF97FF",
           "#FECB52"
          ],
          "font": {
           "color": "#2a3f5f"
          },
          "geo": {
           "bgcolor": "white",
           "lakecolor": "white",
           "landcolor": "#E5ECF6",
           "showlakes": true,
           "showland": true,
           "subunitcolor": "white"
          },
          "hoverlabel": {
           "align": "left"
          },
          "hovermode": "closest",
          "mapbox": {
           "style": "light"
          },
          "paper_bgcolor": "white",
          "plot_bgcolor": "#E5ECF6",
          "polar": {
           "angularaxis": {
            "gridcolor": "white",
            "linecolor": "white",
            "ticks": ""
           },
           "bgcolor": "#E5ECF6",
           "radialaxis": {
            "gridcolor": "white",
            "linecolor": "white",
            "ticks": ""
           }
          },
          "scene": {
           "xaxis": {
            "backgroundcolor": "#E5ECF6",
            "gridcolor": "white",
            "gridwidth": 2,
            "linecolor": "white",
            "showbackground": true,
            "ticks": "",
            "zerolinecolor": "white"
           },
           "yaxis": {
            "backgroundcolor": "#E5ECF6",
            "gridcolor": "white",
            "gridwidth": 2,
            "linecolor": "white",
            "showbackground": true,
            "ticks": "",
            "zerolinecolor": "white"
           },
           "zaxis": {
            "backgroundcolor": "#E5ECF6",
            "gridcolor": "white",
            "gridwidth": 2,
            "linecolor": "white",
            "showbackground": true,
            "ticks": "",
            "zerolinecolor": "white"
           }
          },
          "shapedefaults": {
           "line": {
            "color": "#2a3f5f"
           }
          },
          "ternary": {
           "aaxis": {
            "gridcolor": "white",
            "linecolor": "white",
            "ticks": ""
           },
           "baxis": {
            "gridcolor": "white",
            "linecolor": "white",
            "ticks": ""
           },
           "bgcolor": "#E5ECF6",
           "caxis": {
            "gridcolor": "white",
            "linecolor": "white",
            "ticks": ""
           }
          },
          "title": {
           "x": 0.05
          },
          "xaxis": {
           "automargin": true,
           "gridcolor": "white",
           "linecolor": "white",
           "ticks": "",
           "title": {
            "standoff": 15
           },
           "zerolinecolor": "white",
           "zerolinewidth": 2
          },
          "yaxis": {
           "automargin": true,
           "gridcolor": "white",
           "linecolor": "white",
           "ticks": "",
           "title": {
            "standoff": 15
           },
           "zerolinecolor": "white",
           "zerolinewidth": 2
          }
         }
        },
        "title": {
         "font": {
          "size": 26
         },
         "pad": {
          "b": 10,
          "t": 10
         },
         "text": "Number of observations versus Failure percentage<br><span style='font-size:16px;'>Considering Preset_1</span>",
         "x": 0.5,
         "xanchor": "center",
         "y": 0.94,
         "yanchor": "top"
        },
        "xaxis": {
         "anchor": "y",
         "domain": [
          0,
          0.94
         ],
         "title": {
          "text": "Preset_1"
         }
        },
        "yaxis": {
         "anchor": "x",
         "domain": [
          0,
          1
         ],
         "title": {
          "text": "Number of observations"
         }
        },
        "yaxis2": {
         "anchor": "x",
         "overlaying": "y",
         "side": "right",
         "tickformat": ".1%",
         "title": {
          "text": "Failure (%)"
         }
        }
       }
      }
     },
     "metadata": {},
     "output_type": "display_data"
    },
    {
     "data": {
      "application/vnd.plotly.v1+json": {
       "config": {
        "plotlyServerURL": "https://plot.ly"
       },
       "data": [
        {
         "name": "Number of observations",
         "text": {
          "bdata": "AAAAAADAV0AAAAAAAEBZQAAAAAAAQFlAAAAAAABAV0AAAAAAAABZQAAAAAAAQFlAAAAAAABAW0AAAAAAAABZQA==",
          "dtype": "f8"
         },
         "textposition": "outside",
         "type": "bar",
         "x": [
          "1",
          "2",
          "3",
          "4",
          "5",
          "6",
          "7",
          "8"
         ],
         "xaxis": "x",
         "y": {
          "bdata": "X2VlXWRlbWQ=",
          "dtype": "i1"
         },
         "yaxis": "y"
        },
        {
         "cliponaxis": false,
         "line": {
          "color": "red",
          "width": 2
         },
         "mode": "lines+markers+text",
         "name": "Failure percentage",
         "text": {
          "bdata": "RtqxAmGkvT86NQ9y18+2P/hGFJh0aq4/hBBCCCGEoD+4HoXrUbi+Pzo1D3LXz7Y/NFIxtzojtT/sUbgeheuxPw==",
          "dtype": "f8"
         },
         "textposition": "top center",
         "texttemplate": "%{y:.1%}",
         "type": "scatter",
         "x": [
          "1",
          "2",
          "3",
          "4",
          "5",
          "6",
          "7",
          "8"
         ],
         "xaxis": "x",
         "y": {
          "bdata": "RtqxAmGkvT86NQ9y18+2P/hGFJh0aq4/hBBCCCGEoD+4HoXrUbi+Pzo1D3LXz7Y/NFIxtzojtT/sUbgeheuxPw==",
          "dtype": "f8"
         },
         "yaxis": "y2"
        }
       ],
       "layout": {
        "margin": {
         "b": 50,
         "l": 60,
         "r": 40,
         "t": 120
        },
        "template": {
         "data": {
          "bar": [
           {
            "error_x": {
             "color": "#2a3f5f"
            },
            "error_y": {
             "color": "#2a3f5f"
            },
            "marker": {
             "line": {
              "color": "#E5ECF6",
              "width": 0.5
             },
             "pattern": {
              "fillmode": "overlay",
              "size": 10,
              "solidity": 0.2
             }
            },
            "type": "bar"
           }
          ],
          "barpolar": [
           {
            "marker": {
             "line": {
              "color": "#E5ECF6",
              "width": 0.5
             },
             "pattern": {
              "fillmode": "overlay",
              "size": 10,
              "solidity": 0.2
             }
            },
            "type": "barpolar"
           }
          ],
          "carpet": [
           {
            "aaxis": {
             "endlinecolor": "#2a3f5f",
             "gridcolor": "white",
             "linecolor": "white",
             "minorgridcolor": "white",
             "startlinecolor": "#2a3f5f"
            },
            "baxis": {
             "endlinecolor": "#2a3f5f",
             "gridcolor": "white",
             "linecolor": "white",
             "minorgridcolor": "white",
             "startlinecolor": "#2a3f5f"
            },
            "type": "carpet"
           }
          ],
          "choropleth": [
           {
            "colorbar": {
             "outlinewidth": 0,
             "ticks": ""
            },
            "type": "choropleth"
           }
          ],
          "contour": [
           {
            "colorbar": {
             "outlinewidth": 0,
             "ticks": ""
            },
            "colorscale": [
             [
              0,
              "#0d0887"
             ],
             [
              0.1111111111111111,
              "#46039f"
             ],
             [
              0.2222222222222222,
              "#7201a8"
             ],
             [
              0.3333333333333333,
              "#9c179e"
             ],
             [
              0.4444444444444444,
              "#bd3786"
             ],
             [
              0.5555555555555556,
              "#d8576b"
             ],
             [
              0.6666666666666666,
              "#ed7953"
             ],
             [
              0.7777777777777778,
              "#fb9f3a"
             ],
             [
              0.8888888888888888,
              "#fdca26"
             ],
             [
              1,
              "#f0f921"
             ]
            ],
            "type": "contour"
           }
          ],
          "contourcarpet": [
           {
            "colorbar": {
             "outlinewidth": 0,
             "ticks": ""
            },
            "type": "contourcarpet"
           }
          ],
          "heatmap": [
           {
            "colorbar": {
             "outlinewidth": 0,
             "ticks": ""
            },
            "colorscale": [
             [
              0,
              "#0d0887"
             ],
             [
              0.1111111111111111,
              "#46039f"
             ],
             [
              0.2222222222222222,
              "#7201a8"
             ],
             [
              0.3333333333333333,
              "#9c179e"
             ],
             [
              0.4444444444444444,
              "#bd3786"
             ],
             [
              0.5555555555555556,
              "#d8576b"
             ],
             [
              0.6666666666666666,
              "#ed7953"
             ],
             [
              0.7777777777777778,
              "#fb9f3a"
             ],
             [
              0.8888888888888888,
              "#fdca26"
             ],
             [
              1,
              "#f0f921"
             ]
            ],
            "type": "heatmap"
           }
          ],
          "histogram": [
           {
            "marker": {
             "pattern": {
              "fillmode": "overlay",
              "size": 10,
              "solidity": 0.2
             }
            },
            "type": "histogram"
           }
          ],
          "histogram2d": [
           {
            "colorbar": {
             "outlinewidth": 0,
             "ticks": ""
            },
            "colorscale": [
             [
              0,
              "#0d0887"
             ],
             [
              0.1111111111111111,
              "#46039f"
             ],
             [
              0.2222222222222222,
              "#7201a8"
             ],
             [
              0.3333333333333333,
              "#9c179e"
             ],
             [
              0.4444444444444444,
              "#bd3786"
             ],
             [
              0.5555555555555556,
              "#d8576b"
             ],
             [
              0.6666666666666666,
              "#ed7953"
             ],
             [
              0.7777777777777778,
              "#fb9f3a"
             ],
             [
              0.8888888888888888,
              "#fdca26"
             ],
             [
              1,
              "#f0f921"
             ]
            ],
            "type": "histogram2d"
           }
          ],
          "histogram2dcontour": [
           {
            "colorbar": {
             "outlinewidth": 0,
             "ticks": ""
            },
            "colorscale": [
             [
              0,
              "#0d0887"
             ],
             [
              0.1111111111111111,
              "#46039f"
             ],
             [
              0.2222222222222222,
              "#7201a8"
             ],
             [
              0.3333333333333333,
              "#9c179e"
             ],
             [
              0.4444444444444444,
              "#bd3786"
             ],
             [
              0.5555555555555556,
              "#d8576b"
             ],
             [
              0.6666666666666666,
              "#ed7953"
             ],
             [
              0.7777777777777778,
              "#fb9f3a"
             ],
             [
              0.8888888888888888,
              "#fdca26"
             ],
             [
              1,
              "#f0f921"
             ]
            ],
            "type": "histogram2dcontour"
           }
          ],
          "mesh3d": [
           {
            "colorbar": {
             "outlinewidth": 0,
             "ticks": ""
            },
            "type": "mesh3d"
           }
          ],
          "parcoords": [
           {
            "line": {
             "colorbar": {
              "outlinewidth": 0,
              "ticks": ""
             }
            },
            "type": "parcoords"
           }
          ],
          "pie": [
           {
            "automargin": true,
            "type": "pie"
           }
          ],
          "scatter": [
           {
            "fillpattern": {
             "fillmode": "overlay",
             "size": 10,
             "solidity": 0.2
            },
            "type": "scatter"
           }
          ],
          "scatter3d": [
           {
            "line": {
             "colorbar": {
              "outlinewidth": 0,
              "ticks": ""
             }
            },
            "marker": {
             "colorbar": {
              "outlinewidth": 0,
              "ticks": ""
             }
            },
            "type": "scatter3d"
           }
          ],
          "scattercarpet": [
           {
            "marker": {
             "colorbar": {
              "outlinewidth": 0,
              "ticks": ""
             }
            },
            "type": "scattercarpet"
           }
          ],
          "scattergeo": [
           {
            "marker": {
             "colorbar": {
              "outlinewidth": 0,
              "ticks": ""
             }
            },
            "type": "scattergeo"
           }
          ],
          "scattergl": [
           {
            "marker": {
             "colorbar": {
              "outlinewidth": 0,
              "ticks": ""
             }
            },
            "type": "scattergl"
           }
          ],
          "scattermap": [
           {
            "marker": {
             "colorbar": {
              "outlinewidth": 0,
              "ticks": ""
             }
            },
            "type": "scattermap"
           }
          ],
          "scattermapbox": [
           {
            "marker": {
             "colorbar": {
              "outlinewidth": 0,
              "ticks": ""
             }
            },
            "type": "scattermapbox"
           }
          ],
          "scatterpolar": [
           {
            "marker": {
             "colorbar": {
              "outlinewidth": 0,
              "ticks": ""
             }
            },
            "type": "scatterpolar"
           }
          ],
          "scatterpolargl": [
           {
            "marker": {
             "colorbar": {
              "outlinewidth": 0,
              "ticks": ""
             }
            },
            "type": "scatterpolargl"
           }
          ],
          "scatterternary": [
           {
            "marker": {
             "colorbar": {
              "outlinewidth": 0,
              "ticks": ""
             }
            },
            "type": "scatterternary"
           }
          ],
          "surface": [
           {
            "colorbar": {
             "outlinewidth": 0,
             "ticks": ""
            },
            "colorscale": [
             [
              0,
              "#0d0887"
             ],
             [
              0.1111111111111111,
              "#46039f"
             ],
             [
              0.2222222222222222,
              "#7201a8"
             ],
             [
              0.3333333333333333,
              "#9c179e"
             ],
             [
              0.4444444444444444,
              "#bd3786"
             ],
             [
              0.5555555555555556,
              "#d8576b"
             ],
             [
              0.6666666666666666,
              "#ed7953"
             ],
             [
              0.7777777777777778,
              "#fb9f3a"
             ],
             [
              0.8888888888888888,
              "#fdca26"
             ],
             [
              1,
              "#f0f921"
             ]
            ],
            "type": "surface"
           }
          ],
          "table": [
           {
            "cells": {
             "fill": {
              "color": "#EBF0F8"
             },
             "line": {
              "color": "white"
             }
            },
            "header": {
             "fill": {
              "color": "#C8D4E3"
             },
             "line": {
              "color": "white"
             }
            },
            "type": "table"
           }
          ]
         },
         "layout": {
          "annotationdefaults": {
           "arrowcolor": "#2a3f5f",
           "arrowhead": 0,
           "arrowwidth": 1
          },
          "autotypenumbers": "strict",
          "coloraxis": {
           "colorbar": {
            "outlinewidth": 0,
            "ticks": ""
           }
          },
          "colorscale": {
           "diverging": [
            [
             0,
             "#8e0152"
            ],
            [
             0.1,
             "#c51b7d"
            ],
            [
             0.2,
             "#de77ae"
            ],
            [
             0.3,
             "#f1b6da"
            ],
            [
             0.4,
             "#fde0ef"
            ],
            [
             0.5,
             "#f7f7f7"
            ],
            [
             0.6,
             "#e6f5d0"
            ],
            [
             0.7,
             "#b8e186"
            ],
            [
             0.8,
             "#7fbc41"
            ],
            [
             0.9,
             "#4d9221"
            ],
            [
             1,
             "#276419"
            ]
           ],
           "sequential": [
            [
             0,
             "#0d0887"
            ],
            [
             0.1111111111111111,
             "#46039f"
            ],
            [
             0.2222222222222222,
             "#7201a8"
            ],
            [
             0.3333333333333333,
             "#9c179e"
            ],
            [
             0.4444444444444444,
             "#bd3786"
            ],
            [
             0.5555555555555556,
             "#d8576b"
            ],
            [
             0.6666666666666666,
             "#ed7953"
            ],
            [
             0.7777777777777778,
             "#fb9f3a"
            ],
            [
             0.8888888888888888,
             "#fdca26"
            ],
            [
             1,
             "#f0f921"
            ]
           ],
           "sequentialminus": [
            [
             0,
             "#0d0887"
            ],
            [
             0.1111111111111111,
             "#46039f"
            ],
            [
             0.2222222222222222,
             "#7201a8"
            ],
            [
             0.3333333333333333,
             "#9c179e"
            ],
            [
             0.4444444444444444,
             "#bd3786"
            ],
            [
             0.5555555555555556,
             "#d8576b"
            ],
            [
             0.6666666666666666,
             "#ed7953"
            ],
            [
             0.7777777777777778,
             "#fb9f3a"
            ],
            [
             0.8888888888888888,
             "#fdca26"
            ],
            [
             1,
             "#f0f921"
            ]
           ]
          },
          "colorway": [
           "#636efa",
           "#EF553B",
           "#00cc96",
           "#ab63fa",
           "#FFA15A",
           "#19d3f3",
           "#FF6692",
           "#B6E880",
           "#FF97FF",
           "#FECB52"
          ],
          "font": {
           "color": "#2a3f5f"
          },
          "geo": {
           "bgcolor": "white",
           "lakecolor": "white",
           "landcolor": "#E5ECF6",
           "showlakes": true,
           "showland": true,
           "subunitcolor": "white"
          },
          "hoverlabel": {
           "align": "left"
          },
          "hovermode": "closest",
          "mapbox": {
           "style": "light"
          },
          "paper_bgcolor": "white",
          "plot_bgcolor": "#E5ECF6",
          "polar": {
           "angularaxis": {
            "gridcolor": "white",
            "linecolor": "white",
            "ticks": ""
           },
           "bgcolor": "#E5ECF6",
           "radialaxis": {
            "gridcolor": "white",
            "linecolor": "white",
            "ticks": ""
           }
          },
          "scene": {
           "xaxis": {
            "backgroundcolor": "#E5ECF6",
            "gridcolor": "white",
            "gridwidth": 2,
            "linecolor": "white",
            "showbackground": true,
            "ticks": "",
            "zerolinecolor": "white"
           },
           "yaxis": {
            "backgroundcolor": "#E5ECF6",
            "gridcolor": "white",
            "gridwidth": 2,
            "linecolor": "white",
            "showbackground": true,
            "ticks": "",
            "zerolinecolor": "white"
           },
           "zaxis": {
            "backgroundcolor": "#E5ECF6",
            "gridcolor": "white",
            "gridwidth": 2,
            "linecolor": "white",
            "showbackground": true,
            "ticks": "",
            "zerolinecolor": "white"
           }
          },
          "shapedefaults": {
           "line": {
            "color": "#2a3f5f"
           }
          },
          "ternary": {
           "aaxis": {
            "gridcolor": "white",
            "linecolor": "white",
            "ticks": ""
           },
           "baxis": {
            "gridcolor": "white",
            "linecolor": "white",
            "ticks": ""
           },
           "bgcolor": "#E5ECF6",
           "caxis": {
            "gridcolor": "white",
            "linecolor": "white",
            "ticks": ""
           }
          },
          "title": {
           "x": 0.05
          },
          "xaxis": {
           "automargin": true,
           "gridcolor": "white",
           "linecolor": "white",
           "ticks": "",
           "title": {
            "standoff": 15
           },
           "zerolinecolor": "white",
           "zerolinewidth": 2
          },
          "yaxis": {
           "automargin": true,
           "gridcolor": "white",
           "linecolor": "white",
           "ticks": "",
           "title": {
            "standoff": 15
           },
           "zerolinecolor": "white",
           "zerolinewidth": 2
          }
         }
        },
        "title": {
         "font": {
          "size": 26
         },
         "pad": {
          "b": 10,
          "t": 10
         },
         "text": "Number of observations versus Failure percentage<br><span style='font-size:16px;'>Considering Preset_2</span>",
         "x": 0.5,
         "xanchor": "center",
         "y": 0.94,
         "yanchor": "top"
        },
        "xaxis": {
         "anchor": "y",
         "domain": [
          0,
          0.94
         ],
         "title": {
          "text": "Preset_2"
         }
        },
        "yaxis": {
         "anchor": "x",
         "domain": [
          0,
          1
         ],
         "title": {
          "text": "Number of observations"
         }
        },
        "yaxis2": {
         "anchor": "x",
         "overlaying": "y",
         "side": "right",
         "tickformat": ".1%",
         "title": {
          "text": "Failure (%)"
         }
        }
       }
      }
     },
     "metadata": {},
     "output_type": "display_data"
    },
    {
     "data": {
      "application/vnd.plotly.v1+json": {
       "config": {
        "plotlyServerURL": "https://plot.ly"
       },
       "data": [
        {
         "name": "Number of observations",
         "text": {
          "bdata": "AAAAAAAAQUAAAAAAAABDQAAAAAAAgEVAAAAAAAAANkAAAAAAAAA/QAAAAAAAAEFAAAAAAAAAQ0AAAAAAAAA4QAAAAAAAAD5AAAAAAAAAQUAAAAAAAAA6QAAAAAAAAERAAAAAAAAAREAAAAAAAIBCQAAAAAAAgEJAAAAAAACAQkAAAAAAAAA/QAAAAAAAAD1AAAAAAAAAQEAAAAAAAAA/QAAAAAAAAD1AAAAAAAAAPkAAAAAAAABBQAAAAAAAgENA",
          "dtype": "f8"
         },
         "textposition": "outside",
         "type": "bar",
         "x": [
          "11",
          "12",
          "13",
          "14",
          "15",
          "16",
          "17",
          "18",
          "21",
          "22",
          "23",
          "24",
          "25",
          "26",
          "27",
          "28",
          "31",
          "32",
          "33",
          "34",
          "35",
          "36",
          "37",
          "38"
         ],
         "xaxis": "x",
         "y": {
          "bdata": "IiYrFh8iJhgeIhooKCUlJR8dIB8dHiIn",
          "dtype": "i1"
         },
         "yaxis": "y"
        },
        {
         "cliponaxis": false,
         "line": {
          "color": "red",
          "width": 2
         },
         "mode": "lines+markers+text",
         "name": "Failure percentage",
         "text": {
          "bdata": "Hh4eHh4evj95DeU1lNfAP/QFfUFf0Kc/RhdddNFFtz+llFJKKaXEP5eWlpaWlrY/KK+hvIbyuj9VVVVVVVW1PxEREREREcE/Hh4eHh4erj8UO7ETO7GzP5qZmZmZmZk/MzMzMzMzsz8cTJHPusG0P9C6wRT5rKs/0LrBFPmsuz/GGGOMMca4P5Z7GmG5p7E/AAAAAAAAsD8AAAAAAAAAAJZ7GmG5p8E/mpmZmZmZuT+XlpaWlpa2PxqkQRqkQZo/",
          "dtype": "f8"
         },
         "textposition": "top center",
         "texttemplate": "%{y:.1%}",
         "type": "scatter",
         "x": [
          "11",
          "12",
          "13",
          "14",
          "15",
          "16",
          "17",
          "18",
          "21",
          "22",
          "23",
          "24",
          "25",
          "26",
          "27",
          "28",
          "31",
          "32",
          "33",
          "34",
          "35",
          "36",
          "37",
          "38"
         ],
         "xaxis": "x",
         "y": {
          "bdata": "Hh4eHh4evj95DeU1lNfAP/QFfUFf0Kc/RhdddNFFtz+llFJKKaXEP5eWlpaWlrY/KK+hvIbyuj9VVVVVVVW1PxEREREREcE/Hh4eHh4erj8UO7ETO7GzP5qZmZmZmZk/MzMzMzMzsz8cTJHPusG0P9C6wRT5rKs/0LrBFPmsuz/GGGOMMca4P5Z7GmG5p7E/AAAAAAAAsD8AAAAAAAAAAJZ7GmG5p8E/mpmZmZmZuT+XlpaWlpa2PxqkQRqkQZo/",
          "dtype": "f8"
         },
         "yaxis": "y2"
        }
       ],
       "layout": {
        "margin": {
         "b": 50,
         "l": 60,
         "r": 40,
         "t": 120
        },
        "template": {
         "data": {
          "bar": [
           {
            "error_x": {
             "color": "#2a3f5f"
            },
            "error_y": {
             "color": "#2a3f5f"
            },
            "marker": {
             "line": {
              "color": "#E5ECF6",
              "width": 0.5
             },
             "pattern": {
              "fillmode": "overlay",
              "size": 10,
              "solidity": 0.2
             }
            },
            "type": "bar"
           }
          ],
          "barpolar": [
           {
            "marker": {
             "line": {
              "color": "#E5ECF6",
              "width": 0.5
             },
             "pattern": {
              "fillmode": "overlay",
              "size": 10,
              "solidity": 0.2
             }
            },
            "type": "barpolar"
           }
          ],
          "carpet": [
           {
            "aaxis": {
             "endlinecolor": "#2a3f5f",
             "gridcolor": "white",
             "linecolor": "white",
             "minorgridcolor": "white",
             "startlinecolor": "#2a3f5f"
            },
            "baxis": {
             "endlinecolor": "#2a3f5f",
             "gridcolor": "white",
             "linecolor": "white",
             "minorgridcolor": "white",
             "startlinecolor": "#2a3f5f"
            },
            "type": "carpet"
           }
          ],
          "choropleth": [
           {
            "colorbar": {
             "outlinewidth": 0,
             "ticks": ""
            },
            "type": "choropleth"
           }
          ],
          "contour": [
           {
            "colorbar": {
             "outlinewidth": 0,
             "ticks": ""
            },
            "colorscale": [
             [
              0,
              "#0d0887"
             ],
             [
              0.1111111111111111,
              "#46039f"
             ],
             [
              0.2222222222222222,
              "#7201a8"
             ],
             [
              0.3333333333333333,
              "#9c179e"
             ],
             [
              0.4444444444444444,
              "#bd3786"
             ],
             [
              0.5555555555555556,
              "#d8576b"
             ],
             [
              0.6666666666666666,
              "#ed7953"
             ],
             [
              0.7777777777777778,
              "#fb9f3a"
             ],
             [
              0.8888888888888888,
              "#fdca26"
             ],
             [
              1,
              "#f0f921"
             ]
            ],
            "type": "contour"
           }
          ],
          "contourcarpet": [
           {
            "colorbar": {
             "outlinewidth": 0,
             "ticks": ""
            },
            "type": "contourcarpet"
           }
          ],
          "heatmap": [
           {
            "colorbar": {
             "outlinewidth": 0,
             "ticks": ""
            },
            "colorscale": [
             [
              0,
              "#0d0887"
             ],
             [
              0.1111111111111111,
              "#46039f"
             ],
             [
              0.2222222222222222,
              "#7201a8"
             ],
             [
              0.3333333333333333,
              "#9c179e"
             ],
             [
              0.4444444444444444,
              "#bd3786"
             ],
             [
              0.5555555555555556,
              "#d8576b"
             ],
             [
              0.6666666666666666,
              "#ed7953"
             ],
             [
              0.7777777777777778,
              "#fb9f3a"
             ],
             [
              0.8888888888888888,
              "#fdca26"
             ],
             [
              1,
              "#f0f921"
             ]
            ],
            "type": "heatmap"
           }
          ],
          "histogram": [
           {
            "marker": {
             "pattern": {
              "fillmode": "overlay",
              "size": 10,
              "solidity": 0.2
             }
            },
            "type": "histogram"
           }
          ],
          "histogram2d": [
           {
            "colorbar": {
             "outlinewidth": 0,
             "ticks": ""
            },
            "colorscale": [
             [
              0,
              "#0d0887"
             ],
             [
              0.1111111111111111,
              "#46039f"
             ],
             [
              0.2222222222222222,
              "#7201a8"
             ],
             [
              0.3333333333333333,
              "#9c179e"
             ],
             [
              0.4444444444444444,
              "#bd3786"
             ],
             [
              0.5555555555555556,
              "#d8576b"
             ],
             [
              0.6666666666666666,
              "#ed7953"
             ],
             [
              0.7777777777777778,
              "#fb9f3a"
             ],
             [
              0.8888888888888888,
              "#fdca26"
             ],
             [
              1,
              "#f0f921"
             ]
            ],
            "type": "histogram2d"
           }
          ],
          "histogram2dcontour": [
           {
            "colorbar": {
             "outlinewidth": 0,
             "ticks": ""
            },
            "colorscale": [
             [
              0,
              "#0d0887"
             ],
             [
              0.1111111111111111,
              "#46039f"
             ],
             [
              0.2222222222222222,
              "#7201a8"
             ],
             [
              0.3333333333333333,
              "#9c179e"
             ],
             [
              0.4444444444444444,
              "#bd3786"
             ],
             [
              0.5555555555555556,
              "#d8576b"
             ],
             [
              0.6666666666666666,
              "#ed7953"
             ],
             [
              0.7777777777777778,
              "#fb9f3a"
             ],
             [
              0.8888888888888888,
              "#fdca26"
             ],
             [
              1,
              "#f0f921"
             ]
            ],
            "type": "histogram2dcontour"
           }
          ],
          "mesh3d": [
           {
            "colorbar": {
             "outlinewidth": 0,
             "ticks": ""
            },
            "type": "mesh3d"
           }
          ],
          "parcoords": [
           {
            "line": {
             "colorbar": {
              "outlinewidth": 0,
              "ticks": ""
             }
            },
            "type": "parcoords"
           }
          ],
          "pie": [
           {
            "automargin": true,
            "type": "pie"
           }
          ],
          "scatter": [
           {
            "fillpattern": {
             "fillmode": "overlay",
             "size": 10,
             "solidity": 0.2
            },
            "type": "scatter"
           }
          ],
          "scatter3d": [
           {
            "line": {
             "colorbar": {
              "outlinewidth": 0,
              "ticks": ""
             }
            },
            "marker": {
             "colorbar": {
              "outlinewidth": 0,
              "ticks": ""
             }
            },
            "type": "scatter3d"
           }
          ],
          "scattercarpet": [
           {
            "marker": {
             "colorbar": {
              "outlinewidth": 0,
              "ticks": ""
             }
            },
            "type": "scattercarpet"
           }
          ],
          "scattergeo": [
           {
            "marker": {
             "colorbar": {
              "outlinewidth": 0,
              "ticks": ""
             }
            },
            "type": "scattergeo"
           }
          ],
          "scattergl": [
           {
            "marker": {
             "colorbar": {
              "outlinewidth": 0,
              "ticks": ""
             }
            },
            "type": "scattergl"
           }
          ],
          "scattermap": [
           {
            "marker": {
             "colorbar": {
              "outlinewidth": 0,
              "ticks": ""
             }
            },
            "type": "scattermap"
           }
          ],
          "scattermapbox": [
           {
            "marker": {
             "colorbar": {
              "outlinewidth": 0,
              "ticks": ""
             }
            },
            "type": "scattermapbox"
           }
          ],
          "scatterpolar": [
           {
            "marker": {
             "colorbar": {
              "outlinewidth": 0,
              "ticks": ""
             }
            },
            "type": "scatterpolar"
           }
          ],
          "scatterpolargl": [
           {
            "marker": {
             "colorbar": {
              "outlinewidth": 0,
              "ticks": ""
             }
            },
            "type": "scatterpolargl"
           }
          ],
          "scatterternary": [
           {
            "marker": {
             "colorbar": {
              "outlinewidth": 0,
              "ticks": ""
             }
            },
            "type": "scatterternary"
           }
          ],
          "surface": [
           {
            "colorbar": {
             "outlinewidth": 0,
             "ticks": ""
            },
            "colorscale": [
             [
              0,
              "#0d0887"
             ],
             [
              0.1111111111111111,
              "#46039f"
             ],
             [
              0.2222222222222222,
              "#7201a8"
             ],
             [
              0.3333333333333333,
              "#9c179e"
             ],
             [
              0.4444444444444444,
              "#bd3786"
             ],
             [
              0.5555555555555556,
              "#d8576b"
             ],
             [
              0.6666666666666666,
              "#ed7953"
             ],
             [
              0.7777777777777778,
              "#fb9f3a"
             ],
             [
              0.8888888888888888,
              "#fdca26"
             ],
             [
              1,
              "#f0f921"
             ]
            ],
            "type": "surface"
           }
          ],
          "table": [
           {
            "cells": {
             "fill": {
              "color": "#EBF0F8"
             },
             "line": {
              "color": "white"
             }
            },
            "header": {
             "fill": {
              "color": "#C8D4E3"
             },
             "line": {
              "color": "white"
             }
            },
            "type": "table"
           }
          ]
         },
         "layout": {
          "annotationdefaults": {
           "arrowcolor": "#2a3f5f",
           "arrowhead": 0,
           "arrowwidth": 1
          },
          "autotypenumbers": "strict",
          "coloraxis": {
           "colorbar": {
            "outlinewidth": 0,
            "ticks": ""
           }
          },
          "colorscale": {
           "diverging": [
            [
             0,
             "#8e0152"
            ],
            [
             0.1,
             "#c51b7d"
            ],
            [
             0.2,
             "#de77ae"
            ],
            [
             0.3,
             "#f1b6da"
            ],
            [
             0.4,
             "#fde0ef"
            ],
            [
             0.5,
             "#f7f7f7"
            ],
            [
             0.6,
             "#e6f5d0"
            ],
            [
             0.7,
             "#b8e186"
            ],
            [
             0.8,
             "#7fbc41"
            ],
            [
             0.9,
             "#4d9221"
            ],
            [
             1,
             "#276419"
            ]
           ],
           "sequential": [
            [
             0,
             "#0d0887"
            ],
            [
             0.1111111111111111,
             "#46039f"
            ],
            [
             0.2222222222222222,
             "#7201a8"
            ],
            [
             0.3333333333333333,
             "#9c179e"
            ],
            [
             0.4444444444444444,
             "#bd3786"
            ],
            [
             0.5555555555555556,
             "#d8576b"
            ],
            [
             0.6666666666666666,
             "#ed7953"
            ],
            [
             0.7777777777777778,
             "#fb9f3a"
            ],
            [
             0.8888888888888888,
             "#fdca26"
            ],
            [
             1,
             "#f0f921"
            ]
           ],
           "sequentialminus": [
            [
             0,
             "#0d0887"
            ],
            [
             0.1111111111111111,
             "#46039f"
            ],
            [
             0.2222222222222222,
             "#7201a8"
            ],
            [
             0.3333333333333333,
             "#9c179e"
            ],
            [
             0.4444444444444444,
             "#bd3786"
            ],
            [
             0.5555555555555556,
             "#d8576b"
            ],
            [
             0.6666666666666666,
             "#ed7953"
            ],
            [
             0.7777777777777778,
             "#fb9f3a"
            ],
            [
             0.8888888888888888,
             "#fdca26"
            ],
            [
             1,
             "#f0f921"
            ]
           ]
          },
          "colorway": [
           "#636efa",
           "#EF553B",
           "#00cc96",
           "#ab63fa",
           "#FFA15A",
           "#19d3f3",
           "#FF6692",
           "#B6E880",
           "#FF97FF",
           "#FECB52"
          ],
          "font": {
           "color": "#2a3f5f"
          },
          "geo": {
           "bgcolor": "white",
           "lakecolor": "white",
           "landcolor": "#E5ECF6",
           "showlakes": true,
           "showland": true,
           "subunitcolor": "white"
          },
          "hoverlabel": {
           "align": "left"
          },
          "hovermode": "closest",
          "mapbox": {
           "style": "light"
          },
          "paper_bgcolor": "white",
          "plot_bgcolor": "#E5ECF6",
          "polar": {
           "angularaxis": {
            "gridcolor": "white",
            "linecolor": "white",
            "ticks": ""
           },
           "bgcolor": "#E5ECF6",
           "radialaxis": {
            "gridcolor": "white",
            "linecolor": "white",
            "ticks": ""
           }
          },
          "scene": {
           "xaxis": {
            "backgroundcolor": "#E5ECF6",
            "gridcolor": "white",
            "gridwidth": 2,
            "linecolor": "white",
            "showbackground": true,
            "ticks": "",
            "zerolinecolor": "white"
           },
           "yaxis": {
            "backgroundcolor": "#E5ECF6",
            "gridcolor": "white",
            "gridwidth": 2,
            "linecolor": "white",
            "showbackground": true,
            "ticks": "",
            "zerolinecolor": "white"
           },
           "zaxis": {
            "backgroundcolor": "#E5ECF6",
            "gridcolor": "white",
            "gridwidth": 2,
            "linecolor": "white",
            "showbackground": true,
            "ticks": "",
            "zerolinecolor": "white"
           }
          },
          "shapedefaults": {
           "line": {
            "color": "#2a3f5f"
           }
          },
          "ternary": {
           "aaxis": {
            "gridcolor": "white",
            "linecolor": "white",
            "ticks": ""
           },
           "baxis": {
            "gridcolor": "white",
            "linecolor": "white",
            "ticks": ""
           },
           "bgcolor": "#E5ECF6",
           "caxis": {
            "gridcolor": "white",
            "linecolor": "white",
            "ticks": ""
           }
          },
          "title": {
           "x": 0.05
          },
          "xaxis": {
           "automargin": true,
           "gridcolor": "white",
           "linecolor": "white",
           "ticks": "",
           "title": {
            "standoff": 15
           },
           "zerolinecolor": "white",
           "zerolinewidth": 2
          },
          "yaxis": {
           "automargin": true,
           "gridcolor": "white",
           "linecolor": "white",
           "ticks": "",
           "title": {
            "standoff": 15
           },
           "zerolinecolor": "white",
           "zerolinewidth": 2
          }
         }
        },
        "title": {
         "font": {
          "size": 26
         },
         "pad": {
          "b": 10,
          "t": 10
         },
         "text": "Number of observations versus Failure percentage<br><span style='font-size:16px;'>Considering Preset_1_2</span>",
         "x": 0.5,
         "xanchor": "center",
         "y": 0.94,
         "yanchor": "top"
        },
        "xaxis": {
         "anchor": "y",
         "domain": [
          0,
          0.94
         ],
         "title": {
          "text": "Preset_1_2"
         }
        },
        "yaxis": {
         "anchor": "x",
         "domain": [
          0,
          1
         ],
         "title": {
          "text": "Number of observations"
         }
        },
        "yaxis2": {
         "anchor": "x",
         "overlaying": "y",
         "side": "right",
         "tickformat": ".1%",
         "title": {
          "text": "Failure (%)"
         }
        }
       }
      }
     },
     "metadata": {},
     "output_type": "display_data"
    },
    {
     "data": {
      "application/vnd.plotly.v1+json": {
       "config": {
        "plotlyServerURL": "https://plot.ly"
       },
       "data": [
        {
         "coloraxis": "coloraxis",
         "hovertemplate": "Preset_2: %{x}<br>Preset_1: %{y}<br>Fail %: %{z}<extra></extra>",
         "name": "0",
         "texttemplate": "%{z:.1f}",
         "type": "heatmap",
         "x": [
          "1",
          "2",
          "3",
          "4",
          "5",
          "6",
          "7",
          "8"
         ],
         "xaxis": "x",
         "y": [
          "1",
          "2",
          "3"
         ],
         "yaxis": "y",
         "z": {
          "bdata": "h4eHh4eHJ0AN5TWU11AqQKesKWvKmhJAL7rooosuIkAhhBBCCCEwQKalpaWlpSFA11BeQ3kNJUCqqqqqqqogQKuqqqqqqipAh4eHh4eHF0BP7MRO7MQeQAAAAAAAAARAAAAAAAAAHkB2gynyWTcgQPJZN5ginxVA8lk3mCKfJUBba6211lojQBphuacRlhtAAAAAAAAAGUAAAAAAAAAAABphuacRlitAAAAAAAAAJECmpaWlpaUhQDRIgzRIgwRA",
          "dtype": "f8",
          "shape": "3, 8"
         }
        }
       ],
       "layout": {
        "coloraxis": {
         "colorbar": {
          "title": {
           "text": "Fail %"
          }
         },
         "colorscale": [
          [
           0,
           "rgb(255,245,240)"
          ],
          [
           0.125,
           "rgb(254,224,210)"
          ],
          [
           0.25,
           "rgb(252,187,161)"
          ],
          [
           0.375,
           "rgb(252,146,114)"
          ],
          [
           0.5,
           "rgb(251,106,74)"
          ],
          [
           0.625,
           "rgb(239,59,44)"
          ],
          [
           0.75,
           "rgb(203,24,29)"
          ],
          [
           0.875,
           "rgb(165,15,21)"
          ],
          [
           1,
           "rgb(103,0,13)"
          ]
         ]
        },
        "margin": {
         "b": 50,
         "l": 60,
         "r": 40,
         "t": 120
        },
        "template": {
         "data": {
          "bar": [
           {
            "error_x": {
             "color": "#2a3f5f"
            },
            "error_y": {
             "color": "#2a3f5f"
            },
            "marker": {
             "line": {
              "color": "#E5ECF6",
              "width": 0.5
             },
             "pattern": {
              "fillmode": "overlay",
              "size": 10,
              "solidity": 0.2
             }
            },
            "type": "bar"
           }
          ],
          "barpolar": [
           {
            "marker": {
             "line": {
              "color": "#E5ECF6",
              "width": 0.5
             },
             "pattern": {
              "fillmode": "overlay",
              "size": 10,
              "solidity": 0.2
             }
            },
            "type": "barpolar"
           }
          ],
          "carpet": [
           {
            "aaxis": {
             "endlinecolor": "#2a3f5f",
             "gridcolor": "white",
             "linecolor": "white",
             "minorgridcolor": "white",
             "startlinecolor": "#2a3f5f"
            },
            "baxis": {
             "endlinecolor": "#2a3f5f",
             "gridcolor": "white",
             "linecolor": "white",
             "minorgridcolor": "white",
             "startlinecolor": "#2a3f5f"
            },
            "type": "carpet"
           }
          ],
          "choropleth": [
           {
            "colorbar": {
             "outlinewidth": 0,
             "ticks": ""
            },
            "type": "choropleth"
           }
          ],
          "contour": [
           {
            "colorbar": {
             "outlinewidth": 0,
             "ticks": ""
            },
            "colorscale": [
             [
              0,
              "#0d0887"
             ],
             [
              0.1111111111111111,
              "#46039f"
             ],
             [
              0.2222222222222222,
              "#7201a8"
             ],
             [
              0.3333333333333333,
              "#9c179e"
             ],
             [
              0.4444444444444444,
              "#bd3786"
             ],
             [
              0.5555555555555556,
              "#d8576b"
             ],
             [
              0.6666666666666666,
              "#ed7953"
             ],
             [
              0.7777777777777778,
              "#fb9f3a"
             ],
             [
              0.8888888888888888,
              "#fdca26"
             ],
             [
              1,
              "#f0f921"
             ]
            ],
            "type": "contour"
           }
          ],
          "contourcarpet": [
           {
            "colorbar": {
             "outlinewidth": 0,
             "ticks": ""
            },
            "type": "contourcarpet"
           }
          ],
          "heatmap": [
           {
            "colorbar": {
             "outlinewidth": 0,
             "ticks": ""
            },
            "colorscale": [
             [
              0,
              "#0d0887"
             ],
             [
              0.1111111111111111,
              "#46039f"
             ],
             [
              0.2222222222222222,
              "#7201a8"
             ],
             [
              0.3333333333333333,
              "#9c179e"
             ],
             [
              0.4444444444444444,
              "#bd3786"
             ],
             [
              0.5555555555555556,
              "#d8576b"
             ],
             [
              0.6666666666666666,
              "#ed7953"
             ],
             [
              0.7777777777777778,
              "#fb9f3a"
             ],
             [
              0.8888888888888888,
              "#fdca26"
             ],
             [
              1,
              "#f0f921"
             ]
            ],
            "type": "heatmap"
           }
          ],
          "histogram": [
           {
            "marker": {
             "pattern": {
              "fillmode": "overlay",
              "size": 10,
              "solidity": 0.2
             }
            },
            "type": "histogram"
           }
          ],
          "histogram2d": [
           {
            "colorbar": {
             "outlinewidth": 0,
             "ticks": ""
            },
            "colorscale": [
             [
              0,
              "#0d0887"
             ],
             [
              0.1111111111111111,
              "#46039f"
             ],
             [
              0.2222222222222222,
              "#7201a8"
             ],
             [
              0.3333333333333333,
              "#9c179e"
             ],
             [
              0.4444444444444444,
              "#bd3786"
             ],
             [
              0.5555555555555556,
              "#d8576b"
             ],
             [
              0.6666666666666666,
              "#ed7953"
             ],
             [
              0.7777777777777778,
              "#fb9f3a"
             ],
             [
              0.8888888888888888,
              "#fdca26"
             ],
             [
              1,
              "#f0f921"
             ]
            ],
            "type": "histogram2d"
           }
          ],
          "histogram2dcontour": [
           {
            "colorbar": {
             "outlinewidth": 0,
             "ticks": ""
            },
            "colorscale": [
             [
              0,
              "#0d0887"
             ],
             [
              0.1111111111111111,
              "#46039f"
             ],
             [
              0.2222222222222222,
              "#7201a8"
             ],
             [
              0.3333333333333333,
              "#9c179e"
             ],
             [
              0.4444444444444444,
              "#bd3786"
             ],
             [
              0.5555555555555556,
              "#d8576b"
             ],
             [
              0.6666666666666666,
              "#ed7953"
             ],
             [
              0.7777777777777778,
              "#fb9f3a"
             ],
             [
              0.8888888888888888,
              "#fdca26"
             ],
             [
              1,
              "#f0f921"
             ]
            ],
            "type": "histogram2dcontour"
           }
          ],
          "mesh3d": [
           {
            "colorbar": {
             "outlinewidth": 0,
             "ticks": ""
            },
            "type": "mesh3d"
           }
          ],
          "parcoords": [
           {
            "line": {
             "colorbar": {
              "outlinewidth": 0,
              "ticks": ""
             }
            },
            "type": "parcoords"
           }
          ],
          "pie": [
           {
            "automargin": true,
            "type": "pie"
           }
          ],
          "scatter": [
           {
            "fillpattern": {
             "fillmode": "overlay",
             "size": 10,
             "solidity": 0.2
            },
            "type": "scatter"
           }
          ],
          "scatter3d": [
           {
            "line": {
             "colorbar": {
              "outlinewidth": 0,
              "ticks": ""
             }
            },
            "marker": {
             "colorbar": {
              "outlinewidth": 0,
              "ticks": ""
             }
            },
            "type": "scatter3d"
           }
          ],
          "scattercarpet": [
           {
            "marker": {
             "colorbar": {
              "outlinewidth": 0,
              "ticks": ""
             }
            },
            "type": "scattercarpet"
           }
          ],
          "scattergeo": [
           {
            "marker": {
             "colorbar": {
              "outlinewidth": 0,
              "ticks": ""
             }
            },
            "type": "scattergeo"
           }
          ],
          "scattergl": [
           {
            "marker": {
             "colorbar": {
              "outlinewidth": 0,
              "ticks": ""
             }
            },
            "type": "scattergl"
           }
          ],
          "scattermap": [
           {
            "marker": {
             "colorbar": {
              "outlinewidth": 0,
              "ticks": ""
             }
            },
            "type": "scattermap"
           }
          ],
          "scattermapbox": [
           {
            "marker": {
             "colorbar": {
              "outlinewidth": 0,
              "ticks": ""
             }
            },
            "type": "scattermapbox"
           }
          ],
          "scatterpolar": [
           {
            "marker": {
             "colorbar": {
              "outlinewidth": 0,
              "ticks": ""
             }
            },
            "type": "scatterpolar"
           }
          ],
          "scatterpolargl": [
           {
            "marker": {
             "colorbar": {
              "outlinewidth": 0,
              "ticks": ""
             }
            },
            "type": "scatterpolargl"
           }
          ],
          "scatterternary": [
           {
            "marker": {
             "colorbar": {
              "outlinewidth": 0,
              "ticks": ""
             }
            },
            "type": "scatterternary"
           }
          ],
          "surface": [
           {
            "colorbar": {
             "outlinewidth": 0,
             "ticks": ""
            },
            "colorscale": [
             [
              0,
              "#0d0887"
             ],
             [
              0.1111111111111111,
              "#46039f"
             ],
             [
              0.2222222222222222,
              "#7201a8"
             ],
             [
              0.3333333333333333,
              "#9c179e"
             ],
             [
              0.4444444444444444,
              "#bd3786"
             ],
             [
              0.5555555555555556,
              "#d8576b"
             ],
             [
              0.6666666666666666,
              "#ed7953"
             ],
             [
              0.7777777777777778,
              "#fb9f3a"
             ],
             [
              0.8888888888888888,
              "#fdca26"
             ],
             [
              1,
              "#f0f921"
             ]
            ],
            "type": "surface"
           }
          ],
          "table": [
           {
            "cells": {
             "fill": {
              "color": "#EBF0F8"
             },
             "line": {
              "color": "white"
             }
            },
            "header": {
             "fill": {
              "color": "#C8D4E3"
             },
             "line": {
              "color": "white"
             }
            },
            "type": "table"
           }
          ]
         },
         "layout": {
          "annotationdefaults": {
           "arrowcolor": "#2a3f5f",
           "arrowhead": 0,
           "arrowwidth": 1
          },
          "autotypenumbers": "strict",
          "coloraxis": {
           "colorbar": {
            "outlinewidth": 0,
            "ticks": ""
           }
          },
          "colorscale": {
           "diverging": [
            [
             0,
             "#8e0152"
            ],
            [
             0.1,
             "#c51b7d"
            ],
            [
             0.2,
             "#de77ae"
            ],
            [
             0.3,
             "#f1b6da"
            ],
            [
             0.4,
             "#fde0ef"
            ],
            [
             0.5,
             "#f7f7f7"
            ],
            [
             0.6,
             "#e6f5d0"
            ],
            [
             0.7,
             "#b8e186"
            ],
            [
             0.8,
             "#7fbc41"
            ],
            [
             0.9,
             "#4d9221"
            ],
            [
             1,
             "#276419"
            ]
           ],
           "sequential": [
            [
             0,
             "#0d0887"
            ],
            [
             0.1111111111111111,
             "#46039f"
            ],
            [
             0.2222222222222222,
             "#7201a8"
            ],
            [
             0.3333333333333333,
             "#9c179e"
            ],
            [
             0.4444444444444444,
             "#bd3786"
            ],
            [
             0.5555555555555556,
             "#d8576b"
            ],
            [
             0.6666666666666666,
             "#ed7953"
            ],
            [
             0.7777777777777778,
             "#fb9f3a"
            ],
            [
             0.8888888888888888,
             "#fdca26"
            ],
            [
             1,
             "#f0f921"
            ]
           ],
           "sequentialminus": [
            [
             0,
             "#0d0887"
            ],
            [
             0.1111111111111111,
             "#46039f"
            ],
            [
             0.2222222222222222,
             "#7201a8"
            ],
            [
             0.3333333333333333,
             "#9c179e"
            ],
            [
             0.4444444444444444,
             "#bd3786"
            ],
            [
             0.5555555555555556,
             "#d8576b"
            ],
            [
             0.6666666666666666,
             "#ed7953"
            ],
            [
             0.7777777777777778,
             "#fb9f3a"
            ],
            [
             0.8888888888888888,
             "#fdca26"
            ],
            [
             1,
             "#f0f921"
            ]
           ]
          },
          "colorway": [
           "#636efa",
           "#EF553B",
           "#00cc96",
           "#ab63fa",
           "#FFA15A",
           "#19d3f3",
           "#FF6692",
           "#B6E880",
           "#FF97FF",
           "#FECB52"
          ],
          "font": {
           "color": "#2a3f5f"
          },
          "geo": {
           "bgcolor": "white",
           "lakecolor": "white",
           "landcolor": "#E5ECF6",
           "showlakes": true,
           "showland": true,
           "subunitcolor": "white"
          },
          "hoverlabel": {
           "align": "left"
          },
          "hovermode": "closest",
          "mapbox": {
           "style": "light"
          },
          "paper_bgcolor": "white",
          "plot_bgcolor": "#E5ECF6",
          "polar": {
           "angularaxis": {
            "gridcolor": "white",
            "linecolor": "white",
            "ticks": ""
           },
           "bgcolor": "#E5ECF6",
           "radialaxis": {
            "gridcolor": "white",
            "linecolor": "white",
            "ticks": ""
           }
          },
          "scene": {
           "xaxis": {
            "backgroundcolor": "#E5ECF6",
            "gridcolor": "white",
            "gridwidth": 2,
            "linecolor": "white",
            "showbackground": true,
            "ticks": "",
            "zerolinecolor": "white"
           },
           "yaxis": {
            "backgroundcolor": "#E5ECF6",
            "gridcolor": "white",
            "gridwidth": 2,
            "linecolor": "white",
            "showbackground": true,
            "ticks": "",
            "zerolinecolor": "white"
           },
           "zaxis": {
            "backgroundcolor": "#E5ECF6",
            "gridcolor": "white",
            "gridwidth": 2,
            "linecolor": "white",
            "showbackground": true,
            "ticks": "",
            "zerolinecolor": "white"
           }
          },
          "shapedefaults": {
           "line": {
            "color": "#2a3f5f"
           }
          },
          "ternary": {
           "aaxis": {
            "gridcolor": "white",
            "linecolor": "white",
            "ticks": ""
           },
           "baxis": {
            "gridcolor": "white",
            "linecolor": "white",
            "ticks": ""
           },
           "bgcolor": "#E5ECF6",
           "caxis": {
            "gridcolor": "white",
            "linecolor": "white",
            "ticks": ""
           }
          },
          "title": {
           "x": 0.05
          },
          "xaxis": {
           "automargin": true,
           "gridcolor": "white",
           "linecolor": "white",
           "ticks": "",
           "title": {
            "standoff": 15
           },
           "zerolinecolor": "white",
           "zerolinewidth": 2
          },
          "yaxis": {
           "automargin": true,
           "gridcolor": "white",
           "linecolor": "white",
           "ticks": "",
           "title": {
            "standoff": 15
           },
           "zerolinecolor": "white",
           "zerolinewidth": 2
          }
         }
        },
        "title": {
         "font": {
          "size": 26
         },
         "pad": {
          "b": 10,
          "t": 10
         },
         "text": "Heatmap<br><span style='font-size:16px;'>Combinating Preset_1 and Preset_2</span>",
         "x": 0.5,
         "xanchor": "center",
         "y": 0.94,
         "yanchor": "top"
        },
        "xaxis": {
         "anchor": "y",
         "domain": [
          0,
          1
         ],
         "title": {
          "text": "Preset_2"
         }
        },
        "yaxis": {
         "anchor": "x",
         "autorange": "reversed",
         "domain": [
          0,
          1
         ],
         "title": {
          "text": "Preset_1"
         }
        }
       }
      }
     },
     "metadata": {},
     "output_type": "display_data"
    }
   ],
   "source": [
    "failure_report(df, \"Preset_1\")\n",
    "failure_report(df, \"Preset_2\")\n",
    "\n",
    "aux_data = df.copy()\n",
    "aux_data[\"Preset_1_2\"] = df['Preset_1'].astype(str) + df['Preset_2'].astype(str)\n",
    "\n",
    "failure_report(aux_data, \"Preset_1_2\")\n",
    "\n",
    "heatmap_failure(df)"
   ]
  },
  {
   "cell_type": "markdown",
   "id": "83b45de4",
   "metadata": {},
   "source": [
    "## Task 2 answer"
   ]
  },
  {
   "cell_type": "markdown",
   "id": "83b29498",
   "metadata": {},
   "source": [
    "#### Equipment failure categorization"
   ]
  },
  {
   "cell_type": "markdown",
   "id": "7de64ae1",
   "metadata": {},
   "source": [
    "- Preset_1 - (3 levels)\n",
    "    - 1 -> 10.2 % failure - (1.24 the overall failure rate of the dataset)\n",
    "    - 2 -> 7.5 % failure - (0.91 the overall failure rate of the dataset)\n",
    "    - 3 -> 7.1 % failure - (0.86 the overall failure rate of the dataset)\n",
    "\n",
    "- Preset_2 - (8 levels)\n",
    "    - 1 -> 11.6 % failure - (1.41 the overall failure rate of the dataset)\n",
    "    - 2 -> 8.9 % failure - (1.08 the overall failure rate of the dataset)\n",
    "    - 3 -> 5.9 % failure - (0.72 the overall failure rate of the dataset)\n",
    "    - 4 -> 3.2 % failure - (0.39 the overall failure rate of the dataset)\n",
    "    - 5 -> 12.0 % failure - (1.45 the overall failure rate of the dataset)\n",
    "    - 6 -> 8.9 % failure - (1.08 the overall failure rate of the dataset)\n",
    "    - 7 -> 8.3 % failure - (1.01 the overall failure rate of the dataset)\n",
    "    - 8 -> 7.0 % failure - (0.85 the overall failure rate of the dataset)\n",
    "\n",
    "- Categories\n",
    "\n",
    "    - High failure risk: \n",
    "        - Preset_1\n",
    "            - 1\n",
    "        - Preset_2\n",
    "            - 1\n",
    "            - 5\n",
    "    - Moderate failure risk:\n",
    "        - Preset_1\n",
    "            - 2\n",
    "        - Preset_2\n",
    "            - 2\n",
    "            - 6\n",
    "            - 7\n",
    "    - Low failure risk:\n",
    "        - Preset_1\n",
    "            - 3\n",
    "        - Preset_2\n",
    "            - 3\n",
    "            - 4\n",
    "            - 8\n"
   ]
  },
  {
   "cell_type": "markdown",
   "id": "3a94a4f1",
   "metadata": {},
   "source": [
    "#### Preset_1 and Preset_2 behavior during operation"
   ]
  },
  {
   "cell_type": "markdown",
   "id": "15148014",
   "metadata": {},
   "source": [
    " - ans"
   ]
  },
  {
   "cell_type": "markdown",
   "id": "520a353b",
   "metadata": {},
   "source": [
    "#### Derived insights from Preset_1 and Preset_2"
   ]
  },
  {
   "cell_type": "markdown",
   "id": "24e54df9",
   "metadata": {},
   "source": [
    " - ans"
   ]
  },
  {
   "cell_type": "code",
   "execution_count": 293,
   "id": "b87b1e88",
   "metadata": {},
   "outputs": [
    {
     "name": "stdout",
     "output_type": "stream",
     "text": [
      "    de  para     media    variancia   n\n",
      "0  1.0     2  2.485079  1076.588848  97\n",
      "1  1.0     3  3.510266   887.105813  80\n",
      "2  2.0     1  0.128162  1054.686749  90\n",
      "3  2.0     3 -4.388638   836.761251  90\n",
      "4  3.0     1 -5.020946  1021.852616  87\n",
      "5  3.0     2  2.939854  1332.713328  83\n"
     ]
    }
   ],
   "source": [
    "d = (df[['Cycle','Preset_1','Temperature']]\n",
    "       .sort_values('Cycle')\n",
    "       .assign(prev_preset=lambda x: x['Preset_1'].shift(),\n",
    "               prev_temp=lambda x: x['Temperature'].shift()))\n",
    "\n",
    "# Pegue apenas os pontos onde houve mudança de preset e calcule a variação de temperatura\n",
    "trans = d.loc[d['prev_preset'].notna() & d['Preset_1'].ne(d['prev_preset'])].copy()\n",
    "trans['delta_temp'] = trans['Temperature'] - trans['prev_temp']  # pode ser +/-\n",
    "\n",
    "# Estatísticas por transição (média das variações e variância)\n",
    "stats = (trans.groupby(['prev_preset','Preset_1'])['delta_temp']\n",
    "              .agg(media='mean', variancia=lambda s: s.var(ddof=1), n='size')\n",
    "              .reset_index()\n",
    "              .rename(columns={'prev_preset':'de','Preset_1':'para'}))\n",
    "\n",
    "print(stats)                # tabela com: de, para, media, variancia, n\n",
    "# print(stats.query('de==2 and para==3')) "
   ]
  },
  {
   "cell_type": "code",
   "execution_count": 297,
   "id": "57bbc9fb",
   "metadata": {},
   "outputs": [
    {
     "data": {
      "text/html": [
       "<div>\n",
       "<style scoped>\n",
       "    .dataframe tbody tr th:only-of-type {\n",
       "        vertical-align: middle;\n",
       "    }\n",
       "\n",
       "    .dataframe tbody tr th {\n",
       "        vertical-align: top;\n",
       "    }\n",
       "\n",
       "    .dataframe thead th {\n",
       "        text-align: right;\n",
       "    }\n",
       "</style>\n",
       "<table border=\"1\" class=\"dataframe\">\n",
       "  <thead>\n",
       "    <tr style=\"text-align: right;\">\n",
       "      <th></th>\n",
       "      <th>Cycle</th>\n",
       "      <th>Preset_1</th>\n",
       "      <th>Temperature</th>\n",
       "      <th>prev_preset</th>\n",
       "      <th>prev_temp</th>\n",
       "      <th>delta_temp</th>\n",
       "    </tr>\n",
       "  </thead>\n",
       "  <tbody>\n",
       "    <tr>\n",
       "      <th>5</th>\n",
       "      <td>6</td>\n",
       "      <td>1</td>\n",
       "      <td>58.336085</td>\n",
       "      <td>2.0</td>\n",
       "      <td>39.989054</td>\n",
       "      <td>18.347031</td>\n",
       "    </tr>\n",
       "    <tr>\n",
       "      <th>12</th>\n",
       "      <td>13</td>\n",
       "      <td>1</td>\n",
       "      <td>79.806509</td>\n",
       "      <td>2.0</td>\n",
       "      <td>80.662497</td>\n",
       "      <td>-0.855987</td>\n",
       "    </tr>\n",
       "    <tr>\n",
       "      <th>24</th>\n",
       "      <td>25</td>\n",
       "      <td>1</td>\n",
       "      <td>29.906236</td>\n",
       "      <td>2.0</td>\n",
       "      <td>83.213908</td>\n",
       "      <td>-53.307672</td>\n",
       "    </tr>\n",
       "    <tr>\n",
       "      <th>38</th>\n",
       "      <td>39</td>\n",
       "      <td>1</td>\n",
       "      <td>61.473079</td>\n",
       "      <td>2.0</td>\n",
       "      <td>45.463432</td>\n",
       "      <td>16.009647</td>\n",
       "    </tr>\n",
       "    <tr>\n",
       "      <th>40</th>\n",
       "      <td>41</td>\n",
       "      <td>1</td>\n",
       "      <td>70.869794</td>\n",
       "      <td>2.0</td>\n",
       "      <td>81.304992</td>\n",
       "      <td>-10.435198</td>\n",
       "    </tr>\n",
       "    <tr>\n",
       "      <th>...</th>\n",
       "      <td>...</td>\n",
       "      <td>...</td>\n",
       "      <td>...</td>\n",
       "      <td>...</td>\n",
       "      <td>...</td>\n",
       "      <td>...</td>\n",
       "    </tr>\n",
       "    <tr>\n",
       "      <th>772</th>\n",
       "      <td>773</td>\n",
       "      <td>1</td>\n",
       "      <td>65.426361</td>\n",
       "      <td>2.0</td>\n",
       "      <td>78.202225</td>\n",
       "      <td>-12.775864</td>\n",
       "    </tr>\n",
       "    <tr>\n",
       "      <th>774</th>\n",
       "      <td>775</td>\n",
       "      <td>1</td>\n",
       "      <td>44.833887</td>\n",
       "      <td>2.0</td>\n",
       "      <td>48.852912</td>\n",
       "      <td>-4.019025</td>\n",
       "    </tr>\n",
       "    <tr>\n",
       "      <th>787</th>\n",
       "      <td>788</td>\n",
       "      <td>1</td>\n",
       "      <td>82.942913</td>\n",
       "      <td>2.0</td>\n",
       "      <td>74.842740</td>\n",
       "      <td>8.100173</td>\n",
       "    </tr>\n",
       "    <tr>\n",
       "      <th>792</th>\n",
       "      <td>793</td>\n",
       "      <td>1</td>\n",
       "      <td>127.670754</td>\n",
       "      <td>2.0</td>\n",
       "      <td>84.990752</td>\n",
       "      <td>42.680002</td>\n",
       "    </tr>\n",
       "    <tr>\n",
       "      <th>796</th>\n",
       "      <td>797</td>\n",
       "      <td>1</td>\n",
       "      <td>49.985270</td>\n",
       "      <td>2.0</td>\n",
       "      <td>50.469522</td>\n",
       "      <td>-0.484252</td>\n",
       "    </tr>\n",
       "  </tbody>\n",
       "</table>\n",
       "<p>90 rows × 6 columns</p>\n",
       "</div>"
      ],
      "text/plain": [
       "     Cycle  Preset_1  Temperature  prev_preset  prev_temp  delta_temp\n",
       "5        6         1    58.336085          2.0  39.989054   18.347031\n",
       "12      13         1    79.806509          2.0  80.662497   -0.855987\n",
       "24      25         1    29.906236          2.0  83.213908  -53.307672\n",
       "38      39         1    61.473079          2.0  45.463432   16.009647\n",
       "40      41         1    70.869794          2.0  81.304992  -10.435198\n",
       "..     ...       ...          ...          ...        ...         ...\n",
       "772    773         1    65.426361          2.0  78.202225  -12.775864\n",
       "774    775         1    44.833887          2.0  48.852912   -4.019025\n",
       "787    788         1    82.942913          2.0  74.842740    8.100173\n",
       "792    793         1   127.670754          2.0  84.990752   42.680002\n",
       "796    797         1    49.985270          2.0  50.469522   -0.484252\n",
       "\n",
       "[90 rows x 6 columns]"
      ]
     },
     "execution_count": 297,
     "metadata": {},
     "output_type": "execute_result"
    }
   ],
   "source": [
    "trans[(trans[\"Preset_1\"]==1)&(trans[\"prev_preset\"]==2.0)]"
   ]
  },
  {
   "cell_type": "markdown",
   "id": "67538303",
   "metadata": {},
   "source": [
    "## Task 3\n",
    "\n",
    "- Categorize equipment failures by their nature/root cause according to parameter readings (temperature, pressure, and others).\n",
    "\n",
    "- Analyze patterns in these readings that could indicate specific failure types. \n",
    "\n",
    "- How do these patterns differ across operational regimes? \n",
    "\n",
    "- Provide insights based on your findings."
   ]
  },
  {
   "cell_type": "code",
   "execution_count": 358,
   "id": "05be8850",
   "metadata": {},
   "outputs": [],
   "source": [
    "import plotly.express as px\n",
    "\n",
    "def cycles_per_variable(data, x_axis, variable):\n",
    "\n",
    "    data_copy = data.copy()\n",
    "\n",
    "    fig = px.line(\n",
    "        data_copy.sort_values([x_axis]),\n",
    "        x=x_axis, y=variable\n",
    "    )\n",
    "\n",
    "    fig.data[0].update(name=variable, showlegend=True, line=dict(color=\"royalblue\", width=2))\n",
    "\n",
    "    for x in data_copy.loc[data_copy[\"Fail\"], x_axis].unique():\n",
    "        fig.add_vline(x=x, line_width=2, line_color=\"rgba(0,0,0,0.5)\")\n",
    "\n",
    "    fig.add_scatter(x=[None], y=[None], mode=\"lines\",\n",
    "                    line=dict(color=\"rgba(0,0,0,0.5)\", width=1),\n",
    "                    name=\"Failure events\")\n",
    "\n",
    "    fig.update_yaxes(range=[0, 1.1 * data_copy[variable].max()])\n",
    "\n",
    "    fig.update_layout(\n",
    "        title=dict(\n",
    "            text=f\"{variable} per {x_axis} with Failure events\",\n",
    "            x=0.5, xanchor='center',\n",
    "            y=0.94, yanchor='top',\n",
    "            font=dict(size=26),\n",
    "            pad=dict(t=10, b=10)\n",
    "        ),\n",
    "        margin=dict(l=60, r=40, t=120, b=50)\n",
    "    )\n",
    "\n",
    "    fig.show()\n",
    "\n",
    "def failure_3d_plot(data, x_value, y_value, z_value):\n",
    "\n",
    "    data_copy = data.copy()\n",
    "\n",
    "    fig = px.scatter_3d(\n",
    "        data_copy, x=x_value, y=y_value, z=z_value,\n",
    "        color=\"Fail\",\n",
    "        color_discrete_map={True: \"black\", False: \"lightgray\"}\n",
    "    )\n",
    "\n",
    "    fig.update_traces(marker=dict(size=3))\n",
    "\n",
    "\n",
    "    fig.update_layout(\n",
    "        title=dict(\n",
    "            text=f\"3d Plot {x_value} versus {y_value} versus {z_value} per Failure event\",\n",
    "            x=0.5, xanchor='center',\n",
    "            y=0.94, yanchor='top',\n",
    "            font=dict(size=26),\n",
    "            pad=dict(t=10, b=10)\n",
    "        ),\n",
    "        margin=dict(l=60, r=40, t=120, b=50)\n",
    "    )\n",
    "    fig.show()\n",
    "\n",
    "def failure_2d_plot(data, x_value, y_value):\n",
    "\n",
    "    data_copy = data.copy()\n",
    "\n",
    "    fig = px.scatter(\n",
    "            data_copy,\n",
    "            x=x_value, y=y_value,\n",
    "            color=\"Fail\"\n",
    "        )\n",
    "\n",
    "    fig.update_layout(\n",
    "        title=dict(\n",
    "            text=f\"Scatter Plot {x_value} versus {y_value} per Failure event\",\n",
    "            x=0.5, xanchor='center',\n",
    "            y=0.94, yanchor='top',\n",
    "            font=dict(size=26),\n",
    "            pad=dict(t=10, b=10)\n",
    "        ),\n",
    "        margin=dict(l=60, r=40, t=120, b=50)\n",
    "    )\n",
    "\n",
    "    fig.show()\n",
    "\n",
    "def plot_scatter(data, x_value, variable, group, target):\n",
    "\n",
    "    data_copy = data.copy()\n",
    "\n",
    "    data_copy[group] = data_copy[group].astype(str)\n",
    "\n",
    "    cats = sorted(data_copy[group].unique())\n",
    "\n",
    "    fig = px.scatter(\n",
    "        data_copy[[x_value,variable,group]].sort_values([x_value, group]), \n",
    "        x=x_value, y=variable, color=group, category_orders={group: cats})\n",
    "\n",
    "    for x in data_copy.loc[data_copy[target], x_value].unique():\n",
    "        fig.add_vline(x=x, line_color='black', line_width=1)\n",
    "\n",
    "    fig.update_yaxes(range=[0, 1.1 * data_copy[variable].max()])\n",
    "\n",
    "    fig.update_layout(\n",
    "        title=dict(\n",
    "            text=f\"Scatter Plot {variable} versus {x_value} with {group} categories per {target} event\",\n",
    "            x=0.5, xanchor='center',\n",
    "            y=0.94, yanchor='top',\n",
    "            font=dict(size=26),\n",
    "            pad=dict(t=10, b=10)\n",
    "        ),\n",
    "        margin=dict(l=60, r=40, t=120, b=50)\n",
    "    )\n",
    "\n",
    "    fig.show()"
   ]
  },
  {
   "cell_type": "code",
   "execution_count": 359,
   "id": "7a71472d",
   "metadata": {},
   "outputs": [
    {
     "data": {
      "application/vnd.plotly.v1+json": {
       "config": {
        "plotlyServerURL": "https://plot.ly"
       },
       "data": [
        {
         "hovertemplate": "Cycle=%{x}<br>Temperature=%{y}<extra></extra>",
         "legendgroup": "",
         "line": {
          "color": "royalblue",
          "dash": "solid",
          "width": 2
         },
         "marker": {
          "symbol": "circle"
         },
         "mode": "lines",
         "name": "Temperature",
         "orientation": "v",
         "showlegend": true,
         "type": "scatter",
         "x": {
          "bdata": "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",
          "dtype": "i2"
         },
         "xaxis": "x",
         "y": {
          "bdata": "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",
          "dtype": "f8"
         },
         "yaxis": "y"
        },
        {
         "line": {
          "color": "rgba(0,0,0,0.5)",
          "width": 1
         },
         "mode": "lines",
         "name": "Failure events",
         "type": "scatter",
         "x": [
          null
         ],
         "y": [
          null
         ]
        }
       ],
       "layout": {
        "legend": {
         "tracegroupgap": 0
        },
        "margin": {
         "b": 50,
         "l": 60,
         "r": 40,
         "t": 120
        },
        "shapes": [
         {
          "line": {
           "color": "rgba(0,0,0,0.5)",
           "width": 2
          },
          "type": "line",
          "x0": 13,
          "x1": 13,
          "xref": "x",
          "y0": 0,
          "y1": 1,
          "yref": "y domain"
         },
         {
          "line": {
           "color": "rgba(0,0,0,0.5)",
           "width": 2
          },
          "type": "line",
          "x0": 157,
          "x1": 157,
          "xref": "x",
          "y0": 0,
          "y1": 1,
          "yref": "y domain"
         },
         {
          "line": {
           "color": "rgba(0,0,0,0.5)",
           "width": 2
          },
          "type": "line",
          "x0": 158,
          "x1": 158,
          "xref": "x",
          "y0": 0,
          "y1": 1,
          "yref": "y domain"
         },
         {
          "line": {
           "color": "rgba(0,0,0,0.5)",
           "width": 2
          },
          "type": "line",
          "x0": 159,
          "x1": 159,
          "xref": "x",
          "y0": 0,
          "y1": 1,
          "yref": "y domain"
         },
         {
          "line": {
           "color": "rgba(0,0,0,0.5)",
           "width": 2
          },
          "type": "line",
          "x0": 163,
          "x1": 163,
          "xref": "x",
          "y0": 0,
          "y1": 1,
          "yref": "y domain"
         },
         {
          "line": {
           "color": "rgba(0,0,0,0.5)",
           "width": 2
          },
          "type": "line",
          "x0": 164,
          "x1": 164,
          "xref": "x",
          "y0": 0,
          "y1": 1,
          "yref": "y domain"
         },
         {
          "line": {
           "color": "rgba(0,0,0,0.5)",
           "width": 2
          },
          "type": "line",
          "x0": 165,
          "x1": 165,
          "xref": "x",
          "y0": 0,
          "y1": 1,
          "yref": "y domain"
         },
         {
          "line": {
           "color": "rgba(0,0,0,0.5)",
           "width": 2
          },
          "type": "line",
          "x0": 263,
          "x1": 263,
          "xref": "x",
          "y0": 0,
          "y1": 1,
          "yref": "y domain"
         },
         {
          "line": {
           "color": "rgba(0,0,0,0.5)",
           "width": 2
          },
          "type": "line",
          "x0": 264,
          "x1": 264,
          "xref": "x",
          "y0": 0,
          "y1": 1,
          "yref": "y domain"
         },
         {
          "line": {
           "color": "rgba(0,0,0,0.5)",
           "width": 2
          },
          "type": "line",
          "x0": 265,
          "x1": 265,
          "xref": "x",
          "y0": 0,
          "y1": 1,
          "yref": "y domain"
         },
         {
          "line": {
           "color": "rgba(0,0,0,0.5)",
           "width": 2
          },
          "type": "line",
          "x0": 270,
          "x1": 270,
          "xref": "x",
          "y0": 0,
          "y1": 1,
          "yref": "y domain"
         },
         {
          "line": {
           "color": "rgba(0,0,0,0.5)",
           "width": 2
          },
          "type": "line",
          "x0": 271,
          "x1": 271,
          "xref": "x",
          "y0": 0,
          "y1": 1,
          "yref": "y domain"
         },
         {
          "line": {
           "color": "rgba(0,0,0,0.5)",
           "width": 2
          },
          "type": "line",
          "x0": 415,
          "x1": 415,
          "xref": "x",
          "y0": 0,
          "y1": 1,
          "yref": "y domain"
         },
         {
          "line": {
           "color": "rgba(0,0,0,0.5)",
           "width": 2
          },
          "type": "line",
          "x0": 416,
          "x1": 416,
          "xref": "x",
          "y0": 0,
          "y1": 1,
          "yref": "y domain"
         },
         {
          "line": {
           "color": "rgba(0,0,0,0.5)",
           "width": 2
          },
          "type": "line",
          "x0": 417,
          "x1": 417,
          "xref": "x",
          "y0": 0,
          "y1": 1,
          "yref": "y domain"
         },
         {
          "line": {
           "color": "rgba(0,0,0,0.5)",
           "width": 2
          },
          "type": "line",
          "x0": 418,
          "x1": 418,
          "xref": "x",
          "y0": 0,
          "y1": 1,
          "yref": "y domain"
         },
         {
          "line": {
           "color": "rgba(0,0,0,0.5)",
           "width": 2
          },
          "type": "line",
          "x0": 419,
          "x1": 419,
          "xref": "x",
          "y0": 0,
          "y1": 1,
          "yref": "y domain"
         },
         {
          "line": {
           "color": "rgba(0,0,0,0.5)",
           "width": 2
          },
          "type": "line",
          "x0": 420,
          "x1": 420,
          "xref": "x",
          "y0": 0,
          "y1": 1,
          "yref": "y domain"
         },
         {
          "line": {
           "color": "rgba(0,0,0,0.5)",
           "width": 2
          },
          "type": "line",
          "x0": 421,
          "x1": 421,
          "xref": "x",
          "y0": 0,
          "y1": 1,
          "yref": "y domain"
         },
         {
          "line": {
           "color": "rgba(0,0,0,0.5)",
           "width": 2
          },
          "type": "line",
          "x0": 422,
          "x1": 422,
          "xref": "x",
          "y0": 0,
          "y1": 1,
          "yref": "y domain"
         },
         {
          "line": {
           "color": "rgba(0,0,0,0.5)",
           "width": 2
          },
          "type": "line",
          "x0": 423,
          "x1": 423,
          "xref": "x",
          "y0": 0,
          "y1": 1,
          "yref": "y domain"
         },
         {
          "line": {
           "color": "rgba(0,0,0,0.5)",
           "width": 2
          },
          "type": "line",
          "x0": 424,
          "x1": 424,
          "xref": "x",
          "y0": 0,
          "y1": 1,
          "yref": "y domain"
         },
         {
          "line": {
           "color": "rgba(0,0,0,0.5)",
           "width": 2
          },
          "type": "line",
          "x0": 425,
          "x1": 425,
          "xref": "x",
          "y0": 0,
          "y1": 1,
          "yref": "y domain"
         },
         {
          "line": {
           "color": "rgba(0,0,0,0.5)",
           "width": 2
          },
          "type": "line",
          "x0": 426,
          "x1": 426,
          "xref": "x",
          "y0": 0,
          "y1": 1,
          "yref": "y domain"
         },
         {
          "line": {
           "color": "rgba(0,0,0,0.5)",
           "width": 2
          },
          "type": "line",
          "x0": 427,
          "x1": 427,
          "xref": "x",
          "y0": 0,
          "y1": 1,
          "yref": "y domain"
         },
         {
          "line": {
           "color": "rgba(0,0,0,0.5)",
           "width": 2
          },
          "type": "line",
          "x0": 428,
          "x1": 428,
          "xref": "x",
          "y0": 0,
          "y1": 1,
          "yref": "y domain"
         },
         {
          "line": {
           "color": "rgba(0,0,0,0.5)",
           "width": 2
          },
          "type": "line",
          "x0": 429,
          "x1": 429,
          "xref": "x",
          "y0": 0,
          "y1": 1,
          "yref": "y domain"
         },
         {
          "line": {
           "color": "rgba(0,0,0,0.5)",
           "width": 2
          },
          "type": "line",
          "x0": 430,
          "x1": 430,
          "xref": "x",
          "y0": 0,
          "y1": 1,
          "yref": "y domain"
         },
         {
          "line": {
           "color": "rgba(0,0,0,0.5)",
           "width": 2
          },
          "type": "line",
          "x0": 431,
          "x1": 431,
          "xref": "x",
          "y0": 0,
          "y1": 1,
          "yref": "y domain"
         },
         {
          "line": {
           "color": "rgba(0,0,0,0.5)",
           "width": 2
          },
          "type": "line",
          "x0": 432,
          "x1": 432,
          "xref": "x",
          "y0": 0,
          "y1": 1,
          "yref": "y domain"
         },
         {
          "line": {
           "color": "rgba(0,0,0,0.5)",
           "width": 2
          },
          "type": "line",
          "x0": 538,
          "x1": 538,
          "xref": "x",
          "y0": 0,
          "y1": 1,
          "yref": "y domain"
         },
         {
          "line": {
           "color": "rgba(0,0,0,0.5)",
           "width": 2
          },
          "type": "line",
          "x0": 539,
          "x1": 539,
          "xref": "x",
          "y0": 0,
          "y1": 1,
          "yref": "y domain"
         },
         {
          "line": {
           "color": "rgba(0,0,0,0.5)",
           "width": 2
          },
          "type": "line",
          "x0": 540,
          "x1": 540,
          "xref": "x",
          "y0": 0,
          "y1": 1,
          "yref": "y domain"
         },
         {
          "line": {
           "color": "rgba(0,0,0,0.5)",
           "width": 2
          },
          "type": "line",
          "x0": 541,
          "x1": 541,
          "xref": "x",
          "y0": 0,
          "y1": 1,
          "yref": "y domain"
         },
         {
          "line": {
           "color": "rgba(0,0,0,0.5)",
           "width": 2
          },
          "type": "line",
          "x0": 542,
          "x1": 542,
          "xref": "x",
          "y0": 0,
          "y1": 1,
          "yref": "y domain"
         },
         {
          "line": {
           "color": "rgba(0,0,0,0.5)",
           "width": 2
          },
          "type": "line",
          "x0": 543,
          "x1": 543,
          "xref": "x",
          "y0": 0,
          "y1": 1,
          "yref": "y domain"
         },
         {
          "line": {
           "color": "rgba(0,0,0,0.5)",
           "width": 2
          },
          "type": "line",
          "x0": 544,
          "x1": 544,
          "xref": "x",
          "y0": 0,
          "y1": 1,
          "yref": "y domain"
         },
         {
          "line": {
           "color": "rgba(0,0,0,0.5)",
           "width": 2
          },
          "type": "line",
          "x0": 545,
          "x1": 545,
          "xref": "x",
          "y0": 0,
          "y1": 1,
          "yref": "y domain"
         },
         {
          "line": {
           "color": "rgba(0,0,0,0.5)",
           "width": 2
          },
          "type": "line",
          "x0": 546,
          "x1": 546,
          "xref": "x",
          "y0": 0,
          "y1": 1,
          "yref": "y domain"
         },
         {
          "line": {
           "color": "rgba(0,0,0,0.5)",
           "width": 2
          },
          "type": "line",
          "x0": 550,
          "x1": 550,
          "xref": "x",
          "y0": 0,
          "y1": 1,
          "yref": "y domain"
         },
         {
          "line": {
           "color": "rgba(0,0,0,0.5)",
           "width": 2
          },
          "type": "line",
          "x0": 551,
          "x1": 551,
          "xref": "x",
          "y0": 0,
          "y1": 1,
          "yref": "y domain"
         },
         {
          "line": {
           "color": "rgba(0,0,0,0.5)",
           "width": 2
          },
          "type": "line",
          "x0": 552,
          "x1": 552,
          "xref": "x",
          "y0": 0,
          "y1": 1,
          "yref": "y domain"
         },
         {
          "line": {
           "color": "rgba(0,0,0,0.5)",
           "width": 2
          },
          "type": "line",
          "x0": 553,
          "x1": 553,
          "xref": "x",
          "y0": 0,
          "y1": 1,
          "yref": "y domain"
         },
         {
          "line": {
           "color": "rgba(0,0,0,0.5)",
           "width": 2
          },
          "type": "line",
          "x0": 554,
          "x1": 554,
          "xref": "x",
          "y0": 0,
          "y1": 1,
          "yref": "y domain"
         },
         {
          "line": {
           "color": "rgba(0,0,0,0.5)",
           "width": 2
          },
          "type": "line",
          "x0": 700,
          "x1": 700,
          "xref": "x",
          "y0": 0,
          "y1": 1,
          "yref": "y domain"
         },
         {
          "line": {
           "color": "rgba(0,0,0,0.5)",
           "width": 2
          },
          "type": "line",
          "x0": 701,
          "x1": 701,
          "xref": "x",
          "y0": 0,
          "y1": 1,
          "yref": "y domain"
         },
         {
          "line": {
           "color": "rgba(0,0,0,0.5)",
           "width": 2
          },
          "type": "line",
          "x0": 702,
          "x1": 702,
          "xref": "x",
          "y0": 0,
          "y1": 1,
          "yref": "y domain"
         },
         {
          "line": {
           "color": "rgba(0,0,0,0.5)",
           "width": 2
          },
          "type": "line",
          "x0": 703,
          "x1": 703,
          "xref": "x",
          "y0": 0,
          "y1": 1,
          "yref": "y domain"
         },
         {
          "line": {
           "color": "rgba(0,0,0,0.5)",
           "width": 2
          },
          "type": "line",
          "x0": 704,
          "x1": 704,
          "xref": "x",
          "y0": 0,
          "y1": 1,
          "yref": "y domain"
         },
         {
          "line": {
           "color": "rgba(0,0,0,0.5)",
           "width": 2
          },
          "type": "line",
          "x0": 705,
          "x1": 705,
          "xref": "x",
          "y0": 0,
          "y1": 1,
          "yref": "y domain"
         },
         {
          "line": {
           "color": "rgba(0,0,0,0.5)",
           "width": 2
          },
          "type": "line",
          "x0": 706,
          "x1": 706,
          "xref": "x",
          "y0": 0,
          "y1": 1,
          "yref": "y domain"
         },
         {
          "line": {
           "color": "rgba(0,0,0,0.5)",
           "width": 2
          },
          "type": "line",
          "x0": 707,
          "x1": 707,
          "xref": "x",
          "y0": 0,
          "y1": 1,
          "yref": "y domain"
         },
         {
          "line": {
           "color": "rgba(0,0,0,0.5)",
           "width": 2
          },
          "type": "line",
          "x0": 708,
          "x1": 708,
          "xref": "x",
          "y0": 0,
          "y1": 1,
          "yref": "y domain"
         },
         {
          "line": {
           "color": "rgba(0,0,0,0.5)",
           "width": 2
          },
          "type": "line",
          "x0": 709,
          "x1": 709,
          "xref": "x",
          "y0": 0,
          "y1": 1,
          "yref": "y domain"
         },
         {
          "line": {
           "color": "rgba(0,0,0,0.5)",
           "width": 2
          },
          "type": "line",
          "x0": 710,
          "x1": 710,
          "xref": "x",
          "y0": 0,
          "y1": 1,
          "yref": "y domain"
         },
         {
          "line": {
           "color": "rgba(0,0,0,0.5)",
           "width": 2
          },
          "type": "line",
          "x0": 711,
          "x1": 711,
          "xref": "x",
          "y0": 0,
          "y1": 1,
          "yref": "y domain"
         },
         {
          "line": {
           "color": "rgba(0,0,0,0.5)",
           "width": 2
          },
          "type": "line",
          "x0": 712,
          "x1": 712,
          "xref": "x",
          "y0": 0,
          "y1": 1,
          "yref": "y domain"
         },
         {
          "line": {
           "color": "rgba(0,0,0,0.5)",
           "width": 2
          },
          "type": "line",
          "x0": 713,
          "x1": 713,
          "xref": "x",
          "y0": 0,
          "y1": 1,
          "yref": "y domain"
         },
         {
          "line": {
           "color": "rgba(0,0,0,0.5)",
           "width": 2
          },
          "type": "line",
          "x0": 793,
          "x1": 793,
          "xref": "x",
          "y0": 0,
          "y1": 1,
          "yref": "y domain"
         },
         {
          "line": {
           "color": "rgba(0,0,0,0.5)",
           "width": 2
          },
          "type": "line",
          "x0": 794,
          "x1": 794,
          "xref": "x",
          "y0": 0,
          "y1": 1,
          "yref": "y domain"
         },
         {
          "line": {
           "color": "rgba(0,0,0,0.5)",
           "width": 2
          },
          "type": "line",
          "x0": 795,
          "x1": 795,
          "xref": "x",
          "y0": 0,
          "y1": 1,
          "yref": "y domain"
         },
         {
          "line": {
           "color": "rgba(0,0,0,0.5)",
           "width": 2
          },
          "type": "line",
          "x0": 796,
          "x1": 796,
          "xref": "x",
          "y0": 0,
          "y1": 1,
          "yref": "y domain"
         },
         {
          "line": {
           "color": "rgba(0,0,0,0.5)",
           "width": 2
          },
          "type": "line",
          "x0": 797,
          "x1": 797,
          "xref": "x",
          "y0": 0,
          "y1": 1,
          "yref": "y domain"
         },
         {
          "line": {
           "color": "rgba(0,0,0,0.5)",
           "width": 2
          },
          "type": "line",
          "x0": 798,
          "x1": 798,
          "xref": "x",
          "y0": 0,
          "y1": 1,
          "yref": "y domain"
         },
         {
          "line": {
           "color": "rgba(0,0,0,0.5)",
           "width": 2
          },
          "type": "line",
          "x0": 799,
          "x1": 799,
          "xref": "x",
          "y0": 0,
          "y1": 1,
          "yref": "y domain"
         },
         {
          "line": {
           "color": "rgba(0,0,0,0.5)",
           "width": 2
          },
          "type": "line",
          "x0": 800,
          "x1": 800,
          "xref": "x",
          "y0": 0,
          "y1": 1,
          "yref": "y domain"
         }
        ],
        "template": {
         "data": {
          "bar": [
           {
            "error_x": {
             "color": "#2a3f5f"
            },
            "error_y": {
             "color": "#2a3f5f"
            },
            "marker": {
             "line": {
              "color": "#E5ECF6",
              "width": 0.5
             },
             "pattern": {
              "fillmode": "overlay",
              "size": 10,
              "solidity": 0.2
             }
            },
            "type": "bar"
           }
          ],
          "barpolar": [
           {
            "marker": {
             "line": {
              "color": "#E5ECF6",
              "width": 0.5
             },
             "pattern": {
              "fillmode": "overlay",
              "size": 10,
              "solidity": 0.2
             }
            },
            "type": "barpolar"
           }
          ],
          "carpet": [
           {
            "aaxis": {
             "endlinecolor": "#2a3f5f",
             "gridcolor": "white",
             "linecolor": "white",
             "minorgridcolor": "white",
             "startlinecolor": "#2a3f5f"
            },
            "baxis": {
             "endlinecolor": "#2a3f5f",
             "gridcolor": "white",
             "linecolor": "white",
             "minorgridcolor": "white",
             "startlinecolor": "#2a3f5f"
            },
            "type": "carpet"
           }
          ],
          "choropleth": [
           {
            "colorbar": {
             "outlinewidth": 0,
             "ticks": ""
            },
            "type": "choropleth"
           }
          ],
          "contour": [
           {
            "colorbar": {
             "outlinewidth": 0,
             "ticks": ""
            },
            "colorscale": [
             [
              0,
              "#0d0887"
             ],
             [
              0.1111111111111111,
              "#46039f"
             ],
             [
              0.2222222222222222,
              "#7201a8"
             ],
             [
              0.3333333333333333,
              "#9c179e"
             ],
             [
              0.4444444444444444,
              "#bd3786"
             ],
             [
              0.5555555555555556,
              "#d8576b"
             ],
             [
              0.6666666666666666,
              "#ed7953"
             ],
             [
              0.7777777777777778,
              "#fb9f3a"
             ],
             [
              0.8888888888888888,
              "#fdca26"
             ],
             [
              1,
              "#f0f921"
             ]
            ],
            "type": "contour"
           }
          ],
          "contourcarpet": [
           {
            "colorbar": {
             "outlinewidth": 0,
             "ticks": ""
            },
            "type": "contourcarpet"
           }
          ],
          "heatmap": [
           {
            "colorbar": {
             "outlinewidth": 0,
             "ticks": ""
            },
            "colorscale": [
             [
              0,
              "#0d0887"
             ],
             [
              0.1111111111111111,
              "#46039f"
             ],
             [
              0.2222222222222222,
              "#7201a8"
             ],
             [
              0.3333333333333333,
              "#9c179e"
             ],
             [
              0.4444444444444444,
              "#bd3786"
             ],
             [
              0.5555555555555556,
              "#d8576b"
             ],
             [
              0.6666666666666666,
              "#ed7953"
             ],
             [
              0.7777777777777778,
              "#fb9f3a"
             ],
             [
              0.8888888888888888,
              "#fdca26"
             ],
             [
              1,
              "#f0f921"
             ]
            ],
            "type": "heatmap"
           }
          ],
          "histogram": [
           {
            "marker": {
             "pattern": {
              "fillmode": "overlay",
              "size": 10,
              "solidity": 0.2
             }
            },
            "type": "histogram"
           }
          ],
          "histogram2d": [
           {
            "colorbar": {
             "outlinewidth": 0,
             "ticks": ""
            },
            "colorscale": [
             [
              0,
              "#0d0887"
             ],
             [
              0.1111111111111111,
              "#46039f"
             ],
             [
              0.2222222222222222,
              "#7201a8"
             ],
             [
              0.3333333333333333,
              "#9c179e"
             ],
             [
              0.4444444444444444,
              "#bd3786"
             ],
             [
              0.5555555555555556,
              "#d8576b"
             ],
             [
              0.6666666666666666,
              "#ed7953"
             ],
             [
              0.7777777777777778,
              "#fb9f3a"
             ],
             [
              0.8888888888888888,
              "#fdca26"
             ],
             [
              1,
              "#f0f921"
             ]
            ],
            "type": "histogram2d"
           }
          ],
          "histogram2dcontour": [
           {
            "colorbar": {
             "outlinewidth": 0,
             "ticks": ""
            },
            "colorscale": [
             [
              0,
              "#0d0887"
             ],
             [
              0.1111111111111111,
              "#46039f"
             ],
             [
              0.2222222222222222,
              "#7201a8"
             ],
             [
              0.3333333333333333,
              "#9c179e"
             ],
             [
              0.4444444444444444,
              "#bd3786"
             ],
             [
              0.5555555555555556,
              "#d8576b"
             ],
             [
              0.6666666666666666,
              "#ed7953"
             ],
             [
              0.7777777777777778,
              "#fb9f3a"
             ],
             [
              0.8888888888888888,
              "#fdca26"
             ],
             [
              1,
              "#f0f921"
             ]
            ],
            "type": "histogram2dcontour"
           }
          ],
          "mesh3d": [
           {
            "colorbar": {
             "outlinewidth": 0,
             "ticks": ""
            },
            "type": "mesh3d"
           }
          ],
          "parcoords": [
           {
            "line": {
             "colorbar": {
              "outlinewidth": 0,
              "ticks": ""
             }
            },
            "type": "parcoords"
           }
          ],
          "pie": [
           {
            "automargin": true,
            "type": "pie"
           }
          ],
          "scatter": [
           {
            "fillpattern": {
             "fillmode": "overlay",
             "size": 10,
             "solidity": 0.2
            },
            "type": "scatter"
           }
          ],
          "scatter3d": [
           {
            "line": {
             "colorbar": {
              "outlinewidth": 0,
              "ticks": ""
             }
            },
            "marker": {
             "colorbar": {
              "outlinewidth": 0,
              "ticks": ""
             }
            },
            "type": "scatter3d"
           }
          ],
          "scattercarpet": [
           {
            "marker": {
             "colorbar": {
              "outlinewidth": 0,
              "ticks": ""
             }
            },
            "type": "scattercarpet"
           }
          ],
          "scattergeo": [
           {
            "marker": {
             "colorbar": {
              "outlinewidth": 0,
              "ticks": ""
             }
            },
            "type": "scattergeo"
           }
          ],
          "scattergl": [
           {
            "marker": {
             "colorbar": {
              "outlinewidth": 0,
              "ticks": ""
             }
            },
            "type": "scattergl"
           }
          ],
          "scattermap": [
           {
            "marker": {
             "colorbar": {
              "outlinewidth": 0,
              "ticks": ""
             }
            },
            "type": "scattermap"
           }
          ],
          "scattermapbox": [
           {
            "marker": {
             "colorbar": {
              "outlinewidth": 0,
              "ticks": ""
             }
            },
            "type": "scattermapbox"
           }
          ],
          "scatterpolar": [
           {
            "marker": {
             "colorbar": {
              "outlinewidth": 0,
              "ticks": ""
             }
            },
            "type": "scatterpolar"
           }
          ],
          "scatterpolargl": [
           {
            "marker": {
             "colorbar": {
              "outlinewidth": 0,
              "ticks": ""
             }
            },
            "type": "scatterpolargl"
           }
          ],
          "scatterternary": [
           {
            "marker": {
             "colorbar": {
              "outlinewidth": 0,
              "ticks": ""
             }
            },
            "type": "scatterternary"
           }
          ],
          "surface": [
           {
            "colorbar": {
             "outlinewidth": 0,
             "ticks": ""
            },
            "colorscale": [
             [
              0,
              "#0d0887"
             ],
             [
              0.1111111111111111,
              "#46039f"
             ],
             [
              0.2222222222222222,
              "#7201a8"
             ],
             [
              0.3333333333333333,
              "#9c179e"
             ],
             [
              0.4444444444444444,
              "#bd3786"
             ],
             [
              0.5555555555555556,
              "#d8576b"
             ],
             [
              0.6666666666666666,
              "#ed7953"
             ],
             [
              0.7777777777777778,
              "#fb9f3a"
             ],
             [
              0.8888888888888888,
              "#fdca26"
             ],
             [
              1,
              "#f0f921"
             ]
            ],
            "type": "surface"
           }
          ],
          "table": [
           {
            "cells": {
             "fill": {
              "color": "#EBF0F8"
             },
             "line": {
              "color": "white"
             }
            },
            "header": {
             "fill": {
              "color": "#C8D4E3"
             },
             "line": {
              "color": "white"
             }
            },
            "type": "table"
           }
          ]
         },
         "layout": {
          "annotationdefaults": {
           "arrowcolor": "#2a3f5f",
           "arrowhead": 0,
           "arrowwidth": 1
          },
          "autotypenumbers": "strict",
          "coloraxis": {
           "colorbar": {
            "outlinewidth": 0,
            "ticks": ""
           }
          },
          "colorscale": {
           "diverging": [
            [
             0,
             "#8e0152"
            ],
            [
             0.1,
             "#c51b7d"
            ],
            [
             0.2,
             "#de77ae"
            ],
            [
             0.3,
             "#f1b6da"
            ],
            [
             0.4,
             "#fde0ef"
            ],
            [
             0.5,
             "#f7f7f7"
            ],
            [
             0.6,
             "#e6f5d0"
            ],
            [
             0.7,
             "#b8e186"
            ],
            [
             0.8,
             "#7fbc41"
            ],
            [
             0.9,
             "#4d9221"
            ],
            [
             1,
             "#276419"
            ]
           ],
           "sequential": [
            [
             0,
             "#0d0887"
            ],
            [
             0.1111111111111111,
             "#46039f"
            ],
            [
             0.2222222222222222,
             "#7201a8"
            ],
            [
             0.3333333333333333,
             "#9c179e"
            ],
            [
             0.4444444444444444,
             "#bd3786"
            ],
            [
             0.5555555555555556,
             "#d8576b"
            ],
            [
             0.6666666666666666,
             "#ed7953"
            ],
            [
             0.7777777777777778,
             "#fb9f3a"
            ],
            [
             0.8888888888888888,
             "#fdca26"
            ],
            [
             1,
             "#f0f921"
            ]
           ],
           "sequentialminus": [
            [
             0,
             "#0d0887"
            ],
            [
             0.1111111111111111,
             "#46039f"
            ],
            [
             0.2222222222222222,
             "#7201a8"
            ],
            [
             0.3333333333333333,
             "#9c179e"
            ],
            [
             0.4444444444444444,
             "#bd3786"
            ],
            [
             0.5555555555555556,
             "#d8576b"
            ],
            [
             0.6666666666666666,
             "#ed7953"
            ],
            [
             0.7777777777777778,
             "#fb9f3a"
            ],
            [
             0.8888888888888888,
             "#fdca26"
            ],
            [
             1,
             "#f0f921"
            ]
           ]
          },
          "colorway": [
           "#636efa",
           "#EF553B",
           "#00cc96",
           "#ab63fa",
           "#FFA15A",
           "#19d3f3",
           "#FF6692",
           "#B6E880",
           "#FF97FF",
           "#FECB52"
          ],
          "font": {
           "color": "#2a3f5f"
          },
          "geo": {
           "bgcolor": "white",
           "lakecolor": "white",
           "landcolor": "#E5ECF6",
           "showlakes": true,
           "showland": true,
           "subunitcolor": "white"
          },
          "hoverlabel": {
           "align": "left"
          },
          "hovermode": "closest",
          "mapbox": {
           "style": "light"
          },
          "paper_bgcolor": "white",
          "plot_bgcolor": "#E5ECF6",
          "polar": {
           "angularaxis": {
            "gridcolor": "white",
            "linecolor": "white",
            "ticks": ""
           },
           "bgcolor": "#E5ECF6",
           "radialaxis": {
            "gridcolor": "white",
            "linecolor": "white",
            "ticks": ""
           }
          },
          "scene": {
           "xaxis": {
            "backgroundcolor": "#E5ECF6",
            "gridcolor": "white",
            "gridwidth": 2,
            "linecolor": "white",
            "showbackground": true,
            "ticks": "",
            "zerolinecolor": "white"
           },
           "yaxis": {
            "backgroundcolor": "#E5ECF6",
            "gridcolor": "white",
            "gridwidth": 2,
            "linecolor": "white",
            "showbackground": true,
            "ticks": "",
            "zerolinecolor": "white"
           },
           "zaxis": {
            "backgroundcolor": "#E5ECF6",
            "gridcolor": "white",
            "gridwidth": 2,
            "linecolor": "white",
            "showbackground": true,
            "ticks": "",
            "zerolinecolor": "white"
           }
          },
          "shapedefaults": {
           "line": {
            "color": "#2a3f5f"
           }
          },
          "ternary": {
           "aaxis": {
            "gridcolor": "white",
            "linecolor": "white",
            "ticks": ""
           },
           "baxis": {
            "gridcolor": "white",
            "linecolor": "white",
            "ticks": ""
           },
           "bgcolor": "#E5ECF6",
           "caxis": {
            "gridcolor": "white",
            "linecolor": "white",
            "ticks": ""
           }
          },
          "title": {
           "x": 0.05
          },
          "xaxis": {
           "automargin": true,
           "gridcolor": "white",
           "linecolor": "white",
           "ticks": "",
           "title": {
            "standoff": 15
           },
           "zerolinecolor": "white",
           "zerolinewidth": 2
          },
          "yaxis": {
           "automargin": true,
           "gridcolor": "white",
           "linecolor": "white",
           "ticks": "",
           "title": {
            "standoff": 15
           },
           "zerolinecolor": "white",
           "zerolinewidth": 2
          }
         }
        },
        "title": {
         "font": {
          "size": 26
         },
         "pad": {
          "b": 10,
          "t": 10
         },
         "text": "Temperature per Cycle with Failure events",
         "x": 0.5,
         "xanchor": "center",
         "y": 0.94,
         "yanchor": "top"
        },
        "xaxis": {
         "anchor": "y",
         "domain": [
          0,
          1
         ],
         "title": {
          "text": "Cycle"
         }
        },
        "yaxis": {
         "anchor": "x",
         "domain": [
          0,
          1
         ],
         "range": [
          0,
          281.1686123985757
         ],
         "title": {
          "text": "Temperature"
         }
        }
       }
      }
     },
     "metadata": {},
     "output_type": "display_data"
    },
    {
     "data": {
      "application/vnd.plotly.v1+json": {
       "config": {
        "plotlyServerURL": "https://plot.ly"
       },
       "data": [
        {
         "hovertemplate": "Cycle=%{x}<br>Pressure=%{y}<extra></extra>",
         "legendgroup": "",
         "line": {
          "color": "royalblue",
          "dash": "solid",
          "width": 2
         },
         "marker": {
          "symbol": "circle"
         },
         "mode": "lines",
         "name": "Pressure",
         "orientation": "v",
         "showlegend": true,
         "type": "scatter",
         "x": {
          "bdata": "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",
          "dtype": "i2"
         },
         "xaxis": "x",
         "y": {
          "bdata": "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",
          "dtype": "f8"
         },
         "yaxis": "y"
        },
        {
         "line": {
          "color": "rgba(0,0,0,0.5)",
          "width": 1
         },
         "mode": "lines",
         "name": "Failure events",
         "type": "scatter",
         "x": [
          null
         ],
         "y": [
          null
         ]
        }
       ],
       "layout": {
        "legend": {
         "tracegroupgap": 0
        },
        "margin": {
         "b": 50,
         "l": 60,
         "r": 40,
         "t": 120
        },
        "shapes": [
         {
          "line": {
           "color": "rgba(0,0,0,0.5)",
           "width": 2
          },
          "type": "line",
          "x0": 13,
          "x1": 13,
          "xref": "x",
          "y0": 0,
          "y1": 1,
          "yref": "y domain"
         },
         {
          "line": {
           "color": "rgba(0,0,0,0.5)",
           "width": 2
          },
          "type": "line",
          "x0": 157,
          "x1": 157,
          "xref": "x",
          "y0": 0,
          "y1": 1,
          "yref": "y domain"
         },
         {
          "line": {
           "color": "rgba(0,0,0,0.5)",
           "width": 2
          },
          "type": "line",
          "x0": 158,
          "x1": 158,
          "xref": "x",
          "y0": 0,
          "y1": 1,
          "yref": "y domain"
         },
         {
          "line": {
           "color": "rgba(0,0,0,0.5)",
           "width": 2
          },
          "type": "line",
          "x0": 159,
          "x1": 159,
          "xref": "x",
          "y0": 0,
          "y1": 1,
          "yref": "y domain"
         },
         {
          "line": {
           "color": "rgba(0,0,0,0.5)",
           "width": 2
          },
          "type": "line",
          "x0": 163,
          "x1": 163,
          "xref": "x",
          "y0": 0,
          "y1": 1,
          "yref": "y domain"
         },
         {
          "line": {
           "color": "rgba(0,0,0,0.5)",
           "width": 2
          },
          "type": "line",
          "x0": 164,
          "x1": 164,
          "xref": "x",
          "y0": 0,
          "y1": 1,
          "yref": "y domain"
         },
         {
          "line": {
           "color": "rgba(0,0,0,0.5)",
           "width": 2
          },
          "type": "line",
          "x0": 165,
          "x1": 165,
          "xref": "x",
          "y0": 0,
          "y1": 1,
          "yref": "y domain"
         },
         {
          "line": {
           "color": "rgba(0,0,0,0.5)",
           "width": 2
          },
          "type": "line",
          "x0": 263,
          "x1": 263,
          "xref": "x",
          "y0": 0,
          "y1": 1,
          "yref": "y domain"
         },
         {
          "line": {
           "color": "rgba(0,0,0,0.5)",
           "width": 2
          },
          "type": "line",
          "x0": 264,
          "x1": 264,
          "xref": "x",
          "y0": 0,
          "y1": 1,
          "yref": "y domain"
         },
         {
          "line": {
           "color": "rgba(0,0,0,0.5)",
           "width": 2
          },
          "type": "line",
          "x0": 265,
          "x1": 265,
          "xref": "x",
          "y0": 0,
          "y1": 1,
          "yref": "y domain"
         },
         {
          "line": {
           "color": "rgba(0,0,0,0.5)",
           "width": 2
          },
          "type": "line",
          "x0": 270,
          "x1": 270,
          "xref": "x",
          "y0": 0,
          "y1": 1,
          "yref": "y domain"
         },
         {
          "line": {
           "color": "rgba(0,0,0,0.5)",
           "width": 2
          },
          "type": "line",
          "x0": 271,
          "x1": 271,
          "xref": "x",
          "y0": 0,
          "y1": 1,
          "yref": "y domain"
         },
         {
          "line": {
           "color": "rgba(0,0,0,0.5)",
           "width": 2
          },
          "type": "line",
          "x0": 415,
          "x1": 415,
          "xref": "x",
          "y0": 0,
          "y1": 1,
          "yref": "y domain"
         },
         {
          "line": {
           "color": "rgba(0,0,0,0.5)",
           "width": 2
          },
          "type": "line",
          "x0": 416,
          "x1": 416,
          "xref": "x",
          "y0": 0,
          "y1": 1,
          "yref": "y domain"
         },
         {
          "line": {
           "color": "rgba(0,0,0,0.5)",
           "width": 2
          },
          "type": "line",
          "x0": 417,
          "x1": 417,
          "xref": "x",
          "y0": 0,
          "y1": 1,
          "yref": "y domain"
         },
         {
          "line": {
           "color": "rgba(0,0,0,0.5)",
           "width": 2
          },
          "type": "line",
          "x0": 418,
          "x1": 418,
          "xref": "x",
          "y0": 0,
          "y1": 1,
          "yref": "y domain"
         },
         {
          "line": {
           "color": "rgba(0,0,0,0.5)",
           "width": 2
          },
          "type": "line",
          "x0": 419,
          "x1": 419,
          "xref": "x",
          "y0": 0,
          "y1": 1,
          "yref": "y domain"
         },
         {
          "line": {
           "color": "rgba(0,0,0,0.5)",
           "width": 2
          },
          "type": "line",
          "x0": 420,
          "x1": 420,
          "xref": "x",
          "y0": 0,
          "y1": 1,
          "yref": "y domain"
         },
         {
          "line": {
           "color": "rgba(0,0,0,0.5)",
           "width": 2
          },
          "type": "line",
          "x0": 421,
          "x1": 421,
          "xref": "x",
          "y0": 0,
          "y1": 1,
          "yref": "y domain"
         },
         {
          "line": {
           "color": "rgba(0,0,0,0.5)",
           "width": 2
          },
          "type": "line",
          "x0": 422,
          "x1": 422,
          "xref": "x",
          "y0": 0,
          "y1": 1,
          "yref": "y domain"
         },
         {
          "line": {
           "color": "rgba(0,0,0,0.5)",
           "width": 2
          },
          "type": "line",
          "x0": 423,
          "x1": 423,
          "xref": "x",
          "y0": 0,
          "y1": 1,
          "yref": "y domain"
         },
         {
          "line": {
           "color": "rgba(0,0,0,0.5)",
           "width": 2
          },
          "type": "line",
          "x0": 424,
          "x1": 424,
          "xref": "x",
          "y0": 0,
          "y1": 1,
          "yref": "y domain"
         },
         {
          "line": {
           "color": "rgba(0,0,0,0.5)",
           "width": 2
          },
          "type": "line",
          "x0": 425,
          "x1": 425,
          "xref": "x",
          "y0": 0,
          "y1": 1,
          "yref": "y domain"
         },
         {
          "line": {
           "color": "rgba(0,0,0,0.5)",
           "width": 2
          },
          "type": "line",
          "x0": 426,
          "x1": 426,
          "xref": "x",
          "y0": 0,
          "y1": 1,
          "yref": "y domain"
         },
         {
          "line": {
           "color": "rgba(0,0,0,0.5)",
           "width": 2
          },
          "type": "line",
          "x0": 427,
          "x1": 427,
          "xref": "x",
          "y0": 0,
          "y1": 1,
          "yref": "y domain"
         },
         {
          "line": {
           "color": "rgba(0,0,0,0.5)",
           "width": 2
          },
          "type": "line",
          "x0": 428,
          "x1": 428,
          "xref": "x",
          "y0": 0,
          "y1": 1,
          "yref": "y domain"
         },
         {
          "line": {
           "color": "rgba(0,0,0,0.5)",
           "width": 2
          },
          "type": "line",
          "x0": 429,
          "x1": 429,
          "xref": "x",
          "y0": 0,
          "y1": 1,
          "yref": "y domain"
         },
         {
          "line": {
           "color": "rgba(0,0,0,0.5)",
           "width": 2
          },
          "type": "line",
          "x0": 430,
          "x1": 430,
          "xref": "x",
          "y0": 0,
          "y1": 1,
          "yref": "y domain"
         },
         {
          "line": {
           "color": "rgba(0,0,0,0.5)",
           "width": 2
          },
          "type": "line",
          "x0": 431,
          "x1": 431,
          "xref": "x",
          "y0": 0,
          "y1": 1,
          "yref": "y domain"
         },
         {
          "line": {
           "color": "rgba(0,0,0,0.5)",
           "width": 2
          },
          "type": "line",
          "x0": 432,
          "x1": 432,
          "xref": "x",
          "y0": 0,
          "y1": 1,
          "yref": "y domain"
         },
         {
          "line": {
           "color": "rgba(0,0,0,0.5)",
           "width": 2
          },
          "type": "line",
          "x0": 538,
          "x1": 538,
          "xref": "x",
          "y0": 0,
          "y1": 1,
          "yref": "y domain"
         },
         {
          "line": {
           "color": "rgba(0,0,0,0.5)",
           "width": 2
          },
          "type": "line",
          "x0": 539,
          "x1": 539,
          "xref": "x",
          "y0": 0,
          "y1": 1,
          "yref": "y domain"
         },
         {
          "line": {
           "color": "rgba(0,0,0,0.5)",
           "width": 2
          },
          "type": "line",
          "x0": 540,
          "x1": 540,
          "xref": "x",
          "y0": 0,
          "y1": 1,
          "yref": "y domain"
         },
         {
          "line": {
           "color": "rgba(0,0,0,0.5)",
           "width": 2
          },
          "type": "line",
          "x0": 541,
          "x1": 541,
          "xref": "x",
          "y0": 0,
          "y1": 1,
          "yref": "y domain"
         },
         {
          "line": {
           "color": "rgba(0,0,0,0.5)",
           "width": 2
          },
          "type": "line",
          "x0": 542,
          "x1": 542,
          "xref": "x",
          "y0": 0,
          "y1": 1,
          "yref": "y domain"
         },
         {
          "line": {
           "color": "rgba(0,0,0,0.5)",
           "width": 2
          },
          "type": "line",
          "x0": 543,
          "x1": 543,
          "xref": "x",
          "y0": 0,
          "y1": 1,
          "yref": "y domain"
         },
         {
          "line": {
           "color": "rgba(0,0,0,0.5)",
           "width": 2
          },
          "type": "line",
          "x0": 544,
          "x1": 544,
          "xref": "x",
          "y0": 0,
          "y1": 1,
          "yref": "y domain"
         },
         {
          "line": {
           "color": "rgba(0,0,0,0.5)",
           "width": 2
          },
          "type": "line",
          "x0": 545,
          "x1": 545,
          "xref": "x",
          "y0": 0,
          "y1": 1,
          "yref": "y domain"
         },
         {
          "line": {
           "color": "rgba(0,0,0,0.5)",
           "width": 2
          },
          "type": "line",
          "x0": 546,
          "x1": 546,
          "xref": "x",
          "y0": 0,
          "y1": 1,
          "yref": "y domain"
         },
         {
          "line": {
           "color": "rgba(0,0,0,0.5)",
           "width": 2
          },
          "type": "line",
          "x0": 550,
          "x1": 550,
          "xref": "x",
          "y0": 0,
          "y1": 1,
          "yref": "y domain"
         },
         {
          "line": {
           "color": "rgba(0,0,0,0.5)",
           "width": 2
          },
          "type": "line",
          "x0": 551,
          "x1": 551,
          "xref": "x",
          "y0": 0,
          "y1": 1,
          "yref": "y domain"
         },
         {
          "line": {
           "color": "rgba(0,0,0,0.5)",
           "width": 2
          },
          "type": "line",
          "x0": 552,
          "x1": 552,
          "xref": "x",
          "y0": 0,
          "y1": 1,
          "yref": "y domain"
         },
         {
          "line": {
           "color": "rgba(0,0,0,0.5)",
           "width": 2
          },
          "type": "line",
          "x0": 553,
          "x1": 553,
          "xref": "x",
          "y0": 0,
          "y1": 1,
          "yref": "y domain"
         },
         {
          "line": {
           "color": "rgba(0,0,0,0.5)",
           "width": 2
          },
          "type": "line",
          "x0": 554,
          "x1": 554,
          "xref": "x",
          "y0": 0,
          "y1": 1,
          "yref": "y domain"
         },
         {
          "line": {
           "color": "rgba(0,0,0,0.5)",
           "width": 2
          },
          "type": "line",
          "x0": 700,
          "x1": 700,
          "xref": "x",
          "y0": 0,
          "y1": 1,
          "yref": "y domain"
         },
         {
          "line": {
           "color": "rgba(0,0,0,0.5)",
           "width": 2
          },
          "type": "line",
          "x0": 701,
          "x1": 701,
          "xref": "x",
          "y0": 0,
          "y1": 1,
          "yref": "y domain"
         },
         {
          "line": {
           "color": "rgba(0,0,0,0.5)",
           "width": 2
          },
          "type": "line",
          "x0": 702,
          "x1": 702,
          "xref": "x",
          "y0": 0,
          "y1": 1,
          "yref": "y domain"
         },
         {
          "line": {
           "color": "rgba(0,0,0,0.5)",
           "width": 2
          },
          "type": "line",
          "x0": 703,
          "x1": 703,
          "xref": "x",
          "y0": 0,
          "y1": 1,
          "yref": "y domain"
         },
         {
          "line": {
           "color": "rgba(0,0,0,0.5)",
           "width": 2
          },
          "type": "line",
          "x0": 704,
          "x1": 704,
          "xref": "x",
          "y0": 0,
          "y1": 1,
          "yref": "y domain"
         },
         {
          "line": {
           "color": "rgba(0,0,0,0.5)",
           "width": 2
          },
          "type": "line",
          "x0": 705,
          "x1": 705,
          "xref": "x",
          "y0": 0,
          "y1": 1,
          "yref": "y domain"
         },
         {
          "line": {
           "color": "rgba(0,0,0,0.5)",
           "width": 2
          },
          "type": "line",
          "x0": 706,
          "x1": 706,
          "xref": "x",
          "y0": 0,
          "y1": 1,
          "yref": "y domain"
         },
         {
          "line": {
           "color": "rgba(0,0,0,0.5)",
           "width": 2
          },
          "type": "line",
          "x0": 707,
          "x1": 707,
          "xref": "x",
          "y0": 0,
          "y1": 1,
          "yref": "y domain"
         },
         {
          "line": {
           "color": "rgba(0,0,0,0.5)",
           "width": 2
          },
          "type": "line",
          "x0": 708,
          "x1": 708,
          "xref": "x",
          "y0": 0,
          "y1": 1,
          "yref": "y domain"
         },
         {
          "line": {
           "color": "rgba(0,0,0,0.5)",
           "width": 2
          },
          "type": "line",
          "x0": 709,
          "x1": 709,
          "xref": "x",
          "y0": 0,
          "y1": 1,
          "yref": "y domain"
         },
         {
          "line": {
           "color": "rgba(0,0,0,0.5)",
           "width": 2
          },
          "type": "line",
          "x0": 710,
          "x1": 710,
          "xref": "x",
          "y0": 0,
          "y1": 1,
          "yref": "y domain"
         },
         {
          "line": {
           "color": "rgba(0,0,0,0.5)",
           "width": 2
          },
          "type": "line",
          "x0": 711,
          "x1": 711,
          "xref": "x",
          "y0": 0,
          "y1": 1,
          "yref": "y domain"
         },
         {
          "line": {
           "color": "rgba(0,0,0,0.5)",
           "width": 2
          },
          "type": "line",
          "x0": 712,
          "x1": 712,
          "xref": "x",
          "y0": 0,
          "y1": 1,
          "yref": "y domain"
         },
         {
          "line": {
           "color": "rgba(0,0,0,0.5)",
           "width": 2
          },
          "type": "line",
          "x0": 713,
          "x1": 713,
          "xref": "x",
          "y0": 0,
          "y1": 1,
          "yref": "y domain"
         },
         {
          "line": {
           "color": "rgba(0,0,0,0.5)",
           "width": 2
          },
          "type": "line",
          "x0": 793,
          "x1": 793,
          "xref": "x",
          "y0": 0,
          "y1": 1,
          "yref": "y domain"
         },
         {
          "line": {
           "color": "rgba(0,0,0,0.5)",
           "width": 2
          },
          "type": "line",
          "x0": 794,
          "x1": 794,
          "xref": "x",
          "y0": 0,
          "y1": 1,
          "yref": "y domain"
         },
         {
          "line": {
           "color": "rgba(0,0,0,0.5)",
           "width": 2
          },
          "type": "line",
          "x0": 795,
          "x1": 795,
          "xref": "x",
          "y0": 0,
          "y1": 1,
          "yref": "y domain"
         },
         {
          "line": {
           "color": "rgba(0,0,0,0.5)",
           "width": 2
          },
          "type": "line",
          "x0": 796,
          "x1": 796,
          "xref": "x",
          "y0": 0,
          "y1": 1,
          "yref": "y domain"
         },
         {
          "line": {
           "color": "rgba(0,0,0,0.5)",
           "width": 2
          },
          "type": "line",
          "x0": 797,
          "x1": 797,
          "xref": "x",
          "y0": 0,
          "y1": 1,
          "yref": "y domain"
         },
         {
          "line": {
           "color": "rgba(0,0,0,0.5)",
           "width": 2
          },
          "type": "line",
          "x0": 798,
          "x1": 798,
          "xref": "x",
          "y0": 0,
          "y1": 1,
          "yref": "y domain"
         },
         {
          "line": {
           "color": "rgba(0,0,0,0.5)",
           "width": 2
          },
          "type": "line",
          "x0": 799,
          "x1": 799,
          "xref": "x",
          "y0": 0,
          "y1": 1,
          "yref": "y domain"
         },
         {
          "line": {
           "color": "rgba(0,0,0,0.5)",
           "width": 2
          },
          "type": "line",
          "x0": 800,
          "x1": 800,
          "xref": "x",
          "y0": 0,
          "y1": 1,
          "yref": "y domain"
         }
        ],
        "template": {
         "data": {
          "bar": [
           {
            "error_x": {
             "color": "#2a3f5f"
            },
            "error_y": {
             "color": "#2a3f5f"
            },
            "marker": {
             "line": {
              "color": "#E5ECF6",
              "width": 0.5
             },
             "pattern": {
              "fillmode": "overlay",
              "size": 10,
              "solidity": 0.2
             }
            },
            "type": "bar"
           }
          ],
          "barpolar": [
           {
            "marker": {
             "line": {
              "color": "#E5ECF6",
              "width": 0.5
             },
             "pattern": {
              "fillmode": "overlay",
              "size": 10,
              "solidity": 0.2
             }
            },
            "type": "barpolar"
           }
          ],
          "carpet": [
           {
            "aaxis": {
             "endlinecolor": "#2a3f5f",
             "gridcolor": "white",
             "linecolor": "white",
             "minorgridcolor": "white",
             "startlinecolor": "#2a3f5f"
            },
            "baxis": {
             "endlinecolor": "#2a3f5f",
             "gridcolor": "white",
             "linecolor": "white",
             "minorgridcolor": "white",
             "startlinecolor": "#2a3f5f"
            },
            "type": "carpet"
           }
          ],
          "choropleth": [
           {
            "colorbar": {
             "outlinewidth": 0,
             "ticks": ""
            },
            "type": "choropleth"
           }
          ],
          "contour": [
           {
            "colorbar": {
             "outlinewidth": 0,
             "ticks": ""
            },
            "colorscale": [
             [
              0,
              "#0d0887"
             ],
             [
              0.1111111111111111,
              "#46039f"
             ],
             [
              0.2222222222222222,
              "#7201a8"
             ],
             [
              0.3333333333333333,
              "#9c179e"
             ],
             [
              0.4444444444444444,
              "#bd3786"
             ],
             [
              0.5555555555555556,
              "#d8576b"
             ],
             [
              0.6666666666666666,
              "#ed7953"
             ],
             [
              0.7777777777777778,
              "#fb9f3a"
             ],
             [
              0.8888888888888888,
              "#fdca26"
             ],
             [
              1,
              "#f0f921"
             ]
            ],
            "type": "contour"
           }
          ],
          "contourcarpet": [
           {
            "colorbar": {
             "outlinewidth": 0,
             "ticks": ""
            },
            "type": "contourcarpet"
           }
          ],
          "heatmap": [
           {
            "colorbar": {
             "outlinewidth": 0,
             "ticks": ""
            },
            "colorscale": [
             [
              0,
              "#0d0887"
             ],
             [
              0.1111111111111111,
              "#46039f"
             ],
             [
              0.2222222222222222,
              "#7201a8"
             ],
             [
              0.3333333333333333,
              "#9c179e"
             ],
             [
              0.4444444444444444,
              "#bd3786"
             ],
             [
              0.5555555555555556,
              "#d8576b"
             ],
             [
              0.6666666666666666,
              "#ed7953"
             ],
             [
              0.7777777777777778,
              "#fb9f3a"
             ],
             [
              0.8888888888888888,
              "#fdca26"
             ],
             [
              1,
              "#f0f921"
             ]
            ],
            "type": "heatmap"
           }
          ],
          "histogram": [
           {
            "marker": {
             "pattern": {
              "fillmode": "overlay",
              "size": 10,
              "solidity": 0.2
             }
            },
            "type": "histogram"
           }
          ],
          "histogram2d": [
           {
            "colorbar": {
             "outlinewidth": 0,
             "ticks": ""
            },
            "colorscale": [
             [
              0,
              "#0d0887"
             ],
             [
              0.1111111111111111,
              "#46039f"
             ],
             [
              0.2222222222222222,
              "#7201a8"
             ],
             [
              0.3333333333333333,
              "#9c179e"
             ],
             [
              0.4444444444444444,
              "#bd3786"
             ],
             [
              0.5555555555555556,
              "#d8576b"
             ],
             [
              0.6666666666666666,
              "#ed7953"
             ],
             [
              0.7777777777777778,
              "#fb9f3a"
             ],
             [
              0.8888888888888888,
              "#fdca26"
             ],
             [
              1,
              "#f0f921"
             ]
            ],
            "type": "histogram2d"
           }
          ],
          "histogram2dcontour": [
           {
            "colorbar": {
             "outlinewidth": 0,
             "ticks": ""
            },
            "colorscale": [
             [
              0,
              "#0d0887"
             ],
             [
              0.1111111111111111,
              "#46039f"
             ],
             [
              0.2222222222222222,
              "#7201a8"
             ],
             [
              0.3333333333333333,
              "#9c179e"
             ],
             [
              0.4444444444444444,
              "#bd3786"
             ],
             [
              0.5555555555555556,
              "#d8576b"
             ],
             [
              0.6666666666666666,
              "#ed7953"
             ],
             [
              0.7777777777777778,
              "#fb9f3a"
             ],
             [
              0.8888888888888888,
              "#fdca26"
             ],
             [
              1,
              "#f0f921"
             ]
            ],
            "type": "histogram2dcontour"
           }
          ],
          "mesh3d": [
           {
            "colorbar": {
             "outlinewidth": 0,
             "ticks": ""
            },
            "type": "mesh3d"
           }
          ],
          "parcoords": [
           {
            "line": {
             "colorbar": {
              "outlinewidth": 0,
              "ticks": ""
             }
            },
            "type": "parcoords"
           }
          ],
          "pie": [
           {
            "automargin": true,
            "type": "pie"
           }
          ],
          "scatter": [
           {
            "fillpattern": {
             "fillmode": "overlay",
             "size": 10,
             "solidity": 0.2
            },
            "type": "scatter"
           }
          ],
          "scatter3d": [
           {
            "line": {
             "colorbar": {
              "outlinewidth": 0,
              "ticks": ""
             }
            },
            "marker": {
             "colorbar": {
              "outlinewidth": 0,
              "ticks": ""
             }
            },
            "type": "scatter3d"
           }
          ],
          "scattercarpet": [
           {
            "marker": {
             "colorbar": {
              "outlinewidth": 0,
              "ticks": ""
             }
            },
            "type": "scattercarpet"
           }
          ],
          "scattergeo": [
           {
            "marker": {
             "colorbar": {
              "outlinewidth": 0,
              "ticks": ""
             }
            },
            "type": "scattergeo"
           }
          ],
          "scattergl": [
           {
            "marker": {
             "colorbar": {
              "outlinewidth": 0,
              "ticks": ""
             }
            },
            "type": "scattergl"
           }
          ],
          "scattermap": [
           {
            "marker": {
             "colorbar": {
              "outlinewidth": 0,
              "ticks": ""
             }
            },
            "type": "scattermap"
           }
          ],
          "scattermapbox": [
           {
            "marker": {
             "colorbar": {
              "outlinewidth": 0,
              "ticks": ""
             }
            },
            "type": "scattermapbox"
           }
          ],
          "scatterpolar": [
           {
            "marker": {
             "colorbar": {
              "outlinewidth": 0,
              "ticks": ""
             }
            },
            "type": "scatterpolar"
           }
          ],
          "scatterpolargl": [
           {
            "marker": {
             "colorbar": {
              "outlinewidth": 0,
              "ticks": ""
             }
            },
            "type": "scatterpolargl"
           }
          ],
          "scatterternary": [
           {
            "marker": {
             "colorbar": {
              "outlinewidth": 0,
              "ticks": ""
             }
            },
            "type": "scatterternary"
           }
          ],
          "surface": [
           {
            "colorbar": {
             "outlinewidth": 0,
             "ticks": ""
            },
            "colorscale": [
             [
              0,
              "#0d0887"
             ],
             [
              0.1111111111111111,
              "#46039f"
             ],
             [
              0.2222222222222222,
              "#7201a8"
             ],
             [
              0.3333333333333333,
              "#9c179e"
             ],
             [
              0.4444444444444444,
              "#bd3786"
             ],
             [
              0.5555555555555556,
              "#d8576b"
             ],
             [
              0.6666666666666666,
              "#ed7953"
             ],
             [
              0.7777777777777778,
              "#fb9f3a"
             ],
             [
              0.8888888888888888,
              "#fdca26"
             ],
             [
              1,
              "#f0f921"
             ]
            ],
            "type": "surface"
           }
          ],
          "table": [
           {
            "cells": {
             "fill": {
              "color": "#EBF0F8"
             },
             "line": {
              "color": "white"
             }
            },
            "header": {
             "fill": {
              "color": "#C8D4E3"
             },
             "line": {
              "color": "white"
             }
            },
            "type": "table"
           }
          ]
         },
         "layout": {
          "annotationdefaults": {
           "arrowcolor": "#2a3f5f",
           "arrowhead": 0,
           "arrowwidth": 1
          },
          "autotypenumbers": "strict",
          "coloraxis": {
           "colorbar": {
            "outlinewidth": 0,
            "ticks": ""
           }
          },
          "colorscale": {
           "diverging": [
            [
             0,
             "#8e0152"
            ],
            [
             0.1,
             "#c51b7d"
            ],
            [
             0.2,
             "#de77ae"
            ],
            [
             0.3,
             "#f1b6da"
            ],
            [
             0.4,
             "#fde0ef"
            ],
            [
             0.5,
             "#f7f7f7"
            ],
            [
             0.6,
             "#e6f5d0"
            ],
            [
             0.7,
             "#b8e186"
            ],
            [
             0.8,
             "#7fbc41"
            ],
            [
             0.9,
             "#4d9221"
            ],
            [
             1,
             "#276419"
            ]
           ],
           "sequential": [
            [
             0,
             "#0d0887"
            ],
            [
             0.1111111111111111,
             "#46039f"
            ],
            [
             0.2222222222222222,
             "#7201a8"
            ],
            [
             0.3333333333333333,
             "#9c179e"
            ],
            [
             0.4444444444444444,
             "#bd3786"
            ],
            [
             0.5555555555555556,
             "#d8576b"
            ],
            [
             0.6666666666666666,
             "#ed7953"
            ],
            [
             0.7777777777777778,
             "#fb9f3a"
            ],
            [
             0.8888888888888888,
             "#fdca26"
            ],
            [
             1,
             "#f0f921"
            ]
           ],
           "sequentialminus": [
            [
             0,
             "#0d0887"
            ],
            [
             0.1111111111111111,
             "#46039f"
            ],
            [
             0.2222222222222222,
             "#7201a8"
            ],
            [
             0.3333333333333333,
             "#9c179e"
            ],
            [
             0.4444444444444444,
             "#bd3786"
            ],
            [
             0.5555555555555556,
             "#d8576b"
            ],
            [
             0.6666666666666666,
             "#ed7953"
            ],
            [
             0.7777777777777778,
             "#fb9f3a"
            ],
            [
             0.8888888888888888,
             "#fdca26"
            ],
            [
             1,
             "#f0f921"
            ]
           ]
          },
          "colorway": [
           "#636efa",
           "#EF553B",
           "#00cc96",
           "#ab63fa",
           "#FFA15A",
           "#19d3f3",
           "#FF6692",
           "#B6E880",
           "#FF97FF",
           "#FECB52"
          ],
          "font": {
           "color": "#2a3f5f"
          },
          "geo": {
           "bgcolor": "white",
           "lakecolor": "white",
           "landcolor": "#E5ECF6",
           "showlakes": true,
           "showland": true,
           "subunitcolor": "white"
          },
          "hoverlabel": {
           "align": "left"
          },
          "hovermode": "closest",
          "mapbox": {
           "style": "light"
          },
          "paper_bgcolor": "white",
          "plot_bgcolor": "#E5ECF6",
          "polar": {
           "angularaxis": {
            "gridcolor": "white",
            "linecolor": "white",
            "ticks": ""
           },
           "bgcolor": "#E5ECF6",
           "radialaxis": {
            "gridcolor": "white",
            "linecolor": "white",
            "ticks": ""
           }
          },
          "scene": {
           "xaxis": {
            "backgroundcolor": "#E5ECF6",
            "gridcolor": "white",
            "gridwidth": 2,
            "linecolor": "white",
            "showbackground": true,
            "ticks": "",
            "zerolinecolor": "white"
           },
           "yaxis": {
            "backgroundcolor": "#E5ECF6",
            "gridcolor": "white",
            "gridwidth": 2,
            "linecolor": "white",
            "showbackground": true,
            "ticks": "",
            "zerolinecolor": "white"
           },
           "zaxis": {
            "backgroundcolor": "#E5ECF6",
            "gridcolor": "white",
            "gridwidth": 2,
            "linecolor": "white",
            "showbackground": true,
            "ticks": "",
            "zerolinecolor": "white"
           }
          },
          "shapedefaults": {
           "line": {
            "color": "#2a3f5f"
           }
          },
          "ternary": {
           "aaxis": {
            "gridcolor": "white",
            "linecolor": "white",
            "ticks": ""
           },
           "baxis": {
            "gridcolor": "white",
            "linecolor": "white",
            "ticks": ""
           },
           "bgcolor": "#E5ECF6",
           "caxis": {
            "gridcolor": "white",
            "linecolor": "white",
            "ticks": ""
           }
          },
          "title": {
           "x": 0.05
          },
          "xaxis": {
           "automargin": true,
           "gridcolor": "white",
           "linecolor": "white",
           "ticks": "",
           "title": {
            "standoff": 15
           },
           "zerolinecolor": "white",
           "zerolinewidth": 2
          },
          "yaxis": {
           "automargin": true,
           "gridcolor": "white",
           "linecolor": "white",
           "ticks": "",
           "title": {
            "standoff": 15
           },
           "zerolinecolor": "white",
           "zerolinewidth": 2
          }
         }
        },
        "title": {
         "font": {
          "size": 26
         },
         "pad": {
          "b": 10,
          "t": 10
         },
         "text": "Pressure per Cycle with Failure events",
         "x": 0.5,
         "xanchor": "center",
         "y": 0.94,
         "yanchor": "top"
        },
        "xaxis": {
         "anchor": "y",
         "domain": [
          0,
          1
         ],
         "title": {
          "text": "Cycle"
         }
        },
        "yaxis": {
         "anchor": "x",
         "domain": [
          0,
          1
         ],
         "range": [
          0,
          208.99524920390536
         ],
         "title": {
          "text": "Pressure"
         }
        }
       }
      }
     },
     "metadata": {},
     "output_type": "display_data"
    },
    {
     "data": {
      "application/vnd.plotly.v1+json": {
       "config": {
        "plotlyServerURL": "https://plot.ly"
       },
       "data": [
        {
         "hovertemplate": "Cycle=%{x}<br>VibrationX=%{y}<extra></extra>",
         "legendgroup": "",
         "line": {
          "color": "royalblue",
          "dash": "solid",
          "width": 2
         },
         "marker": {
          "symbol": "circle"
         },
         "mode": "lines",
         "name": "VibrationX",
         "orientation": "v",
         "showlegend": true,
         "type": "scatter",
         "x": {
          "bdata": "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",
          "dtype": "i2"
         },
         "xaxis": "x",
         "y": {
          "bdata": "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",
          "dtype": "f8"
         },
         "yaxis": "y"
        },
        {
         "line": {
          "color": "rgba(0,0,0,0.5)",
          "width": 1
         },
         "mode": "lines",
         "name": "Failure events",
         "type": "scatter",
         "x": [
          null
         ],
         "y": [
          null
         ]
        }
       ],
       "layout": {
        "legend": {
         "tracegroupgap": 0
        },
        "margin": {
         "b": 50,
         "l": 60,
         "r": 40,
         "t": 120
        },
        "shapes": [
         {
          "line": {
           "color": "rgba(0,0,0,0.5)",
           "width": 2
          },
          "type": "line",
          "x0": 13,
          "x1": 13,
          "xref": "x",
          "y0": 0,
          "y1": 1,
          "yref": "y domain"
         },
         {
          "line": {
           "color": "rgba(0,0,0,0.5)",
           "width": 2
          },
          "type": "line",
          "x0": 157,
          "x1": 157,
          "xref": "x",
          "y0": 0,
          "y1": 1,
          "yref": "y domain"
         },
         {
          "line": {
           "color": "rgba(0,0,0,0.5)",
           "width": 2
          },
          "type": "line",
          "x0": 158,
          "x1": 158,
          "xref": "x",
          "y0": 0,
          "y1": 1,
          "yref": "y domain"
         },
         {
          "line": {
           "color": "rgba(0,0,0,0.5)",
           "width": 2
          },
          "type": "line",
          "x0": 159,
          "x1": 159,
          "xref": "x",
          "y0": 0,
          "y1": 1,
          "yref": "y domain"
         },
         {
          "line": {
           "color": "rgba(0,0,0,0.5)",
           "width": 2
          },
          "type": "line",
          "x0": 163,
          "x1": 163,
          "xref": "x",
          "y0": 0,
          "y1": 1,
          "yref": "y domain"
         },
         {
          "line": {
           "color": "rgba(0,0,0,0.5)",
           "width": 2
          },
          "type": "line",
          "x0": 164,
          "x1": 164,
          "xref": "x",
          "y0": 0,
          "y1": 1,
          "yref": "y domain"
         },
         {
          "line": {
           "color": "rgba(0,0,0,0.5)",
           "width": 2
          },
          "type": "line",
          "x0": 165,
          "x1": 165,
          "xref": "x",
          "y0": 0,
          "y1": 1,
          "yref": "y domain"
         },
         {
          "line": {
           "color": "rgba(0,0,0,0.5)",
           "width": 2
          },
          "type": "line",
          "x0": 263,
          "x1": 263,
          "xref": "x",
          "y0": 0,
          "y1": 1,
          "yref": "y domain"
         },
         {
          "line": {
           "color": "rgba(0,0,0,0.5)",
           "width": 2
          },
          "type": "line",
          "x0": 264,
          "x1": 264,
          "xref": "x",
          "y0": 0,
          "y1": 1,
          "yref": "y domain"
         },
         {
          "line": {
           "color": "rgba(0,0,0,0.5)",
           "width": 2
          },
          "type": "line",
          "x0": 265,
          "x1": 265,
          "xref": "x",
          "y0": 0,
          "y1": 1,
          "yref": "y domain"
         },
         {
          "line": {
           "color": "rgba(0,0,0,0.5)",
           "width": 2
          },
          "type": "line",
          "x0": 270,
          "x1": 270,
          "xref": "x",
          "y0": 0,
          "y1": 1,
          "yref": "y domain"
         },
         {
          "line": {
           "color": "rgba(0,0,0,0.5)",
           "width": 2
          },
          "type": "line",
          "x0": 271,
          "x1": 271,
          "xref": "x",
          "y0": 0,
          "y1": 1,
          "yref": "y domain"
         },
         {
          "line": {
           "color": "rgba(0,0,0,0.5)",
           "width": 2
          },
          "type": "line",
          "x0": 415,
          "x1": 415,
          "xref": "x",
          "y0": 0,
          "y1": 1,
          "yref": "y domain"
         },
         {
          "line": {
           "color": "rgba(0,0,0,0.5)",
           "width": 2
          },
          "type": "line",
          "x0": 416,
          "x1": 416,
          "xref": "x",
          "y0": 0,
          "y1": 1,
          "yref": "y domain"
         },
         {
          "line": {
           "color": "rgba(0,0,0,0.5)",
           "width": 2
          },
          "type": "line",
          "x0": 417,
          "x1": 417,
          "xref": "x",
          "y0": 0,
          "y1": 1,
          "yref": "y domain"
         },
         {
          "line": {
           "color": "rgba(0,0,0,0.5)",
           "width": 2
          },
          "type": "line",
          "x0": 418,
          "x1": 418,
          "xref": "x",
          "y0": 0,
          "y1": 1,
          "yref": "y domain"
         },
         {
          "line": {
           "color": "rgba(0,0,0,0.5)",
           "width": 2
          },
          "type": "line",
          "x0": 419,
          "x1": 419,
          "xref": "x",
          "y0": 0,
          "y1": 1,
          "yref": "y domain"
         },
         {
          "line": {
           "color": "rgba(0,0,0,0.5)",
           "width": 2
          },
          "type": "line",
          "x0": 420,
          "x1": 420,
          "xref": "x",
          "y0": 0,
          "y1": 1,
          "yref": "y domain"
         },
         {
          "line": {
           "color": "rgba(0,0,0,0.5)",
           "width": 2
          },
          "type": "line",
          "x0": 421,
          "x1": 421,
          "xref": "x",
          "y0": 0,
          "y1": 1,
          "yref": "y domain"
         },
         {
          "line": {
           "color": "rgba(0,0,0,0.5)",
           "width": 2
          },
          "type": "line",
          "x0": 422,
          "x1": 422,
          "xref": "x",
          "y0": 0,
          "y1": 1,
          "yref": "y domain"
         },
         {
          "line": {
           "color": "rgba(0,0,0,0.5)",
           "width": 2
          },
          "type": "line",
          "x0": 423,
          "x1": 423,
          "xref": "x",
          "y0": 0,
          "y1": 1,
          "yref": "y domain"
         },
         {
          "line": {
           "color": "rgba(0,0,0,0.5)",
           "width": 2
          },
          "type": "line",
          "x0": 424,
          "x1": 424,
          "xref": "x",
          "y0": 0,
          "y1": 1,
          "yref": "y domain"
         },
         {
          "line": {
           "color": "rgba(0,0,0,0.5)",
           "width": 2
          },
          "type": "line",
          "x0": 425,
          "x1": 425,
          "xref": "x",
          "y0": 0,
          "y1": 1,
          "yref": "y domain"
         },
         {
          "line": {
           "color": "rgba(0,0,0,0.5)",
           "width": 2
          },
          "type": "line",
          "x0": 426,
          "x1": 426,
          "xref": "x",
          "y0": 0,
          "y1": 1,
          "yref": "y domain"
         },
         {
          "line": {
           "color": "rgba(0,0,0,0.5)",
           "width": 2
          },
          "type": "line",
          "x0": 427,
          "x1": 427,
          "xref": "x",
          "y0": 0,
          "y1": 1,
          "yref": "y domain"
         },
         {
          "line": {
           "color": "rgba(0,0,0,0.5)",
           "width": 2
          },
          "type": "line",
          "x0": 428,
          "x1": 428,
          "xref": "x",
          "y0": 0,
          "y1": 1,
          "yref": "y domain"
         },
         {
          "line": {
           "color": "rgba(0,0,0,0.5)",
           "width": 2
          },
          "type": "line",
          "x0": 429,
          "x1": 429,
          "xref": "x",
          "y0": 0,
          "y1": 1,
          "yref": "y domain"
         },
         {
          "line": {
           "color": "rgba(0,0,0,0.5)",
           "width": 2
          },
          "type": "line",
          "x0": 430,
          "x1": 430,
          "xref": "x",
          "y0": 0,
          "y1": 1,
          "yref": "y domain"
         },
         {
          "line": {
           "color": "rgba(0,0,0,0.5)",
           "width": 2
          },
          "type": "line",
          "x0": 431,
          "x1": 431,
          "xref": "x",
          "y0": 0,
          "y1": 1,
          "yref": "y domain"
         },
         {
          "line": {
           "color": "rgba(0,0,0,0.5)",
           "width": 2
          },
          "type": "line",
          "x0": 432,
          "x1": 432,
          "xref": "x",
          "y0": 0,
          "y1": 1,
          "yref": "y domain"
         },
         {
          "line": {
           "color": "rgba(0,0,0,0.5)",
           "width": 2
          },
          "type": "line",
          "x0": 538,
          "x1": 538,
          "xref": "x",
          "y0": 0,
          "y1": 1,
          "yref": "y domain"
         },
         {
          "line": {
           "color": "rgba(0,0,0,0.5)",
           "width": 2
          },
          "type": "line",
          "x0": 539,
          "x1": 539,
          "xref": "x",
          "y0": 0,
          "y1": 1,
          "yref": "y domain"
         },
         {
          "line": {
           "color": "rgba(0,0,0,0.5)",
           "width": 2
          },
          "type": "line",
          "x0": 540,
          "x1": 540,
          "xref": "x",
          "y0": 0,
          "y1": 1,
          "yref": "y domain"
         },
         {
          "line": {
           "color": "rgba(0,0,0,0.5)",
           "width": 2
          },
          "type": "line",
          "x0": 541,
          "x1": 541,
          "xref": "x",
          "y0": 0,
          "y1": 1,
          "yref": "y domain"
         },
         {
          "line": {
           "color": "rgba(0,0,0,0.5)",
           "width": 2
          },
          "type": "line",
          "x0": 542,
          "x1": 542,
          "xref": "x",
          "y0": 0,
          "y1": 1,
          "yref": "y domain"
         },
         {
          "line": {
           "color": "rgba(0,0,0,0.5)",
           "width": 2
          },
          "type": "line",
          "x0": 543,
          "x1": 543,
          "xref": "x",
          "y0": 0,
          "y1": 1,
          "yref": "y domain"
         },
         {
          "line": {
           "color": "rgba(0,0,0,0.5)",
           "width": 2
          },
          "type": "line",
          "x0": 544,
          "x1": 544,
          "xref": "x",
          "y0": 0,
          "y1": 1,
          "yref": "y domain"
         },
         {
          "line": {
           "color": "rgba(0,0,0,0.5)",
           "width": 2
          },
          "type": "line",
          "x0": 545,
          "x1": 545,
          "xref": "x",
          "y0": 0,
          "y1": 1,
          "yref": "y domain"
         },
         {
          "line": {
           "color": "rgba(0,0,0,0.5)",
           "width": 2
          },
          "type": "line",
          "x0": 546,
          "x1": 546,
          "xref": "x",
          "y0": 0,
          "y1": 1,
          "yref": "y domain"
         },
         {
          "line": {
           "color": "rgba(0,0,0,0.5)",
           "width": 2
          },
          "type": "line",
          "x0": 550,
          "x1": 550,
          "xref": "x",
          "y0": 0,
          "y1": 1,
          "yref": "y domain"
         },
         {
          "line": {
           "color": "rgba(0,0,0,0.5)",
           "width": 2
          },
          "type": "line",
          "x0": 551,
          "x1": 551,
          "xref": "x",
          "y0": 0,
          "y1": 1,
          "yref": "y domain"
         },
         {
          "line": {
           "color": "rgba(0,0,0,0.5)",
           "width": 2
          },
          "type": "line",
          "x0": 552,
          "x1": 552,
          "xref": "x",
          "y0": 0,
          "y1": 1,
          "yref": "y domain"
         },
         {
          "line": {
           "color": "rgba(0,0,0,0.5)",
           "width": 2
          },
          "type": "line",
          "x0": 553,
          "x1": 553,
          "xref": "x",
          "y0": 0,
          "y1": 1,
          "yref": "y domain"
         },
         {
          "line": {
           "color": "rgba(0,0,0,0.5)",
           "width": 2
          },
          "type": "line",
          "x0": 554,
          "x1": 554,
          "xref": "x",
          "y0": 0,
          "y1": 1,
          "yref": "y domain"
         },
         {
          "line": {
           "color": "rgba(0,0,0,0.5)",
           "width": 2
          },
          "type": "line",
          "x0": 700,
          "x1": 700,
          "xref": "x",
          "y0": 0,
          "y1": 1,
          "yref": "y domain"
         },
         {
          "line": {
           "color": "rgba(0,0,0,0.5)",
           "width": 2
          },
          "type": "line",
          "x0": 701,
          "x1": 701,
          "xref": "x",
          "y0": 0,
          "y1": 1,
          "yref": "y domain"
         },
         {
          "line": {
           "color": "rgba(0,0,0,0.5)",
           "width": 2
          },
          "type": "line",
          "x0": 702,
          "x1": 702,
          "xref": "x",
          "y0": 0,
          "y1": 1,
          "yref": "y domain"
         },
         {
          "line": {
           "color": "rgba(0,0,0,0.5)",
           "width": 2
          },
          "type": "line",
          "x0": 703,
          "x1": 703,
          "xref": "x",
          "y0": 0,
          "y1": 1,
          "yref": "y domain"
         },
         {
          "line": {
           "color": "rgba(0,0,0,0.5)",
           "width": 2
          },
          "type": "line",
          "x0": 704,
          "x1": 704,
          "xref": "x",
          "y0": 0,
          "y1": 1,
          "yref": "y domain"
         },
         {
          "line": {
           "color": "rgba(0,0,0,0.5)",
           "width": 2
          },
          "type": "line",
          "x0": 705,
          "x1": 705,
          "xref": "x",
          "y0": 0,
          "y1": 1,
          "yref": "y domain"
         },
         {
          "line": {
           "color": "rgba(0,0,0,0.5)",
           "width": 2
          },
          "type": "line",
          "x0": 706,
          "x1": 706,
          "xref": "x",
          "y0": 0,
          "y1": 1,
          "yref": "y domain"
         },
         {
          "line": {
           "color": "rgba(0,0,0,0.5)",
           "width": 2
          },
          "type": "line",
          "x0": 707,
          "x1": 707,
          "xref": "x",
          "y0": 0,
          "y1": 1,
          "yref": "y domain"
         },
         {
          "line": {
           "color": "rgba(0,0,0,0.5)",
           "width": 2
          },
          "type": "line",
          "x0": 708,
          "x1": 708,
          "xref": "x",
          "y0": 0,
          "y1": 1,
          "yref": "y domain"
         },
         {
          "line": {
           "color": "rgba(0,0,0,0.5)",
           "width": 2
          },
          "type": "line",
          "x0": 709,
          "x1": 709,
          "xref": "x",
          "y0": 0,
          "y1": 1,
          "yref": "y domain"
         },
         {
          "line": {
           "color": "rgba(0,0,0,0.5)",
           "width": 2
          },
          "type": "line",
          "x0": 710,
          "x1": 710,
          "xref": "x",
          "y0": 0,
          "y1": 1,
          "yref": "y domain"
         },
         {
          "line": {
           "color": "rgba(0,0,0,0.5)",
           "width": 2
          },
          "type": "line",
          "x0": 711,
          "x1": 711,
          "xref": "x",
          "y0": 0,
          "y1": 1,
          "yref": "y domain"
         },
         {
          "line": {
           "color": "rgba(0,0,0,0.5)",
           "width": 2
          },
          "type": "line",
          "x0": 712,
          "x1": 712,
          "xref": "x",
          "y0": 0,
          "y1": 1,
          "yref": "y domain"
         },
         {
          "line": {
           "color": "rgba(0,0,0,0.5)",
           "width": 2
          },
          "type": "line",
          "x0": 713,
          "x1": 713,
          "xref": "x",
          "y0": 0,
          "y1": 1,
          "yref": "y domain"
         },
         {
          "line": {
           "color": "rgba(0,0,0,0.5)",
           "width": 2
          },
          "type": "line",
          "x0": 793,
          "x1": 793,
          "xref": "x",
          "y0": 0,
          "y1": 1,
          "yref": "y domain"
         },
         {
          "line": {
           "color": "rgba(0,0,0,0.5)",
           "width": 2
          },
          "type": "line",
          "x0": 794,
          "x1": 794,
          "xref": "x",
          "y0": 0,
          "y1": 1,
          "yref": "y domain"
         },
         {
          "line": {
           "color": "rgba(0,0,0,0.5)",
           "width": 2
          },
          "type": "line",
          "x0": 795,
          "x1": 795,
          "xref": "x",
          "y0": 0,
          "y1": 1,
          "yref": "y domain"
         },
         {
          "line": {
           "color": "rgba(0,0,0,0.5)",
           "width": 2
          },
          "type": "line",
          "x0": 796,
          "x1": 796,
          "xref": "x",
          "y0": 0,
          "y1": 1,
          "yref": "y domain"
         },
         {
          "line": {
           "color": "rgba(0,0,0,0.5)",
           "width": 2
          },
          "type": "line",
          "x0": 797,
          "x1": 797,
          "xref": "x",
          "y0": 0,
          "y1": 1,
          "yref": "y domain"
         },
         {
          "line": {
           "color": "rgba(0,0,0,0.5)",
           "width": 2
          },
          "type": "line",
          "x0": 798,
          "x1": 798,
          "xref": "x",
          "y0": 0,
          "y1": 1,
          "yref": "y domain"
         },
         {
          "line": {
           "color": "rgba(0,0,0,0.5)",
           "width": 2
          },
          "type": "line",
          "x0": 799,
          "x1": 799,
          "xref": "x",
          "y0": 0,
          "y1": 1,
          "yref": "y domain"
         },
         {
          "line": {
           "color": "rgba(0,0,0,0.5)",
           "width": 2
          },
          "type": "line",
          "x0": 800,
          "x1": 800,
          "xref": "x",
          "y0": 0,
          "y1": 1,
          "yref": "y domain"
         }
        ],
        "template": {
         "data": {
          "bar": [
           {
            "error_x": {
             "color": "#2a3f5f"
            },
            "error_y": {
             "color": "#2a3f5f"
            },
            "marker": {
             "line": {
              "color": "#E5ECF6",
              "width": 0.5
             },
             "pattern": {
              "fillmode": "overlay",
              "size": 10,
              "solidity": 0.2
             }
            },
            "type": "bar"
           }
          ],
          "barpolar": [
           {
            "marker": {
             "line": {
              "color": "#E5ECF6",
              "width": 0.5
             },
             "pattern": {
              "fillmode": "overlay",
              "size": 10,
              "solidity": 0.2
             }
            },
            "type": "barpolar"
           }
          ],
          "carpet": [
           {
            "aaxis": {
             "endlinecolor": "#2a3f5f",
             "gridcolor": "white",
             "linecolor": "white",
             "minorgridcolor": "white",
             "startlinecolor": "#2a3f5f"
            },
            "baxis": {
             "endlinecolor": "#2a3f5f",
             "gridcolor": "white",
             "linecolor": "white",
             "minorgridcolor": "white",
             "startlinecolor": "#2a3f5f"
            },
            "type": "carpet"
           }
          ],
          "choropleth": [
           {
            "colorbar": {
             "outlinewidth": 0,
             "ticks": ""
            },
            "type": "choropleth"
           }
          ],
          "contour": [
           {
            "colorbar": {
             "outlinewidth": 0,
             "ticks": ""
            },
            "colorscale": [
             [
              0,
              "#0d0887"
             ],
             [
              0.1111111111111111,
              "#46039f"
             ],
             [
              0.2222222222222222,
              "#7201a8"
             ],
             [
              0.3333333333333333,
              "#9c179e"
             ],
             [
              0.4444444444444444,
              "#bd3786"
             ],
             [
              0.5555555555555556,
              "#d8576b"
             ],
             [
              0.6666666666666666,
              "#ed7953"
             ],
             [
              0.7777777777777778,
              "#fb9f3a"
             ],
             [
              0.8888888888888888,
              "#fdca26"
             ],
             [
              1,
              "#f0f921"
             ]
            ],
            "type": "contour"
           }
          ],
          "contourcarpet": [
           {
            "colorbar": {
             "outlinewidth": 0,
             "ticks": ""
            },
            "type": "contourcarpet"
           }
          ],
          "heatmap": [
           {
            "colorbar": {
             "outlinewidth": 0,
             "ticks": ""
            },
            "colorscale": [
             [
              0,
              "#0d0887"
             ],
             [
              0.1111111111111111,
              "#46039f"
             ],
             [
              0.2222222222222222,
              "#7201a8"
             ],
             [
              0.3333333333333333,
              "#9c179e"
             ],
             [
              0.4444444444444444,
              "#bd3786"
             ],
             [
              0.5555555555555556,
              "#d8576b"
             ],
             [
              0.6666666666666666,
              "#ed7953"
             ],
             [
              0.7777777777777778,
              "#fb9f3a"
             ],
             [
              0.8888888888888888,
              "#fdca26"
             ],
             [
              1,
              "#f0f921"
             ]
            ],
            "type": "heatmap"
           }
          ],
          "histogram": [
           {
            "marker": {
             "pattern": {
              "fillmode": "overlay",
              "size": 10,
              "solidity": 0.2
             }
            },
            "type": "histogram"
           }
          ],
          "histogram2d": [
           {
            "colorbar": {
             "outlinewidth": 0,
             "ticks": ""
            },
            "colorscale": [
             [
              0,
              "#0d0887"
             ],
             [
              0.1111111111111111,
              "#46039f"
             ],
             [
              0.2222222222222222,
              "#7201a8"
             ],
             [
              0.3333333333333333,
              "#9c179e"
             ],
             [
              0.4444444444444444,
              "#bd3786"
             ],
             [
              0.5555555555555556,
              "#d8576b"
             ],
             [
              0.6666666666666666,
              "#ed7953"
             ],
             [
              0.7777777777777778,
              "#fb9f3a"
             ],
             [
              0.8888888888888888,
              "#fdca26"
             ],
             [
              1,
              "#f0f921"
             ]
            ],
            "type": "histogram2d"
           }
          ],
          "histogram2dcontour": [
           {
            "colorbar": {
             "outlinewidth": 0,
             "ticks": ""
            },
            "colorscale": [
             [
              0,
              "#0d0887"
             ],
             [
              0.1111111111111111,
              "#46039f"
             ],
             [
              0.2222222222222222,
              "#7201a8"
             ],
             [
              0.3333333333333333,
              "#9c179e"
             ],
             [
              0.4444444444444444,
              "#bd3786"
             ],
             [
              0.5555555555555556,
              "#d8576b"
             ],
             [
              0.6666666666666666,
              "#ed7953"
             ],
             [
              0.7777777777777778,
              "#fb9f3a"
             ],
             [
              0.8888888888888888,
              "#fdca26"
             ],
             [
              1,
              "#f0f921"
             ]
            ],
            "type": "histogram2dcontour"
           }
          ],
          "mesh3d": [
           {
            "colorbar": {
             "outlinewidth": 0,
             "ticks": ""
            },
            "type": "mesh3d"
           }
          ],
          "parcoords": [
           {
            "line": {
             "colorbar": {
              "outlinewidth": 0,
              "ticks": ""
             }
            },
            "type": "parcoords"
           }
          ],
          "pie": [
           {
            "automargin": true,
            "type": "pie"
           }
          ],
          "scatter": [
           {
            "fillpattern": {
             "fillmode": "overlay",
             "size": 10,
             "solidity": 0.2
            },
            "type": "scatter"
           }
          ],
          "scatter3d": [
           {
            "line": {
             "colorbar": {
              "outlinewidth": 0,
              "ticks": ""
             }
            },
            "marker": {
             "colorbar": {
              "outlinewidth": 0,
              "ticks": ""
             }
            },
            "type": "scatter3d"
           }
          ],
          "scattercarpet": [
           {
            "marker": {
             "colorbar": {
              "outlinewidth": 0,
              "ticks": ""
             }
            },
            "type": "scattercarpet"
           }
          ],
          "scattergeo": [
           {
            "marker": {
             "colorbar": {
              "outlinewidth": 0,
              "ticks": ""
             }
            },
            "type": "scattergeo"
           }
          ],
          "scattergl": [
           {
            "marker": {
             "colorbar": {
              "outlinewidth": 0,
              "ticks": ""
             }
            },
            "type": "scattergl"
           }
          ],
          "scattermap": [
           {
            "marker": {
             "colorbar": {
              "outlinewidth": 0,
              "ticks": ""
             }
            },
            "type": "scattermap"
           }
          ],
          "scattermapbox": [
           {
            "marker": {
             "colorbar": {
              "outlinewidth": 0,
              "ticks": ""
             }
            },
            "type": "scattermapbox"
           }
          ],
          "scatterpolar": [
           {
            "marker": {
             "colorbar": {
              "outlinewidth": 0,
              "ticks": ""
             }
            },
            "type": "scatterpolar"
           }
          ],
          "scatterpolargl": [
           {
            "marker": {
             "colorbar": {
              "outlinewidth": 0,
              "ticks": ""
             }
            },
            "type": "scatterpolargl"
           }
          ],
          "scatterternary": [
           {
            "marker": {
             "colorbar": {
              "outlinewidth": 0,
              "ticks": ""
             }
            },
            "type": "scatterternary"
           }
          ],
          "surface": [
           {
            "colorbar": {
             "outlinewidth": 0,
             "ticks": ""
            },
            "colorscale": [
             [
              0,
              "#0d0887"
             ],
             [
              0.1111111111111111,
              "#46039f"
             ],
             [
              0.2222222222222222,
              "#7201a8"
             ],
             [
              0.3333333333333333,
              "#9c179e"
             ],
             [
              0.4444444444444444,
              "#bd3786"
             ],
             [
              0.5555555555555556,
              "#d8576b"
             ],
             [
              0.6666666666666666,
              "#ed7953"
             ],
             [
              0.7777777777777778,
              "#fb9f3a"
             ],
             [
              0.8888888888888888,
              "#fdca26"
             ],
             [
              1,
              "#f0f921"
             ]
            ],
            "type": "surface"
           }
          ],
          "table": [
           {
            "cells": {
             "fill": {
              "color": "#EBF0F8"
             },
             "line": {
              "color": "white"
             }
            },
            "header": {
             "fill": {
              "color": "#C8D4E3"
             },
             "line": {
              "color": "white"
             }
            },
            "type": "table"
           }
          ]
         },
         "layout": {
          "annotationdefaults": {
           "arrowcolor": "#2a3f5f",
           "arrowhead": 0,
           "arrowwidth": 1
          },
          "autotypenumbers": "strict",
          "coloraxis": {
           "colorbar": {
            "outlinewidth": 0,
            "ticks": ""
           }
          },
          "colorscale": {
           "diverging": [
            [
             0,
             "#8e0152"
            ],
            [
             0.1,
             "#c51b7d"
            ],
            [
             0.2,
             "#de77ae"
            ],
            [
             0.3,
             "#f1b6da"
            ],
            [
             0.4,
             "#fde0ef"
            ],
            [
             0.5,
             "#f7f7f7"
            ],
            [
             0.6,
             "#e6f5d0"
            ],
            [
             0.7,
             "#b8e186"
            ],
            [
             0.8,
             "#7fbc41"
            ],
            [
             0.9,
             "#4d9221"
            ],
            [
             1,
             "#276419"
            ]
           ],
           "sequential": [
            [
             0,
             "#0d0887"
            ],
            [
             0.1111111111111111,
             "#46039f"
            ],
            [
             0.2222222222222222,
             "#7201a8"
            ],
            [
             0.3333333333333333,
             "#9c179e"
            ],
            [
             0.4444444444444444,
             "#bd3786"
            ],
            [
             0.5555555555555556,
             "#d8576b"
            ],
            [
             0.6666666666666666,
             "#ed7953"
            ],
            [
             0.7777777777777778,
             "#fb9f3a"
            ],
            [
             0.8888888888888888,
             "#fdca26"
            ],
            [
             1,
             "#f0f921"
            ]
           ],
           "sequentialminus": [
            [
             0,
             "#0d0887"
            ],
            [
             0.1111111111111111,
             "#46039f"
            ],
            [
             0.2222222222222222,
             "#7201a8"
            ],
            [
             0.3333333333333333,
             "#9c179e"
            ],
            [
             0.4444444444444444,
             "#bd3786"
            ],
            [
             0.5555555555555556,
             "#d8576b"
            ],
            [
             0.6666666666666666,
             "#ed7953"
            ],
            [
             0.7777777777777778,
             "#fb9f3a"
            ],
            [
             0.8888888888888888,
             "#fdca26"
            ],
            [
             1,
             "#f0f921"
            ]
           ]
          },
          "colorway": [
           "#636efa",
           "#EF553B",
           "#00cc96",
           "#ab63fa",
           "#FFA15A",
           "#19d3f3",
           "#FF6692",
           "#B6E880",
           "#FF97FF",
           "#FECB52"
          ],
          "font": {
           "color": "#2a3f5f"
          },
          "geo": {
           "bgcolor": "white",
           "lakecolor": "white",
           "landcolor": "#E5ECF6",
           "showlakes": true,
           "showland": true,
           "subunitcolor": "white"
          },
          "hoverlabel": {
           "align": "left"
          },
          "hovermode": "closest",
          "mapbox": {
           "style": "light"
          },
          "paper_bgcolor": "white",
          "plot_bgcolor": "#E5ECF6",
          "polar": {
           "angularaxis": {
            "gridcolor": "white",
            "linecolor": "white",
            "ticks": ""
           },
           "bgcolor": "#E5ECF6",
           "radialaxis": {
            "gridcolor": "white",
            "linecolor": "white",
            "ticks": ""
           }
          },
          "scene": {
           "xaxis": {
            "backgroundcolor": "#E5ECF6",
            "gridcolor": "white",
            "gridwidth": 2,
            "linecolor": "white",
            "showbackground": true,
            "ticks": "",
            "zerolinecolor": "white"
           },
           "yaxis": {
            "backgroundcolor": "#E5ECF6",
            "gridcolor": "white",
            "gridwidth": 2,
            "linecolor": "white",
            "showbackground": true,
            "ticks": "",
            "zerolinecolor": "white"
           },
           "zaxis": {
            "backgroundcolor": "#E5ECF6",
            "gridcolor": "white",
            "gridwidth": 2,
            "linecolor": "white",
            "showbackground": true,
            "ticks": "",
            "zerolinecolor": "white"
           }
          },
          "shapedefaults": {
           "line": {
            "color": "#2a3f5f"
           }
          },
          "ternary": {
           "aaxis": {
            "gridcolor": "white",
            "linecolor": "white",
            "ticks": ""
           },
           "baxis": {
            "gridcolor": "white",
            "linecolor": "white",
            "ticks": ""
           },
           "bgcolor": "#E5ECF6",
           "caxis": {
            "gridcolor": "white",
            "linecolor": "white",
            "ticks": ""
           }
          },
          "title": {
           "x": 0.05
          },
          "xaxis": {
           "automargin": true,
           "gridcolor": "white",
           "linecolor": "white",
           "ticks": "",
           "title": {
            "standoff": 15
           },
           "zerolinecolor": "white",
           "zerolinewidth": 2
          },
          "yaxis": {
           "automargin": true,
           "gridcolor": "white",
           "linecolor": "white",
           "ticks": "",
           "title": {
            "standoff": 15
           },
           "zerolinecolor": "white",
           "zerolinewidth": 2
          }
         }
        },
        "title": {
         "font": {
          "size": 26
         },
         "pad": {
          "b": 10,
          "t": 10
         },
         "text": "VibrationX per Cycle with Failure events",
         "x": 0.5,
         "xanchor": "center",
         "y": 0.94,
         "yanchor": "top"
        },
        "xaxis": {
         "anchor": "y",
         "domain": [
          0,
          1
         ],
         "title": {
          "text": "Cycle"
         }
        },
        "yaxis": {
         "anchor": "x",
         "domain": [
          0,
          1
         ],
         "range": [
          0,
          253.94725607064868
         ],
         "title": {
          "text": "VibrationX"
         }
        }
       }
      }
     },
     "metadata": {},
     "output_type": "display_data"
    },
    {
     "data": {
      "application/vnd.plotly.v1+json": {
       "config": {
        "plotlyServerURL": "https://plot.ly"
       },
       "data": [
        {
         "hovertemplate": "Cycle=%{x}<br>VibrationY=%{y}<extra></extra>",
         "legendgroup": "",
         "line": {
          "color": "royalblue",
          "dash": "solid",
          "width": 2
         },
         "marker": {
          "symbol": "circle"
         },
         "mode": "lines",
         "name": "VibrationY",
         "orientation": "v",
         "showlegend": true,
         "type": "scatter",
         "x": {
          "bdata": "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",
          "dtype": "i2"
         },
         "xaxis": "x",
         "y": {
          "bdata": "sR0NO4A0UEACfRE9uS1UQKmybNpHkFhA6EN1akJXXkDo2fE92oROQL9ofGLrp1NAewexg3VrW0DVQHCW519gQLF5+SuN7WNAtTdply3DSECLJtUWDnlQQOGagwvs7FRAJ37uagfQYEDmJhZKOuMxQN96wegYIjlA//blkstMVkB44c9RH6IzQFFKK58fqDlAyDsBIG8GRkAIS/4FEa8sQKHggE8/+EBAF9wsAalNSEA4yZtnnLFRQKm0TZYVx2BAJ7b5Mo2FOEANDcpD0AtJQK2YXObWKEBA9H30BQ+rTkBUhCXBhCRDQOp54m9MNFBA5PBCQYmnSUD2InOyCapWQJz5/Qc/gzRAaeI3ALAmRkBFiTOuAbxDQDGefVXsUktA6AxryR3MUkBzT1+sXcRDQLpPVVRdDUxAX8w0dkRoVUANTDbpx09OQHqGOoGXiFdAjFR+r4g5SUBps7kcSbpUQPX/tujKWUZAcXwpl9JOVUDk0dJcMV8/QJXuxkNqalBAm1gIRPeWUkB4jSEgzgdVQKNLw6pX3VtAdZtgotBrR0DTkTDudsFNQGWDj79/lkRAFaIv9OuFVkCctyqFsixBQF759FqHoEhA8PersmFkRECBa0RQHhtQQH8gSefbRFBAse12UsBzV0C33a+PotRBQHPqyGD+6U1ASoMydNpiUUDRhyg6ge1YQNL1GyHFb0RAlkgN9HkTSUDtDi+3dnpRQFPvZV9AR1pAKKNb42sMXkDiGoj19tpgQO37zlZVBmZAGDJJ6XJUQUCW6kWZ03pJQE7IUYb3UFBACeVErF+zUUBfHnL3Dd1UQJD/K5fpMFlAQjk7hNDcSEDOVrYCt81TQNUOYe9FtD1AWRupSPlZRkBXEsMbnA1LQOYf3pLDNFBAjQtqqi28U0BJjp2c+sJDQMdLo5vfGVlApVRCfdkzYEBA9VG/BthXQL73I9dcN15AH8BV4NTnTUAtwLnWIZ9BQL4tPhtKO05AtrMxlew4RkAxbbUADltRQJoY7TUuLURAhrIZNCL4T0Ckk3qKzStGQLrcPxlmR1VAqtLBHgDbWEAfNSFTQj5cQPL+nCO/7V9AHCjMUfBAZUAMccd13gU+QA+RJEIFu0VAmEv2x4CYUkCsjOnsY/g3QJ8CQ7bWkElANA9Wo9JDS0BgOAqU8RBUQAsGPcfu0U1AMEed+dFRX0DFyNurM91EQCEbtp8XrUhAGQclsCmLQUASvDzNlwBBQJfNQIss80xApRgnKOPJTUDqkkcmVUhVQNBjQdakaT1Acx1kmirKRUBc0pfse59BQDnJGHet6VhASmhr34RJREC3f4pdO89NQLOx0zMOXVFA3OzFi1rHV0AvUBajaFlBQH9T2U+JflBAGW/7mDGgUUCehKscsdZYQMvBOIlqM1lA6vyOpwbKS0CVud84bABdQCDxx1i6WFdARysxEqkSWUCxceYEui1LQAwBQnIXTVBAAuhhUXMFRUAc7YtnOhgtQCP8ygxx1k1AwN9aMbt3UUC90i0yt0ZVQF8szlixlkdAMt7LMog9RkDbr8h3dHZbQAatXG2arFtA9zMCRwFSV0BEuDR/dHFVQKYXy5A7f1ZA4R5+glB2XEB373j0REpLQP57ftvic09AugydSqq7TUCLpADdKohRQL62MucmP1BAos1K+QTVV0D8efzyj+1eQKlmbkjKO19AundYcwV8SEDWDLFdlGxRQOSDKAIkiVhAPdx6AW4yY0CqBK5Y8VxjQMxjCgE9MmhAE/bQ+pnaWECotjYBPQlIQCIAtTxjBE9ARYVacbmUVEAyOcm2zjhOQNeS5X4L+VNAwNstna0EW0BeJIcFPHhGQOiizDIdP05AGyef2iK8U0Cl3830hvdAQHMxM8nr5kZA0rq1aDlgQkASCwd4dfBSQBS0s7mQ8UNAvM4o8QEkTECGzWpgMtRDQCJFcWLB9U5ANCSui71ZUUDrpJG37aNMQEO+DCV1t1JAQ5UHuNEaQUAmynASv4tGQN/nzPc4tUNAo5NoS68yRED09+1alw1UQGaCyrHfflFADKbCyWmEV0AHM1sDisBPQHltM5zE7lNAg63nYb3XXEDQY2kM2I1kQFp4hQiNglZA6oGLhTMCMkAIJkp5+kRNQEq6Xc7owTxAPpU+iWueVkCOBqi0D81AQBYHKpwuy0ZA21I1IZPZS0Cn/erYaulCQDcQXucaMj5AGaMt2UJZWkCPeY1uIKFSQBdhzJn/7jhAZsuNXWlAUEDFrOV9uDBgQH+RaommiE1ABjJPpWw3VUB2CeB++wZZQPvINkquM1VACWK1f84EUkAoMIhTl6tAQF/Bu+8sl1ZAMB60iiB2QUDZeee8YjBOQLLOwlwGWlBAEgc3FvF/QUCUN9wDDqlLQLnDoIZJI0tAQo7ddZfPQ0BKS/am9CFOQDEyYNxBkUpAZ5wJhNkOTEA9JF/41RtQQL5KEvmtdyZAZ5IwF6hoREDau1PzmB9EQIfhIgCUi0FApkL996uXSEAK+k4Ed8JSQKFCbWsiRFFAj97l/FMFVEC4MUpG+5Q/QLTG+tqeAU5AKy4t6lY6UEBoX7itJsJQQFKKSsm2r1lAJNp04JwgUEA5/dZTHI9TQNGwenr1GURAI8Y7NTJ+U0D62+nEgH9bQAHwgPgfkmFAWbEF8PquV0CO1scQw61DQLazfZl8Y05AQpBYctwPWkAOvxPy0ztVQDdakus3dTRAqbM6SKNeQkAhzBX5jMBAQHBzJSFaR1VAQYBAIC27T0CU3CvkT1FRQN/UmMPazENAA7CRUhe0UkBxcj974xVdQEItDCjIvlZA1/d1ndCgVkBwHdX5MThHQCqg63LrOFBACEmNSRnvV0BGYDZg30pYQE35FI8LpFZAePjb1xIEW0Acozo6aUFZQM/Al1/kaFBAlXgBvikZVUDO9tBsgK1aQPVAvQVNNmJA6G/DJm17UUBN+oVF/eRUQF/OBGi461tAQXAU5WoPYECC1OMfBT1JQE6hxZE/701AlddFhCG9VEAzL4rcUYxXQGjT5qETNz1ApXU7fBiuTUCWYyq+8XI+QI/4r9dJlUhAVtkkZ3/QMkAWjyBP95Q5QOJ9p1m1+1hAMNT6N0kPN0CH0HBTXS5JQGwrURq64ENA3z5C24EdTUBrBG4dfXBWQOEtJTLKrD1AIV0J4sntTkASpsAGli1WQJU1Aij2Uz5A8ySxKrVmSED7FTmvX4tMQF0YC43relVA6hH6HckMR0CDm3TKWfNPQKQ7zP3/y15AZlDUvrJkZEBXRrRBodpIQFO2OvzAY1RA6YSjF06+Q0CwkNswmFlOQCSwyZCcJkJAaCCVUKh8S0Dz4K7VdslXQKJcptktZD1A+/gxLZwDSkCkQSL1nww/QOgvyBcZVUlAB4qFfz19UUDAX3/I3w1XQPioP8q5RTJA9/MCyw8GRED6//X585E0QK5GJvKOrEVAaiUzwZycQUCepgTzTQJMQI8zAbxtc1BAWeBNabpoVUCwHE2KbG9LQHcqr+tNoUtAhaArCO/aQ0CdD+RxRk1JQIQPMy3jXU1AZuSZYfsMTkD8gHFb6p5EQK0PKnS3Gk5A4OOQu+yIU0DqY55wWw5QQKG+Od7jdVpAxE1ZtcLTYEAIwJ6HVkRVQDqHucKcJVNAC2Vg7F5GSEAs2xRtZxNTQFPQuqs3OVlAwwrQ0+7gRUCxxpslfSJSQOqYqGxpyk9APbbhUxuGV0BIswmsilpbQNJ+U7E7H1FAe67fhWumVkBpfX/wlWZQQMLt+ey7KVpAt3yoOzUZYkBjTdsoJjRVQITpLu+GwVFAVhGZkf4/VkDHNgyCJbpNQPEmPnT7q0ZAnAYZlY4WSUBbh3c3FGVUQGfTOk8vZFVAO3Lo9RF8XUAAo6XGfwlEQP1ikyOyolFAV/3s98SpW0B9YzM3JaxNQAIKfrn2KVlAko7X23qfV0A+qXR9VLlMQLLhfn5IhkZA7oKzoEybUkCXkffh1RNIQGMbdj/NNVZArmxwrosdREBkt9DOqFdRQOlmkCNcp01AgawUsJr8U0CByW4XIpdDQKbnyHKfYFFAp/prpJAdJED/cNTYkpRZQKxn42opxVFAVK2fWTlrTUAx2dy73BlPQJTRmIvtX1RA7zibRg/rVkCWkSXacgk+QD162zYU+E1ACFvr78k4UkDciRsgKL9XQG3infDws1JAveMwfbxjXEBUhzPaF/o0QHgnxWMN1UhAInZJpf3fU0D2//EEB9ldQDBHuo6/ZkpAHo3p5TqrUkBwZkQVilxXQLqUbMBoV1JAkYj99BHYV0A7XxOc1kVcQG13S/gdzUVAUkA1a4s0REDM7EXee4JEQDfxtft5g05A3eSinn9EW0CS96Zh6QFeQB3CG7SPl0FADPxb6f4JS0A/2vHhvllXQOpeQGzzG1pAV4ePR6w9SUB9Cu0w/BRZQIImxjLIwVJAwNm6sQXCW0Bk/CImKDhhQLxSBJhVd2BAzg7nwm4YZEDz8kPR5KBiQNIoMVTbm2ZAmEZIKzK0WEBffm9hpGtiQOIM/8ipt2JAaBVqSlWTZkDeGy3cutZYQBALw3Lip2JA19OfQKCMZkDlfEZ+HsxRQIMootqcNldA2ZqnNxEMR0AqcVLhxsBLQKEgF1PAK1NAfrb5mv0iTUCAYOSwEnlTQA2OCFFRIlpA6nT/He0OT0BypyXx7ktUQK2Rd6ivkltAvFok5qRBPUDTPthKkNlEQA4uChzjxEhAQUhbf9X/QEBnuqffEF5KQFLmd+1GhDpAng3PKeGuSkD9dRgrthdEQFgGLeW8HE5Ay7FWYNh8V0CB+WCSKjlIQHXrrs+2Vl9Ar6Oz2yjjPkC8Og5pyxFQQH9cLWPCT0VAohvRDdlqR0BqxYg0VGc7QPKO/YhzzlNADr/ifnRqTkA9cyKzPZ1RQFgtlOhIzVdANRJ7noOuPUCzVCOwJFpUQAdUEh46W0dAwLueXevoTkAgNrUiP8NUQIMKZ5wnJ09A3EpnpvJ5VUDs0w89HEFNQJH2CJtz3FZA+Y9OS9zLTUDHjCutHEROQKejf42Z1lZAZM57h8Y3RkDsqbbiY/RKQFjYR1wVrEpAffNK+EU3WkAhuOwG9xJaQAr47CdH2ERAbwWr+a9oT0CngnfLgi5QQN+PIKOsIkRAVbjHFT3SUUDAoWFNK1k3QBMLz8AOflNAZhCoAu6KKEDvsiHKF7ZRQKCrDUuGPS5AdPbbYjjRVkAOlN1JCztXQGB6a+6ptUNA7/X1bAL6SEB8R675XRdUQCQjNKe9cF5AaUloQrs4Q0B53JfhBnlBQF3F4BLvJ11Actw+PnGxYUCnZeOglP1DQB2oEgAgqlBAfNJj8NL7PUB+QpQNHYlNQI4jp3Wju05A4F9qRN1OVUAUQTqHVNBWQOL+1n7KgEhAsa8yDRxdUUBN/IvBjYtNQHuWXEqqc05AXAhirjHfVkAU+jFkiaVgQJ28aBG++kVAmk3HsRgvYED/7ayJXStUQLJaoq24KExAi2Ib5EaoW0AKAy+mUNdXQJEIEgYwE19AlIuKo0tSXkDVnP/IN+dcQLSDBZS7ZU9AGc68RQVdYEAtC8OJ0mFGQNqzMcWJk1FAVptIMT7mYEB1uAAyAhBQQCfS7MSyzU9A8qP/RJYTU0BAjlExFrdQQOq+UDOkc1NAE5vQSKzGV0A/wiKknC1aQGTV60SrelpAIYOY3uJOWkBYZfTnAxRaQKU4kO8DeVpAQ1OHFsrZUkDIaRV3qjpaQMnPMdX+GF9AY8eShiLPYkATdTTM29NiQAE5DZ6UV2BADVa+VWvGU0Dku/DHXidZQCBQpjiq7l1A7ilFM/ngUkByDKzLkPxTQJMNF6j7LllA6xdLaNDwYEDqlpomQyVZQNq+IT4sIV5AzNjRcOoWXkBKeAgZJPVYQGHh+Bo6akZAdyadoyW4TUBgvXllSKlSQEhb9zQzEkZAMa65yDzPUUDl3gCwS/FYQKmT3nR8CFBAcuyb+qvtVEAPMLBVv+xaQNTnCuqdd0BACyeIrk3/TUAW7fMr9A44QIM2yxSoL0FAsrNf8N7BRkAbLxCHpdlIQNgcURApMFZAuifaV/8SSkBolwELIkhYQFulYrIqo0pAqrQ7Ub9dWEB4lNE0vSJKQGPOw2Ejq1hA9m+Q4SZBUUCR6mrc0kFaQBKYP7jJ1UFAttsQt1dtSEClTY4BGUtQQPkryq41XEhAtf6XS7IdVEDGMW6xQ3s5QMIsndBAaUlAjij8x2cDTkD2x9qp2sJLQFt4I2URZlNAjdaKV9SzPUBVW/Z/KVxJQH9L5cniLk1A7QQR5HxEVEBP10RdRRM5QIJDR9FIxUNAXrAez3dzS0C8wXBmoNtIQGm6uyMbFlBAaQRXhdD4VEBsEYrgP449QKQwE3R1BT5AXb9rKXHnQ0CI9jHimeVIQB3dhkwDZVFA1EuX3nFJPUCf3P7qcxBEQGu3Yl5Q20tA+Tx89f/0QkB7re9arjpTQF5wLHEGl1FAbkuS5VWjW0DRu8lqNfxTQHvUUKlEb0FA3295tFTfRkC8DNLJLClQQNgBHz8ifDFALYqPsfeHPEA8q/MEHlphQHaD6ixGclpADBl7vfsGQUDE6YNw0SlQQOO7G5ODpkFAQUyslbWrRkDJLhn8l7lZQBing/ws/EtAnDx3ZqZRV0C2z8e6tgVKQL1r3HeMjVRAmylLA5C0UkAiUFbw6aJbQDmqCDE/IURAUb8L9SZATkB8C5R6BPBTQCAUwYlg8V1AT0M6lPMjRUDASmZhHnxQQIVR3pU5tUtAYGAAz78yUkCeDmuODshXQEQLZohIR1pAW0IC3WkmX0Dul6w0MLFeQAuMkQUNjEZAH11BjFAFVkCN1wGgH0JQQJaFVd6QzVNAMwWCsJaAW0C9k1LOH/VDQJQNsgGmOU1AbWH9tfz0UkARy9ayI3ZDQCZWojJsyk5AxraeUfPzS0D4kuzB5nxVQJwo8IlqvFBArkf1H8VQVUBTSWojtHFEQJxZPYIRiU1AY9jfiiJvWEBggzuXGFo3QOfEcVPmSUtAEJel9aT3RUA81rzKxW9RQOmojXcSf1FAksTnxajmRkCbQTOENaxSQFxsIetOk1lAM1IX+UM2VUCbh6bbTPdeQN4C9bNOClBAVdnxFelQV0DCYp6xS2ZiQJ3kBx3YHD5A1hSbHQ09Q0APgTxWdUdNQC+6rod1sk5AdB3XJAw6UUBRDshLuzVYQA18zhehA0RAnftbtbzxWEDAMHrOKjhUQBnC0WmFuktAEFsZFcmdV0DGbQ3yUFNNQPyxavscoUBAdcD6siPgSkA6DAYSTk9EQPHYxEd/KU5AtDkqZBYWRECmdyHmXSlCQIr+YZr+VExAIZcZj4cmRkBJ/KxPiVFLQLK9i0p/u1lAaNP1ZYc5R0Am2oW9FIZGQNuK6l20NlBAX2LWRDMQX0DwOzrZOvZIQPQaoOI02WBAiQixCMbmVkBbAeyeCHJSQJvKKpm5nVZATQAz2iU9X0AqWVr5LXJbQBS+1IzBbF9AXZwWIc4bYkCm83RZo91iQN8gC7TA011AlJj2LBYFXUB5qw97FC9aQLl+LqQiNmBAjdWpit0GXkDdpo4BoVBlQAK8ARo0QmBAS7+FDDMlYEA5e0P79ApgQJV4dgYMsFJAFOFeq1guXkAh++m0cClIQDKNBZBMwUtA+p4rT5LAUkAXl5gIl+JOQOZH1mpW0lZAiJ9Z44vuW0Dueyb959ROQOUuDvQ8A1VAiWkNXnJeWUBy3ozijf5AQFDRlg3/ykhADkuWEOnhQ0A0oKRz7oZLQGlQI4iTklJAFbQCsXTTOUAcjmYqeGM6QOG7In1JTlZARFijS+4qUkDX6lso0VhbQCojbh7IH09A20dgxbkGU0DOtO2f2KJcQE3liOZQb09AmnYyi+UAWEBDDp88039HQEwIdLPhqlFA9jbLDawKUEAlqtlszPROQBRC250kkFRAdL9civw/VECjEcHB3d5AQCL5BEU/a0ZARRn33NDFYkBoj5hzfFpJQAXBcG7Fw09ARLOKLEePWEBE3XYBn61NQO/1YcYGeFVArza7nyGaQkDud92V9v1QQDMF4SCXoERAgDzcJxxxSkA/vE89MflNQAAMMQTuF1hAVytgOJMbTUDLEH8/Rh9eQARHKcioUE9A8T49qsUhW0CJwv3bo49GQIwpFqGoZVFAS3fCl/vfUEDUVxOGQORYQOiVKZIdE1xAp23kdnmeUkD+aa9YTHpUQISnebVXy0hAWrPmOAUwS0Cszldyia5UQMDgKk/MfVtAS/GIIxcyVECH37nMgpBIQM9kwTUBglBAldXrE2ymRUB2fdewP5FGQNLbAkm6gEZAp/SfI1T4RUDStepjwPpMQOMt/A3hg0xA7lgpGHQxTUCsTWqwimNNQCm7ZSnYREFA6S1BeBvTRUAt0Jp0wkdGQFy3UiV9GFhAuBjpibmBYEACq37U/W1gQNXv3O6qC1RAA6iWKdnVWEBF+Die3hhkQCMGtWx9smJA+ve9OcM4ZUBaC8zsBXdgQA==",
          "dtype": "f8"
         },
         "yaxis": "y"
        },
        {
         "line": {
          "color": "rgba(0,0,0,0.5)",
          "width": 1
         },
         "mode": "lines",
         "name": "Failure events",
         "type": "scatter",
         "x": [
          null
         ],
         "y": [
          null
         ]
        }
       ],
       "layout": {
        "legend": {
         "tracegroupgap": 0
        },
        "margin": {
         "b": 50,
         "l": 60,
         "r": 40,
         "t": 120
        },
        "shapes": [
         {
          "line": {
           "color": "rgba(0,0,0,0.5)",
           "width": 2
          },
          "type": "line",
          "x0": 13,
          "x1": 13,
          "xref": "x",
          "y0": 0,
          "y1": 1,
          "yref": "y domain"
         },
         {
          "line": {
           "color": "rgba(0,0,0,0.5)",
           "width": 2
          },
          "type": "line",
          "x0": 157,
          "x1": 157,
          "xref": "x",
          "y0": 0,
          "y1": 1,
          "yref": "y domain"
         },
         {
          "line": {
           "color": "rgba(0,0,0,0.5)",
           "width": 2
          },
          "type": "line",
          "x0": 158,
          "x1": 158,
          "xref": "x",
          "y0": 0,
          "y1": 1,
          "yref": "y domain"
         },
         {
          "line": {
           "color": "rgba(0,0,0,0.5)",
           "width": 2
          },
          "type": "line",
          "x0": 159,
          "x1": 159,
          "xref": "x",
          "y0": 0,
          "y1": 1,
          "yref": "y domain"
         },
         {
          "line": {
           "color": "rgba(0,0,0,0.5)",
           "width": 2
          },
          "type": "line",
          "x0": 163,
          "x1": 163,
          "xref": "x",
          "y0": 0,
          "y1": 1,
          "yref": "y domain"
         },
         {
          "line": {
           "color": "rgba(0,0,0,0.5)",
           "width": 2
          },
          "type": "line",
          "x0": 164,
          "x1": 164,
          "xref": "x",
          "y0": 0,
          "y1": 1,
          "yref": "y domain"
         },
         {
          "line": {
           "color": "rgba(0,0,0,0.5)",
           "width": 2
          },
          "type": "line",
          "x0": 165,
          "x1": 165,
          "xref": "x",
          "y0": 0,
          "y1": 1,
          "yref": "y domain"
         },
         {
          "line": {
           "color": "rgba(0,0,0,0.5)",
           "width": 2
          },
          "type": "line",
          "x0": 263,
          "x1": 263,
          "xref": "x",
          "y0": 0,
          "y1": 1,
          "yref": "y domain"
         },
         {
          "line": {
           "color": "rgba(0,0,0,0.5)",
           "width": 2
          },
          "type": "line",
          "x0": 264,
          "x1": 264,
          "xref": "x",
          "y0": 0,
          "y1": 1,
          "yref": "y domain"
         },
         {
          "line": {
           "color": "rgba(0,0,0,0.5)",
           "width": 2
          },
          "type": "line",
          "x0": 265,
          "x1": 265,
          "xref": "x",
          "y0": 0,
          "y1": 1,
          "yref": "y domain"
         },
         {
          "line": {
           "color": "rgba(0,0,0,0.5)",
           "width": 2
          },
          "type": "line",
          "x0": 270,
          "x1": 270,
          "xref": "x",
          "y0": 0,
          "y1": 1,
          "yref": "y domain"
         },
         {
          "line": {
           "color": "rgba(0,0,0,0.5)",
           "width": 2
          },
          "type": "line",
          "x0": 271,
          "x1": 271,
          "xref": "x",
          "y0": 0,
          "y1": 1,
          "yref": "y domain"
         },
         {
          "line": {
           "color": "rgba(0,0,0,0.5)",
           "width": 2
          },
          "type": "line",
          "x0": 415,
          "x1": 415,
          "xref": "x",
          "y0": 0,
          "y1": 1,
          "yref": "y domain"
         },
         {
          "line": {
           "color": "rgba(0,0,0,0.5)",
           "width": 2
          },
          "type": "line",
          "x0": 416,
          "x1": 416,
          "xref": "x",
          "y0": 0,
          "y1": 1,
          "yref": "y domain"
         },
         {
          "line": {
           "color": "rgba(0,0,0,0.5)",
           "width": 2
          },
          "type": "line",
          "x0": 417,
          "x1": 417,
          "xref": "x",
          "y0": 0,
          "y1": 1,
          "yref": "y domain"
         },
         {
          "line": {
           "color": "rgba(0,0,0,0.5)",
           "width": 2
          },
          "type": "line",
          "x0": 418,
          "x1": 418,
          "xref": "x",
          "y0": 0,
          "y1": 1,
          "yref": "y domain"
         },
         {
          "line": {
           "color": "rgba(0,0,0,0.5)",
           "width": 2
          },
          "type": "line",
          "x0": 419,
          "x1": 419,
          "xref": "x",
          "y0": 0,
          "y1": 1,
          "yref": "y domain"
         },
         {
          "line": {
           "color": "rgba(0,0,0,0.5)",
           "width": 2
          },
          "type": "line",
          "x0": 420,
          "x1": 420,
          "xref": "x",
          "y0": 0,
          "y1": 1,
          "yref": "y domain"
         },
         {
          "line": {
           "color": "rgba(0,0,0,0.5)",
           "width": 2
          },
          "type": "line",
          "x0": 421,
          "x1": 421,
          "xref": "x",
          "y0": 0,
          "y1": 1,
          "yref": "y domain"
         },
         {
          "line": {
           "color": "rgba(0,0,0,0.5)",
           "width": 2
          },
          "type": "line",
          "x0": 422,
          "x1": 422,
          "xref": "x",
          "y0": 0,
          "y1": 1,
          "yref": "y domain"
         },
         {
          "line": {
           "color": "rgba(0,0,0,0.5)",
           "width": 2
          },
          "type": "line",
          "x0": 423,
          "x1": 423,
          "xref": "x",
          "y0": 0,
          "y1": 1,
          "yref": "y domain"
         },
         {
          "line": {
           "color": "rgba(0,0,0,0.5)",
           "width": 2
          },
          "type": "line",
          "x0": 424,
          "x1": 424,
          "xref": "x",
          "y0": 0,
          "y1": 1,
          "yref": "y domain"
         },
         {
          "line": {
           "color": "rgba(0,0,0,0.5)",
           "width": 2
          },
          "type": "line",
          "x0": 425,
          "x1": 425,
          "xref": "x",
          "y0": 0,
          "y1": 1,
          "yref": "y domain"
         },
         {
          "line": {
           "color": "rgba(0,0,0,0.5)",
           "width": 2
          },
          "type": "line",
          "x0": 426,
          "x1": 426,
          "xref": "x",
          "y0": 0,
          "y1": 1,
          "yref": "y domain"
         },
         {
          "line": {
           "color": "rgba(0,0,0,0.5)",
           "width": 2
          },
          "type": "line",
          "x0": 427,
          "x1": 427,
          "xref": "x",
          "y0": 0,
          "y1": 1,
          "yref": "y domain"
         },
         {
          "line": {
           "color": "rgba(0,0,0,0.5)",
           "width": 2
          },
          "type": "line",
          "x0": 428,
          "x1": 428,
          "xref": "x",
          "y0": 0,
          "y1": 1,
          "yref": "y domain"
         },
         {
          "line": {
           "color": "rgba(0,0,0,0.5)",
           "width": 2
          },
          "type": "line",
          "x0": 429,
          "x1": 429,
          "xref": "x",
          "y0": 0,
          "y1": 1,
          "yref": "y domain"
         },
         {
          "line": {
           "color": "rgba(0,0,0,0.5)",
           "width": 2
          },
          "type": "line",
          "x0": 430,
          "x1": 430,
          "xref": "x",
          "y0": 0,
          "y1": 1,
          "yref": "y domain"
         },
         {
          "line": {
           "color": "rgba(0,0,0,0.5)",
           "width": 2
          },
          "type": "line",
          "x0": 431,
          "x1": 431,
          "xref": "x",
          "y0": 0,
          "y1": 1,
          "yref": "y domain"
         },
         {
          "line": {
           "color": "rgba(0,0,0,0.5)",
           "width": 2
          },
          "type": "line",
          "x0": 432,
          "x1": 432,
          "xref": "x",
          "y0": 0,
          "y1": 1,
          "yref": "y domain"
         },
         {
          "line": {
           "color": "rgba(0,0,0,0.5)",
           "width": 2
          },
          "type": "line",
          "x0": 538,
          "x1": 538,
          "xref": "x",
          "y0": 0,
          "y1": 1,
          "yref": "y domain"
         },
         {
          "line": {
           "color": "rgba(0,0,0,0.5)",
           "width": 2
          },
          "type": "line",
          "x0": 539,
          "x1": 539,
          "xref": "x",
          "y0": 0,
          "y1": 1,
          "yref": "y domain"
         },
         {
          "line": {
           "color": "rgba(0,0,0,0.5)",
           "width": 2
          },
          "type": "line",
          "x0": 540,
          "x1": 540,
          "xref": "x",
          "y0": 0,
          "y1": 1,
          "yref": "y domain"
         },
         {
          "line": {
           "color": "rgba(0,0,0,0.5)",
           "width": 2
          },
          "type": "line",
          "x0": 541,
          "x1": 541,
          "xref": "x",
          "y0": 0,
          "y1": 1,
          "yref": "y domain"
         },
         {
          "line": {
           "color": "rgba(0,0,0,0.5)",
           "width": 2
          },
          "type": "line",
          "x0": 542,
          "x1": 542,
          "xref": "x",
          "y0": 0,
          "y1": 1,
          "yref": "y domain"
         },
         {
          "line": {
           "color": "rgba(0,0,0,0.5)",
           "width": 2
          },
          "type": "line",
          "x0": 543,
          "x1": 543,
          "xref": "x",
          "y0": 0,
          "y1": 1,
          "yref": "y domain"
         },
         {
          "line": {
           "color": "rgba(0,0,0,0.5)",
           "width": 2
          },
          "type": "line",
          "x0": 544,
          "x1": 544,
          "xref": "x",
          "y0": 0,
          "y1": 1,
          "yref": "y domain"
         },
         {
          "line": {
           "color": "rgba(0,0,0,0.5)",
           "width": 2
          },
          "type": "line",
          "x0": 545,
          "x1": 545,
          "xref": "x",
          "y0": 0,
          "y1": 1,
          "yref": "y domain"
         },
         {
          "line": {
           "color": "rgba(0,0,0,0.5)",
           "width": 2
          },
          "type": "line",
          "x0": 546,
          "x1": 546,
          "xref": "x",
          "y0": 0,
          "y1": 1,
          "yref": "y domain"
         },
         {
          "line": {
           "color": "rgba(0,0,0,0.5)",
           "width": 2
          },
          "type": "line",
          "x0": 550,
          "x1": 550,
          "xref": "x",
          "y0": 0,
          "y1": 1,
          "yref": "y domain"
         },
         {
          "line": {
           "color": "rgba(0,0,0,0.5)",
           "width": 2
          },
          "type": "line",
          "x0": 551,
          "x1": 551,
          "xref": "x",
          "y0": 0,
          "y1": 1,
          "yref": "y domain"
         },
         {
          "line": {
           "color": "rgba(0,0,0,0.5)",
           "width": 2
          },
          "type": "line",
          "x0": 552,
          "x1": 552,
          "xref": "x",
          "y0": 0,
          "y1": 1,
          "yref": "y domain"
         },
         {
          "line": {
           "color": "rgba(0,0,0,0.5)",
           "width": 2
          },
          "type": "line",
          "x0": 553,
          "x1": 553,
          "xref": "x",
          "y0": 0,
          "y1": 1,
          "yref": "y domain"
         },
         {
          "line": {
           "color": "rgba(0,0,0,0.5)",
           "width": 2
          },
          "type": "line",
          "x0": 554,
          "x1": 554,
          "xref": "x",
          "y0": 0,
          "y1": 1,
          "yref": "y domain"
         },
         {
          "line": {
           "color": "rgba(0,0,0,0.5)",
           "width": 2
          },
          "type": "line",
          "x0": 700,
          "x1": 700,
          "xref": "x",
          "y0": 0,
          "y1": 1,
          "yref": "y domain"
         },
         {
          "line": {
           "color": "rgba(0,0,0,0.5)",
           "width": 2
          },
          "type": "line",
          "x0": 701,
          "x1": 701,
          "xref": "x",
          "y0": 0,
          "y1": 1,
          "yref": "y domain"
         },
         {
          "line": {
           "color": "rgba(0,0,0,0.5)",
           "width": 2
          },
          "type": "line",
          "x0": 702,
          "x1": 702,
          "xref": "x",
          "y0": 0,
          "y1": 1,
          "yref": "y domain"
         },
         {
          "line": {
           "color": "rgba(0,0,0,0.5)",
           "width": 2
          },
          "type": "line",
          "x0": 703,
          "x1": 703,
          "xref": "x",
          "y0": 0,
          "y1": 1,
          "yref": "y domain"
         },
         {
          "line": {
           "color": "rgba(0,0,0,0.5)",
           "width": 2
          },
          "type": "line",
          "x0": 704,
          "x1": 704,
          "xref": "x",
          "y0": 0,
          "y1": 1,
          "yref": "y domain"
         },
         {
          "line": {
           "color": "rgba(0,0,0,0.5)",
           "width": 2
          },
          "type": "line",
          "x0": 705,
          "x1": 705,
          "xref": "x",
          "y0": 0,
          "y1": 1,
          "yref": "y domain"
         },
         {
          "line": {
           "color": "rgba(0,0,0,0.5)",
           "width": 2
          },
          "type": "line",
          "x0": 706,
          "x1": 706,
          "xref": "x",
          "y0": 0,
          "y1": 1,
          "yref": "y domain"
         },
         {
          "line": {
           "color": "rgba(0,0,0,0.5)",
           "width": 2
          },
          "type": "line",
          "x0": 707,
          "x1": 707,
          "xref": "x",
          "y0": 0,
          "y1": 1,
          "yref": "y domain"
         },
         {
          "line": {
           "color": "rgba(0,0,0,0.5)",
           "width": 2
          },
          "type": "line",
          "x0": 708,
          "x1": 708,
          "xref": "x",
          "y0": 0,
          "y1": 1,
          "yref": "y domain"
         },
         {
          "line": {
           "color": "rgba(0,0,0,0.5)",
           "width": 2
          },
          "type": "line",
          "x0": 709,
          "x1": 709,
          "xref": "x",
          "y0": 0,
          "y1": 1,
          "yref": "y domain"
         },
         {
          "line": {
           "color": "rgba(0,0,0,0.5)",
           "width": 2
          },
          "type": "line",
          "x0": 710,
          "x1": 710,
          "xref": "x",
          "y0": 0,
          "y1": 1,
          "yref": "y domain"
         },
         {
          "line": {
           "color": "rgba(0,0,0,0.5)",
           "width": 2
          },
          "type": "line",
          "x0": 711,
          "x1": 711,
          "xref": "x",
          "y0": 0,
          "y1": 1,
          "yref": "y domain"
         },
         {
          "line": {
           "color": "rgba(0,0,0,0.5)",
           "width": 2
          },
          "type": "line",
          "x0": 712,
          "x1": 712,
          "xref": "x",
          "y0": 0,
          "y1": 1,
          "yref": "y domain"
         },
         {
          "line": {
           "color": "rgba(0,0,0,0.5)",
           "width": 2
          },
          "type": "line",
          "x0": 713,
          "x1": 713,
          "xref": "x",
          "y0": 0,
          "y1": 1,
          "yref": "y domain"
         },
         {
          "line": {
           "color": "rgba(0,0,0,0.5)",
           "width": 2
          },
          "type": "line",
          "x0": 793,
          "x1": 793,
          "xref": "x",
          "y0": 0,
          "y1": 1,
          "yref": "y domain"
         },
         {
          "line": {
           "color": "rgba(0,0,0,0.5)",
           "width": 2
          },
          "type": "line",
          "x0": 794,
          "x1": 794,
          "xref": "x",
          "y0": 0,
          "y1": 1,
          "yref": "y domain"
         },
         {
          "line": {
           "color": "rgba(0,0,0,0.5)",
           "width": 2
          },
          "type": "line",
          "x0": 795,
          "x1": 795,
          "xref": "x",
          "y0": 0,
          "y1": 1,
          "yref": "y domain"
         },
         {
          "line": {
           "color": "rgba(0,0,0,0.5)",
           "width": 2
          },
          "type": "line",
          "x0": 796,
          "x1": 796,
          "xref": "x",
          "y0": 0,
          "y1": 1,
          "yref": "y domain"
         },
         {
          "line": {
           "color": "rgba(0,0,0,0.5)",
           "width": 2
          },
          "type": "line",
          "x0": 797,
          "x1": 797,
          "xref": "x",
          "y0": 0,
          "y1": 1,
          "yref": "y domain"
         },
         {
          "line": {
           "color": "rgba(0,0,0,0.5)",
           "width": 2
          },
          "type": "line",
          "x0": 798,
          "x1": 798,
          "xref": "x",
          "y0": 0,
          "y1": 1,
          "yref": "y domain"
         },
         {
          "line": {
           "color": "rgba(0,0,0,0.5)",
           "width": 2
          },
          "type": "line",
          "x0": 799,
          "x1": 799,
          "xref": "x",
          "y0": 0,
          "y1": 1,
          "yref": "y domain"
         },
         {
          "line": {
           "color": "rgba(0,0,0,0.5)",
           "width": 2
          },
          "type": "line",
          "x0": 800,
          "x1": 800,
          "xref": "x",
          "y0": 0,
          "y1": 1,
          "yref": "y domain"
         }
        ],
        "template": {
         "data": {
          "bar": [
           {
            "error_x": {
             "color": "#2a3f5f"
            },
            "error_y": {
             "color": "#2a3f5f"
            },
            "marker": {
             "line": {
              "color": "#E5ECF6",
              "width": 0.5
             },
             "pattern": {
              "fillmode": "overlay",
              "size": 10,
              "solidity": 0.2
             }
            },
            "type": "bar"
           }
          ],
          "barpolar": [
           {
            "marker": {
             "line": {
              "color": "#E5ECF6",
              "width": 0.5
             },
             "pattern": {
              "fillmode": "overlay",
              "size": 10,
              "solidity": 0.2
             }
            },
            "type": "barpolar"
           }
          ],
          "carpet": [
           {
            "aaxis": {
             "endlinecolor": "#2a3f5f",
             "gridcolor": "white",
             "linecolor": "white",
             "minorgridcolor": "white",
             "startlinecolor": "#2a3f5f"
            },
            "baxis": {
             "endlinecolor": "#2a3f5f",
             "gridcolor": "white",
             "linecolor": "white",
             "minorgridcolor": "white",
             "startlinecolor": "#2a3f5f"
            },
            "type": "carpet"
           }
          ],
          "choropleth": [
           {
            "colorbar": {
             "outlinewidth": 0,
             "ticks": ""
            },
            "type": "choropleth"
           }
          ],
          "contour": [
           {
            "colorbar": {
             "outlinewidth": 0,
             "ticks": ""
            },
            "colorscale": [
             [
              0,
              "#0d0887"
             ],
             [
              0.1111111111111111,
              "#46039f"
             ],
             [
              0.2222222222222222,
              "#7201a8"
             ],
             [
              0.3333333333333333,
              "#9c179e"
             ],
             [
              0.4444444444444444,
              "#bd3786"
             ],
             [
              0.5555555555555556,
              "#d8576b"
             ],
             [
              0.6666666666666666,
              "#ed7953"
             ],
             [
              0.7777777777777778,
              "#fb9f3a"
             ],
             [
              0.8888888888888888,
              "#fdca26"
             ],
             [
              1,
              "#f0f921"
             ]
            ],
            "type": "contour"
           }
          ],
          "contourcarpet": [
           {
            "colorbar": {
             "outlinewidth": 0,
             "ticks": ""
            },
            "type": "contourcarpet"
           }
          ],
          "heatmap": [
           {
            "colorbar": {
             "outlinewidth": 0,
             "ticks": ""
            },
            "colorscale": [
             [
              0,
              "#0d0887"
             ],
             [
              0.1111111111111111,
              "#46039f"
             ],
             [
              0.2222222222222222,
              "#7201a8"
             ],
             [
              0.3333333333333333,
              "#9c179e"
             ],
             [
              0.4444444444444444,
              "#bd3786"
             ],
             [
              0.5555555555555556,
              "#d8576b"
             ],
             [
              0.6666666666666666,
              "#ed7953"
             ],
             [
              0.7777777777777778,
              "#fb9f3a"
             ],
             [
              0.8888888888888888,
              "#fdca26"
             ],
             [
              1,
              "#f0f921"
             ]
            ],
            "type": "heatmap"
           }
          ],
          "histogram": [
           {
            "marker": {
             "pattern": {
              "fillmode": "overlay",
              "size": 10,
              "solidity": 0.2
             }
            },
            "type": "histogram"
           }
          ],
          "histogram2d": [
           {
            "colorbar": {
             "outlinewidth": 0,
             "ticks": ""
            },
            "colorscale": [
             [
              0,
              "#0d0887"
             ],
             [
              0.1111111111111111,
              "#46039f"
             ],
             [
              0.2222222222222222,
              "#7201a8"
             ],
             [
              0.3333333333333333,
              "#9c179e"
             ],
             [
              0.4444444444444444,
              "#bd3786"
             ],
             [
              0.5555555555555556,
              "#d8576b"
             ],
             [
              0.6666666666666666,
              "#ed7953"
             ],
             [
              0.7777777777777778,
              "#fb9f3a"
             ],
             [
              0.8888888888888888,
              "#fdca26"
             ],
             [
              1,
              "#f0f921"
             ]
            ],
            "type": "histogram2d"
           }
          ],
          "histogram2dcontour": [
           {
            "colorbar": {
             "outlinewidth": 0,
             "ticks": ""
            },
            "colorscale": [
             [
              0,
              "#0d0887"
             ],
             [
              0.1111111111111111,
              "#46039f"
             ],
             [
              0.2222222222222222,
              "#7201a8"
             ],
             [
              0.3333333333333333,
              "#9c179e"
             ],
             [
              0.4444444444444444,
              "#bd3786"
             ],
             [
              0.5555555555555556,
              "#d8576b"
             ],
             [
              0.6666666666666666,
              "#ed7953"
             ],
             [
              0.7777777777777778,
              "#fb9f3a"
             ],
             [
              0.8888888888888888,
              "#fdca26"
             ],
             [
              1,
              "#f0f921"
             ]
            ],
            "type": "histogram2dcontour"
           }
          ],
          "mesh3d": [
           {
            "colorbar": {
             "outlinewidth": 0,
             "ticks": ""
            },
            "type": "mesh3d"
           }
          ],
          "parcoords": [
           {
            "line": {
             "colorbar": {
              "outlinewidth": 0,
              "ticks": ""
             }
            },
            "type": "parcoords"
           }
          ],
          "pie": [
           {
            "automargin": true,
            "type": "pie"
           }
          ],
          "scatter": [
           {
            "fillpattern": {
             "fillmode": "overlay",
             "size": 10,
             "solidity": 0.2
            },
            "type": "scatter"
           }
          ],
          "scatter3d": [
           {
            "line": {
             "colorbar": {
              "outlinewidth": 0,
              "ticks": ""
             }
            },
            "marker": {
             "colorbar": {
              "outlinewidth": 0,
              "ticks": ""
             }
            },
            "type": "scatter3d"
           }
          ],
          "scattercarpet": [
           {
            "marker": {
             "colorbar": {
              "outlinewidth": 0,
              "ticks": ""
             }
            },
            "type": "scattercarpet"
           }
          ],
          "scattergeo": [
           {
            "marker": {
             "colorbar": {
              "outlinewidth": 0,
              "ticks": ""
             }
            },
            "type": "scattergeo"
           }
          ],
          "scattergl": [
           {
            "marker": {
             "colorbar": {
              "outlinewidth": 0,
              "ticks": ""
             }
            },
            "type": "scattergl"
           }
          ],
          "scattermap": [
           {
            "marker": {
             "colorbar": {
              "outlinewidth": 0,
              "ticks": ""
             }
            },
            "type": "scattermap"
           }
          ],
          "scattermapbox": [
           {
            "marker": {
             "colorbar": {
              "outlinewidth": 0,
              "ticks": ""
             }
            },
            "type": "scattermapbox"
           }
          ],
          "scatterpolar": [
           {
            "marker": {
             "colorbar": {
              "outlinewidth": 0,
              "ticks": ""
             }
            },
            "type": "scatterpolar"
           }
          ],
          "scatterpolargl": [
           {
            "marker": {
             "colorbar": {
              "outlinewidth": 0,
              "ticks": ""
             }
            },
            "type": "scatterpolargl"
           }
          ],
          "scatterternary": [
           {
            "marker": {
             "colorbar": {
              "outlinewidth": 0,
              "ticks": ""
             }
            },
            "type": "scatterternary"
           }
          ],
          "surface": [
           {
            "colorbar": {
             "outlinewidth": 0,
             "ticks": ""
            },
            "colorscale": [
             [
              0,
              "#0d0887"
             ],
             [
              0.1111111111111111,
              "#46039f"
             ],
             [
              0.2222222222222222,
              "#7201a8"
             ],
             [
              0.3333333333333333,
              "#9c179e"
             ],
             [
              0.4444444444444444,
              "#bd3786"
             ],
             [
              0.5555555555555556,
              "#d8576b"
             ],
             [
              0.6666666666666666,
              "#ed7953"
             ],
             [
              0.7777777777777778,
              "#fb9f3a"
             ],
             [
              0.8888888888888888,
              "#fdca26"
             ],
             [
              1,
              "#f0f921"
             ]
            ],
            "type": "surface"
           }
          ],
          "table": [
           {
            "cells": {
             "fill": {
              "color": "#EBF0F8"
             },
             "line": {
              "color": "white"
             }
            },
            "header": {
             "fill": {
              "color": "#C8D4E3"
             },
             "line": {
              "color": "white"
             }
            },
            "type": "table"
           }
          ]
         },
         "layout": {
          "annotationdefaults": {
           "arrowcolor": "#2a3f5f",
           "arrowhead": 0,
           "arrowwidth": 1
          },
          "autotypenumbers": "strict",
          "coloraxis": {
           "colorbar": {
            "outlinewidth": 0,
            "ticks": ""
           }
          },
          "colorscale": {
           "diverging": [
            [
             0,
             "#8e0152"
            ],
            [
             0.1,
             "#c51b7d"
            ],
            [
             0.2,
             "#de77ae"
            ],
            [
             0.3,
             "#f1b6da"
            ],
            [
             0.4,
             "#fde0ef"
            ],
            [
             0.5,
             "#f7f7f7"
            ],
            [
             0.6,
             "#e6f5d0"
            ],
            [
             0.7,
             "#b8e186"
            ],
            [
             0.8,
             "#7fbc41"
            ],
            [
             0.9,
             "#4d9221"
            ],
            [
             1,
             "#276419"
            ]
           ],
           "sequential": [
            [
             0,
             "#0d0887"
            ],
            [
             0.1111111111111111,
             "#46039f"
            ],
            [
             0.2222222222222222,
             "#7201a8"
            ],
            [
             0.3333333333333333,
             "#9c179e"
            ],
            [
             0.4444444444444444,
             "#bd3786"
            ],
            [
             0.5555555555555556,
             "#d8576b"
            ],
            [
             0.6666666666666666,
             "#ed7953"
            ],
            [
             0.7777777777777778,
             "#fb9f3a"
            ],
            [
             0.8888888888888888,
             "#fdca26"
            ],
            [
             1,
             "#f0f921"
            ]
           ],
           "sequentialminus": [
            [
             0,
             "#0d0887"
            ],
            [
             0.1111111111111111,
             "#46039f"
            ],
            [
             0.2222222222222222,
             "#7201a8"
            ],
            [
             0.3333333333333333,
             "#9c179e"
            ],
            [
             0.4444444444444444,
             "#bd3786"
            ],
            [
             0.5555555555555556,
             "#d8576b"
            ],
            [
             0.6666666666666666,
             "#ed7953"
            ],
            [
             0.7777777777777778,
             "#fb9f3a"
            ],
            [
             0.8888888888888888,
             "#fdca26"
            ],
            [
             1,
             "#f0f921"
            ]
           ]
          },
          "colorway": [
           "#636efa",
           "#EF553B",
           "#00cc96",
           "#ab63fa",
           "#FFA15A",
           "#19d3f3",
           "#FF6692",
           "#B6E880",
           "#FF97FF",
           "#FECB52"
          ],
          "font": {
           "color": "#2a3f5f"
          },
          "geo": {
           "bgcolor": "white",
           "lakecolor": "white",
           "landcolor": "#E5ECF6",
           "showlakes": true,
           "showland": true,
           "subunitcolor": "white"
          },
          "hoverlabel": {
           "align": "left"
          },
          "hovermode": "closest",
          "mapbox": {
           "style": "light"
          },
          "paper_bgcolor": "white",
          "plot_bgcolor": "#E5ECF6",
          "polar": {
           "angularaxis": {
            "gridcolor": "white",
            "linecolor": "white",
            "ticks": ""
           },
           "bgcolor": "#E5ECF6",
           "radialaxis": {
            "gridcolor": "white",
            "linecolor": "white",
            "ticks": ""
           }
          },
          "scene": {
           "xaxis": {
            "backgroundcolor": "#E5ECF6",
            "gridcolor": "white",
            "gridwidth": 2,
            "linecolor": "white",
            "showbackground": true,
            "ticks": "",
            "zerolinecolor": "white"
           },
           "yaxis": {
            "backgroundcolor": "#E5ECF6",
            "gridcolor": "white",
            "gridwidth": 2,
            "linecolor": "white",
            "showbackground": true,
            "ticks": "",
            "zerolinecolor": "white"
           },
           "zaxis": {
            "backgroundcolor": "#E5ECF6",
            "gridcolor": "white",
            "gridwidth": 2,
            "linecolor": "white",
            "showbackground": true,
            "ticks": "",
            "zerolinecolor": "white"
           }
          },
          "shapedefaults": {
           "line": {
            "color": "#2a3f5f"
           }
          },
          "ternary": {
           "aaxis": {
            "gridcolor": "white",
            "linecolor": "white",
            "ticks": ""
           },
           "baxis": {
            "gridcolor": "white",
            "linecolor": "white",
            "ticks": ""
           },
           "bgcolor": "#E5ECF6",
           "caxis": {
            "gridcolor": "white",
            "linecolor": "white",
            "ticks": ""
           }
          },
          "title": {
           "x": 0.05
          },
          "xaxis": {
           "automargin": true,
           "gridcolor": "white",
           "linecolor": "white",
           "ticks": "",
           "title": {
            "standoff": 15
           },
           "zerolinecolor": "white",
           "zerolinewidth": 2
          },
          "yaxis": {
           "automargin": true,
           "gridcolor": "white",
           "linecolor": "white",
           "ticks": "",
           "title": {
            "standoff": 15
           },
           "zerolinecolor": "white",
           "zerolinewidth": 2
          }
         }
        },
        "title": {
         "font": {
          "size": 26
         },
         "pad": {
          "b": 10,
          "t": 10
         },
         "text": "VibrationY per Cycle with Failure events",
         "x": 0.5,
         "xanchor": "center",
         "y": 0.94,
         "yanchor": "top"
        },
        "xaxis": {
         "anchor": "y",
         "domain": [
          0,
          1
         ],
         "title": {
          "text": "Cycle"
         }
        },
        "yaxis": {
         "anchor": "x",
         "domain": [
          0,
          1
         ],
         "range": [
          0,
          212.92694146377747
         ],
         "title": {
          "text": "VibrationY"
         }
        }
       }
      }
     },
     "metadata": {},
     "output_type": "display_data"
    },
    {
     "data": {
      "application/vnd.plotly.v1+json": {
       "config": {
        "plotlyServerURL": "https://plot.ly"
       },
       "data": [
        {
         "hovertemplate": "Cycle=%{x}<br>VibrationZ=%{y}<extra></extra>",
         "legendgroup": "",
         "line": {
          "color": "royalblue",
          "dash": "solid",
          "width": 2
         },
         "marker": {
          "symbol": "circle"
         },
         "mode": "lines",
         "name": "VibrationZ",
         "orientation": "v",
         "showlegend": true,
         "type": "scatter",
         "x": {
          "bdata": "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",
          "dtype": "i2"
         },
         "xaxis": "x",
         "y": {
          "bdata": "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",
          "dtype": "f8"
         },
         "yaxis": "y"
        },
        {
         "line": {
          "color": "rgba(0,0,0,0.5)",
          "width": 1
         },
         "mode": "lines",
         "name": "Failure events",
         "type": "scatter",
         "x": [
          null
         ],
         "y": [
          null
         ]
        }
       ],
       "layout": {
        "legend": {
         "tracegroupgap": 0
        },
        "margin": {
         "b": 50,
         "l": 60,
         "r": 40,
         "t": 120
        },
        "shapes": [
         {
          "line": {
           "color": "rgba(0,0,0,0.5)",
           "width": 2
          },
          "type": "line",
          "x0": 13,
          "x1": 13,
          "xref": "x",
          "y0": 0,
          "y1": 1,
          "yref": "y domain"
         },
         {
          "line": {
           "color": "rgba(0,0,0,0.5)",
           "width": 2
          },
          "type": "line",
          "x0": 157,
          "x1": 157,
          "xref": "x",
          "y0": 0,
          "y1": 1,
          "yref": "y domain"
         },
         {
          "line": {
           "color": "rgba(0,0,0,0.5)",
           "width": 2
          },
          "type": "line",
          "x0": 158,
          "x1": 158,
          "xref": "x",
          "y0": 0,
          "y1": 1,
          "yref": "y domain"
         },
         {
          "line": {
           "color": "rgba(0,0,0,0.5)",
           "width": 2
          },
          "type": "line",
          "x0": 159,
          "x1": 159,
          "xref": "x",
          "y0": 0,
          "y1": 1,
          "yref": "y domain"
         },
         {
          "line": {
           "color": "rgba(0,0,0,0.5)",
           "width": 2
          },
          "type": "line",
          "x0": 163,
          "x1": 163,
          "xref": "x",
          "y0": 0,
          "y1": 1,
          "yref": "y domain"
         },
         {
          "line": {
           "color": "rgba(0,0,0,0.5)",
           "width": 2
          },
          "type": "line",
          "x0": 164,
          "x1": 164,
          "xref": "x",
          "y0": 0,
          "y1": 1,
          "yref": "y domain"
         },
         {
          "line": {
           "color": "rgba(0,0,0,0.5)",
           "width": 2
          },
          "type": "line",
          "x0": 165,
          "x1": 165,
          "xref": "x",
          "y0": 0,
          "y1": 1,
          "yref": "y domain"
         },
         {
          "line": {
           "color": "rgba(0,0,0,0.5)",
           "width": 2
          },
          "type": "line",
          "x0": 263,
          "x1": 263,
          "xref": "x",
          "y0": 0,
          "y1": 1,
          "yref": "y domain"
         },
         {
          "line": {
           "color": "rgba(0,0,0,0.5)",
           "width": 2
          },
          "type": "line",
          "x0": 264,
          "x1": 264,
          "xref": "x",
          "y0": 0,
          "y1": 1,
          "yref": "y domain"
         },
         {
          "line": {
           "color": "rgba(0,0,0,0.5)",
           "width": 2
          },
          "type": "line",
          "x0": 265,
          "x1": 265,
          "xref": "x",
          "y0": 0,
          "y1": 1,
          "yref": "y domain"
         },
         {
          "line": {
           "color": "rgba(0,0,0,0.5)",
           "width": 2
          },
          "type": "line",
          "x0": 270,
          "x1": 270,
          "xref": "x",
          "y0": 0,
          "y1": 1,
          "yref": "y domain"
         },
         {
          "line": {
           "color": "rgba(0,0,0,0.5)",
           "width": 2
          },
          "type": "line",
          "x0": 271,
          "x1": 271,
          "xref": "x",
          "y0": 0,
          "y1": 1,
          "yref": "y domain"
         },
         {
          "line": {
           "color": "rgba(0,0,0,0.5)",
           "width": 2
          },
          "type": "line",
          "x0": 415,
          "x1": 415,
          "xref": "x",
          "y0": 0,
          "y1": 1,
          "yref": "y domain"
         },
         {
          "line": {
           "color": "rgba(0,0,0,0.5)",
           "width": 2
          },
          "type": "line",
          "x0": 416,
          "x1": 416,
          "xref": "x",
          "y0": 0,
          "y1": 1,
          "yref": "y domain"
         },
         {
          "line": {
           "color": "rgba(0,0,0,0.5)",
           "width": 2
          },
          "type": "line",
          "x0": 417,
          "x1": 417,
          "xref": "x",
          "y0": 0,
          "y1": 1,
          "yref": "y domain"
         },
         {
          "line": {
           "color": "rgba(0,0,0,0.5)",
           "width": 2
          },
          "type": "line",
          "x0": 418,
          "x1": 418,
          "xref": "x",
          "y0": 0,
          "y1": 1,
          "yref": "y domain"
         },
         {
          "line": {
           "color": "rgba(0,0,0,0.5)",
           "width": 2
          },
          "type": "line",
          "x0": 419,
          "x1": 419,
          "xref": "x",
          "y0": 0,
          "y1": 1,
          "yref": "y domain"
         },
         {
          "line": {
           "color": "rgba(0,0,0,0.5)",
           "width": 2
          },
          "type": "line",
          "x0": 420,
          "x1": 420,
          "xref": "x",
          "y0": 0,
          "y1": 1,
          "yref": "y domain"
         },
         {
          "line": {
           "color": "rgba(0,0,0,0.5)",
           "width": 2
          },
          "type": "line",
          "x0": 421,
          "x1": 421,
          "xref": "x",
          "y0": 0,
          "y1": 1,
          "yref": "y domain"
         },
         {
          "line": {
           "color": "rgba(0,0,0,0.5)",
           "width": 2
          },
          "type": "line",
          "x0": 422,
          "x1": 422,
          "xref": "x",
          "y0": 0,
          "y1": 1,
          "yref": "y domain"
         },
         {
          "line": {
           "color": "rgba(0,0,0,0.5)",
           "width": 2
          },
          "type": "line",
          "x0": 423,
          "x1": 423,
          "xref": "x",
          "y0": 0,
          "y1": 1,
          "yref": "y domain"
         },
         {
          "line": {
           "color": "rgba(0,0,0,0.5)",
           "width": 2
          },
          "type": "line",
          "x0": 424,
          "x1": 424,
          "xref": "x",
          "y0": 0,
          "y1": 1,
          "yref": "y domain"
         },
         {
          "line": {
           "color": "rgba(0,0,0,0.5)",
           "width": 2
          },
          "type": "line",
          "x0": 425,
          "x1": 425,
          "xref": "x",
          "y0": 0,
          "y1": 1,
          "yref": "y domain"
         },
         {
          "line": {
           "color": "rgba(0,0,0,0.5)",
           "width": 2
          },
          "type": "line",
          "x0": 426,
          "x1": 426,
          "xref": "x",
          "y0": 0,
          "y1": 1,
          "yref": "y domain"
         },
         {
          "line": {
           "color": "rgba(0,0,0,0.5)",
           "width": 2
          },
          "type": "line",
          "x0": 427,
          "x1": 427,
          "xref": "x",
          "y0": 0,
          "y1": 1,
          "yref": "y domain"
         },
         {
          "line": {
           "color": "rgba(0,0,0,0.5)",
           "width": 2
          },
          "type": "line",
          "x0": 428,
          "x1": 428,
          "xref": "x",
          "y0": 0,
          "y1": 1,
          "yref": "y domain"
         },
         {
          "line": {
           "color": "rgba(0,0,0,0.5)",
           "width": 2
          },
          "type": "line",
          "x0": 429,
          "x1": 429,
          "xref": "x",
          "y0": 0,
          "y1": 1,
          "yref": "y domain"
         },
         {
          "line": {
           "color": "rgba(0,0,0,0.5)",
           "width": 2
          },
          "type": "line",
          "x0": 430,
          "x1": 430,
          "xref": "x",
          "y0": 0,
          "y1": 1,
          "yref": "y domain"
         },
         {
          "line": {
           "color": "rgba(0,0,0,0.5)",
           "width": 2
          },
          "type": "line",
          "x0": 431,
          "x1": 431,
          "xref": "x",
          "y0": 0,
          "y1": 1,
          "yref": "y domain"
         },
         {
          "line": {
           "color": "rgba(0,0,0,0.5)",
           "width": 2
          },
          "type": "line",
          "x0": 432,
          "x1": 432,
          "xref": "x",
          "y0": 0,
          "y1": 1,
          "yref": "y domain"
         },
         {
          "line": {
           "color": "rgba(0,0,0,0.5)",
           "width": 2
          },
          "type": "line",
          "x0": 538,
          "x1": 538,
          "xref": "x",
          "y0": 0,
          "y1": 1,
          "yref": "y domain"
         },
         {
          "line": {
           "color": "rgba(0,0,0,0.5)",
           "width": 2
          },
          "type": "line",
          "x0": 539,
          "x1": 539,
          "xref": "x",
          "y0": 0,
          "y1": 1,
          "yref": "y domain"
         },
         {
          "line": {
           "color": "rgba(0,0,0,0.5)",
           "width": 2
          },
          "type": "line",
          "x0": 540,
          "x1": 540,
          "xref": "x",
          "y0": 0,
          "y1": 1,
          "yref": "y domain"
         },
         {
          "line": {
           "color": "rgba(0,0,0,0.5)",
           "width": 2
          },
          "type": "line",
          "x0": 541,
          "x1": 541,
          "xref": "x",
          "y0": 0,
          "y1": 1,
          "yref": "y domain"
         },
         {
          "line": {
           "color": "rgba(0,0,0,0.5)",
           "width": 2
          },
          "type": "line",
          "x0": 542,
          "x1": 542,
          "xref": "x",
          "y0": 0,
          "y1": 1,
          "yref": "y domain"
         },
         {
          "line": {
           "color": "rgba(0,0,0,0.5)",
           "width": 2
          },
          "type": "line",
          "x0": 543,
          "x1": 543,
          "xref": "x",
          "y0": 0,
          "y1": 1,
          "yref": "y domain"
         },
         {
          "line": {
           "color": "rgba(0,0,0,0.5)",
           "width": 2
          },
          "type": "line",
          "x0": 544,
          "x1": 544,
          "xref": "x",
          "y0": 0,
          "y1": 1,
          "yref": "y domain"
         },
         {
          "line": {
           "color": "rgba(0,0,0,0.5)",
           "width": 2
          },
          "type": "line",
          "x0": 545,
          "x1": 545,
          "xref": "x",
          "y0": 0,
          "y1": 1,
          "yref": "y domain"
         },
         {
          "line": {
           "color": "rgba(0,0,0,0.5)",
           "width": 2
          },
          "type": "line",
          "x0": 546,
          "x1": 546,
          "xref": "x",
          "y0": 0,
          "y1": 1,
          "yref": "y domain"
         },
         {
          "line": {
           "color": "rgba(0,0,0,0.5)",
           "width": 2
          },
          "type": "line",
          "x0": 550,
          "x1": 550,
          "xref": "x",
          "y0": 0,
          "y1": 1,
          "yref": "y domain"
         },
         {
          "line": {
           "color": "rgba(0,0,0,0.5)",
           "width": 2
          },
          "type": "line",
          "x0": 551,
          "x1": 551,
          "xref": "x",
          "y0": 0,
          "y1": 1,
          "yref": "y domain"
         },
         {
          "line": {
           "color": "rgba(0,0,0,0.5)",
           "width": 2
          },
          "type": "line",
          "x0": 552,
          "x1": 552,
          "xref": "x",
          "y0": 0,
          "y1": 1,
          "yref": "y domain"
         },
         {
          "line": {
           "color": "rgba(0,0,0,0.5)",
           "width": 2
          },
          "type": "line",
          "x0": 553,
          "x1": 553,
          "xref": "x",
          "y0": 0,
          "y1": 1,
          "yref": "y domain"
         },
         {
          "line": {
           "color": "rgba(0,0,0,0.5)",
           "width": 2
          },
          "type": "line",
          "x0": 554,
          "x1": 554,
          "xref": "x",
          "y0": 0,
          "y1": 1,
          "yref": "y domain"
         },
         {
          "line": {
           "color": "rgba(0,0,0,0.5)",
           "width": 2
          },
          "type": "line",
          "x0": 700,
          "x1": 700,
          "xref": "x",
          "y0": 0,
          "y1": 1,
          "yref": "y domain"
         },
         {
          "line": {
           "color": "rgba(0,0,0,0.5)",
           "width": 2
          },
          "type": "line",
          "x0": 701,
          "x1": 701,
          "xref": "x",
          "y0": 0,
          "y1": 1,
          "yref": "y domain"
         },
         {
          "line": {
           "color": "rgba(0,0,0,0.5)",
           "width": 2
          },
          "type": "line",
          "x0": 702,
          "x1": 702,
          "xref": "x",
          "y0": 0,
          "y1": 1,
          "yref": "y domain"
         },
         {
          "line": {
           "color": "rgba(0,0,0,0.5)",
           "width": 2
          },
          "type": "line",
          "x0": 703,
          "x1": 703,
          "xref": "x",
          "y0": 0,
          "y1": 1,
          "yref": "y domain"
         },
         {
          "line": {
           "color": "rgba(0,0,0,0.5)",
           "width": 2
          },
          "type": "line",
          "x0": 704,
          "x1": 704,
          "xref": "x",
          "y0": 0,
          "y1": 1,
          "yref": "y domain"
         },
         {
          "line": {
           "color": "rgba(0,0,0,0.5)",
           "width": 2
          },
          "type": "line",
          "x0": 705,
          "x1": 705,
          "xref": "x",
          "y0": 0,
          "y1": 1,
          "yref": "y domain"
         },
         {
          "line": {
           "color": "rgba(0,0,0,0.5)",
           "width": 2
          },
          "type": "line",
          "x0": 706,
          "x1": 706,
          "xref": "x",
          "y0": 0,
          "y1": 1,
          "yref": "y domain"
         },
         {
          "line": {
           "color": "rgba(0,0,0,0.5)",
           "width": 2
          },
          "type": "line",
          "x0": 707,
          "x1": 707,
          "xref": "x",
          "y0": 0,
          "y1": 1,
          "yref": "y domain"
         },
         {
          "line": {
           "color": "rgba(0,0,0,0.5)",
           "width": 2
          },
          "type": "line",
          "x0": 708,
          "x1": 708,
          "xref": "x",
          "y0": 0,
          "y1": 1,
          "yref": "y domain"
         },
         {
          "line": {
           "color": "rgba(0,0,0,0.5)",
           "width": 2
          },
          "type": "line",
          "x0": 709,
          "x1": 709,
          "xref": "x",
          "y0": 0,
          "y1": 1,
          "yref": "y domain"
         },
         {
          "line": {
           "color": "rgba(0,0,0,0.5)",
           "width": 2
          },
          "type": "line",
          "x0": 710,
          "x1": 710,
          "xref": "x",
          "y0": 0,
          "y1": 1,
          "yref": "y domain"
         },
         {
          "line": {
           "color": "rgba(0,0,0,0.5)",
           "width": 2
          },
          "type": "line",
          "x0": 711,
          "x1": 711,
          "xref": "x",
          "y0": 0,
          "y1": 1,
          "yref": "y domain"
         },
         {
          "line": {
           "color": "rgba(0,0,0,0.5)",
           "width": 2
          },
          "type": "line",
          "x0": 712,
          "x1": 712,
          "xref": "x",
          "y0": 0,
          "y1": 1,
          "yref": "y domain"
         },
         {
          "line": {
           "color": "rgba(0,0,0,0.5)",
           "width": 2
          },
          "type": "line",
          "x0": 713,
          "x1": 713,
          "xref": "x",
          "y0": 0,
          "y1": 1,
          "yref": "y domain"
         },
         {
          "line": {
           "color": "rgba(0,0,0,0.5)",
           "width": 2
          },
          "type": "line",
          "x0": 793,
          "x1": 793,
          "xref": "x",
          "y0": 0,
          "y1": 1,
          "yref": "y domain"
         },
         {
          "line": {
           "color": "rgba(0,0,0,0.5)",
           "width": 2
          },
          "type": "line",
          "x0": 794,
          "x1": 794,
          "xref": "x",
          "y0": 0,
          "y1": 1,
          "yref": "y domain"
         },
         {
          "line": {
           "color": "rgba(0,0,0,0.5)",
           "width": 2
          },
          "type": "line",
          "x0": 795,
          "x1": 795,
          "xref": "x",
          "y0": 0,
          "y1": 1,
          "yref": "y domain"
         },
         {
          "line": {
           "color": "rgba(0,0,0,0.5)",
           "width": 2
          },
          "type": "line",
          "x0": 796,
          "x1": 796,
          "xref": "x",
          "y0": 0,
          "y1": 1,
          "yref": "y domain"
         },
         {
          "line": {
           "color": "rgba(0,0,0,0.5)",
           "width": 2
          },
          "type": "line",
          "x0": 797,
          "x1": 797,
          "xref": "x",
          "y0": 0,
          "y1": 1,
          "yref": "y domain"
         },
         {
          "line": {
           "color": "rgba(0,0,0,0.5)",
           "width": 2
          },
          "type": "line",
          "x0": 798,
          "x1": 798,
          "xref": "x",
          "y0": 0,
          "y1": 1,
          "yref": "y domain"
         },
         {
          "line": {
           "color": "rgba(0,0,0,0.5)",
           "width": 2
          },
          "type": "line",
          "x0": 799,
          "x1": 799,
          "xref": "x",
          "y0": 0,
          "y1": 1,
          "yref": "y domain"
         },
         {
          "line": {
           "color": "rgba(0,0,0,0.5)",
           "width": 2
          },
          "type": "line",
          "x0": 800,
          "x1": 800,
          "xref": "x",
          "y0": 0,
          "y1": 1,
          "yref": "y domain"
         }
        ],
        "template": {
         "data": {
          "bar": [
           {
            "error_x": {
             "color": "#2a3f5f"
            },
            "error_y": {
             "color": "#2a3f5f"
            },
            "marker": {
             "line": {
              "color": "#E5ECF6",
              "width": 0.5
             },
             "pattern": {
              "fillmode": "overlay",
              "size": 10,
              "solidity": 0.2
             }
            },
            "type": "bar"
           }
          ],
          "barpolar": [
           {
            "marker": {
             "line": {
              "color": "#E5ECF6",
              "width": 0.5
             },
             "pattern": {
              "fillmode": "overlay",
              "size": 10,
              "solidity": 0.2
             }
            },
            "type": "barpolar"
           }
          ],
          "carpet": [
           {
            "aaxis": {
             "endlinecolor": "#2a3f5f",
             "gridcolor": "white",
             "linecolor": "white",
             "minorgridcolor": "white",
             "startlinecolor": "#2a3f5f"
            },
            "baxis": {
             "endlinecolor": "#2a3f5f",
             "gridcolor": "white",
             "linecolor": "white",
             "minorgridcolor": "white",
             "startlinecolor": "#2a3f5f"
            },
            "type": "carpet"
           }
          ],
          "choropleth": [
           {
            "colorbar": {
             "outlinewidth": 0,
             "ticks": ""
            },
            "type": "choropleth"
           }
          ],
          "contour": [
           {
            "colorbar": {
             "outlinewidth": 0,
             "ticks": ""
            },
            "colorscale": [
             [
              0,
              "#0d0887"
             ],
             [
              0.1111111111111111,
              "#46039f"
             ],
             [
              0.2222222222222222,
              "#7201a8"
             ],
             [
              0.3333333333333333,
              "#9c179e"
             ],
             [
              0.4444444444444444,
              "#bd3786"
             ],
             [
              0.5555555555555556,
              "#d8576b"
             ],
             [
              0.6666666666666666,
              "#ed7953"
             ],
             [
              0.7777777777777778,
              "#fb9f3a"
             ],
             [
              0.8888888888888888,
              "#fdca26"
             ],
             [
              1,
              "#f0f921"
             ]
            ],
            "type": "contour"
           }
          ],
          "contourcarpet": [
           {
            "colorbar": {
             "outlinewidth": 0,
             "ticks": ""
            },
            "type": "contourcarpet"
           }
          ],
          "heatmap": [
           {
            "colorbar": {
             "outlinewidth": 0,
             "ticks": ""
            },
            "colorscale": [
             [
              0,
              "#0d0887"
             ],
             [
              0.1111111111111111,
              "#46039f"
             ],
             [
              0.2222222222222222,
              "#7201a8"
             ],
             [
              0.3333333333333333,
              "#9c179e"
             ],
             [
              0.4444444444444444,
              "#bd3786"
             ],
             [
              0.5555555555555556,
              "#d8576b"
             ],
             [
              0.6666666666666666,
              "#ed7953"
             ],
             [
              0.7777777777777778,
              "#fb9f3a"
             ],
             [
              0.8888888888888888,
              "#fdca26"
             ],
             [
              1,
              "#f0f921"
             ]
            ],
            "type": "heatmap"
           }
          ],
          "histogram": [
           {
            "marker": {
             "pattern": {
              "fillmode": "overlay",
              "size": 10,
              "solidity": 0.2
             }
            },
            "type": "histogram"
           }
          ],
          "histogram2d": [
           {
            "colorbar": {
             "outlinewidth": 0,
             "ticks": ""
            },
            "colorscale": [
             [
              0,
              "#0d0887"
             ],
             [
              0.1111111111111111,
              "#46039f"
             ],
             [
              0.2222222222222222,
              "#7201a8"
             ],
             [
              0.3333333333333333,
              "#9c179e"
             ],
             [
              0.4444444444444444,
              "#bd3786"
             ],
             [
              0.5555555555555556,
              "#d8576b"
             ],
             [
              0.6666666666666666,
              "#ed7953"
             ],
             [
              0.7777777777777778,
              "#fb9f3a"
             ],
             [
              0.8888888888888888,
              "#fdca26"
             ],
             [
              1,
              "#f0f921"
             ]
            ],
            "type": "histogram2d"
           }
          ],
          "histogram2dcontour": [
           {
            "colorbar": {
             "outlinewidth": 0,
             "ticks": ""
            },
            "colorscale": [
             [
              0,
              "#0d0887"
             ],
             [
              0.1111111111111111,
              "#46039f"
             ],
             [
              0.2222222222222222,
              "#7201a8"
             ],
             [
              0.3333333333333333,
              "#9c179e"
             ],
             [
              0.4444444444444444,
              "#bd3786"
             ],
             [
              0.5555555555555556,
              "#d8576b"
             ],
             [
              0.6666666666666666,
              "#ed7953"
             ],
             [
              0.7777777777777778,
              "#fb9f3a"
             ],
             [
              0.8888888888888888,
              "#fdca26"
             ],
             [
              1,
              "#f0f921"
             ]
            ],
            "type": "histogram2dcontour"
           }
          ],
          "mesh3d": [
           {
            "colorbar": {
             "outlinewidth": 0,
             "ticks": ""
            },
            "type": "mesh3d"
           }
          ],
          "parcoords": [
           {
            "line": {
             "colorbar": {
              "outlinewidth": 0,
              "ticks": ""
             }
            },
            "type": "parcoords"
           }
          ],
          "pie": [
           {
            "automargin": true,
            "type": "pie"
           }
          ],
          "scatter": [
           {
            "fillpattern": {
             "fillmode": "overlay",
             "size": 10,
             "solidity": 0.2
            },
            "type": "scatter"
           }
          ],
          "scatter3d": [
           {
            "line": {
             "colorbar": {
              "outlinewidth": 0,
              "ticks": ""
             }
            },
            "marker": {
             "colorbar": {
              "outlinewidth": 0,
              "ticks": ""
             }
            },
            "type": "scatter3d"
           }
          ],
          "scattercarpet": [
           {
            "marker": {
             "colorbar": {
              "outlinewidth": 0,
              "ticks": ""
             }
            },
            "type": "scattercarpet"
           }
          ],
          "scattergeo": [
           {
            "marker": {
             "colorbar": {
              "outlinewidth": 0,
              "ticks": ""
             }
            },
            "type": "scattergeo"
           }
          ],
          "scattergl": [
           {
            "marker": {
             "colorbar": {
              "outlinewidth": 0,
              "ticks": ""
             }
            },
            "type": "scattergl"
           }
          ],
          "scattermap": [
           {
            "marker": {
             "colorbar": {
              "outlinewidth": 0,
              "ticks": ""
             }
            },
            "type": "scattermap"
           }
          ],
          "scattermapbox": [
           {
            "marker": {
             "colorbar": {
              "outlinewidth": 0,
              "ticks": ""
             }
            },
            "type": "scattermapbox"
           }
          ],
          "scatterpolar": [
           {
            "marker": {
             "colorbar": {
              "outlinewidth": 0,
              "ticks": ""
             }
            },
            "type": "scatterpolar"
           }
          ],
          "scatterpolargl": [
           {
            "marker": {
             "colorbar": {
              "outlinewidth": 0,
              "ticks": ""
             }
            },
            "type": "scatterpolargl"
           }
          ],
          "scatterternary": [
           {
            "marker": {
             "colorbar": {
              "outlinewidth": 0,
              "ticks": ""
             }
            },
            "type": "scatterternary"
           }
          ],
          "surface": [
           {
            "colorbar": {
             "outlinewidth": 0,
             "ticks": ""
            },
            "colorscale": [
             [
              0,
              "#0d0887"
             ],
             [
              0.1111111111111111,
              "#46039f"
             ],
             [
              0.2222222222222222,
              "#7201a8"
             ],
             [
              0.3333333333333333,
              "#9c179e"
             ],
             [
              0.4444444444444444,
              "#bd3786"
             ],
             [
              0.5555555555555556,
              "#d8576b"
             ],
             [
              0.6666666666666666,
              "#ed7953"
             ],
             [
              0.7777777777777778,
              "#fb9f3a"
             ],
             [
              0.8888888888888888,
              "#fdca26"
             ],
             [
              1,
              "#f0f921"
             ]
            ],
            "type": "surface"
           }
          ],
          "table": [
           {
            "cells": {
             "fill": {
              "color": "#EBF0F8"
             },
             "line": {
              "color": "white"
             }
            },
            "header": {
             "fill": {
              "color": "#C8D4E3"
             },
             "line": {
              "color": "white"
             }
            },
            "type": "table"
           }
          ]
         },
         "layout": {
          "annotationdefaults": {
           "arrowcolor": "#2a3f5f",
           "arrowhead": 0,
           "arrowwidth": 1
          },
          "autotypenumbers": "strict",
          "coloraxis": {
           "colorbar": {
            "outlinewidth": 0,
            "ticks": ""
           }
          },
          "colorscale": {
           "diverging": [
            [
             0,
             "#8e0152"
            ],
            [
             0.1,
             "#c51b7d"
            ],
            [
             0.2,
             "#de77ae"
            ],
            [
             0.3,
             "#f1b6da"
            ],
            [
             0.4,
             "#fde0ef"
            ],
            [
             0.5,
             "#f7f7f7"
            ],
            [
             0.6,
             "#e6f5d0"
            ],
            [
             0.7,
             "#b8e186"
            ],
            [
             0.8,
             "#7fbc41"
            ],
            [
             0.9,
             "#4d9221"
            ],
            [
             1,
             "#276419"
            ]
           ],
           "sequential": [
            [
             0,
             "#0d0887"
            ],
            [
             0.1111111111111111,
             "#46039f"
            ],
            [
             0.2222222222222222,
             "#7201a8"
            ],
            [
             0.3333333333333333,
             "#9c179e"
            ],
            [
             0.4444444444444444,
             "#bd3786"
            ],
            [
             0.5555555555555556,
             "#d8576b"
            ],
            [
             0.6666666666666666,
             "#ed7953"
            ],
            [
             0.7777777777777778,
             "#fb9f3a"
            ],
            [
             0.8888888888888888,
             "#fdca26"
            ],
            [
             1,
             "#f0f921"
            ]
           ],
           "sequentialminus": [
            [
             0,
             "#0d0887"
            ],
            [
             0.1111111111111111,
             "#46039f"
            ],
            [
             0.2222222222222222,
             "#7201a8"
            ],
            [
             0.3333333333333333,
             "#9c179e"
            ],
            [
             0.4444444444444444,
             "#bd3786"
            ],
            [
             0.5555555555555556,
             "#d8576b"
            ],
            [
             0.6666666666666666,
             "#ed7953"
            ],
            [
             0.7777777777777778,
             "#fb9f3a"
            ],
            [
             0.8888888888888888,
             "#fdca26"
            ],
            [
             1,
             "#f0f921"
            ]
           ]
          },
          "colorway": [
           "#636efa",
           "#EF553B",
           "#00cc96",
           "#ab63fa",
           "#FFA15A",
           "#19d3f3",
           "#FF6692",
           "#B6E880",
           "#FF97FF",
           "#FECB52"
          ],
          "font": {
           "color": "#2a3f5f"
          },
          "geo": {
           "bgcolor": "white",
           "lakecolor": "white",
           "landcolor": "#E5ECF6",
           "showlakes": true,
           "showland": true,
           "subunitcolor": "white"
          },
          "hoverlabel": {
           "align": "left"
          },
          "hovermode": "closest",
          "mapbox": {
           "style": "light"
          },
          "paper_bgcolor": "white",
          "plot_bgcolor": "#E5ECF6",
          "polar": {
           "angularaxis": {
            "gridcolor": "white",
            "linecolor": "white",
            "ticks": ""
           },
           "bgcolor": "#E5ECF6",
           "radialaxis": {
            "gridcolor": "white",
            "linecolor": "white",
            "ticks": ""
           }
          },
          "scene": {
           "xaxis": {
            "backgroundcolor": "#E5ECF6",
            "gridcolor": "white",
            "gridwidth": 2,
            "linecolor": "white",
            "showbackground": true,
            "ticks": "",
            "zerolinecolor": "white"
           },
           "yaxis": {
            "backgroundcolor": "#E5ECF6",
            "gridcolor": "white",
            "gridwidth": 2,
            "linecolor": "white",
            "showbackground": true,
            "ticks": "",
            "zerolinecolor": "white"
           },
           "zaxis": {
            "backgroundcolor": "#E5ECF6",
            "gridcolor": "white",
            "gridwidth": 2,
            "linecolor": "white",
            "showbackground": true,
            "ticks": "",
            "zerolinecolor": "white"
           }
          },
          "shapedefaults": {
           "line": {
            "color": "#2a3f5f"
           }
          },
          "ternary": {
           "aaxis": {
            "gridcolor": "white",
            "linecolor": "white",
            "ticks": ""
           },
           "baxis": {
            "gridcolor": "white",
            "linecolor": "white",
            "ticks": ""
           },
           "bgcolor": "#E5ECF6",
           "caxis": {
            "gridcolor": "white",
            "linecolor": "white",
            "ticks": ""
           }
          },
          "title": {
           "x": 0.05
          },
          "xaxis": {
           "automargin": true,
           "gridcolor": "white",
           "linecolor": "white",
           "ticks": "",
           "title": {
            "standoff": 15
           },
           "zerolinecolor": "white",
           "zerolinewidth": 2
          },
          "yaxis": {
           "automargin": true,
           "gridcolor": "white",
           "linecolor": "white",
           "ticks": "",
           "title": {
            "standoff": 15
           },
           "zerolinecolor": "white",
           "zerolinewidth": 2
          }
         }
        },
        "title": {
         "font": {
          "size": 26
         },
         "pad": {
          "b": 10,
          "t": 10
         },
         "text": "VibrationZ per Cycle with Failure events",
         "x": 0.5,
         "xanchor": "center",
         "y": 0.94,
         "yanchor": "top"
        },
        "xaxis": {
         "anchor": "y",
         "domain": [
          0,
          1
         ],
         "title": {
          "text": "Cycle"
         }
        },
        "yaxis": {
         "anchor": "x",
         "domain": [
          0,
          1
         ],
         "range": [
          0,
          254.0462479215578
         ],
         "title": {
          "text": "VibrationZ"
         }
        }
       }
      }
     },
     "metadata": {},
     "output_type": "display_data"
    },
    {
     "data": {
      "application/vnd.plotly.v1+json": {
       "config": {
        "plotlyServerURL": "https://plot.ly"
       },
       "data": [
        {
         "hovertemplate": "Cycle=%{x}<br>Frequency=%{y}<extra></extra>",
         "legendgroup": "",
         "line": {
          "color": "royalblue",
          "dash": "solid",
          "width": 2
         },
         "marker": {
          "symbol": "circle"
         },
         "mode": "lines",
         "name": "Frequency",
         "orientation": "v",
         "showlegend": true,
         "type": "scatter",
         "x": {
          "bdata": "AQACAAMABAAFAAYABwAIAAkACgALAAwADQAOAA8AEAARABIAEwAUABUAFgAXABgAGQAaABsAHAAdAB4AHwAgACEAIgAjACQAJQAmACcAKAApACoAKwAsAC0ALgAvADAAMQAyADMANAA1ADYANwA4ADkAOgA7ADwAPQA+AD8AQABBAEIAQwBEAEUARgBHAEgASQBKAEsATABNAE4ATwBQAFEAUgBTAFQAVQBWAFcAWABZAFoAWwBcAF0AXgBfAGAAYQBiAGMAZABlAGYAZwBoAGkAagBrAGwAbQBuAG8AcABxAHIAcwB0AHUAdgB3AHgAeQB6AHsAfAB9AH4AfwCAAIEAggCDAIQAhQCGAIcAiACJAIoAiwCMAI0AjgCPAJAAkQCSAJMAlACVAJYAlwCYAJkAmgCbAJwAnQCeAJ8AoAChAKIAowCkAKUApgCnAKgAqQCqAKsArACtAK4ArwCwALEAsgCzALQAtQC2ALcAuAC5ALoAuwC8AL0AvgC/AMAAwQDCAMMAxADFAMYAxwDIAMkAygDLAMwAzQDOAM8A0ADRANIA0wDUANUA1gDXANgA2QDaANsA3ADdAN4A3wDgAOEA4gDjAOQA5QDmAOcA6ADpAOoA6wDsAO0A7gDvAPAA8QDyAPMA9AD1APYA9wD4APkA+gD7APwA/QD+AP8AAAEBAQIBAwEEAQUBBgEHAQgBCQEKAQsBDAENAQ4BDwEQAREBEgETARQBFQEWARcBGAEZARoBGwEcAR0BHgEfASABIQEiASMBJAElASYBJwEoASkBKgErASwBLQEuAS8BMAExATIBMwE0ATUBNgE3ATgBOQE6ATsBPAE9AT4BPwFAAUEBQgFDAUQBRQFGAUcBSAFJAUoBSwFMAU0BTgFPAVABUQFSAVMBVAFVAVYBVwFYAVkBWgFbAVwBXQFeAV8BYAFhAWIBYwFkAWUBZgFnAWgBaQFqAWsBbAFtAW4BbwFwAXEBcgFzAXQBdQF2AXcBeAF5AXoBewF8AX0BfgF/AYABgQGCAYMBhAGFAYYBhwGIAYkBigGLAYwBjQGOAY8BkAGRAZIBkwGUAZUBlgGXAZgBmQGaAZsBnAGdAZ4BnwGgAaEBogGjAaQBpQGmAacBqAGpAaoBqwGsAa0BrgGvAbABsQGyAbMBtAG1AbYBtwG4AbkBugG7AbwBvQG+Ab8BwAHBAcIBwwHEAcUBxgHHAcgByQHKAcsBzAHNAc4BzwHQAdEB0gHTAdQB1QHWAdcB2AHZAdoB2wHcAd0B3gHfAeAB4QHiAeMB5AHlAeYB5wHoAekB6gHrAewB7QHuAe8B8AHxAfIB8wH0AfUB9gH3AfgB+QH6AfsB/AH9Af4B/wEAAgECAgIDAgQCBQIGAgcCCAIJAgoCCwIMAg0CDgIPAhACEQISAhMCFAIVAhYCFwIYAhkCGgIbAhwCHQIeAh8CIAIhAiICIwIkAiUCJgInAigCKQIqAisCLAItAi4CLwIwAjECMgIzAjQCNQI2AjcCOAI5AjoCOwI8Aj0CPgI/AkACQQJCAkMCRAJFAkYCRwJIAkkCSgJLAkwCTQJOAk8CUAJRAlICUwJUAlUCVgJXAlgCWQJaAlsCXAJdAl4CXwJgAmECYgJjAmQCZQJmAmcCaAJpAmoCawJsAm0CbgJvAnACcQJyAnMCdAJ1AnYCdwJ4AnkCegJ7AnwCfQJ+An8CgAKBAoICgwKEAoUChgKHAogCiQKKAosCjAKNAo4CjwKQApECkgKTApQClQKWApcCmAKZApoCmwKcAp0CngKfAqACoQKiAqMCpAKlAqYCpwKoAqkCqgKrAqwCrQKuAq8CsAKxArICswK0ArUCtgK3ArgCuQK6ArsCvAK9Ar4CvwLAAsECwgLDAsQCxQLGAscCyALJAsoCywLMAs0CzgLPAtAC0QLSAtMC1ALVAtYC1wLYAtkC2gLbAtwC3QLeAt8C4ALhAuIC4wLkAuUC5gLnAugC6QLqAusC7ALtAu4C7wLwAvEC8gLzAvQC9QL2AvcC+AL5AvoC+wL8Av0C/gL/AgADAQMCAwMDBAMFAwYDBwMIAwkDCgMLAwwDDQMOAw8DEAMRAxIDEwMUAxUDFgMXAxgDGQMaAxsDHAMdAx4DHwMgAw==",
          "dtype": "i2"
         },
         "xaxis": "x",
         "y": {
          "bdata": "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",
          "dtype": "f8"
         },
         "yaxis": "y"
        },
        {
         "line": {
          "color": "rgba(0,0,0,0.5)",
          "width": 1
         },
         "mode": "lines",
         "name": "Failure events",
         "type": "scatter",
         "x": [
          null
         ],
         "y": [
          null
         ]
        }
       ],
       "layout": {
        "legend": {
         "tracegroupgap": 0
        },
        "margin": {
         "b": 50,
         "l": 60,
         "r": 40,
         "t": 120
        },
        "shapes": [
         {
          "line": {
           "color": "rgba(0,0,0,0.5)",
           "width": 2
          },
          "type": "line",
          "x0": 13,
          "x1": 13,
          "xref": "x",
          "y0": 0,
          "y1": 1,
          "yref": "y domain"
         },
         {
          "line": {
           "color": "rgba(0,0,0,0.5)",
           "width": 2
          },
          "type": "line",
          "x0": 157,
          "x1": 157,
          "xref": "x",
          "y0": 0,
          "y1": 1,
          "yref": "y domain"
         },
         {
          "line": {
           "color": "rgba(0,0,0,0.5)",
           "width": 2
          },
          "type": "line",
          "x0": 158,
          "x1": 158,
          "xref": "x",
          "y0": 0,
          "y1": 1,
          "yref": "y domain"
         },
         {
          "line": {
           "color": "rgba(0,0,0,0.5)",
           "width": 2
          },
          "type": "line",
          "x0": 159,
          "x1": 159,
          "xref": "x",
          "y0": 0,
          "y1": 1,
          "yref": "y domain"
         },
         {
          "line": {
           "color": "rgba(0,0,0,0.5)",
           "width": 2
          },
          "type": "line",
          "x0": 163,
          "x1": 163,
          "xref": "x",
          "y0": 0,
          "y1": 1,
          "yref": "y domain"
         },
         {
          "line": {
           "color": "rgba(0,0,0,0.5)",
           "width": 2
          },
          "type": "line",
          "x0": 164,
          "x1": 164,
          "xref": "x",
          "y0": 0,
          "y1": 1,
          "yref": "y domain"
         },
         {
          "line": {
           "color": "rgba(0,0,0,0.5)",
           "width": 2
          },
          "type": "line",
          "x0": 165,
          "x1": 165,
          "xref": "x",
          "y0": 0,
          "y1": 1,
          "yref": "y domain"
         },
         {
          "line": {
           "color": "rgba(0,0,0,0.5)",
           "width": 2
          },
          "type": "line",
          "x0": 263,
          "x1": 263,
          "xref": "x",
          "y0": 0,
          "y1": 1,
          "yref": "y domain"
         },
         {
          "line": {
           "color": "rgba(0,0,0,0.5)",
           "width": 2
          },
          "type": "line",
          "x0": 264,
          "x1": 264,
          "xref": "x",
          "y0": 0,
          "y1": 1,
          "yref": "y domain"
         },
         {
          "line": {
           "color": "rgba(0,0,0,0.5)",
           "width": 2
          },
          "type": "line",
          "x0": 265,
          "x1": 265,
          "xref": "x",
          "y0": 0,
          "y1": 1,
          "yref": "y domain"
         },
         {
          "line": {
           "color": "rgba(0,0,0,0.5)",
           "width": 2
          },
          "type": "line",
          "x0": 270,
          "x1": 270,
          "xref": "x",
          "y0": 0,
          "y1": 1,
          "yref": "y domain"
         },
         {
          "line": {
           "color": "rgba(0,0,0,0.5)",
           "width": 2
          },
          "type": "line",
          "x0": 271,
          "x1": 271,
          "xref": "x",
          "y0": 0,
          "y1": 1,
          "yref": "y domain"
         },
         {
          "line": {
           "color": "rgba(0,0,0,0.5)",
           "width": 2
          },
          "type": "line",
          "x0": 415,
          "x1": 415,
          "xref": "x",
          "y0": 0,
          "y1": 1,
          "yref": "y domain"
         },
         {
          "line": {
           "color": "rgba(0,0,0,0.5)",
           "width": 2
          },
          "type": "line",
          "x0": 416,
          "x1": 416,
          "xref": "x",
          "y0": 0,
          "y1": 1,
          "yref": "y domain"
         },
         {
          "line": {
           "color": "rgba(0,0,0,0.5)",
           "width": 2
          },
          "type": "line",
          "x0": 417,
          "x1": 417,
          "xref": "x",
          "y0": 0,
          "y1": 1,
          "yref": "y domain"
         },
         {
          "line": {
           "color": "rgba(0,0,0,0.5)",
           "width": 2
          },
          "type": "line",
          "x0": 418,
          "x1": 418,
          "xref": "x",
          "y0": 0,
          "y1": 1,
          "yref": "y domain"
         },
         {
          "line": {
           "color": "rgba(0,0,0,0.5)",
           "width": 2
          },
          "type": "line",
          "x0": 419,
          "x1": 419,
          "xref": "x",
          "y0": 0,
          "y1": 1,
          "yref": "y domain"
         },
         {
          "line": {
           "color": "rgba(0,0,0,0.5)",
           "width": 2
          },
          "type": "line",
          "x0": 420,
          "x1": 420,
          "xref": "x",
          "y0": 0,
          "y1": 1,
          "yref": "y domain"
         },
         {
          "line": {
           "color": "rgba(0,0,0,0.5)",
           "width": 2
          },
          "type": "line",
          "x0": 421,
          "x1": 421,
          "xref": "x",
          "y0": 0,
          "y1": 1,
          "yref": "y domain"
         },
         {
          "line": {
           "color": "rgba(0,0,0,0.5)",
           "width": 2
          },
          "type": "line",
          "x0": 422,
          "x1": 422,
          "xref": "x",
          "y0": 0,
          "y1": 1,
          "yref": "y domain"
         },
         {
          "line": {
           "color": "rgba(0,0,0,0.5)",
           "width": 2
          },
          "type": "line",
          "x0": 423,
          "x1": 423,
          "xref": "x",
          "y0": 0,
          "y1": 1,
          "yref": "y domain"
         },
         {
          "line": {
           "color": "rgba(0,0,0,0.5)",
           "width": 2
          },
          "type": "line",
          "x0": 424,
          "x1": 424,
          "xref": "x",
          "y0": 0,
          "y1": 1,
          "yref": "y domain"
         },
         {
          "line": {
           "color": "rgba(0,0,0,0.5)",
           "width": 2
          },
          "type": "line",
          "x0": 425,
          "x1": 425,
          "xref": "x",
          "y0": 0,
          "y1": 1,
          "yref": "y domain"
         },
         {
          "line": {
           "color": "rgba(0,0,0,0.5)",
           "width": 2
          },
          "type": "line",
          "x0": 426,
          "x1": 426,
          "xref": "x",
          "y0": 0,
          "y1": 1,
          "yref": "y domain"
         },
         {
          "line": {
           "color": "rgba(0,0,0,0.5)",
           "width": 2
          },
          "type": "line",
          "x0": 427,
          "x1": 427,
          "xref": "x",
          "y0": 0,
          "y1": 1,
          "yref": "y domain"
         },
         {
          "line": {
           "color": "rgba(0,0,0,0.5)",
           "width": 2
          },
          "type": "line",
          "x0": 428,
          "x1": 428,
          "xref": "x",
          "y0": 0,
          "y1": 1,
          "yref": "y domain"
         },
         {
          "line": {
           "color": "rgba(0,0,0,0.5)",
           "width": 2
          },
          "type": "line",
          "x0": 429,
          "x1": 429,
          "xref": "x",
          "y0": 0,
          "y1": 1,
          "yref": "y domain"
         },
         {
          "line": {
           "color": "rgba(0,0,0,0.5)",
           "width": 2
          },
          "type": "line",
          "x0": 430,
          "x1": 430,
          "xref": "x",
          "y0": 0,
          "y1": 1,
          "yref": "y domain"
         },
         {
          "line": {
           "color": "rgba(0,0,0,0.5)",
           "width": 2
          },
          "type": "line",
          "x0": 431,
          "x1": 431,
          "xref": "x",
          "y0": 0,
          "y1": 1,
          "yref": "y domain"
         },
         {
          "line": {
           "color": "rgba(0,0,0,0.5)",
           "width": 2
          },
          "type": "line",
          "x0": 432,
          "x1": 432,
          "xref": "x",
          "y0": 0,
          "y1": 1,
          "yref": "y domain"
         },
         {
          "line": {
           "color": "rgba(0,0,0,0.5)",
           "width": 2
          },
          "type": "line",
          "x0": 538,
          "x1": 538,
          "xref": "x",
          "y0": 0,
          "y1": 1,
          "yref": "y domain"
         },
         {
          "line": {
           "color": "rgba(0,0,0,0.5)",
           "width": 2
          },
          "type": "line",
          "x0": 539,
          "x1": 539,
          "xref": "x",
          "y0": 0,
          "y1": 1,
          "yref": "y domain"
         },
         {
          "line": {
           "color": "rgba(0,0,0,0.5)",
           "width": 2
          },
          "type": "line",
          "x0": 540,
          "x1": 540,
          "xref": "x",
          "y0": 0,
          "y1": 1,
          "yref": "y domain"
         },
         {
          "line": {
           "color": "rgba(0,0,0,0.5)",
           "width": 2
          },
          "type": "line",
          "x0": 541,
          "x1": 541,
          "xref": "x",
          "y0": 0,
          "y1": 1,
          "yref": "y domain"
         },
         {
          "line": {
           "color": "rgba(0,0,0,0.5)",
           "width": 2
          },
          "type": "line",
          "x0": 542,
          "x1": 542,
          "xref": "x",
          "y0": 0,
          "y1": 1,
          "yref": "y domain"
         },
         {
          "line": {
           "color": "rgba(0,0,0,0.5)",
           "width": 2
          },
          "type": "line",
          "x0": 543,
          "x1": 543,
          "xref": "x",
          "y0": 0,
          "y1": 1,
          "yref": "y domain"
         },
         {
          "line": {
           "color": "rgba(0,0,0,0.5)",
           "width": 2
          },
          "type": "line",
          "x0": 544,
          "x1": 544,
          "xref": "x",
          "y0": 0,
          "y1": 1,
          "yref": "y domain"
         },
         {
          "line": {
           "color": "rgba(0,0,0,0.5)",
           "width": 2
          },
          "type": "line",
          "x0": 545,
          "x1": 545,
          "xref": "x",
          "y0": 0,
          "y1": 1,
          "yref": "y domain"
         },
         {
          "line": {
           "color": "rgba(0,0,0,0.5)",
           "width": 2
          },
          "type": "line",
          "x0": 546,
          "x1": 546,
          "xref": "x",
          "y0": 0,
          "y1": 1,
          "yref": "y domain"
         },
         {
          "line": {
           "color": "rgba(0,0,0,0.5)",
           "width": 2
          },
          "type": "line",
          "x0": 550,
          "x1": 550,
          "xref": "x",
          "y0": 0,
          "y1": 1,
          "yref": "y domain"
         },
         {
          "line": {
           "color": "rgba(0,0,0,0.5)",
           "width": 2
          },
          "type": "line",
          "x0": 551,
          "x1": 551,
          "xref": "x",
          "y0": 0,
          "y1": 1,
          "yref": "y domain"
         },
         {
          "line": {
           "color": "rgba(0,0,0,0.5)",
           "width": 2
          },
          "type": "line",
          "x0": 552,
          "x1": 552,
          "xref": "x",
          "y0": 0,
          "y1": 1,
          "yref": "y domain"
         },
         {
          "line": {
           "color": "rgba(0,0,0,0.5)",
           "width": 2
          },
          "type": "line",
          "x0": 553,
          "x1": 553,
          "xref": "x",
          "y0": 0,
          "y1": 1,
          "yref": "y domain"
         },
         {
          "line": {
           "color": "rgba(0,0,0,0.5)",
           "width": 2
          },
          "type": "line",
          "x0": 554,
          "x1": 554,
          "xref": "x",
          "y0": 0,
          "y1": 1,
          "yref": "y domain"
         },
         {
          "line": {
           "color": "rgba(0,0,0,0.5)",
           "width": 2
          },
          "type": "line",
          "x0": 700,
          "x1": 700,
          "xref": "x",
          "y0": 0,
          "y1": 1,
          "yref": "y domain"
         },
         {
          "line": {
           "color": "rgba(0,0,0,0.5)",
           "width": 2
          },
          "type": "line",
          "x0": 701,
          "x1": 701,
          "xref": "x",
          "y0": 0,
          "y1": 1,
          "yref": "y domain"
         },
         {
          "line": {
           "color": "rgba(0,0,0,0.5)",
           "width": 2
          },
          "type": "line",
          "x0": 702,
          "x1": 702,
          "xref": "x",
          "y0": 0,
          "y1": 1,
          "yref": "y domain"
         },
         {
          "line": {
           "color": "rgba(0,0,0,0.5)",
           "width": 2
          },
          "type": "line",
          "x0": 703,
          "x1": 703,
          "xref": "x",
          "y0": 0,
          "y1": 1,
          "yref": "y domain"
         },
         {
          "line": {
           "color": "rgba(0,0,0,0.5)",
           "width": 2
          },
          "type": "line",
          "x0": 704,
          "x1": 704,
          "xref": "x",
          "y0": 0,
          "y1": 1,
          "yref": "y domain"
         },
         {
          "line": {
           "color": "rgba(0,0,0,0.5)",
           "width": 2
          },
          "type": "line",
          "x0": 705,
          "x1": 705,
          "xref": "x",
          "y0": 0,
          "y1": 1,
          "yref": "y domain"
         },
         {
          "line": {
           "color": "rgba(0,0,0,0.5)",
           "width": 2
          },
          "type": "line",
          "x0": 706,
          "x1": 706,
          "xref": "x",
          "y0": 0,
          "y1": 1,
          "yref": "y domain"
         },
         {
          "line": {
           "color": "rgba(0,0,0,0.5)",
           "width": 2
          },
          "type": "line",
          "x0": 707,
          "x1": 707,
          "xref": "x",
          "y0": 0,
          "y1": 1,
          "yref": "y domain"
         },
         {
          "line": {
           "color": "rgba(0,0,0,0.5)",
           "width": 2
          },
          "type": "line",
          "x0": 708,
          "x1": 708,
          "xref": "x",
          "y0": 0,
          "y1": 1,
          "yref": "y domain"
         },
         {
          "line": {
           "color": "rgba(0,0,0,0.5)",
           "width": 2
          },
          "type": "line",
          "x0": 709,
          "x1": 709,
          "xref": "x",
          "y0": 0,
          "y1": 1,
          "yref": "y domain"
         },
         {
          "line": {
           "color": "rgba(0,0,0,0.5)",
           "width": 2
          },
          "type": "line",
          "x0": 710,
          "x1": 710,
          "xref": "x",
          "y0": 0,
          "y1": 1,
          "yref": "y domain"
         },
         {
          "line": {
           "color": "rgba(0,0,0,0.5)",
           "width": 2
          },
          "type": "line",
          "x0": 711,
          "x1": 711,
          "xref": "x",
          "y0": 0,
          "y1": 1,
          "yref": "y domain"
         },
         {
          "line": {
           "color": "rgba(0,0,0,0.5)",
           "width": 2
          },
          "type": "line",
          "x0": 712,
          "x1": 712,
          "xref": "x",
          "y0": 0,
          "y1": 1,
          "yref": "y domain"
         },
         {
          "line": {
           "color": "rgba(0,0,0,0.5)",
           "width": 2
          },
          "type": "line",
          "x0": 713,
          "x1": 713,
          "xref": "x",
          "y0": 0,
          "y1": 1,
          "yref": "y domain"
         },
         {
          "line": {
           "color": "rgba(0,0,0,0.5)",
           "width": 2
          },
          "type": "line",
          "x0": 793,
          "x1": 793,
          "xref": "x",
          "y0": 0,
          "y1": 1,
          "yref": "y domain"
         },
         {
          "line": {
           "color": "rgba(0,0,0,0.5)",
           "width": 2
          },
          "type": "line",
          "x0": 794,
          "x1": 794,
          "xref": "x",
          "y0": 0,
          "y1": 1,
          "yref": "y domain"
         },
         {
          "line": {
           "color": "rgba(0,0,0,0.5)",
           "width": 2
          },
          "type": "line",
          "x0": 795,
          "x1": 795,
          "xref": "x",
          "y0": 0,
          "y1": 1,
          "yref": "y domain"
         },
         {
          "line": {
           "color": "rgba(0,0,0,0.5)",
           "width": 2
          },
          "type": "line",
          "x0": 796,
          "x1": 796,
          "xref": "x",
          "y0": 0,
          "y1": 1,
          "yref": "y domain"
         },
         {
          "line": {
           "color": "rgba(0,0,0,0.5)",
           "width": 2
          },
          "type": "line",
          "x0": 797,
          "x1": 797,
          "xref": "x",
          "y0": 0,
          "y1": 1,
          "yref": "y domain"
         },
         {
          "line": {
           "color": "rgba(0,0,0,0.5)",
           "width": 2
          },
          "type": "line",
          "x0": 798,
          "x1": 798,
          "xref": "x",
          "y0": 0,
          "y1": 1,
          "yref": "y domain"
         },
         {
          "line": {
           "color": "rgba(0,0,0,0.5)",
           "width": 2
          },
          "type": "line",
          "x0": 799,
          "x1": 799,
          "xref": "x",
          "y0": 0,
          "y1": 1,
          "yref": "y domain"
         },
         {
          "line": {
           "color": "rgba(0,0,0,0.5)",
           "width": 2
          },
          "type": "line",
          "x0": 800,
          "x1": 800,
          "xref": "x",
          "y0": 0,
          "y1": 1,
          "yref": "y domain"
         }
        ],
        "template": {
         "data": {
          "bar": [
           {
            "error_x": {
             "color": "#2a3f5f"
            },
            "error_y": {
             "color": "#2a3f5f"
            },
            "marker": {
             "line": {
              "color": "#E5ECF6",
              "width": 0.5
             },
             "pattern": {
              "fillmode": "overlay",
              "size": 10,
              "solidity": 0.2
             }
            },
            "type": "bar"
           }
          ],
          "barpolar": [
           {
            "marker": {
             "line": {
              "color": "#E5ECF6",
              "width": 0.5
             },
             "pattern": {
              "fillmode": "overlay",
              "size": 10,
              "solidity": 0.2
             }
            },
            "type": "barpolar"
           }
          ],
          "carpet": [
           {
            "aaxis": {
             "endlinecolor": "#2a3f5f",
             "gridcolor": "white",
             "linecolor": "white",
             "minorgridcolor": "white",
             "startlinecolor": "#2a3f5f"
            },
            "baxis": {
             "endlinecolor": "#2a3f5f",
             "gridcolor": "white",
             "linecolor": "white",
             "minorgridcolor": "white",
             "startlinecolor": "#2a3f5f"
            },
            "type": "carpet"
           }
          ],
          "choropleth": [
           {
            "colorbar": {
             "outlinewidth": 0,
             "ticks": ""
            },
            "type": "choropleth"
           }
          ],
          "contour": [
           {
            "colorbar": {
             "outlinewidth": 0,
             "ticks": ""
            },
            "colorscale": [
             [
              0,
              "#0d0887"
             ],
             [
              0.1111111111111111,
              "#46039f"
             ],
             [
              0.2222222222222222,
              "#7201a8"
             ],
             [
              0.3333333333333333,
              "#9c179e"
             ],
             [
              0.4444444444444444,
              "#bd3786"
             ],
             [
              0.5555555555555556,
              "#d8576b"
             ],
             [
              0.6666666666666666,
              "#ed7953"
             ],
             [
              0.7777777777777778,
              "#fb9f3a"
             ],
             [
              0.8888888888888888,
              "#fdca26"
             ],
             [
              1,
              "#f0f921"
             ]
            ],
            "type": "contour"
           }
          ],
          "contourcarpet": [
           {
            "colorbar": {
             "outlinewidth": 0,
             "ticks": ""
            },
            "type": "contourcarpet"
           }
          ],
          "heatmap": [
           {
            "colorbar": {
             "outlinewidth": 0,
             "ticks": ""
            },
            "colorscale": [
             [
              0,
              "#0d0887"
             ],
             [
              0.1111111111111111,
              "#46039f"
             ],
             [
              0.2222222222222222,
              "#7201a8"
             ],
             [
              0.3333333333333333,
              "#9c179e"
             ],
             [
              0.4444444444444444,
              "#bd3786"
             ],
             [
              0.5555555555555556,
              "#d8576b"
             ],
             [
              0.6666666666666666,
              "#ed7953"
             ],
             [
              0.7777777777777778,
              "#fb9f3a"
             ],
             [
              0.8888888888888888,
              "#fdca26"
             ],
             [
              1,
              "#f0f921"
             ]
            ],
            "type": "heatmap"
           }
          ],
          "histogram": [
           {
            "marker": {
             "pattern": {
              "fillmode": "overlay",
              "size": 10,
              "solidity": 0.2
             }
            },
            "type": "histogram"
           }
          ],
          "histogram2d": [
           {
            "colorbar": {
             "outlinewidth": 0,
             "ticks": ""
            },
            "colorscale": [
             [
              0,
              "#0d0887"
             ],
             [
              0.1111111111111111,
              "#46039f"
             ],
             [
              0.2222222222222222,
              "#7201a8"
             ],
             [
              0.3333333333333333,
              "#9c179e"
             ],
             [
              0.4444444444444444,
              "#bd3786"
             ],
             [
              0.5555555555555556,
              "#d8576b"
             ],
             [
              0.6666666666666666,
              "#ed7953"
             ],
             [
              0.7777777777777778,
              "#fb9f3a"
             ],
             [
              0.8888888888888888,
              "#fdca26"
             ],
             [
              1,
              "#f0f921"
             ]
            ],
            "type": "histogram2d"
           }
          ],
          "histogram2dcontour": [
           {
            "colorbar": {
             "outlinewidth": 0,
             "ticks": ""
            },
            "colorscale": [
             [
              0,
              "#0d0887"
             ],
             [
              0.1111111111111111,
              "#46039f"
             ],
             [
              0.2222222222222222,
              "#7201a8"
             ],
             [
              0.3333333333333333,
              "#9c179e"
             ],
             [
              0.4444444444444444,
              "#bd3786"
             ],
             [
              0.5555555555555556,
              "#d8576b"
             ],
             [
              0.6666666666666666,
              "#ed7953"
             ],
             [
              0.7777777777777778,
              "#fb9f3a"
             ],
             [
              0.8888888888888888,
              "#fdca26"
             ],
             [
              1,
              "#f0f921"
             ]
            ],
            "type": "histogram2dcontour"
           }
          ],
          "mesh3d": [
           {
            "colorbar": {
             "outlinewidth": 0,
             "ticks": ""
            },
            "type": "mesh3d"
           }
          ],
          "parcoords": [
           {
            "line": {
             "colorbar": {
              "outlinewidth": 0,
              "ticks": ""
             }
            },
            "type": "parcoords"
           }
          ],
          "pie": [
           {
            "automargin": true,
            "type": "pie"
           }
          ],
          "scatter": [
           {
            "fillpattern": {
             "fillmode": "overlay",
             "size": 10,
             "solidity": 0.2
            },
            "type": "scatter"
           }
          ],
          "scatter3d": [
           {
            "line": {
             "colorbar": {
              "outlinewidth": 0,
              "ticks": ""
             }
            },
            "marker": {
             "colorbar": {
              "outlinewidth": 0,
              "ticks": ""
             }
            },
            "type": "scatter3d"
           }
          ],
          "scattercarpet": [
           {
            "marker": {
             "colorbar": {
              "outlinewidth": 0,
              "ticks": ""
             }
            },
            "type": "scattercarpet"
           }
          ],
          "scattergeo": [
           {
            "marker": {
             "colorbar": {
              "outlinewidth": 0,
              "ticks": ""
             }
            },
            "type": "scattergeo"
           }
          ],
          "scattergl": [
           {
            "marker": {
             "colorbar": {
              "outlinewidth": 0,
              "ticks": ""
             }
            },
            "type": "scattergl"
           }
          ],
          "scattermap": [
           {
            "marker": {
             "colorbar": {
              "outlinewidth": 0,
              "ticks": ""
             }
            },
            "type": "scattermap"
           }
          ],
          "scattermapbox": [
           {
            "marker": {
             "colorbar": {
              "outlinewidth": 0,
              "ticks": ""
             }
            },
            "type": "scattermapbox"
           }
          ],
          "scatterpolar": [
           {
            "marker": {
             "colorbar": {
              "outlinewidth": 0,
              "ticks": ""
             }
            },
            "type": "scatterpolar"
           }
          ],
          "scatterpolargl": [
           {
            "marker": {
             "colorbar": {
              "outlinewidth": 0,
              "ticks": ""
             }
            },
            "type": "scatterpolargl"
           }
          ],
          "scatterternary": [
           {
            "marker": {
             "colorbar": {
              "outlinewidth": 0,
              "ticks": ""
             }
            },
            "type": "scatterternary"
           }
          ],
          "surface": [
           {
            "colorbar": {
             "outlinewidth": 0,
             "ticks": ""
            },
            "colorscale": [
             [
              0,
              "#0d0887"
             ],
             [
              0.1111111111111111,
              "#46039f"
             ],
             [
              0.2222222222222222,
              "#7201a8"
             ],
             [
              0.3333333333333333,
              "#9c179e"
             ],
             [
              0.4444444444444444,
              "#bd3786"
             ],
             [
              0.5555555555555556,
              "#d8576b"
             ],
             [
              0.6666666666666666,
              "#ed7953"
             ],
             [
              0.7777777777777778,
              "#fb9f3a"
             ],
             [
              0.8888888888888888,
              "#fdca26"
             ],
             [
              1,
              "#f0f921"
             ]
            ],
            "type": "surface"
           }
          ],
          "table": [
           {
            "cells": {
             "fill": {
              "color": "#EBF0F8"
             },
             "line": {
              "color": "white"
             }
            },
            "header": {
             "fill": {
              "color": "#C8D4E3"
             },
             "line": {
              "color": "white"
             }
            },
            "type": "table"
           }
          ]
         },
         "layout": {
          "annotationdefaults": {
           "arrowcolor": "#2a3f5f",
           "arrowhead": 0,
           "arrowwidth": 1
          },
          "autotypenumbers": "strict",
          "coloraxis": {
           "colorbar": {
            "outlinewidth": 0,
            "ticks": ""
           }
          },
          "colorscale": {
           "diverging": [
            [
             0,
             "#8e0152"
            ],
            [
             0.1,
             "#c51b7d"
            ],
            [
             0.2,
             "#de77ae"
            ],
            [
             0.3,
             "#f1b6da"
            ],
            [
             0.4,
             "#fde0ef"
            ],
            [
             0.5,
             "#f7f7f7"
            ],
            [
             0.6,
             "#e6f5d0"
            ],
            [
             0.7,
             "#b8e186"
            ],
            [
             0.8,
             "#7fbc41"
            ],
            [
             0.9,
             "#4d9221"
            ],
            [
             1,
             "#276419"
            ]
           ],
           "sequential": [
            [
             0,
             "#0d0887"
            ],
            [
             0.1111111111111111,
             "#46039f"
            ],
            [
             0.2222222222222222,
             "#7201a8"
            ],
            [
             0.3333333333333333,
             "#9c179e"
            ],
            [
             0.4444444444444444,
             "#bd3786"
            ],
            [
             0.5555555555555556,
             "#d8576b"
            ],
            [
             0.6666666666666666,
             "#ed7953"
            ],
            [
             0.7777777777777778,
             "#fb9f3a"
            ],
            [
             0.8888888888888888,
             "#fdca26"
            ],
            [
             1,
             "#f0f921"
            ]
           ],
           "sequentialminus": [
            [
             0,
             "#0d0887"
            ],
            [
             0.1111111111111111,
             "#46039f"
            ],
            [
             0.2222222222222222,
             "#7201a8"
            ],
            [
             0.3333333333333333,
             "#9c179e"
            ],
            [
             0.4444444444444444,
             "#bd3786"
            ],
            [
             0.5555555555555556,
             "#d8576b"
            ],
            [
             0.6666666666666666,
             "#ed7953"
            ],
            [
             0.7777777777777778,
             "#fb9f3a"
            ],
            [
             0.8888888888888888,
             "#fdca26"
            ],
            [
             1,
             "#f0f921"
            ]
           ]
          },
          "colorway": [
           "#636efa",
           "#EF553B",
           "#00cc96",
           "#ab63fa",
           "#FFA15A",
           "#19d3f3",
           "#FF6692",
           "#B6E880",
           "#FF97FF",
           "#FECB52"
          ],
          "font": {
           "color": "#2a3f5f"
          },
          "geo": {
           "bgcolor": "white",
           "lakecolor": "white",
           "landcolor": "#E5ECF6",
           "showlakes": true,
           "showland": true,
           "subunitcolor": "white"
          },
          "hoverlabel": {
           "align": "left"
          },
          "hovermode": "closest",
          "mapbox": {
           "style": "light"
          },
          "paper_bgcolor": "white",
          "plot_bgcolor": "#E5ECF6",
          "polar": {
           "angularaxis": {
            "gridcolor": "white",
            "linecolor": "white",
            "ticks": ""
           },
           "bgcolor": "#E5ECF6",
           "radialaxis": {
            "gridcolor": "white",
            "linecolor": "white",
            "ticks": ""
           }
          },
          "scene": {
           "xaxis": {
            "backgroundcolor": "#E5ECF6",
            "gridcolor": "white",
            "gridwidth": 2,
            "linecolor": "white",
            "showbackground": true,
            "ticks": "",
            "zerolinecolor": "white"
           },
           "yaxis": {
            "backgroundcolor": "#E5ECF6",
            "gridcolor": "white",
            "gridwidth": 2,
            "linecolor": "white",
            "showbackground": true,
            "ticks": "",
            "zerolinecolor": "white"
           },
           "zaxis": {
            "backgroundcolor": "#E5ECF6",
            "gridcolor": "white",
            "gridwidth": 2,
            "linecolor": "white",
            "showbackground": true,
            "ticks": "",
            "zerolinecolor": "white"
           }
          },
          "shapedefaults": {
           "line": {
            "color": "#2a3f5f"
           }
          },
          "ternary": {
           "aaxis": {
            "gridcolor": "white",
            "linecolor": "white",
            "ticks": ""
           },
           "baxis": {
            "gridcolor": "white",
            "linecolor": "white",
            "ticks": ""
           },
           "bgcolor": "#E5ECF6",
           "caxis": {
            "gridcolor": "white",
            "linecolor": "white",
            "ticks": ""
           }
          },
          "title": {
           "x": 0.05
          },
          "xaxis": {
           "automargin": true,
           "gridcolor": "white",
           "linecolor": "white",
           "ticks": "",
           "title": {
            "standoff": 15
           },
           "zerolinecolor": "white",
           "zerolinewidth": 2
          },
          "yaxis": {
           "automargin": true,
           "gridcolor": "white",
           "linecolor": "white",
           "ticks": "",
           "title": {
            "standoff": 15
           },
           "zerolinecolor": "white",
           "zerolinewidth": 2
          }
         }
        },
        "title": {
         "font": {
          "size": 26
         },
         "pad": {
          "b": 10,
          "t": 10
         },
         "text": "Frequency per Cycle with Failure events",
         "x": 0.5,
         "xanchor": "center",
         "y": 0.94,
         "yanchor": "top"
        },
        "xaxis": {
         "anchor": "y",
         "domain": [
          0,
          1
         ],
         "title": {
          "text": "Cycle"
         }
        },
        "yaxis": {
         "anchor": "x",
         "domain": [
          0,
          1
         ],
         "range": [
          0,
          195.89933292177872
         ],
         "title": {
          "text": "Frequency"
         }
        }
       }
      }
     },
     "metadata": {},
     "output_type": "display_data"
    },
    {
     "data": {
      "application/vnd.plotly.v1+json": {
       "config": {
        "plotlyServerURL": "https://plot.ly"
       },
       "data": [
        {
         "hovertemplate": "Cycle=%{x}<br>Module Vibration=%{y}<extra></extra>",
         "legendgroup": "",
         "line": {
          "color": "royalblue",
          "dash": "solid",
          "width": 2
         },
         "marker": {
          "symbol": "circle"
         },
         "mode": "lines",
         "name": "Module Vibration",
         "orientation": "v",
         "showlegend": true,
         "type": "scatter",
         "x": {
          "bdata": "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",
          "dtype": "i2"
         },
         "xaxis": "x",
         "y": {
          "bdata": "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",
          "dtype": "f8"
         },
         "yaxis": "y"
        },
        {
         "line": {
          "color": "rgba(0,0,0,0.5)",
          "width": 1
         },
         "mode": "lines",
         "name": "Failure events",
         "type": "scatter",
         "x": [
          null
         ],
         "y": [
          null
         ]
        }
       ],
       "layout": {
        "legend": {
         "tracegroupgap": 0
        },
        "margin": {
         "b": 50,
         "l": 60,
         "r": 40,
         "t": 120
        },
        "shapes": [
         {
          "line": {
           "color": "rgba(0,0,0,0.5)",
           "width": 2
          },
          "type": "line",
          "x0": 13,
          "x1": 13,
          "xref": "x",
          "y0": 0,
          "y1": 1,
          "yref": "y domain"
         },
         {
          "line": {
           "color": "rgba(0,0,0,0.5)",
           "width": 2
          },
          "type": "line",
          "x0": 157,
          "x1": 157,
          "xref": "x",
          "y0": 0,
          "y1": 1,
          "yref": "y domain"
         },
         {
          "line": {
           "color": "rgba(0,0,0,0.5)",
           "width": 2
          },
          "type": "line",
          "x0": 158,
          "x1": 158,
          "xref": "x",
          "y0": 0,
          "y1": 1,
          "yref": "y domain"
         },
         {
          "line": {
           "color": "rgba(0,0,0,0.5)",
           "width": 2
          },
          "type": "line",
          "x0": 159,
          "x1": 159,
          "xref": "x",
          "y0": 0,
          "y1": 1,
          "yref": "y domain"
         },
         {
          "line": {
           "color": "rgba(0,0,0,0.5)",
           "width": 2
          },
          "type": "line",
          "x0": 163,
          "x1": 163,
          "xref": "x",
          "y0": 0,
          "y1": 1,
          "yref": "y domain"
         },
         {
          "line": {
           "color": "rgba(0,0,0,0.5)",
           "width": 2
          },
          "type": "line",
          "x0": 164,
          "x1": 164,
          "xref": "x",
          "y0": 0,
          "y1": 1,
          "yref": "y domain"
         },
         {
          "line": {
           "color": "rgba(0,0,0,0.5)",
           "width": 2
          },
          "type": "line",
          "x0": 165,
          "x1": 165,
          "xref": "x",
          "y0": 0,
          "y1": 1,
          "yref": "y domain"
         },
         {
          "line": {
           "color": "rgba(0,0,0,0.5)",
           "width": 2
          },
          "type": "line",
          "x0": 263,
          "x1": 263,
          "xref": "x",
          "y0": 0,
          "y1": 1,
          "yref": "y domain"
         },
         {
          "line": {
           "color": "rgba(0,0,0,0.5)",
           "width": 2
          },
          "type": "line",
          "x0": 264,
          "x1": 264,
          "xref": "x",
          "y0": 0,
          "y1": 1,
          "yref": "y domain"
         },
         {
          "line": {
           "color": "rgba(0,0,0,0.5)",
           "width": 2
          },
          "type": "line",
          "x0": 265,
          "x1": 265,
          "xref": "x",
          "y0": 0,
          "y1": 1,
          "yref": "y domain"
         },
         {
          "line": {
           "color": "rgba(0,0,0,0.5)",
           "width": 2
          },
          "type": "line",
          "x0": 270,
          "x1": 270,
          "xref": "x",
          "y0": 0,
          "y1": 1,
          "yref": "y domain"
         },
         {
          "line": {
           "color": "rgba(0,0,0,0.5)",
           "width": 2
          },
          "type": "line",
          "x0": 271,
          "x1": 271,
          "xref": "x",
          "y0": 0,
          "y1": 1,
          "yref": "y domain"
         },
         {
          "line": {
           "color": "rgba(0,0,0,0.5)",
           "width": 2
          },
          "type": "line",
          "x0": 415,
          "x1": 415,
          "xref": "x",
          "y0": 0,
          "y1": 1,
          "yref": "y domain"
         },
         {
          "line": {
           "color": "rgba(0,0,0,0.5)",
           "width": 2
          },
          "type": "line",
          "x0": 416,
          "x1": 416,
          "xref": "x",
          "y0": 0,
          "y1": 1,
          "yref": "y domain"
         },
         {
          "line": {
           "color": "rgba(0,0,0,0.5)",
           "width": 2
          },
          "type": "line",
          "x0": 417,
          "x1": 417,
          "xref": "x",
          "y0": 0,
          "y1": 1,
          "yref": "y domain"
         },
         {
          "line": {
           "color": "rgba(0,0,0,0.5)",
           "width": 2
          },
          "type": "line",
          "x0": 418,
          "x1": 418,
          "xref": "x",
          "y0": 0,
          "y1": 1,
          "yref": "y domain"
         },
         {
          "line": {
           "color": "rgba(0,0,0,0.5)",
           "width": 2
          },
          "type": "line",
          "x0": 419,
          "x1": 419,
          "xref": "x",
          "y0": 0,
          "y1": 1,
          "yref": "y domain"
         },
         {
          "line": {
           "color": "rgba(0,0,0,0.5)",
           "width": 2
          },
          "type": "line",
          "x0": 420,
          "x1": 420,
          "xref": "x",
          "y0": 0,
          "y1": 1,
          "yref": "y domain"
         },
         {
          "line": {
           "color": "rgba(0,0,0,0.5)",
           "width": 2
          },
          "type": "line",
          "x0": 421,
          "x1": 421,
          "xref": "x",
          "y0": 0,
          "y1": 1,
          "yref": "y domain"
         },
         {
          "line": {
           "color": "rgba(0,0,0,0.5)",
           "width": 2
          },
          "type": "line",
          "x0": 422,
          "x1": 422,
          "xref": "x",
          "y0": 0,
          "y1": 1,
          "yref": "y domain"
         },
         {
          "line": {
           "color": "rgba(0,0,0,0.5)",
           "width": 2
          },
          "type": "line",
          "x0": 423,
          "x1": 423,
          "xref": "x",
          "y0": 0,
          "y1": 1,
          "yref": "y domain"
         },
         {
          "line": {
           "color": "rgba(0,0,0,0.5)",
           "width": 2
          },
          "type": "line",
          "x0": 424,
          "x1": 424,
          "xref": "x",
          "y0": 0,
          "y1": 1,
          "yref": "y domain"
         },
         {
          "line": {
           "color": "rgba(0,0,0,0.5)",
           "width": 2
          },
          "type": "line",
          "x0": 425,
          "x1": 425,
          "xref": "x",
          "y0": 0,
          "y1": 1,
          "yref": "y domain"
         },
         {
          "line": {
           "color": "rgba(0,0,0,0.5)",
           "width": 2
          },
          "type": "line",
          "x0": 426,
          "x1": 426,
          "xref": "x",
          "y0": 0,
          "y1": 1,
          "yref": "y domain"
         },
         {
          "line": {
           "color": "rgba(0,0,0,0.5)",
           "width": 2
          },
          "type": "line",
          "x0": 427,
          "x1": 427,
          "xref": "x",
          "y0": 0,
          "y1": 1,
          "yref": "y domain"
         },
         {
          "line": {
           "color": "rgba(0,0,0,0.5)",
           "width": 2
          },
          "type": "line",
          "x0": 428,
          "x1": 428,
          "xref": "x",
          "y0": 0,
          "y1": 1,
          "yref": "y domain"
         },
         {
          "line": {
           "color": "rgba(0,0,0,0.5)",
           "width": 2
          },
          "type": "line",
          "x0": 429,
          "x1": 429,
          "xref": "x",
          "y0": 0,
          "y1": 1,
          "yref": "y domain"
         },
         {
          "line": {
           "color": "rgba(0,0,0,0.5)",
           "width": 2
          },
          "type": "line",
          "x0": 430,
          "x1": 430,
          "xref": "x",
          "y0": 0,
          "y1": 1,
          "yref": "y domain"
         },
         {
          "line": {
           "color": "rgba(0,0,0,0.5)",
           "width": 2
          },
          "type": "line",
          "x0": 431,
          "x1": 431,
          "xref": "x",
          "y0": 0,
          "y1": 1,
          "yref": "y domain"
         },
         {
          "line": {
           "color": "rgba(0,0,0,0.5)",
           "width": 2
          },
          "type": "line",
          "x0": 432,
          "x1": 432,
          "xref": "x",
          "y0": 0,
          "y1": 1,
          "yref": "y domain"
         },
         {
          "line": {
           "color": "rgba(0,0,0,0.5)",
           "width": 2
          },
          "type": "line",
          "x0": 538,
          "x1": 538,
          "xref": "x",
          "y0": 0,
          "y1": 1,
          "yref": "y domain"
         },
         {
          "line": {
           "color": "rgba(0,0,0,0.5)",
           "width": 2
          },
          "type": "line",
          "x0": 539,
          "x1": 539,
          "xref": "x",
          "y0": 0,
          "y1": 1,
          "yref": "y domain"
         },
         {
          "line": {
           "color": "rgba(0,0,0,0.5)",
           "width": 2
          },
          "type": "line",
          "x0": 540,
          "x1": 540,
          "xref": "x",
          "y0": 0,
          "y1": 1,
          "yref": "y domain"
         },
         {
          "line": {
           "color": "rgba(0,0,0,0.5)",
           "width": 2
          },
          "type": "line",
          "x0": 541,
          "x1": 541,
          "xref": "x",
          "y0": 0,
          "y1": 1,
          "yref": "y domain"
         },
         {
          "line": {
           "color": "rgba(0,0,0,0.5)",
           "width": 2
          },
          "type": "line",
          "x0": 542,
          "x1": 542,
          "xref": "x",
          "y0": 0,
          "y1": 1,
          "yref": "y domain"
         },
         {
          "line": {
           "color": "rgba(0,0,0,0.5)",
           "width": 2
          },
          "type": "line",
          "x0": 543,
          "x1": 543,
          "xref": "x",
          "y0": 0,
          "y1": 1,
          "yref": "y domain"
         },
         {
          "line": {
           "color": "rgba(0,0,0,0.5)",
           "width": 2
          },
          "type": "line",
          "x0": 544,
          "x1": 544,
          "xref": "x",
          "y0": 0,
          "y1": 1,
          "yref": "y domain"
         },
         {
          "line": {
           "color": "rgba(0,0,0,0.5)",
           "width": 2
          },
          "type": "line",
          "x0": 545,
          "x1": 545,
          "xref": "x",
          "y0": 0,
          "y1": 1,
          "yref": "y domain"
         },
         {
          "line": {
           "color": "rgba(0,0,0,0.5)",
           "width": 2
          },
          "type": "line",
          "x0": 546,
          "x1": 546,
          "xref": "x",
          "y0": 0,
          "y1": 1,
          "yref": "y domain"
         },
         {
          "line": {
           "color": "rgba(0,0,0,0.5)",
           "width": 2
          },
          "type": "line",
          "x0": 550,
          "x1": 550,
          "xref": "x",
          "y0": 0,
          "y1": 1,
          "yref": "y domain"
         },
         {
          "line": {
           "color": "rgba(0,0,0,0.5)",
           "width": 2
          },
          "type": "line",
          "x0": 551,
          "x1": 551,
          "xref": "x",
          "y0": 0,
          "y1": 1,
          "yref": "y domain"
         },
         {
          "line": {
           "color": "rgba(0,0,0,0.5)",
           "width": 2
          },
          "type": "line",
          "x0": 552,
          "x1": 552,
          "xref": "x",
          "y0": 0,
          "y1": 1,
          "yref": "y domain"
         },
         {
          "line": {
           "color": "rgba(0,0,0,0.5)",
           "width": 2
          },
          "type": "line",
          "x0": 553,
          "x1": 553,
          "xref": "x",
          "y0": 0,
          "y1": 1,
          "yref": "y domain"
         },
         {
          "line": {
           "color": "rgba(0,0,0,0.5)",
           "width": 2
          },
          "type": "line",
          "x0": 554,
          "x1": 554,
          "xref": "x",
          "y0": 0,
          "y1": 1,
          "yref": "y domain"
         },
         {
          "line": {
           "color": "rgba(0,0,0,0.5)",
           "width": 2
          },
          "type": "line",
          "x0": 700,
          "x1": 700,
          "xref": "x",
          "y0": 0,
          "y1": 1,
          "yref": "y domain"
         },
         {
          "line": {
           "color": "rgba(0,0,0,0.5)",
           "width": 2
          },
          "type": "line",
          "x0": 701,
          "x1": 701,
          "xref": "x",
          "y0": 0,
          "y1": 1,
          "yref": "y domain"
         },
         {
          "line": {
           "color": "rgba(0,0,0,0.5)",
           "width": 2
          },
          "type": "line",
          "x0": 702,
          "x1": 702,
          "xref": "x",
          "y0": 0,
          "y1": 1,
          "yref": "y domain"
         },
         {
          "line": {
           "color": "rgba(0,0,0,0.5)",
           "width": 2
          },
          "type": "line",
          "x0": 703,
          "x1": 703,
          "xref": "x",
          "y0": 0,
          "y1": 1,
          "yref": "y domain"
         },
         {
          "line": {
           "color": "rgba(0,0,0,0.5)",
           "width": 2
          },
          "type": "line",
          "x0": 704,
          "x1": 704,
          "xref": "x",
          "y0": 0,
          "y1": 1,
          "yref": "y domain"
         },
         {
          "line": {
           "color": "rgba(0,0,0,0.5)",
           "width": 2
          },
          "type": "line",
          "x0": 705,
          "x1": 705,
          "xref": "x",
          "y0": 0,
          "y1": 1,
          "yref": "y domain"
         },
         {
          "line": {
           "color": "rgba(0,0,0,0.5)",
           "width": 2
          },
          "type": "line",
          "x0": 706,
          "x1": 706,
          "xref": "x",
          "y0": 0,
          "y1": 1,
          "yref": "y domain"
         },
         {
          "line": {
           "color": "rgba(0,0,0,0.5)",
           "width": 2
          },
          "type": "line",
          "x0": 707,
          "x1": 707,
          "xref": "x",
          "y0": 0,
          "y1": 1,
          "yref": "y domain"
         },
         {
          "line": {
           "color": "rgba(0,0,0,0.5)",
           "width": 2
          },
          "type": "line",
          "x0": 708,
          "x1": 708,
          "xref": "x",
          "y0": 0,
          "y1": 1,
          "yref": "y domain"
         },
         {
          "line": {
           "color": "rgba(0,0,0,0.5)",
           "width": 2
          },
          "type": "line",
          "x0": 709,
          "x1": 709,
          "xref": "x",
          "y0": 0,
          "y1": 1,
          "yref": "y domain"
         },
         {
          "line": {
           "color": "rgba(0,0,0,0.5)",
           "width": 2
          },
          "type": "line",
          "x0": 710,
          "x1": 710,
          "xref": "x",
          "y0": 0,
          "y1": 1,
          "yref": "y domain"
         },
         {
          "line": {
           "color": "rgba(0,0,0,0.5)",
           "width": 2
          },
          "type": "line",
          "x0": 711,
          "x1": 711,
          "xref": "x",
          "y0": 0,
          "y1": 1,
          "yref": "y domain"
         },
         {
          "line": {
           "color": "rgba(0,0,0,0.5)",
           "width": 2
          },
          "type": "line",
          "x0": 712,
          "x1": 712,
          "xref": "x",
          "y0": 0,
          "y1": 1,
          "yref": "y domain"
         },
         {
          "line": {
           "color": "rgba(0,0,0,0.5)",
           "width": 2
          },
          "type": "line",
          "x0": 713,
          "x1": 713,
          "xref": "x",
          "y0": 0,
          "y1": 1,
          "yref": "y domain"
         },
         {
          "line": {
           "color": "rgba(0,0,0,0.5)",
           "width": 2
          },
          "type": "line",
          "x0": 793,
          "x1": 793,
          "xref": "x",
          "y0": 0,
          "y1": 1,
          "yref": "y domain"
         },
         {
          "line": {
           "color": "rgba(0,0,0,0.5)",
           "width": 2
          },
          "type": "line",
          "x0": 794,
          "x1": 794,
          "xref": "x",
          "y0": 0,
          "y1": 1,
          "yref": "y domain"
         },
         {
          "line": {
           "color": "rgba(0,0,0,0.5)",
           "width": 2
          },
          "type": "line",
          "x0": 795,
          "x1": 795,
          "xref": "x",
          "y0": 0,
          "y1": 1,
          "yref": "y domain"
         },
         {
          "line": {
           "color": "rgba(0,0,0,0.5)",
           "width": 2
          },
          "type": "line",
          "x0": 796,
          "x1": 796,
          "xref": "x",
          "y0": 0,
          "y1": 1,
          "yref": "y domain"
         },
         {
          "line": {
           "color": "rgba(0,0,0,0.5)",
           "width": 2
          },
          "type": "line",
          "x0": 797,
          "x1": 797,
          "xref": "x",
          "y0": 0,
          "y1": 1,
          "yref": "y domain"
         },
         {
          "line": {
           "color": "rgba(0,0,0,0.5)",
           "width": 2
          },
          "type": "line",
          "x0": 798,
          "x1": 798,
          "xref": "x",
          "y0": 0,
          "y1": 1,
          "yref": "y domain"
         },
         {
          "line": {
           "color": "rgba(0,0,0,0.5)",
           "width": 2
          },
          "type": "line",
          "x0": 799,
          "x1": 799,
          "xref": "x",
          "y0": 0,
          "y1": 1,
          "yref": "y domain"
         },
         {
          "line": {
           "color": "rgba(0,0,0,0.5)",
           "width": 2
          },
          "type": "line",
          "x0": 800,
          "x1": 800,
          "xref": "x",
          "y0": 0,
          "y1": 1,
          "yref": "y domain"
         }
        ],
        "template": {
         "data": {
          "bar": [
           {
            "error_x": {
             "color": "#2a3f5f"
            },
            "error_y": {
             "color": "#2a3f5f"
            },
            "marker": {
             "line": {
              "color": "#E5ECF6",
              "width": 0.5
             },
             "pattern": {
              "fillmode": "overlay",
              "size": 10,
              "solidity": 0.2
             }
            },
            "type": "bar"
           }
          ],
          "barpolar": [
           {
            "marker": {
             "line": {
              "color": "#E5ECF6",
              "width": 0.5
             },
             "pattern": {
              "fillmode": "overlay",
              "size": 10,
              "solidity": 0.2
             }
            },
            "type": "barpolar"
           }
          ],
          "carpet": [
           {
            "aaxis": {
             "endlinecolor": "#2a3f5f",
             "gridcolor": "white",
             "linecolor": "white",
             "minorgridcolor": "white",
             "startlinecolor": "#2a3f5f"
            },
            "baxis": {
             "endlinecolor": "#2a3f5f",
             "gridcolor": "white",
             "linecolor": "white",
             "minorgridcolor": "white",
             "startlinecolor": "#2a3f5f"
            },
            "type": "carpet"
           }
          ],
          "choropleth": [
           {
            "colorbar": {
             "outlinewidth": 0,
             "ticks": ""
            },
            "type": "choropleth"
           }
          ],
          "contour": [
           {
            "colorbar": {
             "outlinewidth": 0,
             "ticks": ""
            },
            "colorscale": [
             [
              0,
              "#0d0887"
             ],
             [
              0.1111111111111111,
              "#46039f"
             ],
             [
              0.2222222222222222,
              "#7201a8"
             ],
             [
              0.3333333333333333,
              "#9c179e"
             ],
             [
              0.4444444444444444,
              "#bd3786"
             ],
             [
              0.5555555555555556,
              "#d8576b"
             ],
             [
              0.6666666666666666,
              "#ed7953"
             ],
             [
              0.7777777777777778,
              "#fb9f3a"
             ],
             [
              0.8888888888888888,
              "#fdca26"
             ],
             [
              1,
              "#f0f921"
             ]
            ],
            "type": "contour"
           }
          ],
          "contourcarpet": [
           {
            "colorbar": {
             "outlinewidth": 0,
             "ticks": ""
            },
            "type": "contourcarpet"
           }
          ],
          "heatmap": [
           {
            "colorbar": {
             "outlinewidth": 0,
             "ticks": ""
            },
            "colorscale": [
             [
              0,
              "#0d0887"
             ],
             [
              0.1111111111111111,
              "#46039f"
             ],
             [
              0.2222222222222222,
              "#7201a8"
             ],
             [
              0.3333333333333333,
              "#9c179e"
             ],
             [
              0.4444444444444444,
              "#bd3786"
             ],
             [
              0.5555555555555556,
              "#d8576b"
             ],
             [
              0.6666666666666666,
              "#ed7953"
             ],
             [
              0.7777777777777778,
              "#fb9f3a"
             ],
             [
              0.8888888888888888,
              "#fdca26"
             ],
             [
              1,
              "#f0f921"
             ]
            ],
            "type": "heatmap"
           }
          ],
          "histogram": [
           {
            "marker": {
             "pattern": {
              "fillmode": "overlay",
              "size": 10,
              "solidity": 0.2
             }
            },
            "type": "histogram"
           }
          ],
          "histogram2d": [
           {
            "colorbar": {
             "outlinewidth": 0,
             "ticks": ""
            },
            "colorscale": [
             [
              0,
              "#0d0887"
             ],
             [
              0.1111111111111111,
              "#46039f"
             ],
             [
              0.2222222222222222,
              "#7201a8"
             ],
             [
              0.3333333333333333,
              "#9c179e"
             ],
             [
              0.4444444444444444,
              "#bd3786"
             ],
             [
              0.5555555555555556,
              "#d8576b"
             ],
             [
              0.6666666666666666,
              "#ed7953"
             ],
             [
              0.7777777777777778,
              "#fb9f3a"
             ],
             [
              0.8888888888888888,
              "#fdca26"
             ],
             [
              1,
              "#f0f921"
             ]
            ],
            "type": "histogram2d"
           }
          ],
          "histogram2dcontour": [
           {
            "colorbar": {
             "outlinewidth": 0,
             "ticks": ""
            },
            "colorscale": [
             [
              0,
              "#0d0887"
             ],
             [
              0.1111111111111111,
              "#46039f"
             ],
             [
              0.2222222222222222,
              "#7201a8"
             ],
             [
              0.3333333333333333,
              "#9c179e"
             ],
             [
              0.4444444444444444,
              "#bd3786"
             ],
             [
              0.5555555555555556,
              "#d8576b"
             ],
             [
              0.6666666666666666,
              "#ed7953"
             ],
             [
              0.7777777777777778,
              "#fb9f3a"
             ],
             [
              0.8888888888888888,
              "#fdca26"
             ],
             [
              1,
              "#f0f921"
             ]
            ],
            "type": "histogram2dcontour"
           }
          ],
          "mesh3d": [
           {
            "colorbar": {
             "outlinewidth": 0,
             "ticks": ""
            },
            "type": "mesh3d"
           }
          ],
          "parcoords": [
           {
            "line": {
             "colorbar": {
              "outlinewidth": 0,
              "ticks": ""
             }
            },
            "type": "parcoords"
           }
          ],
          "pie": [
           {
            "automargin": true,
            "type": "pie"
           }
          ],
          "scatter": [
           {
            "fillpattern": {
             "fillmode": "overlay",
             "size": 10,
             "solidity": 0.2
            },
            "type": "scatter"
           }
          ],
          "scatter3d": [
           {
            "line": {
             "colorbar": {
              "outlinewidth": 0,
              "ticks": ""
             }
            },
            "marker": {
             "colorbar": {
              "outlinewidth": 0,
              "ticks": ""
             }
            },
            "type": "scatter3d"
           }
          ],
          "scattercarpet": [
           {
            "marker": {
             "colorbar": {
              "outlinewidth": 0,
              "ticks": ""
             }
            },
            "type": "scattercarpet"
           }
          ],
          "scattergeo": [
           {
            "marker": {
             "colorbar": {
              "outlinewidth": 0,
              "ticks": ""
             }
            },
            "type": "scattergeo"
           }
          ],
          "scattergl": [
           {
            "marker": {
             "colorbar": {
              "outlinewidth": 0,
              "ticks": ""
             }
            },
            "type": "scattergl"
           }
          ],
          "scattermap": [
           {
            "marker": {
             "colorbar": {
              "outlinewidth": 0,
              "ticks": ""
             }
            },
            "type": "scattermap"
           }
          ],
          "scattermapbox": [
           {
            "marker": {
             "colorbar": {
              "outlinewidth": 0,
              "ticks": ""
             }
            },
            "type": "scattermapbox"
           }
          ],
          "scatterpolar": [
           {
            "marker": {
             "colorbar": {
              "outlinewidth": 0,
              "ticks": ""
             }
            },
            "type": "scatterpolar"
           }
          ],
          "scatterpolargl": [
           {
            "marker": {
             "colorbar": {
              "outlinewidth": 0,
              "ticks": ""
             }
            },
            "type": "scatterpolargl"
           }
          ],
          "scatterternary": [
           {
            "marker": {
             "colorbar": {
              "outlinewidth": 0,
              "ticks": ""
             }
            },
            "type": "scatterternary"
           }
          ],
          "surface": [
           {
            "colorbar": {
             "outlinewidth": 0,
             "ticks": ""
            },
            "colorscale": [
             [
              0,
              "#0d0887"
             ],
             [
              0.1111111111111111,
              "#46039f"
             ],
             [
              0.2222222222222222,
              "#7201a8"
             ],
             [
              0.3333333333333333,
              "#9c179e"
             ],
             [
              0.4444444444444444,
              "#bd3786"
             ],
             [
              0.5555555555555556,
              "#d8576b"
             ],
             [
              0.6666666666666666,
              "#ed7953"
             ],
             [
              0.7777777777777778,
              "#fb9f3a"
             ],
             [
              0.8888888888888888,
              "#fdca26"
             ],
             [
              1,
              "#f0f921"
             ]
            ],
            "type": "surface"
           }
          ],
          "table": [
           {
            "cells": {
             "fill": {
              "color": "#EBF0F8"
             },
             "line": {
              "color": "white"
             }
            },
            "header": {
             "fill": {
              "color": "#C8D4E3"
             },
             "line": {
              "color": "white"
             }
            },
            "type": "table"
           }
          ]
         },
         "layout": {
          "annotationdefaults": {
           "arrowcolor": "#2a3f5f",
           "arrowhead": 0,
           "arrowwidth": 1
          },
          "autotypenumbers": "strict",
          "coloraxis": {
           "colorbar": {
            "outlinewidth": 0,
            "ticks": ""
           }
          },
          "colorscale": {
           "diverging": [
            [
             0,
             "#8e0152"
            ],
            [
             0.1,
             "#c51b7d"
            ],
            [
             0.2,
             "#de77ae"
            ],
            [
             0.3,
             "#f1b6da"
            ],
            [
             0.4,
             "#fde0ef"
            ],
            [
             0.5,
             "#f7f7f7"
            ],
            [
             0.6,
             "#e6f5d0"
            ],
            [
             0.7,
             "#b8e186"
            ],
            [
             0.8,
             "#7fbc41"
            ],
            [
             0.9,
             "#4d9221"
            ],
            [
             1,
             "#276419"
            ]
           ],
           "sequential": [
            [
             0,
             "#0d0887"
            ],
            [
             0.1111111111111111,
             "#46039f"
            ],
            [
             0.2222222222222222,
             "#7201a8"
            ],
            [
             0.3333333333333333,
             "#9c179e"
            ],
            [
             0.4444444444444444,
             "#bd3786"
            ],
            [
             0.5555555555555556,
             "#d8576b"
            ],
            [
             0.6666666666666666,
             "#ed7953"
            ],
            [
             0.7777777777777778,
             "#fb9f3a"
            ],
            [
             0.8888888888888888,
             "#fdca26"
            ],
            [
             1,
             "#f0f921"
            ]
           ],
           "sequentialminus": [
            [
             0,
             "#0d0887"
            ],
            [
             0.1111111111111111,
             "#46039f"
            ],
            [
             0.2222222222222222,
             "#7201a8"
            ],
            [
             0.3333333333333333,
             "#9c179e"
            ],
            [
             0.4444444444444444,
             "#bd3786"
            ],
            [
             0.5555555555555556,
             "#d8576b"
            ],
            [
             0.6666666666666666,
             "#ed7953"
            ],
            [
             0.7777777777777778,
             "#fb9f3a"
            ],
            [
             0.8888888888888888,
             "#fdca26"
            ],
            [
             1,
             "#f0f921"
            ]
           ]
          },
          "colorway": [
           "#636efa",
           "#EF553B",
           "#00cc96",
           "#ab63fa",
           "#FFA15A",
           "#19d3f3",
           "#FF6692",
           "#B6E880",
           "#FF97FF",
           "#FECB52"
          ],
          "font": {
           "color": "#2a3f5f"
          },
          "geo": {
           "bgcolor": "white",
           "lakecolor": "white",
           "landcolor": "#E5ECF6",
           "showlakes": true,
           "showland": true,
           "subunitcolor": "white"
          },
          "hoverlabel": {
           "align": "left"
          },
          "hovermode": "closest",
          "mapbox": {
           "style": "light"
          },
          "paper_bgcolor": "white",
          "plot_bgcolor": "#E5ECF6",
          "polar": {
           "angularaxis": {
            "gridcolor": "white",
            "linecolor": "white",
            "ticks": ""
           },
           "bgcolor": "#E5ECF6",
           "radialaxis": {
            "gridcolor": "white",
            "linecolor": "white",
            "ticks": ""
           }
          },
          "scene": {
           "xaxis": {
            "backgroundcolor": "#E5ECF6",
            "gridcolor": "white",
            "gridwidth": 2,
            "linecolor": "white",
            "showbackground": true,
            "ticks": "",
            "zerolinecolor": "white"
           },
           "yaxis": {
            "backgroundcolor": "#E5ECF6",
            "gridcolor": "white",
            "gridwidth": 2,
            "linecolor": "white",
            "showbackground": true,
            "ticks": "",
            "zerolinecolor": "white"
           },
           "zaxis": {
            "backgroundcolor": "#E5ECF6",
            "gridcolor": "white",
            "gridwidth": 2,
            "linecolor": "white",
            "showbackground": true,
            "ticks": "",
            "zerolinecolor": "white"
           }
          },
          "shapedefaults": {
           "line": {
            "color": "#2a3f5f"
           }
          },
          "ternary": {
           "aaxis": {
            "gridcolor": "white",
            "linecolor": "white",
            "ticks": ""
           },
           "baxis": {
            "gridcolor": "white",
            "linecolor": "white",
            "ticks": ""
           },
           "bgcolor": "#E5ECF6",
           "caxis": {
            "gridcolor": "white",
            "linecolor": "white",
            "ticks": ""
           }
          },
          "title": {
           "x": 0.05
          },
          "xaxis": {
           "automargin": true,
           "gridcolor": "white",
           "linecolor": "white",
           "ticks": "",
           "title": {
            "standoff": 15
           },
           "zerolinecolor": "white",
           "zerolinewidth": 2
          },
          "yaxis": {
           "automargin": true,
           "gridcolor": "white",
           "linecolor": "white",
           "ticks": "",
           "title": {
            "standoff": 15
           },
           "zerolinecolor": "white",
           "zerolinewidth": 2
          }
         }
        },
        "title": {
         "font": {
          "size": 26
         },
         "pad": {
          "b": 10,
          "t": 10
         },
         "text": "Module Vibration per Cycle with Failure events",
         "x": 0.5,
         "xanchor": "center",
         "y": 0.94,
         "yanchor": "top"
        },
        "xaxis": {
         "anchor": "y",
         "domain": [
          0,
          1
         ],
         "title": {
          "text": "Cycle"
         }
        },
        "yaxis": {
         "anchor": "x",
         "domain": [
          0,
          1
         ],
         "range": [
          0,
          359.4181457089952
         ],
         "title": {
          "text": "Module Vibration"
         }
        }
       }
      }
     },
     "metadata": {},
     "output_type": "display_data"
    },
    {
     "data": {
      "application/vnd.plotly.v1+json": {
       "config": {
        "plotlyServerURL": "https://plot.ly"
       },
       "data": [
        {
         "hovertemplate": "Fail=False<br>Temperature=%{x}<br>Pressure=%{y}<extra></extra>",
         "legendgroup": "False",
         "marker": {
          "color": "#636efa",
          "symbol": "circle"
         },
         "mode": "markers",
         "name": "False",
         "orientation": "v",
         "showlegend": true,
         "type": "scatter",
         "x": {
          "bdata": "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",
          "dtype": "f8"
         },
         "xaxis": "x",
         "y": {
          "bdata": "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",
          "dtype": "f8"
         },
         "yaxis": "y"
        },
        {
         "hovertemplate": "Fail=True<br>Temperature=%{x}<br>Pressure=%{y}<extra></extra>",
         "legendgroup": "True",
         "marker": {
          "color": "#EF553B",
          "symbol": "circle"
         },
         "mode": "markers",
         "name": "True",
         "orientation": "v",
         "showlegend": true,
         "type": "scatter",
         "x": {
          "bdata": "5V862Z3zU0CzsYZSgOxWQOs9dJyhOlZANzmWdjMxVkAkxI1eC35aQMq9iUyAbFpAJYNtvJxRWkDp0SS07JJWQPrVraPU0VxAsl2hnCQ/WUBQjxwq/J1aQKG/ZsCwpVpAXoXxEiy3U0D7fzvngzdTQMi+gn/XFlRAZvWE8fViVEAY3yHWbuJTQCDTTFv34lNAs9M9zUQUVEArTZEv4IdYQK5qCL9ADVlA5PLOlZL9WEBlWNvarupYQF4JmZ4TAVpAvsBD7eWvWkDggIc1fhtZQD6uly+1AEpAIX3KacULSEBQ5wB47xVIQFRLZdQxe0lAjXV8lUi0UkDMVCSg3BhUQEsZFBOGr1JAG+lZkR0hWUBacnUKZqpWQJEwo1F5vVZA0xrNHpKEW0CIRIB8K9xiQCbVo46D1GJApy2EhJbVUUDZGA/hYs1YQEo2LswowFhAkXi10groXUDcopFMsr5YQFCgDJbDflZAhGrjAzvJVkCF92r6brlWQOj+L5LZe1NA1YwE6rUZVEBzeXhNToVTQHHoKbGeCFRA5aV14ryZWEBGqDg19ABZQGl4kvUqYFZA+y6bYOwvVkBLdJHUYf1eQEGaDys+ul5AWLaZqFdCX0Btdn+h7epfQN79wcR4z19AX/JV5/vcWkD3/lJNGTxJQKEV8Fcd/khAH8kVML/xU0CCgr5gD9dTQHb9NR2oNlRA",
          "dtype": "f8"
         },
         "xaxis": "x",
         "y": {
          "bdata": "jTMan03IWUBDcS2EIVZVQGniBT3XDlZAwmHM4KLOWECOjDJ9dKxbQFs+mZ7cv2dABnCXB2qWYkDPSc4jXJZVQOTWozWwjlxAiHZ7SMPRUkA6nunysUlWQDHbowVTLWBA7K96jRddWUCpQ1deN2lJQEG+U2qcR1JAznvA6W4aVEDxwP7py+BYQBj4mo4oyFZALSeXLZx2YEAvLKhSdzpZQNVMEw+FbWJAz/2piqerYkAxPkI6n3RmQEExLu7u/mJA2tdP2ZRsZkCS1THGJCRZQGfIZSt5hWJAVExAKTR6ZkCvie41GXtRQD5CizqDildAJDhHODZfUkChBiura6xaQAclcCg7DV9ATj1iJIIoXkDagem7wHxeQJgePZjCi1ZAQdbu/iUBZECkpb/VX0JZQEAfle10/11AHx9TzpfqVkCtTAVIXhlZQG7rDsjEyFlAMNrVTOY7XkBPQBRaY+VYQCinQvOxXFZAsff2IpguYEAfsTZf83FWQCiezcgE0FxAfY/6NEqbWEAlQ+uy14xcQLB5zswCHFpA3VQ1jE7NXUDbFCmLO7RiQF4XsF1VDl9AbNhNe6EoYkCeuYkEwD5gQAGw9CagD2VA3KJFHILLXUBKoKU8gnBgQOPYNAi7W2BAT9scoYlnWUDYJskkEY9YQFibBWDgDWRA7PapFESiW0DfR/C/iP9jQBYlyP/LoltA",
          "dtype": "f8"
         },
         "yaxis": "y"
        }
       ],
       "layout": {
        "legend": {
         "title": {
          "text": "Fail"
         },
         "tracegroupgap": 0
        },
        "margin": {
         "b": 50,
         "l": 60,
         "r": 40,
         "t": 120
        },
        "template": {
         "data": {
          "bar": [
           {
            "error_x": {
             "color": "#2a3f5f"
            },
            "error_y": {
             "color": "#2a3f5f"
            },
            "marker": {
             "line": {
              "color": "#E5ECF6",
              "width": 0.5
             },
             "pattern": {
              "fillmode": "overlay",
              "size": 10,
              "solidity": 0.2
             }
            },
            "type": "bar"
           }
          ],
          "barpolar": [
           {
            "marker": {
             "line": {
              "color": "#E5ECF6",
              "width": 0.5
             },
             "pattern": {
              "fillmode": "overlay",
              "size": 10,
              "solidity": 0.2
             }
            },
            "type": "barpolar"
           }
          ],
          "carpet": [
           {
            "aaxis": {
             "endlinecolor": "#2a3f5f",
             "gridcolor": "white",
             "linecolor": "white",
             "minorgridcolor": "white",
             "startlinecolor": "#2a3f5f"
            },
            "baxis": {
             "endlinecolor": "#2a3f5f",
             "gridcolor": "white",
             "linecolor": "white",
             "minorgridcolor": "white",
             "startlinecolor": "#2a3f5f"
            },
            "type": "carpet"
           }
          ],
          "choropleth": [
           {
            "colorbar": {
             "outlinewidth": 0,
             "ticks": ""
            },
            "type": "choropleth"
           }
          ],
          "contour": [
           {
            "colorbar": {
             "outlinewidth": 0,
             "ticks": ""
            },
            "colorscale": [
             [
              0,
              "#0d0887"
             ],
             [
              0.1111111111111111,
              "#46039f"
             ],
             [
              0.2222222222222222,
              "#7201a8"
             ],
             [
              0.3333333333333333,
              "#9c179e"
             ],
             [
              0.4444444444444444,
              "#bd3786"
             ],
             [
              0.5555555555555556,
              "#d8576b"
             ],
             [
              0.6666666666666666,
              "#ed7953"
             ],
             [
              0.7777777777777778,
              "#fb9f3a"
             ],
             [
              0.8888888888888888,
              "#fdca26"
             ],
             [
              1,
              "#f0f921"
             ]
            ],
            "type": "contour"
           }
          ],
          "contourcarpet": [
           {
            "colorbar": {
             "outlinewidth": 0,
             "ticks": ""
            },
            "type": "contourcarpet"
           }
          ],
          "heatmap": [
           {
            "colorbar": {
             "outlinewidth": 0,
             "ticks": ""
            },
            "colorscale": [
             [
              0,
              "#0d0887"
             ],
             [
              0.1111111111111111,
              "#46039f"
             ],
             [
              0.2222222222222222,
              "#7201a8"
             ],
             [
              0.3333333333333333,
              "#9c179e"
             ],
             [
              0.4444444444444444,
              "#bd3786"
             ],
             [
              0.5555555555555556,
              "#d8576b"
             ],
             [
              0.6666666666666666,
              "#ed7953"
             ],
             [
              0.7777777777777778,
              "#fb9f3a"
             ],
             [
              0.8888888888888888,
              "#fdca26"
             ],
             [
              1,
              "#f0f921"
             ]
            ],
            "type": "heatmap"
           }
          ],
          "histogram": [
           {
            "marker": {
             "pattern": {
              "fillmode": "overlay",
              "size": 10,
              "solidity": 0.2
             }
            },
            "type": "histogram"
           }
          ],
          "histogram2d": [
           {
            "colorbar": {
             "outlinewidth": 0,
             "ticks": ""
            },
            "colorscale": [
             [
              0,
              "#0d0887"
             ],
             [
              0.1111111111111111,
              "#46039f"
             ],
             [
              0.2222222222222222,
              "#7201a8"
             ],
             [
              0.3333333333333333,
              "#9c179e"
             ],
             [
              0.4444444444444444,
              "#bd3786"
             ],
             [
              0.5555555555555556,
              "#d8576b"
             ],
             [
              0.6666666666666666,
              "#ed7953"
             ],
             [
              0.7777777777777778,
              "#fb9f3a"
             ],
             [
              0.8888888888888888,
              "#fdca26"
             ],
             [
              1,
              "#f0f921"
             ]
            ],
            "type": "histogram2d"
           }
          ],
          "histogram2dcontour": [
           {
            "colorbar": {
             "outlinewidth": 0,
             "ticks": ""
            },
            "colorscale": [
             [
              0,
              "#0d0887"
             ],
             [
              0.1111111111111111,
              "#46039f"
             ],
             [
              0.2222222222222222,
              "#7201a8"
             ],
             [
              0.3333333333333333,
              "#9c179e"
             ],
             [
              0.4444444444444444,
              "#bd3786"
             ],
             [
              0.5555555555555556,
              "#d8576b"
             ],
             [
              0.6666666666666666,
              "#ed7953"
             ],
             [
              0.7777777777777778,
              "#fb9f3a"
             ],
             [
              0.8888888888888888,
              "#fdca26"
             ],
             [
              1,
              "#f0f921"
             ]
            ],
            "type": "histogram2dcontour"
           }
          ],
          "mesh3d": [
           {
            "colorbar": {
             "outlinewidth": 0,
             "ticks": ""
            },
            "type": "mesh3d"
           }
          ],
          "parcoords": [
           {
            "line": {
             "colorbar": {
              "outlinewidth": 0,
              "ticks": ""
             }
            },
            "type": "parcoords"
           }
          ],
          "pie": [
           {
            "automargin": true,
            "type": "pie"
           }
          ],
          "scatter": [
           {
            "fillpattern": {
             "fillmode": "overlay",
             "size": 10,
             "solidity": 0.2
            },
            "type": "scatter"
           }
          ],
          "scatter3d": [
           {
            "line": {
             "colorbar": {
              "outlinewidth": 0,
              "ticks": ""
             }
            },
            "marker": {
             "colorbar": {
              "outlinewidth": 0,
              "ticks": ""
             }
            },
            "type": "scatter3d"
           }
          ],
          "scattercarpet": [
           {
            "marker": {
             "colorbar": {
              "outlinewidth": 0,
              "ticks": ""
             }
            },
            "type": "scattercarpet"
           }
          ],
          "scattergeo": [
           {
            "marker": {
             "colorbar": {
              "outlinewidth": 0,
              "ticks": ""
             }
            },
            "type": "scattergeo"
           }
          ],
          "scattergl": [
           {
            "marker": {
             "colorbar": {
              "outlinewidth": 0,
              "ticks": ""
             }
            },
            "type": "scattergl"
           }
          ],
          "scattermap": [
           {
            "marker": {
             "colorbar": {
              "outlinewidth": 0,
              "ticks": ""
             }
            },
            "type": "scattermap"
           }
          ],
          "scattermapbox": [
           {
            "marker": {
             "colorbar": {
              "outlinewidth": 0,
              "ticks": ""
             }
            },
            "type": "scattermapbox"
           }
          ],
          "scatterpolar": [
           {
            "marker": {
             "colorbar": {
              "outlinewidth": 0,
              "ticks": ""
             }
            },
            "type": "scatterpolar"
           }
          ],
          "scatterpolargl": [
           {
            "marker": {
             "colorbar": {
              "outlinewidth": 0,
              "ticks": ""
             }
            },
            "type": "scatterpolargl"
           }
          ],
          "scatterternary": [
           {
            "marker": {
             "colorbar": {
              "outlinewidth": 0,
              "ticks": ""
             }
            },
            "type": "scatterternary"
           }
          ],
          "surface": [
           {
            "colorbar": {
             "outlinewidth": 0,
             "ticks": ""
            },
            "colorscale": [
             [
              0,
              "#0d0887"
             ],
             [
              0.1111111111111111,
              "#46039f"
             ],
             [
              0.2222222222222222,
              "#7201a8"
             ],
             [
              0.3333333333333333,
              "#9c179e"
             ],
             [
              0.4444444444444444,
              "#bd3786"
             ],
             [
              0.5555555555555556,
              "#d8576b"
             ],
             [
              0.6666666666666666,
              "#ed7953"
             ],
             [
              0.7777777777777778,
              "#fb9f3a"
             ],
             [
              0.8888888888888888,
              "#fdca26"
             ],
             [
              1,
              "#f0f921"
             ]
            ],
            "type": "surface"
           }
          ],
          "table": [
           {
            "cells": {
             "fill": {
              "color": "#EBF0F8"
             },
             "line": {
              "color": "white"
             }
            },
            "header": {
             "fill": {
              "color": "#C8D4E3"
             },
             "line": {
              "color": "white"
             }
            },
            "type": "table"
           }
          ]
         },
         "layout": {
          "annotationdefaults": {
           "arrowcolor": "#2a3f5f",
           "arrowhead": 0,
           "arrowwidth": 1
          },
          "autotypenumbers": "strict",
          "coloraxis": {
           "colorbar": {
            "outlinewidth": 0,
            "ticks": ""
           }
          },
          "colorscale": {
           "diverging": [
            [
             0,
             "#8e0152"
            ],
            [
             0.1,
             "#c51b7d"
            ],
            [
             0.2,
             "#de77ae"
            ],
            [
             0.3,
             "#f1b6da"
            ],
            [
             0.4,
             "#fde0ef"
            ],
            [
             0.5,
             "#f7f7f7"
            ],
            [
             0.6,
             "#e6f5d0"
            ],
            [
             0.7,
             "#b8e186"
            ],
            [
             0.8,
             "#7fbc41"
            ],
            [
             0.9,
             "#4d9221"
            ],
            [
             1,
             "#276419"
            ]
           ],
           "sequential": [
            [
             0,
             "#0d0887"
            ],
            [
             0.1111111111111111,
             "#46039f"
            ],
            [
             0.2222222222222222,
             "#7201a8"
            ],
            [
             0.3333333333333333,
             "#9c179e"
            ],
            [
             0.4444444444444444,
             "#bd3786"
            ],
            [
             0.5555555555555556,
             "#d8576b"
            ],
            [
             0.6666666666666666,
             "#ed7953"
            ],
            [
             0.7777777777777778,
             "#fb9f3a"
            ],
            [
             0.8888888888888888,
             "#fdca26"
            ],
            [
             1,
             "#f0f921"
            ]
           ],
           "sequentialminus": [
            [
             0,
             "#0d0887"
            ],
            [
             0.1111111111111111,
             "#46039f"
            ],
            [
             0.2222222222222222,
             "#7201a8"
            ],
            [
             0.3333333333333333,
             "#9c179e"
            ],
            [
             0.4444444444444444,
             "#bd3786"
            ],
            [
             0.5555555555555556,
             "#d8576b"
            ],
            [
             0.6666666666666666,
             "#ed7953"
            ],
            [
             0.7777777777777778,
             "#fb9f3a"
            ],
            [
             0.8888888888888888,
             "#fdca26"
            ],
            [
             1,
             "#f0f921"
            ]
           ]
          },
          "colorway": [
           "#636efa",
           "#EF553B",
           "#00cc96",
           "#ab63fa",
           "#FFA15A",
           "#19d3f3",
           "#FF6692",
           "#B6E880",
           "#FF97FF",
           "#FECB52"
          ],
          "font": {
           "color": "#2a3f5f"
          },
          "geo": {
           "bgcolor": "white",
           "lakecolor": "white",
           "landcolor": "#E5ECF6",
           "showlakes": true,
           "showland": true,
           "subunitcolor": "white"
          },
          "hoverlabel": {
           "align": "left"
          },
          "hovermode": "closest",
          "mapbox": {
           "style": "light"
          },
          "paper_bgcolor": "white",
          "plot_bgcolor": "#E5ECF6",
          "polar": {
           "angularaxis": {
            "gridcolor": "white",
            "linecolor": "white",
            "ticks": ""
           },
           "bgcolor": "#E5ECF6",
           "radialaxis": {
            "gridcolor": "white",
            "linecolor": "white",
            "ticks": ""
           }
          },
          "scene": {
           "xaxis": {
            "backgroundcolor": "#E5ECF6",
            "gridcolor": "white",
            "gridwidth": 2,
            "linecolor": "white",
            "showbackground": true,
            "ticks": "",
            "zerolinecolor": "white"
           },
           "yaxis": {
            "backgroundcolor": "#E5ECF6",
            "gridcolor": "white",
            "gridwidth": 2,
            "linecolor": "white",
            "showbackground": true,
            "ticks": "",
            "zerolinecolor": "white"
           },
           "zaxis": {
            "backgroundcolor": "#E5ECF6",
            "gridcolor": "white",
            "gridwidth": 2,
            "linecolor": "white",
            "showbackground": true,
            "ticks": "",
            "zerolinecolor": "white"
           }
          },
          "shapedefaults": {
           "line": {
            "color": "#2a3f5f"
           }
          },
          "ternary": {
           "aaxis": {
            "gridcolor": "white",
            "linecolor": "white",
            "ticks": ""
           },
           "baxis": {
            "gridcolor": "white",
            "linecolor": "white",
            "ticks": ""
           },
           "bgcolor": "#E5ECF6",
           "caxis": {
            "gridcolor": "white",
            "linecolor": "white",
            "ticks": ""
           }
          },
          "title": {
           "x": 0.05
          },
          "xaxis": {
           "automargin": true,
           "gridcolor": "white",
           "linecolor": "white",
           "ticks": "",
           "title": {
            "standoff": 15
           },
           "zerolinecolor": "white",
           "zerolinewidth": 2
          },
          "yaxis": {
           "automargin": true,
           "gridcolor": "white",
           "linecolor": "white",
           "ticks": "",
           "title": {
            "standoff": 15
           },
           "zerolinecolor": "white",
           "zerolinewidth": 2
          }
         }
        },
        "title": {
         "font": {
          "size": 26
         },
         "pad": {
          "b": 10,
          "t": 10
         },
         "text": "Scatter Plot Temperature versus Pressure per Failure event",
         "x": 0.5,
         "xanchor": "center",
         "y": 0.94,
         "yanchor": "top"
        },
        "xaxis": {
         "anchor": "y",
         "domain": [
          0,
          1
         ],
         "title": {
          "text": "Temperature"
         }
        },
        "yaxis": {
         "anchor": "x",
         "domain": [
          0,
          1
         ],
         "title": {
          "text": "Pressure"
         }
        }
       }
      }
     },
     "metadata": {},
     "output_type": "display_data"
    },
    {
     "data": {
      "application/vnd.plotly.v1+json": {
       "config": {
        "plotlyServerURL": "https://plot.ly"
       },
       "data": [
        {
         "hovertemplate": "Fail=False<br>Module Vibration=%{x}<br>Frequency=%{y}<extra></extra>",
         "legendgroup": "False",
         "marker": {
          "color": "#636efa",
          "symbol": "circle"
         },
         "mode": "markers",
         "name": "False",
         "orientation": "v",
         "showlegend": true,
         "type": "scatter",
         "x": {
          "bdata": "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",
          "dtype": "f8"
         },
         "xaxis": "x",
         "y": {
          "bdata": "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",
          "dtype": "f8"
         },
         "yaxis": "y"
        },
        {
         "hovertemplate": "Fail=True<br>Module Vibration=%{x}<br>Frequency=%{y}<extra></extra>",
         "legendgroup": "True",
         "marker": {
          "color": "#EF553B",
          "symbol": "circle"
         },
         "mode": "markers",
         "name": "True",
         "orientation": "v",
         "showlegend": true,
         "type": "scatter",
         "x": {
          "bdata": "O9pqiJLWakDh8BvCf0dnQJ/vay3Uz2VAL1w2f+TiZUAh+LLmy+ZoQCBdLp2NV2pAumiFCl+5bUAVIzZU72dlQJDOUBAZG2JAZrZ+jElDZ0B+Rt4O9YprQLBnyQXAImpAnmKHP3O8bECM6hBibbtuQE+GFpF2DmxAhgHYP2oFaEB6NnZUqHBtQPnuvw4UqmdApafkrWgAbEAk6rOEU75rQD9buVID/G9A6tDTZtdTaEBkYeHeKmBtQDS/J4tDoGhA8YEaXzp9bEAtIw7dS3VlQECmFsRXsmRAS4yp+W3VZkCusyh9isVtQB+O5UuupGNAAmyeaU7LaECupGYbGuJmQKg2+IH6/mNATPPIV+wDa0BiwgBVrjNrQIXIBnS/ymhAKabOarjpZUDcX4zqhb5oQE4xuCVfCGdAPCycQ8slZ0DRUz/TrbJlQEsC5d1aH2RAyjJW9av6aUCY5jBp0KplQFjzR3uMtmVAamRypBRYYkCLwSz+LM5lQBWyD4yrdGRAP8gFWgFOZEBY0lNjA6lkQJJuEyUMjWZAbHlC3ctEa0AkRXniYLFoQMWCvrcF+WRAQbdetvrvY0CRfjc5vcZmQN/zECiHZ2ZAAR3zVYk4a0A36Q/yU7pnQLfsBxRdpGdAfZjhfZDFZUCl8ILppFBtQJ4uYL6xBGxAd+R7dqnjaUBF2TGYQtZrQDUmr6GrDGlA",
          "dtype": "f8"
         },
         "xaxis": "x",
         "y": {
          "bdata": "eOgs1QUkU0BRJbiUJhhVQP3E7hWqDllAFlTRXfYNVkD7H2rST2JgQJpE9/czL2BAWfipYxewYUD1z++GMnJcQC+I4Vc90lhAig1GA9RyVUBVcrFNBtJbQEcjnMrSmVZA5woZQHQ6SUDTNOK0LDVJQMmcAVM+dkhAltun2JKtW0BThl3x125bQITAwSOzjltA2Y/fblw1W0BVLWuB5jFWQOqMO7S2jVZA6orPrBhVVkA4bcFzHYNWQMxFrkCmw1dAOqskWZv3W0BN8QOm+/9YQEeh5bPcr2JAPXN3m+HRYkAeEgP7HZ5WQLZeZcLjQmZAshdYh7ccWEBdqfst0fBTQFZTZkBu01xA+bYuub58VkA88Uwo6mZZQH2FlHlbuFJAq00giirjWEB6cy3E54RWQFt2k08/c1ZAh3cjO3p1X0CM4BWAexdZQMF1c0G3kl9A7jxRP0UOXkCDDEig+8hYQPo/Ciegq1pAa+eNJjpYW0C1GKaVCqtbQIp26j2AqltAjtfyavWCXkAG7upSpwdcQCjlqmtGJllAOy+2tsCmVkBrOiI86J5WQKea6ro3NFlAgRYq76K8VkCPOPUE+E9XQJMXB5BChldAXGv+xav4V0C2kBMJsnFYQA2d/EcZBFlAWzzJugKIV0BjYwYBs+tIQOqNgqbVultAt+sfVJ22UUDVG2Q7RAdUQAzFevi/0FFA",
          "dtype": "f8"
         },
         "yaxis": "y"
        }
       ],
       "layout": {
        "legend": {
         "title": {
          "text": "Fail"
         },
         "tracegroupgap": 0
        },
        "margin": {
         "b": 50,
         "l": 60,
         "r": 40,
         "t": 120
        },
        "template": {
         "data": {
          "bar": [
           {
            "error_x": {
             "color": "#2a3f5f"
            },
            "error_y": {
             "color": "#2a3f5f"
            },
            "marker": {
             "line": {
              "color": "#E5ECF6",
              "width": 0.5
             },
             "pattern": {
              "fillmode": "overlay",
              "size": 10,
              "solidity": 0.2
             }
            },
            "type": "bar"
           }
          ],
          "barpolar": [
           {
            "marker": {
             "line": {
              "color": "#E5ECF6",
              "width": 0.5
             },
             "pattern": {
              "fillmode": "overlay",
              "size": 10,
              "solidity": 0.2
             }
            },
            "type": "barpolar"
           }
          ],
          "carpet": [
           {
            "aaxis": {
             "endlinecolor": "#2a3f5f",
             "gridcolor": "white",
             "linecolor": "white",
             "minorgridcolor": "white",
             "startlinecolor": "#2a3f5f"
            },
            "baxis": {
             "endlinecolor": "#2a3f5f",
             "gridcolor": "white",
             "linecolor": "white",
             "minorgridcolor": "white",
             "startlinecolor": "#2a3f5f"
            },
            "type": "carpet"
           }
          ],
          "choropleth": [
           {
            "colorbar": {
             "outlinewidth": 0,
             "ticks": ""
            },
            "type": "choropleth"
           }
          ],
          "contour": [
           {
            "colorbar": {
             "outlinewidth": 0,
             "ticks": ""
            },
            "colorscale": [
             [
              0,
              "#0d0887"
             ],
             [
              0.1111111111111111,
              "#46039f"
             ],
             [
              0.2222222222222222,
              "#7201a8"
             ],
             [
              0.3333333333333333,
              "#9c179e"
             ],
             [
              0.4444444444444444,
              "#bd3786"
             ],
             [
              0.5555555555555556,
              "#d8576b"
             ],
             [
              0.6666666666666666,
              "#ed7953"
             ],
             [
              0.7777777777777778,
              "#fb9f3a"
             ],
             [
              0.8888888888888888,
              "#fdca26"
             ],
             [
              1,
              "#f0f921"
             ]
            ],
            "type": "contour"
           }
          ],
          "contourcarpet": [
           {
            "colorbar": {
             "outlinewidth": 0,
             "ticks": ""
            },
            "type": "contourcarpet"
           }
          ],
          "heatmap": [
           {
            "colorbar": {
             "outlinewidth": 0,
             "ticks": ""
            },
            "colorscale": [
             [
              0,
              "#0d0887"
             ],
             [
              0.1111111111111111,
              "#46039f"
             ],
             [
              0.2222222222222222,
              "#7201a8"
             ],
             [
              0.3333333333333333,
              "#9c179e"
             ],
             [
              0.4444444444444444,
              "#bd3786"
             ],
             [
              0.5555555555555556,
              "#d8576b"
             ],
             [
              0.6666666666666666,
              "#ed7953"
             ],
             [
              0.7777777777777778,
              "#fb9f3a"
             ],
             [
              0.8888888888888888,
              "#fdca26"
             ],
             [
              1,
              "#f0f921"
             ]
            ],
            "type": "heatmap"
           }
          ],
          "histogram": [
           {
            "marker": {
             "pattern": {
              "fillmode": "overlay",
              "size": 10,
              "solidity": 0.2
             }
            },
            "type": "histogram"
           }
          ],
          "histogram2d": [
           {
            "colorbar": {
             "outlinewidth": 0,
             "ticks": ""
            },
            "colorscale": [
             [
              0,
              "#0d0887"
             ],
             [
              0.1111111111111111,
              "#46039f"
             ],
             [
              0.2222222222222222,
              "#7201a8"
             ],
             [
              0.3333333333333333,
              "#9c179e"
             ],
             [
              0.4444444444444444,
              "#bd3786"
             ],
             [
              0.5555555555555556,
              "#d8576b"
             ],
             [
              0.6666666666666666,
              "#ed7953"
             ],
             [
              0.7777777777777778,
              "#fb9f3a"
             ],
             [
              0.8888888888888888,
              "#fdca26"
             ],
             [
              1,
              "#f0f921"
             ]
            ],
            "type": "histogram2d"
           }
          ],
          "histogram2dcontour": [
           {
            "colorbar": {
             "outlinewidth": 0,
             "ticks": ""
            },
            "colorscale": [
             [
              0,
              "#0d0887"
             ],
             [
              0.1111111111111111,
              "#46039f"
             ],
             [
              0.2222222222222222,
              "#7201a8"
             ],
             [
              0.3333333333333333,
              "#9c179e"
             ],
             [
              0.4444444444444444,
              "#bd3786"
             ],
             [
              0.5555555555555556,
              "#d8576b"
             ],
             [
              0.6666666666666666,
              "#ed7953"
             ],
             [
              0.7777777777777778,
              "#fb9f3a"
             ],
             [
              0.8888888888888888,
              "#fdca26"
             ],
             [
              1,
              "#f0f921"
             ]
            ],
            "type": "histogram2dcontour"
           }
          ],
          "mesh3d": [
           {
            "colorbar": {
             "outlinewidth": 0,
             "ticks": ""
            },
            "type": "mesh3d"
           }
          ],
          "parcoords": [
           {
            "line": {
             "colorbar": {
              "outlinewidth": 0,
              "ticks": ""
             }
            },
            "type": "parcoords"
           }
          ],
          "pie": [
           {
            "automargin": true,
            "type": "pie"
           }
          ],
          "scatter": [
           {
            "fillpattern": {
             "fillmode": "overlay",
             "size": 10,
             "solidity": 0.2
            },
            "type": "scatter"
           }
          ],
          "scatter3d": [
           {
            "line": {
             "colorbar": {
              "outlinewidth": 0,
              "ticks": ""
             }
            },
            "marker": {
             "colorbar": {
              "outlinewidth": 0,
              "ticks": ""
             }
            },
            "type": "scatter3d"
           }
          ],
          "scattercarpet": [
           {
            "marker": {
             "colorbar": {
              "outlinewidth": 0,
              "ticks": ""
             }
            },
            "type": "scattercarpet"
           }
          ],
          "scattergeo": [
           {
            "marker": {
             "colorbar": {
              "outlinewidth": 0,
              "ticks": ""
             }
            },
            "type": "scattergeo"
           }
          ],
          "scattergl": [
           {
            "marker": {
             "colorbar": {
              "outlinewidth": 0,
              "ticks": ""
             }
            },
            "type": "scattergl"
           }
          ],
          "scattermap": [
           {
            "marker": {
             "colorbar": {
              "outlinewidth": 0,
              "ticks": ""
             }
            },
            "type": "scattermap"
           }
          ],
          "scattermapbox": [
           {
            "marker": {
             "colorbar": {
              "outlinewidth": 0,
              "ticks": ""
             }
            },
            "type": "scattermapbox"
           }
          ],
          "scatterpolar": [
           {
            "marker": {
             "colorbar": {
              "outlinewidth": 0,
              "ticks": ""
             }
            },
            "type": "scatterpolar"
           }
          ],
          "scatterpolargl": [
           {
            "marker": {
             "colorbar": {
              "outlinewidth": 0,
              "ticks": ""
             }
            },
            "type": "scatterpolargl"
           }
          ],
          "scatterternary": [
           {
            "marker": {
             "colorbar": {
              "outlinewidth": 0,
              "ticks": ""
             }
            },
            "type": "scatterternary"
           }
          ],
          "surface": [
           {
            "colorbar": {
             "outlinewidth": 0,
             "ticks": ""
            },
            "colorscale": [
             [
              0,
              "#0d0887"
             ],
             [
              0.1111111111111111,
              "#46039f"
             ],
             [
              0.2222222222222222,
              "#7201a8"
             ],
             [
              0.3333333333333333,
              "#9c179e"
             ],
             [
              0.4444444444444444,
              "#bd3786"
             ],
             [
              0.5555555555555556,
              "#d8576b"
             ],
             [
              0.6666666666666666,
              "#ed7953"
             ],
             [
              0.7777777777777778,
              "#fb9f3a"
             ],
             [
              0.8888888888888888,
              "#fdca26"
             ],
             [
              1,
              "#f0f921"
             ]
            ],
            "type": "surface"
           }
          ],
          "table": [
           {
            "cells": {
             "fill": {
              "color": "#EBF0F8"
             },
             "line": {
              "color": "white"
             }
            },
            "header": {
             "fill": {
              "color": "#C8D4E3"
             },
             "line": {
              "color": "white"
             }
            },
            "type": "table"
           }
          ]
         },
         "layout": {
          "annotationdefaults": {
           "arrowcolor": "#2a3f5f",
           "arrowhead": 0,
           "arrowwidth": 1
          },
          "autotypenumbers": "strict",
          "coloraxis": {
           "colorbar": {
            "outlinewidth": 0,
            "ticks": ""
           }
          },
          "colorscale": {
           "diverging": [
            [
             0,
             "#8e0152"
            ],
            [
             0.1,
             "#c51b7d"
            ],
            [
             0.2,
             "#de77ae"
            ],
            [
             0.3,
             "#f1b6da"
            ],
            [
             0.4,
             "#fde0ef"
            ],
            [
             0.5,
             "#f7f7f7"
            ],
            [
             0.6,
             "#e6f5d0"
            ],
            [
             0.7,
             "#b8e186"
            ],
            [
             0.8,
             "#7fbc41"
            ],
            [
             0.9,
             "#4d9221"
            ],
            [
             1,
             "#276419"
            ]
           ],
           "sequential": [
            [
             0,
             "#0d0887"
            ],
            [
             0.1111111111111111,
             "#46039f"
            ],
            [
             0.2222222222222222,
             "#7201a8"
            ],
            [
             0.3333333333333333,
             "#9c179e"
            ],
            [
             0.4444444444444444,
             "#bd3786"
            ],
            [
             0.5555555555555556,
             "#d8576b"
            ],
            [
             0.6666666666666666,
             "#ed7953"
            ],
            [
             0.7777777777777778,
             "#fb9f3a"
            ],
            [
             0.8888888888888888,
             "#fdca26"
            ],
            [
             1,
             "#f0f921"
            ]
           ],
           "sequentialminus": [
            [
             0,
             "#0d0887"
            ],
            [
             0.1111111111111111,
             "#46039f"
            ],
            [
             0.2222222222222222,
             "#7201a8"
            ],
            [
             0.3333333333333333,
             "#9c179e"
            ],
            [
             0.4444444444444444,
             "#bd3786"
            ],
            [
             0.5555555555555556,
             "#d8576b"
            ],
            [
             0.6666666666666666,
             "#ed7953"
            ],
            [
             0.7777777777777778,
             "#fb9f3a"
            ],
            [
             0.8888888888888888,
             "#fdca26"
            ],
            [
             1,
             "#f0f921"
            ]
           ]
          },
          "colorway": [
           "#636efa",
           "#EF553B",
           "#00cc96",
           "#ab63fa",
           "#FFA15A",
           "#19d3f3",
           "#FF6692",
           "#B6E880",
           "#FF97FF",
           "#FECB52"
          ],
          "font": {
           "color": "#2a3f5f"
          },
          "geo": {
           "bgcolor": "white",
           "lakecolor": "white",
           "landcolor": "#E5ECF6",
           "showlakes": true,
           "showland": true,
           "subunitcolor": "white"
          },
          "hoverlabel": {
           "align": "left"
          },
          "hovermode": "closest",
          "mapbox": {
           "style": "light"
          },
          "paper_bgcolor": "white",
          "plot_bgcolor": "#E5ECF6",
          "polar": {
           "angularaxis": {
            "gridcolor": "white",
            "linecolor": "white",
            "ticks": ""
           },
           "bgcolor": "#E5ECF6",
           "radialaxis": {
            "gridcolor": "white",
            "linecolor": "white",
            "ticks": ""
           }
          },
          "scene": {
           "xaxis": {
            "backgroundcolor": "#E5ECF6",
            "gridcolor": "white",
            "gridwidth": 2,
            "linecolor": "white",
            "showbackground": true,
            "ticks": "",
            "zerolinecolor": "white"
           },
           "yaxis": {
            "backgroundcolor": "#E5ECF6",
            "gridcolor": "white",
            "gridwidth": 2,
            "linecolor": "white",
            "showbackground": true,
            "ticks": "",
            "zerolinecolor": "white"
           },
           "zaxis": {
            "backgroundcolor": "#E5ECF6",
            "gridcolor": "white",
            "gridwidth": 2,
            "linecolor": "white",
            "showbackground": true,
            "ticks": "",
            "zerolinecolor": "white"
           }
          },
          "shapedefaults": {
           "line": {
            "color": "#2a3f5f"
           }
          },
          "ternary": {
           "aaxis": {
            "gridcolor": "white",
            "linecolor": "white",
            "ticks": ""
           },
           "baxis": {
            "gridcolor": "white",
            "linecolor": "white",
            "ticks": ""
           },
           "bgcolor": "#E5ECF6",
           "caxis": {
            "gridcolor": "white",
            "linecolor": "white",
            "ticks": ""
           }
          },
          "title": {
           "x": 0.05
          },
          "xaxis": {
           "automargin": true,
           "gridcolor": "white",
           "linecolor": "white",
           "ticks": "",
           "title": {
            "standoff": 15
           },
           "zerolinecolor": "white",
           "zerolinewidth": 2
          },
          "yaxis": {
           "automargin": true,
           "gridcolor": "white",
           "linecolor": "white",
           "ticks": "",
           "title": {
            "standoff": 15
           },
           "zerolinecolor": "white",
           "zerolinewidth": 2
          }
         }
        },
        "title": {
         "font": {
          "size": 26
         },
         "pad": {
          "b": 10,
          "t": 10
         },
         "text": "Scatter Plot Module Vibration versus Frequency per Failure event",
         "x": 0.5,
         "xanchor": "center",
         "y": 0.94,
         "yanchor": "top"
        },
        "xaxis": {
         "anchor": "y",
         "domain": [
          0,
          1
         ],
         "title": {
          "text": "Module Vibration"
         }
        },
        "yaxis": {
         "anchor": "x",
         "domain": [
          0,
          1
         ],
         "title": {
          "text": "Frequency"
         }
        }
       }
      }
     },
     "metadata": {},
     "output_type": "display_data"
    },
    {
     "data": {
      "application/vnd.plotly.v1+json": {
       "config": {
        "plotlyServerURL": "https://plot.ly"
       },
       "data": [
        {
         "hovertemplate": "Fail=False<br>Temperature=%{x}<br>Pressure=%{y}<br>Frequency=%{z}<extra></extra>",
         "legendgroup": "False",
         "marker": {
          "color": "lightgray",
          "size": 3,
          "symbol": "circle"
         },
         "mode": "markers",
         "name": "False",
         "scene": "scene",
         "showlegend": true,
         "type": "scatter3d",
         "x": {
          "bdata": "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",
          "dtype": "f8"
         },
         "y": {
          "bdata": "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",
          "dtype": "f8"
         },
         "z": {
          "bdata": "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",
          "dtype": "f8"
         }
        },
        {
         "hovertemplate": "Fail=True<br>Temperature=%{x}<br>Pressure=%{y}<br>Frequency=%{z}<extra></extra>",
         "legendgroup": "True",
         "marker": {
          "color": "black",
          "size": 3,
          "symbol": "circle"
         },
         "mode": "markers",
         "name": "True",
         "scene": "scene",
         "showlegend": true,
         "type": "scatter3d",
         "x": {
          "bdata": "5V862Z3zU0CzsYZSgOxWQOs9dJyhOlZANzmWdjMxVkAkxI1eC35aQMq9iUyAbFpAJYNtvJxRWkDp0SS07JJWQPrVraPU0VxAsl2hnCQ/WUBQjxwq/J1aQKG/ZsCwpVpAXoXxEiy3U0D7fzvngzdTQMi+gn/XFlRAZvWE8fViVEAY3yHWbuJTQCDTTFv34lNAs9M9zUQUVEArTZEv4IdYQK5qCL9ADVlA5PLOlZL9WEBlWNvarupYQF4JmZ4TAVpAvsBD7eWvWkDggIc1fhtZQD6uly+1AEpAIX3KacULSEBQ5wB47xVIQFRLZdQxe0lAjXV8lUi0UkDMVCSg3BhUQEsZFBOGr1JAG+lZkR0hWUBacnUKZqpWQJEwo1F5vVZA0xrNHpKEW0CIRIB8K9xiQCbVo46D1GJApy2EhJbVUUDZGA/hYs1YQEo2LswowFhAkXi10groXUDcopFMsr5YQFCgDJbDflZAhGrjAzvJVkCF92r6brlWQOj+L5LZe1NA1YwE6rUZVEBzeXhNToVTQHHoKbGeCFRA5aV14ryZWEBGqDg19ABZQGl4kvUqYFZA+y6bYOwvVkBLdJHUYf1eQEGaDys+ul5AWLaZqFdCX0Btdn+h7epfQN79wcR4z19AX/JV5/vcWkD3/lJNGTxJQKEV8Fcd/khAH8kVML/xU0CCgr5gD9dTQHb9NR2oNlRA",
          "dtype": "f8"
         },
         "y": {
          "bdata": "jTMan03IWUBDcS2EIVZVQGniBT3XDlZAwmHM4KLOWECOjDJ9dKxbQFs+mZ7cv2dABnCXB2qWYkDPSc4jXJZVQOTWozWwjlxAiHZ7SMPRUkA6nunysUlWQDHbowVTLWBA7K96jRddWUCpQ1deN2lJQEG+U2qcR1JAznvA6W4aVEDxwP7py+BYQBj4mo4oyFZALSeXLZx2YEAvLKhSdzpZQNVMEw+FbWJAz/2piqerYkAxPkI6n3RmQEExLu7u/mJA2tdP2ZRsZkCS1THGJCRZQGfIZSt5hWJAVExAKTR6ZkCvie41GXtRQD5CizqDildAJDhHODZfUkChBiura6xaQAclcCg7DV9ATj1iJIIoXkDagem7wHxeQJgePZjCi1ZAQdbu/iUBZECkpb/VX0JZQEAfle10/11AHx9TzpfqVkCtTAVIXhlZQG7rDsjEyFlAMNrVTOY7XkBPQBRaY+VYQCinQvOxXFZAsff2IpguYEAfsTZf83FWQCiezcgE0FxAfY/6NEqbWEAlQ+uy14xcQLB5zswCHFpA3VQ1jE7NXUDbFCmLO7RiQF4XsF1VDl9AbNhNe6EoYkCeuYkEwD5gQAGw9CagD2VA3KJFHILLXUBKoKU8gnBgQOPYNAi7W2BAT9scoYlnWUDYJskkEY9YQFibBWDgDWRA7PapFESiW0DfR/C/iP9jQBYlyP/LoltA",
          "dtype": "f8"
         },
         "z": {
          "bdata": "eOgs1QUkU0BRJbiUJhhVQP3E7hWqDllAFlTRXfYNVkD7H2rST2JgQJpE9/czL2BAWfipYxewYUD1z++GMnJcQC+I4Vc90lhAig1GA9RyVUBVcrFNBtJbQEcjnMrSmVZA5woZQHQ6SUDTNOK0LDVJQMmcAVM+dkhAltun2JKtW0BThl3x125bQITAwSOzjltA2Y/fblw1W0BVLWuB5jFWQOqMO7S2jVZA6orPrBhVVkA4bcFzHYNWQMxFrkCmw1dAOqskWZv3W0BN8QOm+/9YQEeh5bPcr2JAPXN3m+HRYkAeEgP7HZ5WQLZeZcLjQmZAshdYh7ccWEBdqfst0fBTQFZTZkBu01xA+bYuub58VkA88Uwo6mZZQH2FlHlbuFJAq00giirjWEB6cy3E54RWQFt2k08/c1ZAh3cjO3p1X0CM4BWAexdZQMF1c0G3kl9A7jxRP0UOXkCDDEig+8hYQPo/Ciegq1pAa+eNJjpYW0C1GKaVCqtbQIp26j2AqltAjtfyavWCXkAG7upSpwdcQCjlqmtGJllAOy+2tsCmVkBrOiI86J5WQKea6ro3NFlAgRYq76K8VkCPOPUE+E9XQJMXB5BChldAXGv+xav4V0C2kBMJsnFYQA2d/EcZBFlAWzzJugKIV0BjYwYBs+tIQOqNgqbVultAt+sfVJ22UUDVG2Q7RAdUQAzFevi/0FFA",
          "dtype": "f8"
         }
        }
       ],
       "layout": {
        "legend": {
         "title": {
          "text": "Fail"
         },
         "tracegroupgap": 0
        },
        "margin": {
         "b": 50,
         "l": 60,
         "r": 40,
         "t": 120
        },
        "scene": {
         "domain": {
          "x": [
           0,
           1
          ],
          "y": [
           0,
           1
          ]
         },
         "xaxis": {
          "title": {
           "text": "Temperature"
          }
         },
         "yaxis": {
          "title": {
           "text": "Pressure"
          }
         },
         "zaxis": {
          "title": {
           "text": "Frequency"
          }
         }
        },
        "template": {
         "data": {
          "bar": [
           {
            "error_x": {
             "color": "#2a3f5f"
            },
            "error_y": {
             "color": "#2a3f5f"
            },
            "marker": {
             "line": {
              "color": "#E5ECF6",
              "width": 0.5
             },
             "pattern": {
              "fillmode": "overlay",
              "size": 10,
              "solidity": 0.2
             }
            },
            "type": "bar"
           }
          ],
          "barpolar": [
           {
            "marker": {
             "line": {
              "color": "#E5ECF6",
              "width": 0.5
             },
             "pattern": {
              "fillmode": "overlay",
              "size": 10,
              "solidity": 0.2
             }
            },
            "type": "barpolar"
           }
          ],
          "carpet": [
           {
            "aaxis": {
             "endlinecolor": "#2a3f5f",
             "gridcolor": "white",
             "linecolor": "white",
             "minorgridcolor": "white",
             "startlinecolor": "#2a3f5f"
            },
            "baxis": {
             "endlinecolor": "#2a3f5f",
             "gridcolor": "white",
             "linecolor": "white",
             "minorgridcolor": "white",
             "startlinecolor": "#2a3f5f"
            },
            "type": "carpet"
           }
          ],
          "choropleth": [
           {
            "colorbar": {
             "outlinewidth": 0,
             "ticks": ""
            },
            "type": "choropleth"
           }
          ],
          "contour": [
           {
            "colorbar": {
             "outlinewidth": 0,
             "ticks": ""
            },
            "colorscale": [
             [
              0,
              "#0d0887"
             ],
             [
              0.1111111111111111,
              "#46039f"
             ],
             [
              0.2222222222222222,
              "#7201a8"
             ],
             [
              0.3333333333333333,
              "#9c179e"
             ],
             [
              0.4444444444444444,
              "#bd3786"
             ],
             [
              0.5555555555555556,
              "#d8576b"
             ],
             [
              0.6666666666666666,
              "#ed7953"
             ],
             [
              0.7777777777777778,
              "#fb9f3a"
             ],
             [
              0.8888888888888888,
              "#fdca26"
             ],
             [
              1,
              "#f0f921"
             ]
            ],
            "type": "contour"
           }
          ],
          "contourcarpet": [
           {
            "colorbar": {
             "outlinewidth": 0,
             "ticks": ""
            },
            "type": "contourcarpet"
           }
          ],
          "heatmap": [
           {
            "colorbar": {
             "outlinewidth": 0,
             "ticks": ""
            },
            "colorscale": [
             [
              0,
              "#0d0887"
             ],
             [
              0.1111111111111111,
              "#46039f"
             ],
             [
              0.2222222222222222,
              "#7201a8"
             ],
             [
              0.3333333333333333,
              "#9c179e"
             ],
             [
              0.4444444444444444,
              "#bd3786"
             ],
             [
              0.5555555555555556,
              "#d8576b"
             ],
             [
              0.6666666666666666,
              "#ed7953"
             ],
             [
              0.7777777777777778,
              "#fb9f3a"
             ],
             [
              0.8888888888888888,
              "#fdca26"
             ],
             [
              1,
              "#f0f921"
             ]
            ],
            "type": "heatmap"
           }
          ],
          "histogram": [
           {
            "marker": {
             "pattern": {
              "fillmode": "overlay",
              "size": 10,
              "solidity": 0.2
             }
            },
            "type": "histogram"
           }
          ],
          "histogram2d": [
           {
            "colorbar": {
             "outlinewidth": 0,
             "ticks": ""
            },
            "colorscale": [
             [
              0,
              "#0d0887"
             ],
             [
              0.1111111111111111,
              "#46039f"
             ],
             [
              0.2222222222222222,
              "#7201a8"
             ],
             [
              0.3333333333333333,
              "#9c179e"
             ],
             [
              0.4444444444444444,
              "#bd3786"
             ],
             [
              0.5555555555555556,
              "#d8576b"
             ],
             [
              0.6666666666666666,
              "#ed7953"
             ],
             [
              0.7777777777777778,
              "#fb9f3a"
             ],
             [
              0.8888888888888888,
              "#fdca26"
             ],
             [
              1,
              "#f0f921"
             ]
            ],
            "type": "histogram2d"
           }
          ],
          "histogram2dcontour": [
           {
            "colorbar": {
             "outlinewidth": 0,
             "ticks": ""
            },
            "colorscale": [
             [
              0,
              "#0d0887"
             ],
             [
              0.1111111111111111,
              "#46039f"
             ],
             [
              0.2222222222222222,
              "#7201a8"
             ],
             [
              0.3333333333333333,
              "#9c179e"
             ],
             [
              0.4444444444444444,
              "#bd3786"
             ],
             [
              0.5555555555555556,
              "#d8576b"
             ],
             [
              0.6666666666666666,
              "#ed7953"
             ],
             [
              0.7777777777777778,
              "#fb9f3a"
             ],
             [
              0.8888888888888888,
              "#fdca26"
             ],
             [
              1,
              "#f0f921"
             ]
            ],
            "type": "histogram2dcontour"
           }
          ],
          "mesh3d": [
           {
            "colorbar": {
             "outlinewidth": 0,
             "ticks": ""
            },
            "type": "mesh3d"
           }
          ],
          "parcoords": [
           {
            "line": {
             "colorbar": {
              "outlinewidth": 0,
              "ticks": ""
             }
            },
            "type": "parcoords"
           }
          ],
          "pie": [
           {
            "automargin": true,
            "type": "pie"
           }
          ],
          "scatter": [
           {
            "fillpattern": {
             "fillmode": "overlay",
             "size": 10,
             "solidity": 0.2
            },
            "type": "scatter"
           }
          ],
          "scatter3d": [
           {
            "line": {
             "colorbar": {
              "outlinewidth": 0,
              "ticks": ""
             }
            },
            "marker": {
             "colorbar": {
              "outlinewidth": 0,
              "ticks": ""
             }
            },
            "type": "scatter3d"
           }
          ],
          "scattercarpet": [
           {
            "marker": {
             "colorbar": {
              "outlinewidth": 0,
              "ticks": ""
             }
            },
            "type": "scattercarpet"
           }
          ],
          "scattergeo": [
           {
            "marker": {
             "colorbar": {
              "outlinewidth": 0,
              "ticks": ""
             }
            },
            "type": "scattergeo"
           }
          ],
          "scattergl": [
           {
            "marker": {
             "colorbar": {
              "outlinewidth": 0,
              "ticks": ""
             }
            },
            "type": "scattergl"
           }
          ],
          "scattermap": [
           {
            "marker": {
             "colorbar": {
              "outlinewidth": 0,
              "ticks": ""
             }
            },
            "type": "scattermap"
           }
          ],
          "scattermapbox": [
           {
            "marker": {
             "colorbar": {
              "outlinewidth": 0,
              "ticks": ""
             }
            },
            "type": "scattermapbox"
           }
          ],
          "scatterpolar": [
           {
            "marker": {
             "colorbar": {
              "outlinewidth": 0,
              "ticks": ""
             }
            },
            "type": "scatterpolar"
           }
          ],
          "scatterpolargl": [
           {
            "marker": {
             "colorbar": {
              "outlinewidth": 0,
              "ticks": ""
             }
            },
            "type": "scatterpolargl"
           }
          ],
          "scatterternary": [
           {
            "marker": {
             "colorbar": {
              "outlinewidth": 0,
              "ticks": ""
             }
            },
            "type": "scatterternary"
           }
          ],
          "surface": [
           {
            "colorbar": {
             "outlinewidth": 0,
             "ticks": ""
            },
            "colorscale": [
             [
              0,
              "#0d0887"
             ],
             [
              0.1111111111111111,
              "#46039f"
             ],
             [
              0.2222222222222222,
              "#7201a8"
             ],
             [
              0.3333333333333333,
              "#9c179e"
             ],
             [
              0.4444444444444444,
              "#bd3786"
             ],
             [
              0.5555555555555556,
              "#d8576b"
             ],
             [
              0.6666666666666666,
              "#ed7953"
             ],
             [
              0.7777777777777778,
              "#fb9f3a"
             ],
             [
              0.8888888888888888,
              "#fdca26"
             ],
             [
              1,
              "#f0f921"
             ]
            ],
            "type": "surface"
           }
          ],
          "table": [
           {
            "cells": {
             "fill": {
              "color": "#EBF0F8"
             },
             "line": {
              "color": "white"
             }
            },
            "header": {
             "fill": {
              "color": "#C8D4E3"
             },
             "line": {
              "color": "white"
             }
            },
            "type": "table"
           }
          ]
         },
         "layout": {
          "annotationdefaults": {
           "arrowcolor": "#2a3f5f",
           "arrowhead": 0,
           "arrowwidth": 1
          },
          "autotypenumbers": "strict",
          "coloraxis": {
           "colorbar": {
            "outlinewidth": 0,
            "ticks": ""
           }
          },
          "colorscale": {
           "diverging": [
            [
             0,
             "#8e0152"
            ],
            [
             0.1,
             "#c51b7d"
            ],
            [
             0.2,
             "#de77ae"
            ],
            [
             0.3,
             "#f1b6da"
            ],
            [
             0.4,
             "#fde0ef"
            ],
            [
             0.5,
             "#f7f7f7"
            ],
            [
             0.6,
             "#e6f5d0"
            ],
            [
             0.7,
             "#b8e186"
            ],
            [
             0.8,
             "#7fbc41"
            ],
            [
             0.9,
             "#4d9221"
            ],
            [
             1,
             "#276419"
            ]
           ],
           "sequential": [
            [
             0,
             "#0d0887"
            ],
            [
             0.1111111111111111,
             "#46039f"
            ],
            [
             0.2222222222222222,
             "#7201a8"
            ],
            [
             0.3333333333333333,
             "#9c179e"
            ],
            [
             0.4444444444444444,
             "#bd3786"
            ],
            [
             0.5555555555555556,
             "#d8576b"
            ],
            [
             0.6666666666666666,
             "#ed7953"
            ],
            [
             0.7777777777777778,
             "#fb9f3a"
            ],
            [
             0.8888888888888888,
             "#fdca26"
            ],
            [
             1,
             "#f0f921"
            ]
           ],
           "sequentialminus": [
            [
             0,
             "#0d0887"
            ],
            [
             0.1111111111111111,
             "#46039f"
            ],
            [
             0.2222222222222222,
             "#7201a8"
            ],
            [
             0.3333333333333333,
             "#9c179e"
            ],
            [
             0.4444444444444444,
             "#bd3786"
            ],
            [
             0.5555555555555556,
             "#d8576b"
            ],
            [
             0.6666666666666666,
             "#ed7953"
            ],
            [
             0.7777777777777778,
             "#fb9f3a"
            ],
            [
             0.8888888888888888,
             "#fdca26"
            ],
            [
             1,
             "#f0f921"
            ]
           ]
          },
          "colorway": [
           "#636efa",
           "#EF553B",
           "#00cc96",
           "#ab63fa",
           "#FFA15A",
           "#19d3f3",
           "#FF6692",
           "#B6E880",
           "#FF97FF",
           "#FECB52"
          ],
          "font": {
           "color": "#2a3f5f"
          },
          "geo": {
           "bgcolor": "white",
           "lakecolor": "white",
           "landcolor": "#E5ECF6",
           "showlakes": true,
           "showland": true,
           "subunitcolor": "white"
          },
          "hoverlabel": {
           "align": "left"
          },
          "hovermode": "closest",
          "mapbox": {
           "style": "light"
          },
          "paper_bgcolor": "white",
          "plot_bgcolor": "#E5ECF6",
          "polar": {
           "angularaxis": {
            "gridcolor": "white",
            "linecolor": "white",
            "ticks": ""
           },
           "bgcolor": "#E5ECF6",
           "radialaxis": {
            "gridcolor": "white",
            "linecolor": "white",
            "ticks": ""
           }
          },
          "scene": {
           "xaxis": {
            "backgroundcolor": "#E5ECF6",
            "gridcolor": "white",
            "gridwidth": 2,
            "linecolor": "white",
            "showbackground": true,
            "ticks": "",
            "zerolinecolor": "white"
           },
           "yaxis": {
            "backgroundcolor": "#E5ECF6",
            "gridcolor": "white",
            "gridwidth": 2,
            "linecolor": "white",
            "showbackground": true,
            "ticks": "",
            "zerolinecolor": "white"
           },
           "zaxis": {
            "backgroundcolor": "#E5ECF6",
            "gridcolor": "white",
            "gridwidth": 2,
            "linecolor": "white",
            "showbackground": true,
            "ticks": "",
            "zerolinecolor": "white"
           }
          },
          "shapedefaults": {
           "line": {
            "color": "#2a3f5f"
           }
          },
          "ternary": {
           "aaxis": {
            "gridcolor": "white",
            "linecolor": "white",
            "ticks": ""
           },
           "baxis": {
            "gridcolor": "white",
            "linecolor": "white",
            "ticks": ""
           },
           "bgcolor": "#E5ECF6",
           "caxis": {
            "gridcolor": "white",
            "linecolor": "white",
            "ticks": ""
           }
          },
          "title": {
           "x": 0.05
          },
          "xaxis": {
           "automargin": true,
           "gridcolor": "white",
           "linecolor": "white",
           "ticks": "",
           "title": {
            "standoff": 15
           },
           "zerolinecolor": "white",
           "zerolinewidth": 2
          },
          "yaxis": {
           "automargin": true,
           "gridcolor": "white",
           "linecolor": "white",
           "ticks": "",
           "title": {
            "standoff": 15
           },
           "zerolinecolor": "white",
           "zerolinewidth": 2
          }
         }
        },
        "title": {
         "font": {
          "size": 26
         },
         "pad": {
          "b": 10,
          "t": 10
         },
         "text": "3d Plot Temperature versus Pressure versus Frequency per Failure event",
         "x": 0.5,
         "xanchor": "center",
         "y": 0.94,
         "yanchor": "top"
        }
       }
      }
     },
     "metadata": {},
     "output_type": "display_data"
    },
    {
     "data": {
      "application/vnd.plotly.v1+json": {
       "config": {
        "plotlyServerURL": "https://plot.ly"
       },
       "data": [
        {
         "hovertemplate": "Fail=False<br>VibrationX=%{x}<br>VibrationY=%{y}<br>VibrationZ=%{z}<extra></extra>",
         "legendgroup": "False",
         "marker": {
          "color": "lightgray",
          "size": 3,
          "symbol": "circle"
         },
         "mode": "markers",
         "name": "False",
         "scene": "scene",
         "showlegend": true,
         "type": "scatter3d",
         "x": {
          "bdata": "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",
          "dtype": "f8"
         },
         "y": {
          "bdata": "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",
          "dtype": "f8"
         },
         "z": {
          "bdata": "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",
          "dtype": "f8"
         }
        },
        {
         "hovertemplate": "Fail=True<br>VibrationX=%{x}<br>VibrationY=%{y}<br>VibrationZ=%{z}<extra></extra>",
         "legendgroup": "True",
         "marker": {
          "color": "black",
          "size": 3,
          "symbol": "circle"
         },
         "mode": "markers",
         "name": "True",
         "scene": "scene",
         "showlegend": true,
         "type": "scatter3d",
         "x": {
          "bdata": "dnnw1jIwXkCFv469APlYQNTLhcX+SFVAOZozRwJHVkD9ywpL9UhWQLI+ypRrkVlA0R8nLhd4UUAKbgUIJ/tSQCtU0o6dXVVAS+U63v62XEBPGrZsmDhgQDpZkLkUs1ZAJQMDtPwXaUAKcXeP5VlZQFRox96prGJA4CDsqo4+VkBvyxPyHtRdQLWa5YUS6FNA/aE2l9i+WEAXPjMfSmxWQOi3BvvieVZA6RjkqM6LYUAIo9d0ztFjQCiGeKcar1ZAXUkgIwplWEC/foZ4eLtYQNNisCqkS0lAcqQg9NYeNEB90akvCiZkQJaIN66sXFZAVU23I/5BYEDiqJ2AyapaQOpolgQb5FFAelfhFGL4XUBXm9Oy3CNZQHgBWjgjl1pAwoCz15S0W0AY4P4pHfZdQE5oF6CPoFhAAbtwXEAgVkBLmA0LwiZZQPYbrn490FJAm14OOiQ0XkAyve0ENUpZQMq1kaRzC2BASmJhnalaVkCqhjG/KUlSQCrSWrbMc1FANN6NYuv2U0DGvfVOethRQG5JhyZ8bVFARGEdr+5ZWUB0GszNxBFeQGukoJpUYlZAr8IdIKtWVkAwWNWmgPFWQKCv9plKqlhAI5pzd87NVkB1x01VTeVXQF3bcNL6oVdAQZwM5IRLXkDyILhiuvJiQFPJ3B3+vFtA6nWLGuGqTkBCcL8CpuFOQGyVNwMQQl5A",
          "dtype": "f8"
         },
         "y": {
          "bdata": "J37uagfQYECizUr5BNVXQPx5/PKP7V5AqWZuSMo7X0A93HoBbjJjQKoErljxXGNAzGMKAT0yaEBxcj974xVdQEItDCjIvlZA1/d1ndCgVkBN+RSPC6RWQHj429cSBFtAV4ePR6w9SUB9Cu0w/BRZQIImxjLIwVJAwNm6sQXCW0Bk/CImKDhhQLxSBJhVd2BAzg7nwm4YZEDz8kPR5KBiQNIoMVTbm2ZAmEZIKzK0WEBffm9hpGtiQOIM/8ipt2JAaBVqSlWTZkDeGy3cutZYQBALw3Lip2JA19OfQKCMZkDlfEZ+HsxRQIMootqcNldAQ1OHFsrZUkDIaRV3qjpaQMnPMdX+GF9AY8eShiLPYkATdTTM29NiQAE5DZ6UV2BADVa+VWvGU0Dku/DHXidZQCBQpjiq7l1A6xdLaNDwYEDqlpomQyVZQNq+IT4sIV5AzNjRcOoWXkBKeAgZJPVYQIkIsQjG5lZAWwHsnghyUkCbyiqZuZ1WQE0AM9olPV9AKlla+S1yW0AUvtSMwWxfQF2cFiHOG2JApvN0WaPdYkDfIAu0wNNdQJSY9iwWBV1AeasPexQvWkC5fi6kIjZgQI3VqYrdBl5A3aaOAaFQZUC4GOmJuYFgQAKrftT9bWBA1e/c7qoLVEADqJYp2dVYQEX4OJ7eGGRAIwa1bH2yYkD69705wzhlQFoLzOwFd2BA",
          "dtype": "f8"
         },
         "z": {
          "bdata": "m7h0d+L3XECDaLZpGT5fQGaMbHWVNlZAQaKLKZ0TVUAM3vTwMZNWQCaVAIB78VhAAGgZVrXIXUDDOm0iSQhZQKaxXPqpXlJAuc2Omq3GXEALfPV0dypjQOiZ4SUwSGNAWSCU0Q0AWUBtmob8wwdpQB14LKuSuGJAFXjzn1QlYEBLJo27EqZiQIX+KjW7jVtAlgSybRQlXkBy6bgxrzthQG34L/asomNApWHyUdbsVkD7i75/o99WQCV4XtVXlFZAYhGWoU3BWECEqyDkGsNYQLIZHmdMZklA8WSi2suFNEDr/Id0qgdkQLg3MvEgdlZAOPVQqoksYEC8EUq9H19aQAPNFdFgq1FAEpOcZ8edWECVTjcz2SleQCy4YDmpI1pAb8VBLQqbW0BXjmh3a09eQHfnVfkx5FhAqq05xyF9VkBOBbokrt1YQNwDBUM061JAaYw8mfKyXUAUsBqhwc5YQA/ZTLXgNVJA4FaYMAN/VkBSJr9jlT9gQPjXedHu1FNAhe1YoJ5MVkCP5+3k5AhUQL9xBtjEdlRArlmUpfYhXkA5AOPDOWZZQE+uX4bLZlRAWCbxpWkiVEDsEJgybU1WQOujHRcAUFZAgd6jHAcIWUD2z41sQ1BYQB3Yjv7ZcVhA/QxMDEACWEBZZh3W1JpiQIobtWi5eltAVy44ztcuYEBDtLVi1EZgQFK1GKQxlVZA",
          "dtype": "f8"
         }
        }
       ],
       "layout": {
        "legend": {
         "title": {
          "text": "Fail"
         },
         "tracegroupgap": 0
        },
        "margin": {
         "b": 50,
         "l": 60,
         "r": 40,
         "t": 120
        },
        "scene": {
         "domain": {
          "x": [
           0,
           1
          ],
          "y": [
           0,
           1
          ]
         },
         "xaxis": {
          "title": {
           "text": "VibrationX"
          }
         },
         "yaxis": {
          "title": {
           "text": "VibrationY"
          }
         },
         "zaxis": {
          "title": {
           "text": "VibrationZ"
          }
         }
        },
        "template": {
         "data": {
          "bar": [
           {
            "error_x": {
             "color": "#2a3f5f"
            },
            "error_y": {
             "color": "#2a3f5f"
            },
            "marker": {
             "line": {
              "color": "#E5ECF6",
              "width": 0.5
             },
             "pattern": {
              "fillmode": "overlay",
              "size": 10,
              "solidity": 0.2
             }
            },
            "type": "bar"
           }
          ],
          "barpolar": [
           {
            "marker": {
             "line": {
              "color": "#E5ECF6",
              "width": 0.5
             },
             "pattern": {
              "fillmode": "overlay",
              "size": 10,
              "solidity": 0.2
             }
            },
            "type": "barpolar"
           }
          ],
          "carpet": [
           {
            "aaxis": {
             "endlinecolor": "#2a3f5f",
             "gridcolor": "white",
             "linecolor": "white",
             "minorgridcolor": "white",
             "startlinecolor": "#2a3f5f"
            },
            "baxis": {
             "endlinecolor": "#2a3f5f",
             "gridcolor": "white",
             "linecolor": "white",
             "minorgridcolor": "white",
             "startlinecolor": "#2a3f5f"
            },
            "type": "carpet"
           }
          ],
          "choropleth": [
           {
            "colorbar": {
             "outlinewidth": 0,
             "ticks": ""
            },
            "type": "choropleth"
           }
          ],
          "contour": [
           {
            "colorbar": {
             "outlinewidth": 0,
             "ticks": ""
            },
            "colorscale": [
             [
              0,
              "#0d0887"
             ],
             [
              0.1111111111111111,
              "#46039f"
             ],
             [
              0.2222222222222222,
              "#7201a8"
             ],
             [
              0.3333333333333333,
              "#9c179e"
             ],
             [
              0.4444444444444444,
              "#bd3786"
             ],
             [
              0.5555555555555556,
              "#d8576b"
             ],
             [
              0.6666666666666666,
              "#ed7953"
             ],
             [
              0.7777777777777778,
              "#fb9f3a"
             ],
             [
              0.8888888888888888,
              "#fdca26"
             ],
             [
              1,
              "#f0f921"
             ]
            ],
            "type": "contour"
           }
          ],
          "contourcarpet": [
           {
            "colorbar": {
             "outlinewidth": 0,
             "ticks": ""
            },
            "type": "contourcarpet"
           }
          ],
          "heatmap": [
           {
            "colorbar": {
             "outlinewidth": 0,
             "ticks": ""
            },
            "colorscale": [
             [
              0,
              "#0d0887"
             ],
             [
              0.1111111111111111,
              "#46039f"
             ],
             [
              0.2222222222222222,
              "#7201a8"
             ],
             [
              0.3333333333333333,
              "#9c179e"
             ],
             [
              0.4444444444444444,
              "#bd3786"
             ],
             [
              0.5555555555555556,
              "#d8576b"
             ],
             [
              0.6666666666666666,
              "#ed7953"
             ],
             [
              0.7777777777777778,
              "#fb9f3a"
             ],
             [
              0.8888888888888888,
              "#fdca26"
             ],
             [
              1,
              "#f0f921"
             ]
            ],
            "type": "heatmap"
           }
          ],
          "histogram": [
           {
            "marker": {
             "pattern": {
              "fillmode": "overlay",
              "size": 10,
              "solidity": 0.2
             }
            },
            "type": "histogram"
           }
          ],
          "histogram2d": [
           {
            "colorbar": {
             "outlinewidth": 0,
             "ticks": ""
            },
            "colorscale": [
             [
              0,
              "#0d0887"
             ],
             [
              0.1111111111111111,
              "#46039f"
             ],
             [
              0.2222222222222222,
              "#7201a8"
             ],
             [
              0.3333333333333333,
              "#9c179e"
             ],
             [
              0.4444444444444444,
              "#bd3786"
             ],
             [
              0.5555555555555556,
              "#d8576b"
             ],
             [
              0.6666666666666666,
              "#ed7953"
             ],
             [
              0.7777777777777778,
              "#fb9f3a"
             ],
             [
              0.8888888888888888,
              "#fdca26"
             ],
             [
              1,
              "#f0f921"
             ]
            ],
            "type": "histogram2d"
           }
          ],
          "histogram2dcontour": [
           {
            "colorbar": {
             "outlinewidth": 0,
             "ticks": ""
            },
            "colorscale": [
             [
              0,
              "#0d0887"
             ],
             [
              0.1111111111111111,
              "#46039f"
             ],
             [
              0.2222222222222222,
              "#7201a8"
             ],
             [
              0.3333333333333333,
              "#9c179e"
             ],
             [
              0.4444444444444444,
              "#bd3786"
             ],
             [
              0.5555555555555556,
              "#d8576b"
             ],
             [
              0.6666666666666666,
              "#ed7953"
             ],
             [
              0.7777777777777778,
              "#fb9f3a"
             ],
             [
              0.8888888888888888,
              "#fdca26"
             ],
             [
              1,
              "#f0f921"
             ]
            ],
            "type": "histogram2dcontour"
           }
          ],
          "mesh3d": [
           {
            "colorbar": {
             "outlinewidth": 0,
             "ticks": ""
            },
            "type": "mesh3d"
           }
          ],
          "parcoords": [
           {
            "line": {
             "colorbar": {
              "outlinewidth": 0,
              "ticks": ""
             }
            },
            "type": "parcoords"
           }
          ],
          "pie": [
           {
            "automargin": true,
            "type": "pie"
           }
          ],
          "scatter": [
           {
            "fillpattern": {
             "fillmode": "overlay",
             "size": 10,
             "solidity": 0.2
            },
            "type": "scatter"
           }
          ],
          "scatter3d": [
           {
            "line": {
             "colorbar": {
              "outlinewidth": 0,
              "ticks": ""
             }
            },
            "marker": {
             "colorbar": {
              "outlinewidth": 0,
              "ticks": ""
             }
            },
            "type": "scatter3d"
           }
          ],
          "scattercarpet": [
           {
            "marker": {
             "colorbar": {
              "outlinewidth": 0,
              "ticks": ""
             }
            },
            "type": "scattercarpet"
           }
          ],
          "scattergeo": [
           {
            "marker": {
             "colorbar": {
              "outlinewidth": 0,
              "ticks": ""
             }
            },
            "type": "scattergeo"
           }
          ],
          "scattergl": [
           {
            "marker": {
             "colorbar": {
              "outlinewidth": 0,
              "ticks": ""
             }
            },
            "type": "scattergl"
           }
          ],
          "scattermap": [
           {
            "marker": {
             "colorbar": {
              "outlinewidth": 0,
              "ticks": ""
             }
            },
            "type": "scattermap"
           }
          ],
          "scattermapbox": [
           {
            "marker": {
             "colorbar": {
              "outlinewidth": 0,
              "ticks": ""
             }
            },
            "type": "scattermapbox"
           }
          ],
          "scatterpolar": [
           {
            "marker": {
             "colorbar": {
              "outlinewidth": 0,
              "ticks": ""
             }
            },
            "type": "scatterpolar"
           }
          ],
          "scatterpolargl": [
           {
            "marker": {
             "colorbar": {
              "outlinewidth": 0,
              "ticks": ""
             }
            },
            "type": "scatterpolargl"
           }
          ],
          "scatterternary": [
           {
            "marker": {
             "colorbar": {
              "outlinewidth": 0,
              "ticks": ""
             }
            },
            "type": "scatterternary"
           }
          ],
          "surface": [
           {
            "colorbar": {
             "outlinewidth": 0,
             "ticks": ""
            },
            "colorscale": [
             [
              0,
              "#0d0887"
             ],
             [
              0.1111111111111111,
              "#46039f"
             ],
             [
              0.2222222222222222,
              "#7201a8"
             ],
             [
              0.3333333333333333,
              "#9c179e"
             ],
             [
              0.4444444444444444,
              "#bd3786"
             ],
             [
              0.5555555555555556,
              "#d8576b"
             ],
             [
              0.6666666666666666,
              "#ed7953"
             ],
             [
              0.7777777777777778,
              "#fb9f3a"
             ],
             [
              0.8888888888888888,
              "#fdca26"
             ],
             [
              1,
              "#f0f921"
             ]
            ],
            "type": "surface"
           }
          ],
          "table": [
           {
            "cells": {
             "fill": {
              "color": "#EBF0F8"
             },
             "line": {
              "color": "white"
             }
            },
            "header": {
             "fill": {
              "color": "#C8D4E3"
             },
             "line": {
              "color": "white"
             }
            },
            "type": "table"
           }
          ]
         },
         "layout": {
          "annotationdefaults": {
           "arrowcolor": "#2a3f5f",
           "arrowhead": 0,
           "arrowwidth": 1
          },
          "autotypenumbers": "strict",
          "coloraxis": {
           "colorbar": {
            "outlinewidth": 0,
            "ticks": ""
           }
          },
          "colorscale": {
           "diverging": [
            [
             0,
             "#8e0152"
            ],
            [
             0.1,
             "#c51b7d"
            ],
            [
             0.2,
             "#de77ae"
            ],
            [
             0.3,
             "#f1b6da"
            ],
            [
             0.4,
             "#fde0ef"
            ],
            [
             0.5,
             "#f7f7f7"
            ],
            [
             0.6,
             "#e6f5d0"
            ],
            [
             0.7,
             "#b8e186"
            ],
            [
             0.8,
             "#7fbc41"
            ],
            [
             0.9,
             "#4d9221"
            ],
            [
             1,
             "#276419"
            ]
           ],
           "sequential": [
            [
             0,
             "#0d0887"
            ],
            [
             0.1111111111111111,
             "#46039f"
            ],
            [
             0.2222222222222222,
             "#7201a8"
            ],
            [
             0.3333333333333333,
             "#9c179e"
            ],
            [
             0.4444444444444444,
             "#bd3786"
            ],
            [
             0.5555555555555556,
             "#d8576b"
            ],
            [
             0.6666666666666666,
             "#ed7953"
            ],
            [
             0.7777777777777778,
             "#fb9f3a"
            ],
            [
             0.8888888888888888,
             "#fdca26"
            ],
            [
             1,
             "#f0f921"
            ]
           ],
           "sequentialminus": [
            [
             0,
             "#0d0887"
            ],
            [
             0.1111111111111111,
             "#46039f"
            ],
            [
             0.2222222222222222,
             "#7201a8"
            ],
            [
             0.3333333333333333,
             "#9c179e"
            ],
            [
             0.4444444444444444,
             "#bd3786"
            ],
            [
             0.5555555555555556,
             "#d8576b"
            ],
            [
             0.6666666666666666,
             "#ed7953"
            ],
            [
             0.7777777777777778,
             "#fb9f3a"
            ],
            [
             0.8888888888888888,
             "#fdca26"
            ],
            [
             1,
             "#f0f921"
            ]
           ]
          },
          "colorway": [
           "#636efa",
           "#EF553B",
           "#00cc96",
           "#ab63fa",
           "#FFA15A",
           "#19d3f3",
           "#FF6692",
           "#B6E880",
           "#FF97FF",
           "#FECB52"
          ],
          "font": {
           "color": "#2a3f5f"
          },
          "geo": {
           "bgcolor": "white",
           "lakecolor": "white",
           "landcolor": "#E5ECF6",
           "showlakes": true,
           "showland": true,
           "subunitcolor": "white"
          },
          "hoverlabel": {
           "align": "left"
          },
          "hovermode": "closest",
          "mapbox": {
           "style": "light"
          },
          "paper_bgcolor": "white",
          "plot_bgcolor": "#E5ECF6",
          "polar": {
           "angularaxis": {
            "gridcolor": "white",
            "linecolor": "white",
            "ticks": ""
           },
           "bgcolor": "#E5ECF6",
           "radialaxis": {
            "gridcolor": "white",
            "linecolor": "white",
            "ticks": ""
           }
          },
          "scene": {
           "xaxis": {
            "backgroundcolor": "#E5ECF6",
            "gridcolor": "white",
            "gridwidth": 2,
            "linecolor": "white",
            "showbackground": true,
            "ticks": "",
            "zerolinecolor": "white"
           },
           "yaxis": {
            "backgroundcolor": "#E5ECF6",
            "gridcolor": "white",
            "gridwidth": 2,
            "linecolor": "white",
            "showbackground": true,
            "ticks": "",
            "zerolinecolor": "white"
           },
           "zaxis": {
            "backgroundcolor": "#E5ECF6",
            "gridcolor": "white",
            "gridwidth": 2,
            "linecolor": "white",
            "showbackground": true,
            "ticks": "",
            "zerolinecolor": "white"
           }
          },
          "shapedefaults": {
           "line": {
            "color": "#2a3f5f"
           }
          },
          "ternary": {
           "aaxis": {
            "gridcolor": "white",
            "linecolor": "white",
            "ticks": ""
           },
           "baxis": {
            "gridcolor": "white",
            "linecolor": "white",
            "ticks": ""
           },
           "bgcolor": "#E5ECF6",
           "caxis": {
            "gridcolor": "white",
            "linecolor": "white",
            "ticks": ""
           }
          },
          "title": {
           "x": 0.05
          },
          "xaxis": {
           "automargin": true,
           "gridcolor": "white",
           "linecolor": "white",
           "ticks": "",
           "title": {
            "standoff": 15
           },
           "zerolinecolor": "white",
           "zerolinewidth": 2
          },
          "yaxis": {
           "automargin": true,
           "gridcolor": "white",
           "linecolor": "white",
           "ticks": "",
           "title": {
            "standoff": 15
           },
           "zerolinecolor": "white",
           "zerolinewidth": 2
          }
         }
        },
        "title": {
         "font": {
          "size": 26
         },
         "pad": {
          "b": 10,
          "t": 10
         },
         "text": "3d Plot VibrationX versus VibrationY versus VibrationZ per Failure event",
         "x": 0.5,
         "xanchor": "center",
         "y": 0.94,
         "yanchor": "top"
        }
       }
      }
     },
     "metadata": {},
     "output_type": "display_data"
    },
    {
     "data": {
      "application/vnd.plotly.v1+json": {
       "config": {
        "plotlyServerURL": "https://plot.ly"
       },
       "data": [
        {
         "hovertemplate": "Preset_1=1<br>Cycle=%{x}<br>Temperature=%{y}<extra></extra>",
         "legendgroup": "1",
         "marker": {
          "color": "#636efa",
          "symbol": "circle"
         },
         "mode": "markers",
         "name": "1",
         "orientation": "v",
         "showlegend": true,
         "type": "scatter",
         "x": {
          "bdata": "BgAHAAgACgANAA8AEQAZACcAKQAqACsALAAvADUAOAA6ADwAPQBAAEIAQwBEAEUASABJAEoATgBPAFEAUwBVAFkAYABjAGUAZwBoAGwAbwBxAHQAdQB6AH4AgwCFAIYAhwCIAIkAjACSAKAAoQCjAKQApQCmAKgAqQCqAKsArQCvALAAtQDDAMcA0ADTANQA1gDYAN4A5wDoAOoA7ADvAPAA9AD6APsA/AD+AAEBAwEFAQYBBwEIAQsBDQEQARcBGAEbAR0BIQEiASYBKAEsATABMgE0ATcBOQE/AUMBRgFIAUsBTQFPAVEBUgFTAVYBWAFaAVsBXQFgAWMBaQFsAXABcQFzAXQBdwF8AYkBigGNAY4BjwGTAZQBlQGXAZgBnQGgAaEBogGjAaQBpwGoAakBrQGuAa8BsAG0AbkBvwHFAc4BzwHUAdYB3AHjAeUB5gHpAeoB6wHsAfMB9gH4AfkB/gH/AQECAwIGAgoCCwIOAhMCFAIVAhwCJgInAikCLAItAi4CLwI4Aj4CPwJBAkQCRgJNAk8CUAJUAlYCVwJYAmMCZQJmAmgCbQJxAnQCdwJ5AnwCgQKEAoYChwKIAooCiwKVApYCmgKeAqACpQKpAqwCsAKzArgCuQLGAssC1ALWAtoC3gLkAuUC5wLqAu0C8ALxAvkC+gL7Av8CAgMDAwUDBwMUAxkDGgMdAx4D",
          "dtype": "i2"
         },
         "xaxis": "x",
         "y": {
          "bdata": "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",
          "dtype": "f8"
         },
         "yaxis": "y"
        },
        {
         "hovertemplate": "Preset_1=2<br>Cycle=%{x}<br>Temperature=%{y}<extra></extra>",
         "legendgroup": "2",
         "marker": {
          "color": "#EF553B",
          "symbol": "circle"
         },
         "mode": "markers",
         "name": "2",
         "orientation": "v",
         "showlegend": true,
         "type": "scatter",
         "x": {
          "bdata": "AgADAAQABQALAAwAEgAUABUAFgAYABoAGwAcAB4AHwAgACMAJAAlACYAKAAwADEAMgA0ADYAOQA/AEYARwBNAFIAVABWAFsAXABdAGQAaQBzAHYAdwB4AHkAewB9AH8AgACBAIQAigCLAI0AkQCXAJkAmgCcAJ4AogCuALIAtgC4ALsAvAC9AL4AvwDCAMQAxQDLAM0A1wDaANsA3wDgAOIA5ADpAOsA7QDuAPMA9QD2APcA+AD9AP8AAAEKAQ8BEwEUARUBFgEZARoBJwEpASsBLQEvATEBMwE1AT0BPgFAAUQBTAFQAVQBVQFXAV4BXwFhAWQBawFuAW8BcgF1AXgBeQF7AX0BfwGAAYEBhAGHAZIBmQGcAZ4BpQGyAbMBtwG4AbwBvQG+AcABwgHKAcsBzQHQAdEB0gHTAdUB1wHaAdsB3QHeAeAB5AHtAe4B7wHwAfQB9QH6AfsB/QECAgUCBwIIAhECEgIWAhgCGQIbAh0CHgIfAiECIgIkAigCKgIxAjICNAI1AjwCQgJHAkgCSQJLAlICUwJVAlkCWgJbAl4CXwJgAmICZAJnAmkCawJuAnoCewJ9An4CgwKJAo0CjgKPApACkQKXApgCnwKmAqoCqwKxAroCuwK8Ar4CvwLAAsICwwLJAsoCzALPAtAC0gLTAtUC2ALZAtsC3QLhAuYC6wLsAu8C8gL0AvUC+AL8AgEDBAMGAwkDCgMLAw4DDwMRAxMDFgMYAxsDHAMfAw==",
          "dtype": "i2"
         },
         "xaxis": "x",
         "y": {
          "bdata": "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",
          "dtype": "f8"
         },
         "yaxis": "y"
        },
        {
         "hovertemplate": "Preset_1=3<br>Cycle=%{x}<br>Temperature=%{y}<extra></extra>",
         "legendgroup": "3",
         "marker": {
          "color": "#00cc96",
          "symbol": "circle"
         },
         "mode": "markers",
         "name": "3",
         "orientation": "v",
         "showlegend": true,
         "type": "scatter",
         "x": {
          "bdata": "AQAJAA4AEAATABcAHQAhACIALQAuADMANwA7AD4AQQBLAEwAUABXAFgAWgBeAF8AYQBiAGYAagBrAG0AbgBwAHIAfACCAI4AjwCQAJMAlACVAJYAmACbAJ0AnwCnAKwAsQCzALQAtwC5ALoAwADBAMYAyADJAMoAzADOAM8A0QDSANUA2QDcAN0A4QDjAOUA5gDxAPIA+QACAQQBCQEMAQ4BEQESARwBHgEfASABIwEkASUBKgEuATYBOAE6ATsBPAFBAUIBRQFHAUkBSgFOAVkBXAFiAWUBZgFnAWgBagFtAXYBegF+AYIBgwGFAYYBiAGLAYwBkAGRAZYBmgGbAZ8BpgGqAasBrAGxAbUBtgG6AbsBwQHDAcQBxgHHAcgByQHMAdgB2QHfAeEB4gHnAegB8QHyAfcB/AEAAgQCCQIMAg0CDwIQAhcCGgIgAiMCJQIrAjACMwI2AjcCOQI6AjsCPQJAAkMCRQJKAkwCTgJRAlwCXQJhAmoCbAJvAnACcgJzAnUCdgJ4An8CgAKCAoUCjAKSApMClAKZApsCnAKdAqECogKjAqQCpwKoAq0CrgKvArICtAK1ArYCtwK9AsECxALFAscCyALNAs4C0QLXAtwC3wLgAuIC4wLoAukC7gLzAvYC9wL9Av4CAAMIAwwDDQMQAxIDFQMXAyAD",
          "dtype": "i2"
         },
         "xaxis": "x",
         "y": {
          "bdata": "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",
          "dtype": "f8"
         },
         "yaxis": "y"
        }
       ],
       "layout": {
        "legend": {
         "title": {
          "text": "Preset_1"
         },
         "tracegroupgap": 0
        },
        "margin": {
         "b": 50,
         "l": 60,
         "r": 40,
         "t": 120
        },
        "shapes": [
         {
          "line": {
           "color": "black",
           "width": 1
          },
          "type": "line",
          "x0": 13,
          "x1": 13,
          "xref": "x",
          "y0": 0,
          "y1": 1,
          "yref": "y domain"
         },
         {
          "line": {
           "color": "black",
           "width": 1
          },
          "type": "line",
          "x0": 157,
          "x1": 157,
          "xref": "x",
          "y0": 0,
          "y1": 1,
          "yref": "y domain"
         },
         {
          "line": {
           "color": "black",
           "width": 1
          },
          "type": "line",
          "x0": 158,
          "x1": 158,
          "xref": "x",
          "y0": 0,
          "y1": 1,
          "yref": "y domain"
         },
         {
          "line": {
           "color": "black",
           "width": 1
          },
          "type": "line",
          "x0": 159,
          "x1": 159,
          "xref": "x",
          "y0": 0,
          "y1": 1,
          "yref": "y domain"
         },
         {
          "line": {
           "color": "black",
           "width": 1
          },
          "type": "line",
          "x0": 163,
          "x1": 163,
          "xref": "x",
          "y0": 0,
          "y1": 1,
          "yref": "y domain"
         },
         {
          "line": {
           "color": "black",
           "width": 1
          },
          "type": "line",
          "x0": 164,
          "x1": 164,
          "xref": "x",
          "y0": 0,
          "y1": 1,
          "yref": "y domain"
         },
         {
          "line": {
           "color": "black",
           "width": 1
          },
          "type": "line",
          "x0": 165,
          "x1": 165,
          "xref": "x",
          "y0": 0,
          "y1": 1,
          "yref": "y domain"
         },
         {
          "line": {
           "color": "black",
           "width": 1
          },
          "type": "line",
          "x0": 263,
          "x1": 263,
          "xref": "x",
          "y0": 0,
          "y1": 1,
          "yref": "y domain"
         },
         {
          "line": {
           "color": "black",
           "width": 1
          },
          "type": "line",
          "x0": 264,
          "x1": 264,
          "xref": "x",
          "y0": 0,
          "y1": 1,
          "yref": "y domain"
         },
         {
          "line": {
           "color": "black",
           "width": 1
          },
          "type": "line",
          "x0": 265,
          "x1": 265,
          "xref": "x",
          "y0": 0,
          "y1": 1,
          "yref": "y domain"
         },
         {
          "line": {
           "color": "black",
           "width": 1
          },
          "type": "line",
          "x0": 270,
          "x1": 270,
          "xref": "x",
          "y0": 0,
          "y1": 1,
          "yref": "y domain"
         },
         {
          "line": {
           "color": "black",
           "width": 1
          },
          "type": "line",
          "x0": 271,
          "x1": 271,
          "xref": "x",
          "y0": 0,
          "y1": 1,
          "yref": "y domain"
         },
         {
          "line": {
           "color": "black",
           "width": 1
          },
          "type": "line",
          "x0": 415,
          "x1": 415,
          "xref": "x",
          "y0": 0,
          "y1": 1,
          "yref": "y domain"
         },
         {
          "line": {
           "color": "black",
           "width": 1
          },
          "type": "line",
          "x0": 416,
          "x1": 416,
          "xref": "x",
          "y0": 0,
          "y1": 1,
          "yref": "y domain"
         },
         {
          "line": {
           "color": "black",
           "width": 1
          },
          "type": "line",
          "x0": 417,
          "x1": 417,
          "xref": "x",
          "y0": 0,
          "y1": 1,
          "yref": "y domain"
         },
         {
          "line": {
           "color": "black",
           "width": 1
          },
          "type": "line",
          "x0": 418,
          "x1": 418,
          "xref": "x",
          "y0": 0,
          "y1": 1,
          "yref": "y domain"
         },
         {
          "line": {
           "color": "black",
           "width": 1
          },
          "type": "line",
          "x0": 419,
          "x1": 419,
          "xref": "x",
          "y0": 0,
          "y1": 1,
          "yref": "y domain"
         },
         {
          "line": {
           "color": "black",
           "width": 1
          },
          "type": "line",
          "x0": 420,
          "x1": 420,
          "xref": "x",
          "y0": 0,
          "y1": 1,
          "yref": "y domain"
         },
         {
          "line": {
           "color": "black",
           "width": 1
          },
          "type": "line",
          "x0": 421,
          "x1": 421,
          "xref": "x",
          "y0": 0,
          "y1": 1,
          "yref": "y domain"
         },
         {
          "line": {
           "color": "black",
           "width": 1
          },
          "type": "line",
          "x0": 422,
          "x1": 422,
          "xref": "x",
          "y0": 0,
          "y1": 1,
          "yref": "y domain"
         },
         {
          "line": {
           "color": "black",
           "width": 1
          },
          "type": "line",
          "x0": 423,
          "x1": 423,
          "xref": "x",
          "y0": 0,
          "y1": 1,
          "yref": "y domain"
         },
         {
          "line": {
           "color": "black",
           "width": 1
          },
          "type": "line",
          "x0": 424,
          "x1": 424,
          "xref": "x",
          "y0": 0,
          "y1": 1,
          "yref": "y domain"
         },
         {
          "line": {
           "color": "black",
           "width": 1
          },
          "type": "line",
          "x0": 425,
          "x1": 425,
          "xref": "x",
          "y0": 0,
          "y1": 1,
          "yref": "y domain"
         },
         {
          "line": {
           "color": "black",
           "width": 1
          },
          "type": "line",
          "x0": 426,
          "x1": 426,
          "xref": "x",
          "y0": 0,
          "y1": 1,
          "yref": "y domain"
         },
         {
          "line": {
           "color": "black",
           "width": 1
          },
          "type": "line",
          "x0": 427,
          "x1": 427,
          "xref": "x",
          "y0": 0,
          "y1": 1,
          "yref": "y domain"
         },
         {
          "line": {
           "color": "black",
           "width": 1
          },
          "type": "line",
          "x0": 428,
          "x1": 428,
          "xref": "x",
          "y0": 0,
          "y1": 1,
          "yref": "y domain"
         },
         {
          "line": {
           "color": "black",
           "width": 1
          },
          "type": "line",
          "x0": 429,
          "x1": 429,
          "xref": "x",
          "y0": 0,
          "y1": 1,
          "yref": "y domain"
         },
         {
          "line": {
           "color": "black",
           "width": 1
          },
          "type": "line",
          "x0": 430,
          "x1": 430,
          "xref": "x",
          "y0": 0,
          "y1": 1,
          "yref": "y domain"
         },
         {
          "line": {
           "color": "black",
           "width": 1
          },
          "type": "line",
          "x0": 431,
          "x1": 431,
          "xref": "x",
          "y0": 0,
          "y1": 1,
          "yref": "y domain"
         },
         {
          "line": {
           "color": "black",
           "width": 1
          },
          "type": "line",
          "x0": 432,
          "x1": 432,
          "xref": "x",
          "y0": 0,
          "y1": 1,
          "yref": "y domain"
         },
         {
          "line": {
           "color": "black",
           "width": 1
          },
          "type": "line",
          "x0": 538,
          "x1": 538,
          "xref": "x",
          "y0": 0,
          "y1": 1,
          "yref": "y domain"
         },
         {
          "line": {
           "color": "black",
           "width": 1
          },
          "type": "line",
          "x0": 539,
          "x1": 539,
          "xref": "x",
          "y0": 0,
          "y1": 1,
          "yref": "y domain"
         },
         {
          "line": {
           "color": "black",
           "width": 1
          },
          "type": "line",
          "x0": 540,
          "x1": 540,
          "xref": "x",
          "y0": 0,
          "y1": 1,
          "yref": "y domain"
         },
         {
          "line": {
           "color": "black",
           "width": 1
          },
          "type": "line",
          "x0": 541,
          "x1": 541,
          "xref": "x",
          "y0": 0,
          "y1": 1,
          "yref": "y domain"
         },
         {
          "line": {
           "color": "black",
           "width": 1
          },
          "type": "line",
          "x0": 542,
          "x1": 542,
          "xref": "x",
          "y0": 0,
          "y1": 1,
          "yref": "y domain"
         },
         {
          "line": {
           "color": "black",
           "width": 1
          },
          "type": "line",
          "x0": 543,
          "x1": 543,
          "xref": "x",
          "y0": 0,
          "y1": 1,
          "yref": "y domain"
         },
         {
          "line": {
           "color": "black",
           "width": 1
          },
          "type": "line",
          "x0": 544,
          "x1": 544,
          "xref": "x",
          "y0": 0,
          "y1": 1,
          "yref": "y domain"
         },
         {
          "line": {
           "color": "black",
           "width": 1
          },
          "type": "line",
          "x0": 545,
          "x1": 545,
          "xref": "x",
          "y0": 0,
          "y1": 1,
          "yref": "y domain"
         },
         {
          "line": {
           "color": "black",
           "width": 1
          },
          "type": "line",
          "x0": 546,
          "x1": 546,
          "xref": "x",
          "y0": 0,
          "y1": 1,
          "yref": "y domain"
         },
         {
          "line": {
           "color": "black",
           "width": 1
          },
          "type": "line",
          "x0": 550,
          "x1": 550,
          "xref": "x",
          "y0": 0,
          "y1": 1,
          "yref": "y domain"
         },
         {
          "line": {
           "color": "black",
           "width": 1
          },
          "type": "line",
          "x0": 551,
          "x1": 551,
          "xref": "x",
          "y0": 0,
          "y1": 1,
          "yref": "y domain"
         },
         {
          "line": {
           "color": "black",
           "width": 1
          },
          "type": "line",
          "x0": 552,
          "x1": 552,
          "xref": "x",
          "y0": 0,
          "y1": 1,
          "yref": "y domain"
         },
         {
          "line": {
           "color": "black",
           "width": 1
          },
          "type": "line",
          "x0": 553,
          "x1": 553,
          "xref": "x",
          "y0": 0,
          "y1": 1,
          "yref": "y domain"
         },
         {
          "line": {
           "color": "black",
           "width": 1
          },
          "type": "line",
          "x0": 554,
          "x1": 554,
          "xref": "x",
          "y0": 0,
          "y1": 1,
          "yref": "y domain"
         },
         {
          "line": {
           "color": "black",
           "width": 1
          },
          "type": "line",
          "x0": 700,
          "x1": 700,
          "xref": "x",
          "y0": 0,
          "y1": 1,
          "yref": "y domain"
         },
         {
          "line": {
           "color": "black",
           "width": 1
          },
          "type": "line",
          "x0": 701,
          "x1": 701,
          "xref": "x",
          "y0": 0,
          "y1": 1,
          "yref": "y domain"
         },
         {
          "line": {
           "color": "black",
           "width": 1
          },
          "type": "line",
          "x0": 702,
          "x1": 702,
          "xref": "x",
          "y0": 0,
          "y1": 1,
          "yref": "y domain"
         },
         {
          "line": {
           "color": "black",
           "width": 1
          },
          "type": "line",
          "x0": 703,
          "x1": 703,
          "xref": "x",
          "y0": 0,
          "y1": 1,
          "yref": "y domain"
         },
         {
          "line": {
           "color": "black",
           "width": 1
          },
          "type": "line",
          "x0": 704,
          "x1": 704,
          "xref": "x",
          "y0": 0,
          "y1": 1,
          "yref": "y domain"
         },
         {
          "line": {
           "color": "black",
           "width": 1
          },
          "type": "line",
          "x0": 705,
          "x1": 705,
          "xref": "x",
          "y0": 0,
          "y1": 1,
          "yref": "y domain"
         },
         {
          "line": {
           "color": "black",
           "width": 1
          },
          "type": "line",
          "x0": 706,
          "x1": 706,
          "xref": "x",
          "y0": 0,
          "y1": 1,
          "yref": "y domain"
         },
         {
          "line": {
           "color": "black",
           "width": 1
          },
          "type": "line",
          "x0": 707,
          "x1": 707,
          "xref": "x",
          "y0": 0,
          "y1": 1,
          "yref": "y domain"
         },
         {
          "line": {
           "color": "black",
           "width": 1
          },
          "type": "line",
          "x0": 708,
          "x1": 708,
          "xref": "x",
          "y0": 0,
          "y1": 1,
          "yref": "y domain"
         },
         {
          "line": {
           "color": "black",
           "width": 1
          },
          "type": "line",
          "x0": 709,
          "x1": 709,
          "xref": "x",
          "y0": 0,
          "y1": 1,
          "yref": "y domain"
         },
         {
          "line": {
           "color": "black",
           "width": 1
          },
          "type": "line",
          "x0": 710,
          "x1": 710,
          "xref": "x",
          "y0": 0,
          "y1": 1,
          "yref": "y domain"
         },
         {
          "line": {
           "color": "black",
           "width": 1
          },
          "type": "line",
          "x0": 711,
          "x1": 711,
          "xref": "x",
          "y0": 0,
          "y1": 1,
          "yref": "y domain"
         },
         {
          "line": {
           "color": "black",
           "width": 1
          },
          "type": "line",
          "x0": 712,
          "x1": 712,
          "xref": "x",
          "y0": 0,
          "y1": 1,
          "yref": "y domain"
         },
         {
          "line": {
           "color": "black",
           "width": 1
          },
          "type": "line",
          "x0": 713,
          "x1": 713,
          "xref": "x",
          "y0": 0,
          "y1": 1,
          "yref": "y domain"
         },
         {
          "line": {
           "color": "black",
           "width": 1
          },
          "type": "line",
          "x0": 793,
          "x1": 793,
          "xref": "x",
          "y0": 0,
          "y1": 1,
          "yref": "y domain"
         },
         {
          "line": {
           "color": "black",
           "width": 1
          },
          "type": "line",
          "x0": 794,
          "x1": 794,
          "xref": "x",
          "y0": 0,
          "y1": 1,
          "yref": "y domain"
         },
         {
          "line": {
           "color": "black",
           "width": 1
          },
          "type": "line",
          "x0": 795,
          "x1": 795,
          "xref": "x",
          "y0": 0,
          "y1": 1,
          "yref": "y domain"
         },
         {
          "line": {
           "color": "black",
           "width": 1
          },
          "type": "line",
          "x0": 796,
          "x1": 796,
          "xref": "x",
          "y0": 0,
          "y1": 1,
          "yref": "y domain"
         },
         {
          "line": {
           "color": "black",
           "width": 1
          },
          "type": "line",
          "x0": 797,
          "x1": 797,
          "xref": "x",
          "y0": 0,
          "y1": 1,
          "yref": "y domain"
         },
         {
          "line": {
           "color": "black",
           "width": 1
          },
          "type": "line",
          "x0": 798,
          "x1": 798,
          "xref": "x",
          "y0": 0,
          "y1": 1,
          "yref": "y domain"
         },
         {
          "line": {
           "color": "black",
           "width": 1
          },
          "type": "line",
          "x0": 799,
          "x1": 799,
          "xref": "x",
          "y0": 0,
          "y1": 1,
          "yref": "y domain"
         },
         {
          "line": {
           "color": "black",
           "width": 1
          },
          "type": "line",
          "x0": 800,
          "x1": 800,
          "xref": "x",
          "y0": 0,
          "y1": 1,
          "yref": "y domain"
         }
        ],
        "template": {
         "data": {
          "bar": [
           {
            "error_x": {
             "color": "#2a3f5f"
            },
            "error_y": {
             "color": "#2a3f5f"
            },
            "marker": {
             "line": {
              "color": "#E5ECF6",
              "width": 0.5
             },
             "pattern": {
              "fillmode": "overlay",
              "size": 10,
              "solidity": 0.2
             }
            },
            "type": "bar"
           }
          ],
          "barpolar": [
           {
            "marker": {
             "line": {
              "color": "#E5ECF6",
              "width": 0.5
             },
             "pattern": {
              "fillmode": "overlay",
              "size": 10,
              "solidity": 0.2
             }
            },
            "type": "barpolar"
           }
          ],
          "carpet": [
           {
            "aaxis": {
             "endlinecolor": "#2a3f5f",
             "gridcolor": "white",
             "linecolor": "white",
             "minorgridcolor": "white",
             "startlinecolor": "#2a3f5f"
            },
            "baxis": {
             "endlinecolor": "#2a3f5f",
             "gridcolor": "white",
             "linecolor": "white",
             "minorgridcolor": "white",
             "startlinecolor": "#2a3f5f"
            },
            "type": "carpet"
           }
          ],
          "choropleth": [
           {
            "colorbar": {
             "outlinewidth": 0,
             "ticks": ""
            },
            "type": "choropleth"
           }
          ],
          "contour": [
           {
            "colorbar": {
             "outlinewidth": 0,
             "ticks": ""
            },
            "colorscale": [
             [
              0,
              "#0d0887"
             ],
             [
              0.1111111111111111,
              "#46039f"
             ],
             [
              0.2222222222222222,
              "#7201a8"
             ],
             [
              0.3333333333333333,
              "#9c179e"
             ],
             [
              0.4444444444444444,
              "#bd3786"
             ],
             [
              0.5555555555555556,
              "#d8576b"
             ],
             [
              0.6666666666666666,
              "#ed7953"
             ],
             [
              0.7777777777777778,
              "#fb9f3a"
             ],
             [
              0.8888888888888888,
              "#fdca26"
             ],
             [
              1,
              "#f0f921"
             ]
            ],
            "type": "contour"
           }
          ],
          "contourcarpet": [
           {
            "colorbar": {
             "outlinewidth": 0,
             "ticks": ""
            },
            "type": "contourcarpet"
           }
          ],
          "heatmap": [
           {
            "colorbar": {
             "outlinewidth": 0,
             "ticks": ""
            },
            "colorscale": [
             [
              0,
              "#0d0887"
             ],
             [
              0.1111111111111111,
              "#46039f"
             ],
             [
              0.2222222222222222,
              "#7201a8"
             ],
             [
              0.3333333333333333,
              "#9c179e"
             ],
             [
              0.4444444444444444,
              "#bd3786"
             ],
             [
              0.5555555555555556,
              "#d8576b"
             ],
             [
              0.6666666666666666,
              "#ed7953"
             ],
             [
              0.7777777777777778,
              "#fb9f3a"
             ],
             [
              0.8888888888888888,
              "#fdca26"
             ],
             [
              1,
              "#f0f921"
             ]
            ],
            "type": "heatmap"
           }
          ],
          "histogram": [
           {
            "marker": {
             "pattern": {
              "fillmode": "overlay",
              "size": 10,
              "solidity": 0.2
             }
            },
            "type": "histogram"
           }
          ],
          "histogram2d": [
           {
            "colorbar": {
             "outlinewidth": 0,
             "ticks": ""
            },
            "colorscale": [
             [
              0,
              "#0d0887"
             ],
             [
              0.1111111111111111,
              "#46039f"
             ],
             [
              0.2222222222222222,
              "#7201a8"
             ],
             [
              0.3333333333333333,
              "#9c179e"
             ],
             [
              0.4444444444444444,
              "#bd3786"
             ],
             [
              0.5555555555555556,
              "#d8576b"
             ],
             [
              0.6666666666666666,
              "#ed7953"
             ],
             [
              0.7777777777777778,
              "#fb9f3a"
             ],
             [
              0.8888888888888888,
              "#fdca26"
             ],
             [
              1,
              "#f0f921"
             ]
            ],
            "type": "histogram2d"
           }
          ],
          "histogram2dcontour": [
           {
            "colorbar": {
             "outlinewidth": 0,
             "ticks": ""
            },
            "colorscale": [
             [
              0,
              "#0d0887"
             ],
             [
              0.1111111111111111,
              "#46039f"
             ],
             [
              0.2222222222222222,
              "#7201a8"
             ],
             [
              0.3333333333333333,
              "#9c179e"
             ],
             [
              0.4444444444444444,
              "#bd3786"
             ],
             [
              0.5555555555555556,
              "#d8576b"
             ],
             [
              0.6666666666666666,
              "#ed7953"
             ],
             [
              0.7777777777777778,
              "#fb9f3a"
             ],
             [
              0.8888888888888888,
              "#fdca26"
             ],
             [
              1,
              "#f0f921"
             ]
            ],
            "type": "histogram2dcontour"
           }
          ],
          "mesh3d": [
           {
            "colorbar": {
             "outlinewidth": 0,
             "ticks": ""
            },
            "type": "mesh3d"
           }
          ],
          "parcoords": [
           {
            "line": {
             "colorbar": {
              "outlinewidth": 0,
              "ticks": ""
             }
            },
            "type": "parcoords"
           }
          ],
          "pie": [
           {
            "automargin": true,
            "type": "pie"
           }
          ],
          "scatter": [
           {
            "fillpattern": {
             "fillmode": "overlay",
             "size": 10,
             "solidity": 0.2
            },
            "type": "scatter"
           }
          ],
          "scatter3d": [
           {
            "line": {
             "colorbar": {
              "outlinewidth": 0,
              "ticks": ""
             }
            },
            "marker": {
             "colorbar": {
              "outlinewidth": 0,
              "ticks": ""
             }
            },
            "type": "scatter3d"
           }
          ],
          "scattercarpet": [
           {
            "marker": {
             "colorbar": {
              "outlinewidth": 0,
              "ticks": ""
             }
            },
            "type": "scattercarpet"
           }
          ],
          "scattergeo": [
           {
            "marker": {
             "colorbar": {
              "outlinewidth": 0,
              "ticks": ""
             }
            },
            "type": "scattergeo"
           }
          ],
          "scattergl": [
           {
            "marker": {
             "colorbar": {
              "outlinewidth": 0,
              "ticks": ""
             }
            },
            "type": "scattergl"
           }
          ],
          "scattermap": [
           {
            "marker": {
             "colorbar": {
              "outlinewidth": 0,
              "ticks": ""
             }
            },
            "type": "scattermap"
           }
          ],
          "scattermapbox": [
           {
            "marker": {
             "colorbar": {
              "outlinewidth": 0,
              "ticks": ""
             }
            },
            "type": "scattermapbox"
           }
          ],
          "scatterpolar": [
           {
            "marker": {
             "colorbar": {
              "outlinewidth": 0,
              "ticks": ""
             }
            },
            "type": "scatterpolar"
           }
          ],
          "scatterpolargl": [
           {
            "marker": {
             "colorbar": {
              "outlinewidth": 0,
              "ticks": ""
             }
            },
            "type": "scatterpolargl"
           }
          ],
          "scatterternary": [
           {
            "marker": {
             "colorbar": {
              "outlinewidth": 0,
              "ticks": ""
             }
            },
            "type": "scatterternary"
           }
          ],
          "surface": [
           {
            "colorbar": {
             "outlinewidth": 0,
             "ticks": ""
            },
            "colorscale": [
             [
              0,
              "#0d0887"
             ],
             [
              0.1111111111111111,
              "#46039f"
             ],
             [
              0.2222222222222222,
              "#7201a8"
             ],
             [
              0.3333333333333333,
              "#9c179e"
             ],
             [
              0.4444444444444444,
              "#bd3786"
             ],
             [
              0.5555555555555556,
              "#d8576b"
             ],
             [
              0.6666666666666666,
              "#ed7953"
             ],
             [
              0.7777777777777778,
              "#fb9f3a"
             ],
             [
              0.8888888888888888,
              "#fdca26"
             ],
             [
              1,
              "#f0f921"
             ]
            ],
            "type": "surface"
           }
          ],
          "table": [
           {
            "cells": {
             "fill": {
              "color": "#EBF0F8"
             },
             "line": {
              "color": "white"
             }
            },
            "header": {
             "fill": {
              "color": "#C8D4E3"
             },
             "line": {
              "color": "white"
             }
            },
            "type": "table"
           }
          ]
         },
         "layout": {
          "annotationdefaults": {
           "arrowcolor": "#2a3f5f",
           "arrowhead": 0,
           "arrowwidth": 1
          },
          "autotypenumbers": "strict",
          "coloraxis": {
           "colorbar": {
            "outlinewidth": 0,
            "ticks": ""
           }
          },
          "colorscale": {
           "diverging": [
            [
             0,
             "#8e0152"
            ],
            [
             0.1,
             "#c51b7d"
            ],
            [
             0.2,
             "#de77ae"
            ],
            [
             0.3,
             "#f1b6da"
            ],
            [
             0.4,
             "#fde0ef"
            ],
            [
             0.5,
             "#f7f7f7"
            ],
            [
             0.6,
             "#e6f5d0"
            ],
            [
             0.7,
             "#b8e186"
            ],
            [
             0.8,
             "#7fbc41"
            ],
            [
             0.9,
             "#4d9221"
            ],
            [
             1,
             "#276419"
            ]
           ],
           "sequential": [
            [
             0,
             "#0d0887"
            ],
            [
             0.1111111111111111,
             "#46039f"
            ],
            [
             0.2222222222222222,
             "#7201a8"
            ],
            [
             0.3333333333333333,
             "#9c179e"
            ],
            [
             0.4444444444444444,
             "#bd3786"
            ],
            [
             0.5555555555555556,
             "#d8576b"
            ],
            [
             0.6666666666666666,
             "#ed7953"
            ],
            [
             0.7777777777777778,
             "#fb9f3a"
            ],
            [
             0.8888888888888888,
             "#fdca26"
            ],
            [
             1,
             "#f0f921"
            ]
           ],
           "sequentialminus": [
            [
             0,
             "#0d0887"
            ],
            [
             0.1111111111111111,
             "#46039f"
            ],
            [
             0.2222222222222222,
             "#7201a8"
            ],
            [
             0.3333333333333333,
             "#9c179e"
            ],
            [
             0.4444444444444444,
             "#bd3786"
            ],
            [
             0.5555555555555556,
             "#d8576b"
            ],
            [
             0.6666666666666666,
             "#ed7953"
            ],
            [
             0.7777777777777778,
             "#fb9f3a"
            ],
            [
             0.8888888888888888,
             "#fdca26"
            ],
            [
             1,
             "#f0f921"
            ]
           ]
          },
          "colorway": [
           "#636efa",
           "#EF553B",
           "#00cc96",
           "#ab63fa",
           "#FFA15A",
           "#19d3f3",
           "#FF6692",
           "#B6E880",
           "#FF97FF",
           "#FECB52"
          ],
          "font": {
           "color": "#2a3f5f"
          },
          "geo": {
           "bgcolor": "white",
           "lakecolor": "white",
           "landcolor": "#E5ECF6",
           "showlakes": true,
           "showland": true,
           "subunitcolor": "white"
          },
          "hoverlabel": {
           "align": "left"
          },
          "hovermode": "closest",
          "mapbox": {
           "style": "light"
          },
          "paper_bgcolor": "white",
          "plot_bgcolor": "#E5ECF6",
          "polar": {
           "angularaxis": {
            "gridcolor": "white",
            "linecolor": "white",
            "ticks": ""
           },
           "bgcolor": "#E5ECF6",
           "radialaxis": {
            "gridcolor": "white",
            "linecolor": "white",
            "ticks": ""
           }
          },
          "scene": {
           "xaxis": {
            "backgroundcolor": "#E5ECF6",
            "gridcolor": "white",
            "gridwidth": 2,
            "linecolor": "white",
            "showbackground": true,
            "ticks": "",
            "zerolinecolor": "white"
           },
           "yaxis": {
            "backgroundcolor": "#E5ECF6",
            "gridcolor": "white",
            "gridwidth": 2,
            "linecolor": "white",
            "showbackground": true,
            "ticks": "",
            "zerolinecolor": "white"
           },
           "zaxis": {
            "backgroundcolor": "#E5ECF6",
            "gridcolor": "white",
            "gridwidth": 2,
            "linecolor": "white",
            "showbackground": true,
            "ticks": "",
            "zerolinecolor": "white"
           }
          },
          "shapedefaults": {
           "line": {
            "color": "#2a3f5f"
           }
          },
          "ternary": {
           "aaxis": {
            "gridcolor": "white",
            "linecolor": "white",
            "ticks": ""
           },
           "baxis": {
            "gridcolor": "white",
            "linecolor": "white",
            "ticks": ""
           },
           "bgcolor": "#E5ECF6",
           "caxis": {
            "gridcolor": "white",
            "linecolor": "white",
            "ticks": ""
           }
          },
          "title": {
           "x": 0.05
          },
          "xaxis": {
           "automargin": true,
           "gridcolor": "white",
           "linecolor": "white",
           "ticks": "",
           "title": {
            "standoff": 15
           },
           "zerolinecolor": "white",
           "zerolinewidth": 2
          },
          "yaxis": {
           "automargin": true,
           "gridcolor": "white",
           "linecolor": "white",
           "ticks": "",
           "title": {
            "standoff": 15
           },
           "zerolinecolor": "white",
           "zerolinewidth": 2
          }
         }
        },
        "title": {
         "font": {
          "size": 26
         },
         "pad": {
          "b": 10,
          "t": 10
         },
         "text": "Scatter Plot Temperature versus Cycle with Preset_1 categories per Fail event",
         "x": 0.5,
         "xanchor": "center",
         "y": 0.94,
         "yanchor": "top"
        },
        "xaxis": {
         "anchor": "y",
         "domain": [
          0,
          1
         ],
         "title": {
          "text": "Cycle"
         }
        },
        "yaxis": {
         "anchor": "x",
         "domain": [
          0,
          1
         ],
         "range": [
          0,
          281.1686123985757
         ],
         "title": {
          "text": "Temperature"
         }
        }
       }
      }
     },
     "metadata": {},
     "output_type": "display_data"
    },
    {
     "data": {
      "application/vnd.plotly.v1+json": {
       "config": {
        "plotlyServerURL": "https://plot.ly"
       },
       "data": [
        {
         "hovertemplate": "Preset_1=1<br>Cycle=%{x}<br>Pressure=%{y}<extra></extra>",
         "legendgroup": "1",
         "marker": {
          "color": "#636efa",
          "symbol": "circle"
         },
         "mode": "markers",
         "name": "1",
         "orientation": "v",
         "showlegend": true,
         "type": "scatter",
         "x": {
          "bdata": "BgAHAAgACgANAA8AEQAZACcAKQAqACsALAAvADUAOAA6ADwAPQBAAEIAQwBEAEUASABJAEoATgBPAFEAUwBVAFkAYABjAGUAZwBoAGwAbwBxAHQAdQB6AH4AgwCFAIYAhwCIAIkAjACSAKAAoQCjAKQApQCmAKgAqQCqAKsArQCvALAAtQDDAMcA0ADTANQA1gDYAN4A5wDoAOoA7ADvAPAA9AD6APsA/AD+AAEBAwEFAQYBBwEIAQsBDQEQARcBGAEbAR0BIQEiASYBKAEsATABMgE0ATcBOQE/AUMBRgFIAUsBTQFPAVEBUgFTAVYBWAFaAVsBXQFgAWMBaQFsAXABcQFzAXQBdwF8AYkBigGNAY4BjwGTAZQBlQGXAZgBnQGgAaEBogGjAaQBpwGoAakBrQGuAa8BsAG0AbkBvwHFAc4BzwHUAdYB3AHjAeUB5gHpAeoB6wHsAfMB9gH4AfkB/gH/AQECAwIGAgoCCwIOAhMCFAIVAhwCJgInAikCLAItAi4CLwI4Aj4CPwJBAkQCRgJNAk8CUAJUAlYCVwJYAmMCZQJmAmgCbQJxAnQCdwJ5AnwCgQKEAoYChwKIAooCiwKVApYCmgKeAqACpQKpAqwCsAKzArgCuQLGAssC1ALWAtoC3gLkAuUC5wLqAu0C8ALxAvkC+gL7Av8CAgMDAwUDBwMUAxkDGgMdAx4D",
          "dtype": "i2"
         },
         "xaxis": "x",
         "y": {
          "bdata": "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",
          "dtype": "f8"
         },
         "yaxis": "y"
        },
        {
         "hovertemplate": "Preset_1=2<br>Cycle=%{x}<br>Pressure=%{y}<extra></extra>",
         "legendgroup": "2",
         "marker": {
          "color": "#EF553B",
          "symbol": "circle"
         },
         "mode": "markers",
         "name": "2",
         "orientation": "v",
         "showlegend": true,
         "type": "scatter",
         "x": {
          "bdata": "AgADAAQABQALAAwAEgAUABUAFgAYABoAGwAcAB4AHwAgACMAJAAlACYAKAAwADEAMgA0ADYAOQA/AEYARwBNAFIAVABWAFsAXABdAGQAaQBzAHYAdwB4AHkAewB9AH8AgACBAIQAigCLAI0AkQCXAJkAmgCcAJ4AogCuALIAtgC4ALsAvAC9AL4AvwDCAMQAxQDLAM0A1wDaANsA3wDgAOIA5ADpAOsA7QDuAPMA9QD2APcA+AD9AP8AAAEKAQ8BEwEUARUBFgEZARoBJwEpASsBLQEvATEBMwE1AT0BPgFAAUQBTAFQAVQBVQFXAV4BXwFhAWQBawFuAW8BcgF1AXgBeQF7AX0BfwGAAYEBhAGHAZIBmQGcAZ4BpQGyAbMBtwG4AbwBvQG+AcABwgHKAcsBzQHQAdEB0gHTAdUB1wHaAdsB3QHeAeAB5AHtAe4B7wHwAfQB9QH6AfsB/QECAgUCBwIIAhECEgIWAhgCGQIbAh0CHgIfAiECIgIkAigCKgIxAjICNAI1AjwCQgJHAkgCSQJLAlICUwJVAlkCWgJbAl4CXwJgAmICZAJnAmkCawJuAnoCewJ9An4CgwKJAo0CjgKPApACkQKXApgCnwKmAqoCqwKxAroCuwK8Ar4CvwLAAsICwwLJAsoCzALPAtAC0gLTAtUC2ALZAtsC3QLhAuYC6wLsAu8C8gL0AvUC+AL8AgEDBAMGAwkDCgMLAw4DDwMRAxMDFgMYAxsDHAMfAw==",
          "dtype": "i2"
         },
         "xaxis": "x",
         "y": {
          "bdata": "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",
          "dtype": "f8"
         },
         "yaxis": "y"
        },
        {
         "hovertemplate": "Preset_1=3<br>Cycle=%{x}<br>Pressure=%{y}<extra></extra>",
         "legendgroup": "3",
         "marker": {
          "color": "#00cc96",
          "symbol": "circle"
         },
         "mode": "markers",
         "name": "3",
         "orientation": "v",
         "showlegend": true,
         "type": "scatter",
         "x": {
          "bdata": "AQAJAA4AEAATABcAHQAhACIALQAuADMANwA7AD4AQQBLAEwAUABXAFgAWgBeAF8AYQBiAGYAagBrAG0AbgBwAHIAfACCAI4AjwCQAJMAlACVAJYAmACbAJ0AnwCnAKwAsQCzALQAtwC5ALoAwADBAMYAyADJAMoAzADOAM8A0QDSANUA2QDcAN0A4QDjAOUA5gDxAPIA+QACAQQBCQEMAQ4BEQESARwBHgEfASABIwEkASUBKgEuATYBOAE6ATsBPAFBAUIBRQFHAUkBSgFOAVkBXAFiAWUBZgFnAWgBagFtAXYBegF+AYIBgwGFAYYBiAGLAYwBkAGRAZYBmgGbAZ8BpgGqAasBrAGxAbUBtgG6AbsBwQHDAcQBxgHHAcgByQHMAdgB2QHfAeEB4gHnAegB8QHyAfcB/AEAAgQCCQIMAg0CDwIQAhcCGgIgAiMCJQIrAjACMwI2AjcCOQI6AjsCPQJAAkMCRQJKAkwCTgJRAlwCXQJhAmoCbAJvAnACcgJzAnUCdgJ4An8CgAKCAoUCjAKSApMClAKZApsCnAKdAqECogKjAqQCpwKoAq0CrgKvArICtAK1ArYCtwK9AsECxALFAscCyALNAs4C0QLXAtwC3wLgAuIC4wLoAukC7gLzAvYC9wL9Av4CAAMIAwwDDQMQAxIDFQMXAyAD",
          "dtype": "i2"
         },
         "xaxis": "x",
         "y": {
          "bdata": "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",
          "dtype": "f8"
         },
         "yaxis": "y"
        }
       ],
       "layout": {
        "legend": {
         "title": {
          "text": "Preset_1"
         },
         "tracegroupgap": 0
        },
        "margin": {
         "b": 50,
         "l": 60,
         "r": 40,
         "t": 120
        },
        "shapes": [
         {
          "line": {
           "color": "black",
           "width": 1
          },
          "type": "line",
          "x0": 13,
          "x1": 13,
          "xref": "x",
          "y0": 0,
          "y1": 1,
          "yref": "y domain"
         },
         {
          "line": {
           "color": "black",
           "width": 1
          },
          "type": "line",
          "x0": 157,
          "x1": 157,
          "xref": "x",
          "y0": 0,
          "y1": 1,
          "yref": "y domain"
         },
         {
          "line": {
           "color": "black",
           "width": 1
          },
          "type": "line",
          "x0": 158,
          "x1": 158,
          "xref": "x",
          "y0": 0,
          "y1": 1,
          "yref": "y domain"
         },
         {
          "line": {
           "color": "black",
           "width": 1
          },
          "type": "line",
          "x0": 159,
          "x1": 159,
          "xref": "x",
          "y0": 0,
          "y1": 1,
          "yref": "y domain"
         },
         {
          "line": {
           "color": "black",
           "width": 1
          },
          "type": "line",
          "x0": 163,
          "x1": 163,
          "xref": "x",
          "y0": 0,
          "y1": 1,
          "yref": "y domain"
         },
         {
          "line": {
           "color": "black",
           "width": 1
          },
          "type": "line",
          "x0": 164,
          "x1": 164,
          "xref": "x",
          "y0": 0,
          "y1": 1,
          "yref": "y domain"
         },
         {
          "line": {
           "color": "black",
           "width": 1
          },
          "type": "line",
          "x0": 165,
          "x1": 165,
          "xref": "x",
          "y0": 0,
          "y1": 1,
          "yref": "y domain"
         },
         {
          "line": {
           "color": "black",
           "width": 1
          },
          "type": "line",
          "x0": 263,
          "x1": 263,
          "xref": "x",
          "y0": 0,
          "y1": 1,
          "yref": "y domain"
         },
         {
          "line": {
           "color": "black",
           "width": 1
          },
          "type": "line",
          "x0": 264,
          "x1": 264,
          "xref": "x",
          "y0": 0,
          "y1": 1,
          "yref": "y domain"
         },
         {
          "line": {
           "color": "black",
           "width": 1
          },
          "type": "line",
          "x0": 265,
          "x1": 265,
          "xref": "x",
          "y0": 0,
          "y1": 1,
          "yref": "y domain"
         },
         {
          "line": {
           "color": "black",
           "width": 1
          },
          "type": "line",
          "x0": 270,
          "x1": 270,
          "xref": "x",
          "y0": 0,
          "y1": 1,
          "yref": "y domain"
         },
         {
          "line": {
           "color": "black",
           "width": 1
          },
          "type": "line",
          "x0": 271,
          "x1": 271,
          "xref": "x",
          "y0": 0,
          "y1": 1,
          "yref": "y domain"
         },
         {
          "line": {
           "color": "black",
           "width": 1
          },
          "type": "line",
          "x0": 415,
          "x1": 415,
          "xref": "x",
          "y0": 0,
          "y1": 1,
          "yref": "y domain"
         },
         {
          "line": {
           "color": "black",
           "width": 1
          },
          "type": "line",
          "x0": 416,
          "x1": 416,
          "xref": "x",
          "y0": 0,
          "y1": 1,
          "yref": "y domain"
         },
         {
          "line": {
           "color": "black",
           "width": 1
          },
          "type": "line",
          "x0": 417,
          "x1": 417,
          "xref": "x",
          "y0": 0,
          "y1": 1,
          "yref": "y domain"
         },
         {
          "line": {
           "color": "black",
           "width": 1
          },
          "type": "line",
          "x0": 418,
          "x1": 418,
          "xref": "x",
          "y0": 0,
          "y1": 1,
          "yref": "y domain"
         },
         {
          "line": {
           "color": "black",
           "width": 1
          },
          "type": "line",
          "x0": 419,
          "x1": 419,
          "xref": "x",
          "y0": 0,
          "y1": 1,
          "yref": "y domain"
         },
         {
          "line": {
           "color": "black",
           "width": 1
          },
          "type": "line",
          "x0": 420,
          "x1": 420,
          "xref": "x",
          "y0": 0,
          "y1": 1,
          "yref": "y domain"
         },
         {
          "line": {
           "color": "black",
           "width": 1
          },
          "type": "line",
          "x0": 421,
          "x1": 421,
          "xref": "x",
          "y0": 0,
          "y1": 1,
          "yref": "y domain"
         },
         {
          "line": {
           "color": "black",
           "width": 1
          },
          "type": "line",
          "x0": 422,
          "x1": 422,
          "xref": "x",
          "y0": 0,
          "y1": 1,
          "yref": "y domain"
         },
         {
          "line": {
           "color": "black",
           "width": 1
          },
          "type": "line",
          "x0": 423,
          "x1": 423,
          "xref": "x",
          "y0": 0,
          "y1": 1,
          "yref": "y domain"
         },
         {
          "line": {
           "color": "black",
           "width": 1
          },
          "type": "line",
          "x0": 424,
          "x1": 424,
          "xref": "x",
          "y0": 0,
          "y1": 1,
          "yref": "y domain"
         },
         {
          "line": {
           "color": "black",
           "width": 1
          },
          "type": "line",
          "x0": 425,
          "x1": 425,
          "xref": "x",
          "y0": 0,
          "y1": 1,
          "yref": "y domain"
         },
         {
          "line": {
           "color": "black",
           "width": 1
          },
          "type": "line",
          "x0": 426,
          "x1": 426,
          "xref": "x",
          "y0": 0,
          "y1": 1,
          "yref": "y domain"
         },
         {
          "line": {
           "color": "black",
           "width": 1
          },
          "type": "line",
          "x0": 427,
          "x1": 427,
          "xref": "x",
          "y0": 0,
          "y1": 1,
          "yref": "y domain"
         },
         {
          "line": {
           "color": "black",
           "width": 1
          },
          "type": "line",
          "x0": 428,
          "x1": 428,
          "xref": "x",
          "y0": 0,
          "y1": 1,
          "yref": "y domain"
         },
         {
          "line": {
           "color": "black",
           "width": 1
          },
          "type": "line",
          "x0": 429,
          "x1": 429,
          "xref": "x",
          "y0": 0,
          "y1": 1,
          "yref": "y domain"
         },
         {
          "line": {
           "color": "black",
           "width": 1
          },
          "type": "line",
          "x0": 430,
          "x1": 430,
          "xref": "x",
          "y0": 0,
          "y1": 1,
          "yref": "y domain"
         },
         {
          "line": {
           "color": "black",
           "width": 1
          },
          "type": "line",
          "x0": 431,
          "x1": 431,
          "xref": "x",
          "y0": 0,
          "y1": 1,
          "yref": "y domain"
         },
         {
          "line": {
           "color": "black",
           "width": 1
          },
          "type": "line",
          "x0": 432,
          "x1": 432,
          "xref": "x",
          "y0": 0,
          "y1": 1,
          "yref": "y domain"
         },
         {
          "line": {
           "color": "black",
           "width": 1
          },
          "type": "line",
          "x0": 538,
          "x1": 538,
          "xref": "x",
          "y0": 0,
          "y1": 1,
          "yref": "y domain"
         },
         {
          "line": {
           "color": "black",
           "width": 1
          },
          "type": "line",
          "x0": 539,
          "x1": 539,
          "xref": "x",
          "y0": 0,
          "y1": 1,
          "yref": "y domain"
         },
         {
          "line": {
           "color": "black",
           "width": 1
          },
          "type": "line",
          "x0": 540,
          "x1": 540,
          "xref": "x",
          "y0": 0,
          "y1": 1,
          "yref": "y domain"
         },
         {
          "line": {
           "color": "black",
           "width": 1
          },
          "type": "line",
          "x0": 541,
          "x1": 541,
          "xref": "x",
          "y0": 0,
          "y1": 1,
          "yref": "y domain"
         },
         {
          "line": {
           "color": "black",
           "width": 1
          },
          "type": "line",
          "x0": 542,
          "x1": 542,
          "xref": "x",
          "y0": 0,
          "y1": 1,
          "yref": "y domain"
         },
         {
          "line": {
           "color": "black",
           "width": 1
          },
          "type": "line",
          "x0": 543,
          "x1": 543,
          "xref": "x",
          "y0": 0,
          "y1": 1,
          "yref": "y domain"
         },
         {
          "line": {
           "color": "black",
           "width": 1
          },
          "type": "line",
          "x0": 544,
          "x1": 544,
          "xref": "x",
          "y0": 0,
          "y1": 1,
          "yref": "y domain"
         },
         {
          "line": {
           "color": "black",
           "width": 1
          },
          "type": "line",
          "x0": 545,
          "x1": 545,
          "xref": "x",
          "y0": 0,
          "y1": 1,
          "yref": "y domain"
         },
         {
          "line": {
           "color": "black",
           "width": 1
          },
          "type": "line",
          "x0": 546,
          "x1": 546,
          "xref": "x",
          "y0": 0,
          "y1": 1,
          "yref": "y domain"
         },
         {
          "line": {
           "color": "black",
           "width": 1
          },
          "type": "line",
          "x0": 550,
          "x1": 550,
          "xref": "x",
          "y0": 0,
          "y1": 1,
          "yref": "y domain"
         },
         {
          "line": {
           "color": "black",
           "width": 1
          },
          "type": "line",
          "x0": 551,
          "x1": 551,
          "xref": "x",
          "y0": 0,
          "y1": 1,
          "yref": "y domain"
         },
         {
          "line": {
           "color": "black",
           "width": 1
          },
          "type": "line",
          "x0": 552,
          "x1": 552,
          "xref": "x",
          "y0": 0,
          "y1": 1,
          "yref": "y domain"
         },
         {
          "line": {
           "color": "black",
           "width": 1
          },
          "type": "line",
          "x0": 553,
          "x1": 553,
          "xref": "x",
          "y0": 0,
          "y1": 1,
          "yref": "y domain"
         },
         {
          "line": {
           "color": "black",
           "width": 1
          },
          "type": "line",
          "x0": 554,
          "x1": 554,
          "xref": "x",
          "y0": 0,
          "y1": 1,
          "yref": "y domain"
         },
         {
          "line": {
           "color": "black",
           "width": 1
          },
          "type": "line",
          "x0": 700,
          "x1": 700,
          "xref": "x",
          "y0": 0,
          "y1": 1,
          "yref": "y domain"
         },
         {
          "line": {
           "color": "black",
           "width": 1
          },
          "type": "line",
          "x0": 701,
          "x1": 701,
          "xref": "x",
          "y0": 0,
          "y1": 1,
          "yref": "y domain"
         },
         {
          "line": {
           "color": "black",
           "width": 1
          },
          "type": "line",
          "x0": 702,
          "x1": 702,
          "xref": "x",
          "y0": 0,
          "y1": 1,
          "yref": "y domain"
         },
         {
          "line": {
           "color": "black",
           "width": 1
          },
          "type": "line",
          "x0": 703,
          "x1": 703,
          "xref": "x",
          "y0": 0,
          "y1": 1,
          "yref": "y domain"
         },
         {
          "line": {
           "color": "black",
           "width": 1
          },
          "type": "line",
          "x0": 704,
          "x1": 704,
          "xref": "x",
          "y0": 0,
          "y1": 1,
          "yref": "y domain"
         },
         {
          "line": {
           "color": "black",
           "width": 1
          },
          "type": "line",
          "x0": 705,
          "x1": 705,
          "xref": "x",
          "y0": 0,
          "y1": 1,
          "yref": "y domain"
         },
         {
          "line": {
           "color": "black",
           "width": 1
          },
          "type": "line",
          "x0": 706,
          "x1": 706,
          "xref": "x",
          "y0": 0,
          "y1": 1,
          "yref": "y domain"
         },
         {
          "line": {
           "color": "black",
           "width": 1
          },
          "type": "line",
          "x0": 707,
          "x1": 707,
          "xref": "x",
          "y0": 0,
          "y1": 1,
          "yref": "y domain"
         },
         {
          "line": {
           "color": "black",
           "width": 1
          },
          "type": "line",
          "x0": 708,
          "x1": 708,
          "xref": "x",
          "y0": 0,
          "y1": 1,
          "yref": "y domain"
         },
         {
          "line": {
           "color": "black",
           "width": 1
          },
          "type": "line",
          "x0": 709,
          "x1": 709,
          "xref": "x",
          "y0": 0,
          "y1": 1,
          "yref": "y domain"
         },
         {
          "line": {
           "color": "black",
           "width": 1
          },
          "type": "line",
          "x0": 710,
          "x1": 710,
          "xref": "x",
          "y0": 0,
          "y1": 1,
          "yref": "y domain"
         },
         {
          "line": {
           "color": "black",
           "width": 1
          },
          "type": "line",
          "x0": 711,
          "x1": 711,
          "xref": "x",
          "y0": 0,
          "y1": 1,
          "yref": "y domain"
         },
         {
          "line": {
           "color": "black",
           "width": 1
          },
          "type": "line",
          "x0": 712,
          "x1": 712,
          "xref": "x",
          "y0": 0,
          "y1": 1,
          "yref": "y domain"
         },
         {
          "line": {
           "color": "black",
           "width": 1
          },
          "type": "line",
          "x0": 713,
          "x1": 713,
          "xref": "x",
          "y0": 0,
          "y1": 1,
          "yref": "y domain"
         },
         {
          "line": {
           "color": "black",
           "width": 1
          },
          "type": "line",
          "x0": 793,
          "x1": 793,
          "xref": "x",
          "y0": 0,
          "y1": 1,
          "yref": "y domain"
         },
         {
          "line": {
           "color": "black",
           "width": 1
          },
          "type": "line",
          "x0": 794,
          "x1": 794,
          "xref": "x",
          "y0": 0,
          "y1": 1,
          "yref": "y domain"
         },
         {
          "line": {
           "color": "black",
           "width": 1
          },
          "type": "line",
          "x0": 795,
          "x1": 795,
          "xref": "x",
          "y0": 0,
          "y1": 1,
          "yref": "y domain"
         },
         {
          "line": {
           "color": "black",
           "width": 1
          },
          "type": "line",
          "x0": 796,
          "x1": 796,
          "xref": "x",
          "y0": 0,
          "y1": 1,
          "yref": "y domain"
         },
         {
          "line": {
           "color": "black",
           "width": 1
          },
          "type": "line",
          "x0": 797,
          "x1": 797,
          "xref": "x",
          "y0": 0,
          "y1": 1,
          "yref": "y domain"
         },
         {
          "line": {
           "color": "black",
           "width": 1
          },
          "type": "line",
          "x0": 798,
          "x1": 798,
          "xref": "x",
          "y0": 0,
          "y1": 1,
          "yref": "y domain"
         },
         {
          "line": {
           "color": "black",
           "width": 1
          },
          "type": "line",
          "x0": 799,
          "x1": 799,
          "xref": "x",
          "y0": 0,
          "y1": 1,
          "yref": "y domain"
         },
         {
          "line": {
           "color": "black",
           "width": 1
          },
          "type": "line",
          "x0": 800,
          "x1": 800,
          "xref": "x",
          "y0": 0,
          "y1": 1,
          "yref": "y domain"
         }
        ],
        "template": {
         "data": {
          "bar": [
           {
            "error_x": {
             "color": "#2a3f5f"
            },
            "error_y": {
             "color": "#2a3f5f"
            },
            "marker": {
             "line": {
              "color": "#E5ECF6",
              "width": 0.5
             },
             "pattern": {
              "fillmode": "overlay",
              "size": 10,
              "solidity": 0.2
             }
            },
            "type": "bar"
           }
          ],
          "barpolar": [
           {
            "marker": {
             "line": {
              "color": "#E5ECF6",
              "width": 0.5
             },
             "pattern": {
              "fillmode": "overlay",
              "size": 10,
              "solidity": 0.2
             }
            },
            "type": "barpolar"
           }
          ],
          "carpet": [
           {
            "aaxis": {
             "endlinecolor": "#2a3f5f",
             "gridcolor": "white",
             "linecolor": "white",
             "minorgridcolor": "white",
             "startlinecolor": "#2a3f5f"
            },
            "baxis": {
             "endlinecolor": "#2a3f5f",
             "gridcolor": "white",
             "linecolor": "white",
             "minorgridcolor": "white",
             "startlinecolor": "#2a3f5f"
            },
            "type": "carpet"
           }
          ],
          "choropleth": [
           {
            "colorbar": {
             "outlinewidth": 0,
             "ticks": ""
            },
            "type": "choropleth"
           }
          ],
          "contour": [
           {
            "colorbar": {
             "outlinewidth": 0,
             "ticks": ""
            },
            "colorscale": [
             [
              0,
              "#0d0887"
             ],
             [
              0.1111111111111111,
              "#46039f"
             ],
             [
              0.2222222222222222,
              "#7201a8"
             ],
             [
              0.3333333333333333,
              "#9c179e"
             ],
             [
              0.4444444444444444,
              "#bd3786"
             ],
             [
              0.5555555555555556,
              "#d8576b"
             ],
             [
              0.6666666666666666,
              "#ed7953"
             ],
             [
              0.7777777777777778,
              "#fb9f3a"
             ],
             [
              0.8888888888888888,
              "#fdca26"
             ],
             [
              1,
              "#f0f921"
             ]
            ],
            "type": "contour"
           }
          ],
          "contourcarpet": [
           {
            "colorbar": {
             "outlinewidth": 0,
             "ticks": ""
            },
            "type": "contourcarpet"
           }
          ],
          "heatmap": [
           {
            "colorbar": {
             "outlinewidth": 0,
             "ticks": ""
            },
            "colorscale": [
             [
              0,
              "#0d0887"
             ],
             [
              0.1111111111111111,
              "#46039f"
             ],
             [
              0.2222222222222222,
              "#7201a8"
             ],
             [
              0.3333333333333333,
              "#9c179e"
             ],
             [
              0.4444444444444444,
              "#bd3786"
             ],
             [
              0.5555555555555556,
              "#d8576b"
             ],
             [
              0.6666666666666666,
              "#ed7953"
             ],
             [
              0.7777777777777778,
              "#fb9f3a"
             ],
             [
              0.8888888888888888,
              "#fdca26"
             ],
             [
              1,
              "#f0f921"
             ]
            ],
            "type": "heatmap"
           }
          ],
          "histogram": [
           {
            "marker": {
             "pattern": {
              "fillmode": "overlay",
              "size": 10,
              "solidity": 0.2
             }
            },
            "type": "histogram"
           }
          ],
          "histogram2d": [
           {
            "colorbar": {
             "outlinewidth": 0,
             "ticks": ""
            },
            "colorscale": [
             [
              0,
              "#0d0887"
             ],
             [
              0.1111111111111111,
              "#46039f"
             ],
             [
              0.2222222222222222,
              "#7201a8"
             ],
             [
              0.3333333333333333,
              "#9c179e"
             ],
             [
              0.4444444444444444,
              "#bd3786"
             ],
             [
              0.5555555555555556,
              "#d8576b"
             ],
             [
              0.6666666666666666,
              "#ed7953"
             ],
             [
              0.7777777777777778,
              "#fb9f3a"
             ],
             [
              0.8888888888888888,
              "#fdca26"
             ],
             [
              1,
              "#f0f921"
             ]
            ],
            "type": "histogram2d"
           }
          ],
          "histogram2dcontour": [
           {
            "colorbar": {
             "outlinewidth": 0,
             "ticks": ""
            },
            "colorscale": [
             [
              0,
              "#0d0887"
             ],
             [
              0.1111111111111111,
              "#46039f"
             ],
             [
              0.2222222222222222,
              "#7201a8"
             ],
             [
              0.3333333333333333,
              "#9c179e"
             ],
             [
              0.4444444444444444,
              "#bd3786"
             ],
             [
              0.5555555555555556,
              "#d8576b"
             ],
             [
              0.6666666666666666,
              "#ed7953"
             ],
             [
              0.7777777777777778,
              "#fb9f3a"
             ],
             [
              0.8888888888888888,
              "#fdca26"
             ],
             [
              1,
              "#f0f921"
             ]
            ],
            "type": "histogram2dcontour"
           }
          ],
          "mesh3d": [
           {
            "colorbar": {
             "outlinewidth": 0,
             "ticks": ""
            },
            "type": "mesh3d"
           }
          ],
          "parcoords": [
           {
            "line": {
             "colorbar": {
              "outlinewidth": 0,
              "ticks": ""
             }
            },
            "type": "parcoords"
           }
          ],
          "pie": [
           {
            "automargin": true,
            "type": "pie"
           }
          ],
          "scatter": [
           {
            "fillpattern": {
             "fillmode": "overlay",
             "size": 10,
             "solidity": 0.2
            },
            "type": "scatter"
           }
          ],
          "scatter3d": [
           {
            "line": {
             "colorbar": {
              "outlinewidth": 0,
              "ticks": ""
             }
            },
            "marker": {
             "colorbar": {
              "outlinewidth": 0,
              "ticks": ""
             }
            },
            "type": "scatter3d"
           }
          ],
          "scattercarpet": [
           {
            "marker": {
             "colorbar": {
              "outlinewidth": 0,
              "ticks": ""
             }
            },
            "type": "scattercarpet"
           }
          ],
          "scattergeo": [
           {
            "marker": {
             "colorbar": {
              "outlinewidth": 0,
              "ticks": ""
             }
            },
            "type": "scattergeo"
           }
          ],
          "scattergl": [
           {
            "marker": {
             "colorbar": {
              "outlinewidth": 0,
              "ticks": ""
             }
            },
            "type": "scattergl"
           }
          ],
          "scattermap": [
           {
            "marker": {
             "colorbar": {
              "outlinewidth": 0,
              "ticks": ""
             }
            },
            "type": "scattermap"
           }
          ],
          "scattermapbox": [
           {
            "marker": {
             "colorbar": {
              "outlinewidth": 0,
              "ticks": ""
             }
            },
            "type": "scattermapbox"
           }
          ],
          "scatterpolar": [
           {
            "marker": {
             "colorbar": {
              "outlinewidth": 0,
              "ticks": ""
             }
            },
            "type": "scatterpolar"
           }
          ],
          "scatterpolargl": [
           {
            "marker": {
             "colorbar": {
              "outlinewidth": 0,
              "ticks": ""
             }
            },
            "type": "scatterpolargl"
           }
          ],
          "scatterternary": [
           {
            "marker": {
             "colorbar": {
              "outlinewidth": 0,
              "ticks": ""
             }
            },
            "type": "scatterternary"
           }
          ],
          "surface": [
           {
            "colorbar": {
             "outlinewidth": 0,
             "ticks": ""
            },
            "colorscale": [
             [
              0,
              "#0d0887"
             ],
             [
              0.1111111111111111,
              "#46039f"
             ],
             [
              0.2222222222222222,
              "#7201a8"
             ],
             [
              0.3333333333333333,
              "#9c179e"
             ],
             [
              0.4444444444444444,
              "#bd3786"
             ],
             [
              0.5555555555555556,
              "#d8576b"
             ],
             [
              0.6666666666666666,
              "#ed7953"
             ],
             [
              0.7777777777777778,
              "#fb9f3a"
             ],
             [
              0.8888888888888888,
              "#fdca26"
             ],
             [
              1,
              "#f0f921"
             ]
            ],
            "type": "surface"
           }
          ],
          "table": [
           {
            "cells": {
             "fill": {
              "color": "#EBF0F8"
             },
             "line": {
              "color": "white"
             }
            },
            "header": {
             "fill": {
              "color": "#C8D4E3"
             },
             "line": {
              "color": "white"
             }
            },
            "type": "table"
           }
          ]
         },
         "layout": {
          "annotationdefaults": {
           "arrowcolor": "#2a3f5f",
           "arrowhead": 0,
           "arrowwidth": 1
          },
          "autotypenumbers": "strict",
          "coloraxis": {
           "colorbar": {
            "outlinewidth": 0,
            "ticks": ""
           }
          },
          "colorscale": {
           "diverging": [
            [
             0,
             "#8e0152"
            ],
            [
             0.1,
             "#c51b7d"
            ],
            [
             0.2,
             "#de77ae"
            ],
            [
             0.3,
             "#f1b6da"
            ],
            [
             0.4,
             "#fde0ef"
            ],
            [
             0.5,
             "#f7f7f7"
            ],
            [
             0.6,
             "#e6f5d0"
            ],
            [
             0.7,
             "#b8e186"
            ],
            [
             0.8,
             "#7fbc41"
            ],
            [
             0.9,
             "#4d9221"
            ],
            [
             1,
             "#276419"
            ]
           ],
           "sequential": [
            [
             0,
             "#0d0887"
            ],
            [
             0.1111111111111111,
             "#46039f"
            ],
            [
             0.2222222222222222,
             "#7201a8"
            ],
            [
             0.3333333333333333,
             "#9c179e"
            ],
            [
             0.4444444444444444,
             "#bd3786"
            ],
            [
             0.5555555555555556,
             "#d8576b"
            ],
            [
             0.6666666666666666,
             "#ed7953"
            ],
            [
             0.7777777777777778,
             "#fb9f3a"
            ],
            [
             0.8888888888888888,
             "#fdca26"
            ],
            [
             1,
             "#f0f921"
            ]
           ],
           "sequentialminus": [
            [
             0,
             "#0d0887"
            ],
            [
             0.1111111111111111,
             "#46039f"
            ],
            [
             0.2222222222222222,
             "#7201a8"
            ],
            [
             0.3333333333333333,
             "#9c179e"
            ],
            [
             0.4444444444444444,
             "#bd3786"
            ],
            [
             0.5555555555555556,
             "#d8576b"
            ],
            [
             0.6666666666666666,
             "#ed7953"
            ],
            [
             0.7777777777777778,
             "#fb9f3a"
            ],
            [
             0.8888888888888888,
             "#fdca26"
            ],
            [
             1,
             "#f0f921"
            ]
           ]
          },
          "colorway": [
           "#636efa",
           "#EF553B",
           "#00cc96",
           "#ab63fa",
           "#FFA15A",
           "#19d3f3",
           "#FF6692",
           "#B6E880",
           "#FF97FF",
           "#FECB52"
          ],
          "font": {
           "color": "#2a3f5f"
          },
          "geo": {
           "bgcolor": "white",
           "lakecolor": "white",
           "landcolor": "#E5ECF6",
           "showlakes": true,
           "showland": true,
           "subunitcolor": "white"
          },
          "hoverlabel": {
           "align": "left"
          },
          "hovermode": "closest",
          "mapbox": {
           "style": "light"
          },
          "paper_bgcolor": "white",
          "plot_bgcolor": "#E5ECF6",
          "polar": {
           "angularaxis": {
            "gridcolor": "white",
            "linecolor": "white",
            "ticks": ""
           },
           "bgcolor": "#E5ECF6",
           "radialaxis": {
            "gridcolor": "white",
            "linecolor": "white",
            "ticks": ""
           }
          },
          "scene": {
           "xaxis": {
            "backgroundcolor": "#E5ECF6",
            "gridcolor": "white",
            "gridwidth": 2,
            "linecolor": "white",
            "showbackground": true,
            "ticks": "",
            "zerolinecolor": "white"
           },
           "yaxis": {
            "backgroundcolor": "#E5ECF6",
            "gridcolor": "white",
            "gridwidth": 2,
            "linecolor": "white",
            "showbackground": true,
            "ticks": "",
            "zerolinecolor": "white"
           },
           "zaxis": {
            "backgroundcolor": "#E5ECF6",
            "gridcolor": "white",
            "gridwidth": 2,
            "linecolor": "white",
            "showbackground": true,
            "ticks": "",
            "zerolinecolor": "white"
           }
          },
          "shapedefaults": {
           "line": {
            "color": "#2a3f5f"
           }
          },
          "ternary": {
           "aaxis": {
            "gridcolor": "white",
            "linecolor": "white",
            "ticks": ""
           },
           "baxis": {
            "gridcolor": "white",
            "linecolor": "white",
            "ticks": ""
           },
           "bgcolor": "#E5ECF6",
           "caxis": {
            "gridcolor": "white",
            "linecolor": "white",
            "ticks": ""
           }
          },
          "title": {
           "x": 0.05
          },
          "xaxis": {
           "automargin": true,
           "gridcolor": "white",
           "linecolor": "white",
           "ticks": "",
           "title": {
            "standoff": 15
           },
           "zerolinecolor": "white",
           "zerolinewidth": 2
          },
          "yaxis": {
           "automargin": true,
           "gridcolor": "white",
           "linecolor": "white",
           "ticks": "",
           "title": {
            "standoff": 15
           },
           "zerolinecolor": "white",
           "zerolinewidth": 2
          }
         }
        },
        "title": {
         "font": {
          "size": 26
         },
         "pad": {
          "b": 10,
          "t": 10
         },
         "text": "Scatter Plot Pressure versus Cycle with Preset_1 categories per Fail event",
         "x": 0.5,
         "xanchor": "center",
         "y": 0.94,
         "yanchor": "top"
        },
        "xaxis": {
         "anchor": "y",
         "domain": [
          0,
          1
         ],
         "title": {
          "text": "Cycle"
         }
        },
        "yaxis": {
         "anchor": "x",
         "domain": [
          0,
          1
         ],
         "range": [
          0,
          208.99524920390536
         ],
         "title": {
          "text": "Pressure"
         }
        }
       }
      }
     },
     "metadata": {},
     "output_type": "display_data"
    },
    {
     "data": {
      "application/vnd.plotly.v1+json": {
       "config": {
        "plotlyServerURL": "https://plot.ly"
       },
       "data": [
        {
         "hovertemplate": "Preset_1=1<br>Cycle=%{x}<br>VibrationX=%{y}<extra></extra>",
         "legendgroup": "1",
         "marker": {
          "color": "#636efa",
          "symbol": "circle"
         },
         "mode": "markers",
         "name": "1",
         "orientation": "v",
         "showlegend": true,
         "type": "scatter",
         "x": {
          "bdata": "BgAHAAgACgANAA8AEQAZACcAKQAqACsALAAvADUAOAA6ADwAPQBAAEIAQwBEAEUASABJAEoATgBPAFEAUwBVAFkAYABjAGUAZwBoAGwAbwBxAHQAdQB6AH4AgwCFAIYAhwCIAIkAjACSAKAAoQCjAKQApQCmAKgAqQCqAKsArQCvALAAtQDDAMcA0ADTANQA1gDYAN4A5wDoAOoA7ADvAPAA9AD6APsA/AD+AAEBAwEFAQYBBwEIAQsBDQEQARcBGAEbAR0BIQEiASYBKAEsATABMgE0ATcBOQE/AUMBRgFIAUsBTQFPAVEBUgFTAVYBWAFaAVsBXQFgAWMBaQFsAXABcQFzAXQBdwF8AYkBigGNAY4BjwGTAZQBlQGXAZgBnQGgAaEBogGjAaQBpwGoAakBrQGuAa8BsAG0AbkBvwHFAc4BzwHUAdYB3AHjAeUB5gHpAeoB6wHsAfMB9gH4AfkB/gH/AQECAwIGAgoCCwIOAhMCFAIVAhwCJgInAikCLAItAi4CLwI4Aj4CPwJBAkQCRgJNAk8CUAJUAlYCVwJYAmMCZQJmAmgCbQJxAnQCdwJ5AnwCgQKEAoYChwKIAooCiwKVApYCmgKeAqACpQKpAqwCsAKzArgCuQLGAssC1ALWAtoC3gLkAuUC5wLqAu0C8ALxAvkC+gL7Av8CAgMDAwUDBwMUAxkDGgMdAx4D",
          "dtype": "i2"
         },
         "xaxis": "x",
         "y": {
          "bdata": "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",
          "dtype": "f8"
         },
         "yaxis": "y"
        },
        {
         "hovertemplate": "Preset_1=2<br>Cycle=%{x}<br>VibrationX=%{y}<extra></extra>",
         "legendgroup": "2",
         "marker": {
          "color": "#EF553B",
          "symbol": "circle"
         },
         "mode": "markers",
         "name": "2",
         "orientation": "v",
         "showlegend": true,
         "type": "scatter",
         "x": {
          "bdata": "AgADAAQABQALAAwAEgAUABUAFgAYABoAGwAcAB4AHwAgACMAJAAlACYAKAAwADEAMgA0ADYAOQA/AEYARwBNAFIAVABWAFsAXABdAGQAaQBzAHYAdwB4AHkAewB9AH8AgACBAIQAigCLAI0AkQCXAJkAmgCcAJ4AogCuALIAtgC4ALsAvAC9AL4AvwDCAMQAxQDLAM0A1wDaANsA3wDgAOIA5ADpAOsA7QDuAPMA9QD2APcA+AD9AP8AAAEKAQ8BEwEUARUBFgEZARoBJwEpASsBLQEvATEBMwE1AT0BPgFAAUQBTAFQAVQBVQFXAV4BXwFhAWQBawFuAW8BcgF1AXgBeQF7AX0BfwGAAYEBhAGHAZIBmQGcAZ4BpQGyAbMBtwG4AbwBvQG+AcABwgHKAcsBzQHQAdEB0gHTAdUB1wHaAdsB3QHeAeAB5AHtAe4B7wHwAfQB9QH6AfsB/QECAgUCBwIIAhECEgIWAhgCGQIbAh0CHgIfAiECIgIkAigCKgIxAjICNAI1AjwCQgJHAkgCSQJLAlICUwJVAlkCWgJbAl4CXwJgAmICZAJnAmkCawJuAnoCewJ9An4CgwKJAo0CjgKPApACkQKXApgCnwKmAqoCqwKxAroCuwK8Ar4CvwLAAsICwwLJAsoCzALPAtAC0gLTAtUC2ALZAtsC3QLhAuYC6wLsAu8C8gL0AvUC+AL8AgEDBAMGAwkDCgMLAw4DDwMRAxMDFgMYAxsDHAMfAw==",
          "dtype": "i2"
         },
         "xaxis": "x",
         "y": {
          "bdata": "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",
          "dtype": "f8"
         },
         "yaxis": "y"
        },
        {
         "hovertemplate": "Preset_1=3<br>Cycle=%{x}<br>VibrationX=%{y}<extra></extra>",
         "legendgroup": "3",
         "marker": {
          "color": "#00cc96",
          "symbol": "circle"
         },
         "mode": "markers",
         "name": "3",
         "orientation": "v",
         "showlegend": true,
         "type": "scatter",
         "x": {
          "bdata": "AQAJAA4AEAATABcAHQAhACIALQAuADMANwA7AD4AQQBLAEwAUABXAFgAWgBeAF8AYQBiAGYAagBrAG0AbgBwAHIAfACCAI4AjwCQAJMAlACVAJYAmACbAJ0AnwCnAKwAsQCzALQAtwC5ALoAwADBAMYAyADJAMoAzADOAM8A0QDSANUA2QDcAN0A4QDjAOUA5gDxAPIA+QACAQQBCQEMAQ4BEQESARwBHgEfASABIwEkASUBKgEuATYBOAE6ATsBPAFBAUIBRQFHAUkBSgFOAVkBXAFiAWUBZgFnAWgBagFtAXYBegF+AYIBgwGFAYYBiAGLAYwBkAGRAZYBmgGbAZ8BpgGqAasBrAGxAbUBtgG6AbsBwQHDAcQBxgHHAcgByQHMAdgB2QHfAeEB4gHnAegB8QHyAfcB/AEAAgQCCQIMAg0CDwIQAhcCGgIgAiMCJQIrAjACMwI2AjcCOQI6AjsCPQJAAkMCRQJKAkwCTgJRAlwCXQJhAmoCbAJvAnACcgJzAnUCdgJ4An8CgAKCAoUCjAKSApMClAKZApsCnAKdAqECogKjAqQCpwKoAq0CrgKvArICtAK1ArYCtwK9AsECxALFAscCyALNAs4C0QLXAtwC3wLgAuIC4wLoAukC7gLzAvYC9wL9Av4CAAMIAwwDDQMQAxIDFQMXAyAD",
          "dtype": "i2"
         },
         "xaxis": "x",
         "y": {
          "bdata": "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",
          "dtype": "f8"
         },
         "yaxis": "y"
        }
       ],
       "layout": {
        "legend": {
         "title": {
          "text": "Preset_1"
         },
         "tracegroupgap": 0
        },
        "margin": {
         "b": 50,
         "l": 60,
         "r": 40,
         "t": 120
        },
        "shapes": [
         {
          "line": {
           "color": "black",
           "width": 1
          },
          "type": "line",
          "x0": 13,
          "x1": 13,
          "xref": "x",
          "y0": 0,
          "y1": 1,
          "yref": "y domain"
         },
         {
          "line": {
           "color": "black",
           "width": 1
          },
          "type": "line",
          "x0": 157,
          "x1": 157,
          "xref": "x",
          "y0": 0,
          "y1": 1,
          "yref": "y domain"
         },
         {
          "line": {
           "color": "black",
           "width": 1
          },
          "type": "line",
          "x0": 158,
          "x1": 158,
          "xref": "x",
          "y0": 0,
          "y1": 1,
          "yref": "y domain"
         },
         {
          "line": {
           "color": "black",
           "width": 1
          },
          "type": "line",
          "x0": 159,
          "x1": 159,
          "xref": "x",
          "y0": 0,
          "y1": 1,
          "yref": "y domain"
         },
         {
          "line": {
           "color": "black",
           "width": 1
          },
          "type": "line",
          "x0": 163,
          "x1": 163,
          "xref": "x",
          "y0": 0,
          "y1": 1,
          "yref": "y domain"
         },
         {
          "line": {
           "color": "black",
           "width": 1
          },
          "type": "line",
          "x0": 164,
          "x1": 164,
          "xref": "x",
          "y0": 0,
          "y1": 1,
          "yref": "y domain"
         },
         {
          "line": {
           "color": "black",
           "width": 1
          },
          "type": "line",
          "x0": 165,
          "x1": 165,
          "xref": "x",
          "y0": 0,
          "y1": 1,
          "yref": "y domain"
         },
         {
          "line": {
           "color": "black",
           "width": 1
          },
          "type": "line",
          "x0": 263,
          "x1": 263,
          "xref": "x",
          "y0": 0,
          "y1": 1,
          "yref": "y domain"
         },
         {
          "line": {
           "color": "black",
           "width": 1
          },
          "type": "line",
          "x0": 264,
          "x1": 264,
          "xref": "x",
          "y0": 0,
          "y1": 1,
          "yref": "y domain"
         },
         {
          "line": {
           "color": "black",
           "width": 1
          },
          "type": "line",
          "x0": 265,
          "x1": 265,
          "xref": "x",
          "y0": 0,
          "y1": 1,
          "yref": "y domain"
         },
         {
          "line": {
           "color": "black",
           "width": 1
          },
          "type": "line",
          "x0": 270,
          "x1": 270,
          "xref": "x",
          "y0": 0,
          "y1": 1,
          "yref": "y domain"
         },
         {
          "line": {
           "color": "black",
           "width": 1
          },
          "type": "line",
          "x0": 271,
          "x1": 271,
          "xref": "x",
          "y0": 0,
          "y1": 1,
          "yref": "y domain"
         },
         {
          "line": {
           "color": "black",
           "width": 1
          },
          "type": "line",
          "x0": 415,
          "x1": 415,
          "xref": "x",
          "y0": 0,
          "y1": 1,
          "yref": "y domain"
         },
         {
          "line": {
           "color": "black",
           "width": 1
          },
          "type": "line",
          "x0": 416,
          "x1": 416,
          "xref": "x",
          "y0": 0,
          "y1": 1,
          "yref": "y domain"
         },
         {
          "line": {
           "color": "black",
           "width": 1
          },
          "type": "line",
          "x0": 417,
          "x1": 417,
          "xref": "x",
          "y0": 0,
          "y1": 1,
          "yref": "y domain"
         },
         {
          "line": {
           "color": "black",
           "width": 1
          },
          "type": "line",
          "x0": 418,
          "x1": 418,
          "xref": "x",
          "y0": 0,
          "y1": 1,
          "yref": "y domain"
         },
         {
          "line": {
           "color": "black",
           "width": 1
          },
          "type": "line",
          "x0": 419,
          "x1": 419,
          "xref": "x",
          "y0": 0,
          "y1": 1,
          "yref": "y domain"
         },
         {
          "line": {
           "color": "black",
           "width": 1
          },
          "type": "line",
          "x0": 420,
          "x1": 420,
          "xref": "x",
          "y0": 0,
          "y1": 1,
          "yref": "y domain"
         },
         {
          "line": {
           "color": "black",
           "width": 1
          },
          "type": "line",
          "x0": 421,
          "x1": 421,
          "xref": "x",
          "y0": 0,
          "y1": 1,
          "yref": "y domain"
         },
         {
          "line": {
           "color": "black",
           "width": 1
          },
          "type": "line",
          "x0": 422,
          "x1": 422,
          "xref": "x",
          "y0": 0,
          "y1": 1,
          "yref": "y domain"
         },
         {
          "line": {
           "color": "black",
           "width": 1
          },
          "type": "line",
          "x0": 423,
          "x1": 423,
          "xref": "x",
          "y0": 0,
          "y1": 1,
          "yref": "y domain"
         },
         {
          "line": {
           "color": "black",
           "width": 1
          },
          "type": "line",
          "x0": 424,
          "x1": 424,
          "xref": "x",
          "y0": 0,
          "y1": 1,
          "yref": "y domain"
         },
         {
          "line": {
           "color": "black",
           "width": 1
          },
          "type": "line",
          "x0": 425,
          "x1": 425,
          "xref": "x",
          "y0": 0,
          "y1": 1,
          "yref": "y domain"
         },
         {
          "line": {
           "color": "black",
           "width": 1
          },
          "type": "line",
          "x0": 426,
          "x1": 426,
          "xref": "x",
          "y0": 0,
          "y1": 1,
          "yref": "y domain"
         },
         {
          "line": {
           "color": "black",
           "width": 1
          },
          "type": "line",
          "x0": 427,
          "x1": 427,
          "xref": "x",
          "y0": 0,
          "y1": 1,
          "yref": "y domain"
         },
         {
          "line": {
           "color": "black",
           "width": 1
          },
          "type": "line",
          "x0": 428,
          "x1": 428,
          "xref": "x",
          "y0": 0,
          "y1": 1,
          "yref": "y domain"
         },
         {
          "line": {
           "color": "black",
           "width": 1
          },
          "type": "line",
          "x0": 429,
          "x1": 429,
          "xref": "x",
          "y0": 0,
          "y1": 1,
          "yref": "y domain"
         },
         {
          "line": {
           "color": "black",
           "width": 1
          },
          "type": "line",
          "x0": 430,
          "x1": 430,
          "xref": "x",
          "y0": 0,
          "y1": 1,
          "yref": "y domain"
         },
         {
          "line": {
           "color": "black",
           "width": 1
          },
          "type": "line",
          "x0": 431,
          "x1": 431,
          "xref": "x",
          "y0": 0,
          "y1": 1,
          "yref": "y domain"
         },
         {
          "line": {
           "color": "black",
           "width": 1
          },
          "type": "line",
          "x0": 432,
          "x1": 432,
          "xref": "x",
          "y0": 0,
          "y1": 1,
          "yref": "y domain"
         },
         {
          "line": {
           "color": "black",
           "width": 1
          },
          "type": "line",
          "x0": 538,
          "x1": 538,
          "xref": "x",
          "y0": 0,
          "y1": 1,
          "yref": "y domain"
         },
         {
          "line": {
           "color": "black",
           "width": 1
          },
          "type": "line",
          "x0": 539,
          "x1": 539,
          "xref": "x",
          "y0": 0,
          "y1": 1,
          "yref": "y domain"
         },
         {
          "line": {
           "color": "black",
           "width": 1
          },
          "type": "line",
          "x0": 540,
          "x1": 540,
          "xref": "x",
          "y0": 0,
          "y1": 1,
          "yref": "y domain"
         },
         {
          "line": {
           "color": "black",
           "width": 1
          },
          "type": "line",
          "x0": 541,
          "x1": 541,
          "xref": "x",
          "y0": 0,
          "y1": 1,
          "yref": "y domain"
         },
         {
          "line": {
           "color": "black",
           "width": 1
          },
          "type": "line",
          "x0": 542,
          "x1": 542,
          "xref": "x",
          "y0": 0,
          "y1": 1,
          "yref": "y domain"
         },
         {
          "line": {
           "color": "black",
           "width": 1
          },
          "type": "line",
          "x0": 543,
          "x1": 543,
          "xref": "x",
          "y0": 0,
          "y1": 1,
          "yref": "y domain"
         },
         {
          "line": {
           "color": "black",
           "width": 1
          },
          "type": "line",
          "x0": 544,
          "x1": 544,
          "xref": "x",
          "y0": 0,
          "y1": 1,
          "yref": "y domain"
         },
         {
          "line": {
           "color": "black",
           "width": 1
          },
          "type": "line",
          "x0": 545,
          "x1": 545,
          "xref": "x",
          "y0": 0,
          "y1": 1,
          "yref": "y domain"
         },
         {
          "line": {
           "color": "black",
           "width": 1
          },
          "type": "line",
          "x0": 546,
          "x1": 546,
          "xref": "x",
          "y0": 0,
          "y1": 1,
          "yref": "y domain"
         },
         {
          "line": {
           "color": "black",
           "width": 1
          },
          "type": "line",
          "x0": 550,
          "x1": 550,
          "xref": "x",
          "y0": 0,
          "y1": 1,
          "yref": "y domain"
         },
         {
          "line": {
           "color": "black",
           "width": 1
          },
          "type": "line",
          "x0": 551,
          "x1": 551,
          "xref": "x",
          "y0": 0,
          "y1": 1,
          "yref": "y domain"
         },
         {
          "line": {
           "color": "black",
           "width": 1
          },
          "type": "line",
          "x0": 552,
          "x1": 552,
          "xref": "x",
          "y0": 0,
          "y1": 1,
          "yref": "y domain"
         },
         {
          "line": {
           "color": "black",
           "width": 1
          },
          "type": "line",
          "x0": 553,
          "x1": 553,
          "xref": "x",
          "y0": 0,
          "y1": 1,
          "yref": "y domain"
         },
         {
          "line": {
           "color": "black",
           "width": 1
          },
          "type": "line",
          "x0": 554,
          "x1": 554,
          "xref": "x",
          "y0": 0,
          "y1": 1,
          "yref": "y domain"
         },
         {
          "line": {
           "color": "black",
           "width": 1
          },
          "type": "line",
          "x0": 700,
          "x1": 700,
          "xref": "x",
          "y0": 0,
          "y1": 1,
          "yref": "y domain"
         },
         {
          "line": {
           "color": "black",
           "width": 1
          },
          "type": "line",
          "x0": 701,
          "x1": 701,
          "xref": "x",
          "y0": 0,
          "y1": 1,
          "yref": "y domain"
         },
         {
          "line": {
           "color": "black",
           "width": 1
          },
          "type": "line",
          "x0": 702,
          "x1": 702,
          "xref": "x",
          "y0": 0,
          "y1": 1,
          "yref": "y domain"
         },
         {
          "line": {
           "color": "black",
           "width": 1
          },
          "type": "line",
          "x0": 703,
          "x1": 703,
          "xref": "x",
          "y0": 0,
          "y1": 1,
          "yref": "y domain"
         },
         {
          "line": {
           "color": "black",
           "width": 1
          },
          "type": "line",
          "x0": 704,
          "x1": 704,
          "xref": "x",
          "y0": 0,
          "y1": 1,
          "yref": "y domain"
         },
         {
          "line": {
           "color": "black",
           "width": 1
          },
          "type": "line",
          "x0": 705,
          "x1": 705,
          "xref": "x",
          "y0": 0,
          "y1": 1,
          "yref": "y domain"
         },
         {
          "line": {
           "color": "black",
           "width": 1
          },
          "type": "line",
          "x0": 706,
          "x1": 706,
          "xref": "x",
          "y0": 0,
          "y1": 1,
          "yref": "y domain"
         },
         {
          "line": {
           "color": "black",
           "width": 1
          },
          "type": "line",
          "x0": 707,
          "x1": 707,
          "xref": "x",
          "y0": 0,
          "y1": 1,
          "yref": "y domain"
         },
         {
          "line": {
           "color": "black",
           "width": 1
          },
          "type": "line",
          "x0": 708,
          "x1": 708,
          "xref": "x",
          "y0": 0,
          "y1": 1,
          "yref": "y domain"
         },
         {
          "line": {
           "color": "black",
           "width": 1
          },
          "type": "line",
          "x0": 709,
          "x1": 709,
          "xref": "x",
          "y0": 0,
          "y1": 1,
          "yref": "y domain"
         },
         {
          "line": {
           "color": "black",
           "width": 1
          },
          "type": "line",
          "x0": 710,
          "x1": 710,
          "xref": "x",
          "y0": 0,
          "y1": 1,
          "yref": "y domain"
         },
         {
          "line": {
           "color": "black",
           "width": 1
          },
          "type": "line",
          "x0": 711,
          "x1": 711,
          "xref": "x",
          "y0": 0,
          "y1": 1,
          "yref": "y domain"
         },
         {
          "line": {
           "color": "black",
           "width": 1
          },
          "type": "line",
          "x0": 712,
          "x1": 712,
          "xref": "x",
          "y0": 0,
          "y1": 1,
          "yref": "y domain"
         },
         {
          "line": {
           "color": "black",
           "width": 1
          },
          "type": "line",
          "x0": 713,
          "x1": 713,
          "xref": "x",
          "y0": 0,
          "y1": 1,
          "yref": "y domain"
         },
         {
          "line": {
           "color": "black",
           "width": 1
          },
          "type": "line",
          "x0": 793,
          "x1": 793,
          "xref": "x",
          "y0": 0,
          "y1": 1,
          "yref": "y domain"
         },
         {
          "line": {
           "color": "black",
           "width": 1
          },
          "type": "line",
          "x0": 794,
          "x1": 794,
          "xref": "x",
          "y0": 0,
          "y1": 1,
          "yref": "y domain"
         },
         {
          "line": {
           "color": "black",
           "width": 1
          },
          "type": "line",
          "x0": 795,
          "x1": 795,
          "xref": "x",
          "y0": 0,
          "y1": 1,
          "yref": "y domain"
         },
         {
          "line": {
           "color": "black",
           "width": 1
          },
          "type": "line",
          "x0": 796,
          "x1": 796,
          "xref": "x",
          "y0": 0,
          "y1": 1,
          "yref": "y domain"
         },
         {
          "line": {
           "color": "black",
           "width": 1
          },
          "type": "line",
          "x0": 797,
          "x1": 797,
          "xref": "x",
          "y0": 0,
          "y1": 1,
          "yref": "y domain"
         },
         {
          "line": {
           "color": "black",
           "width": 1
          },
          "type": "line",
          "x0": 798,
          "x1": 798,
          "xref": "x",
          "y0": 0,
          "y1": 1,
          "yref": "y domain"
         },
         {
          "line": {
           "color": "black",
           "width": 1
          },
          "type": "line",
          "x0": 799,
          "x1": 799,
          "xref": "x",
          "y0": 0,
          "y1": 1,
          "yref": "y domain"
         },
         {
          "line": {
           "color": "black",
           "width": 1
          },
          "type": "line",
          "x0": 800,
          "x1": 800,
          "xref": "x",
          "y0": 0,
          "y1": 1,
          "yref": "y domain"
         }
        ],
        "template": {
         "data": {
          "bar": [
           {
            "error_x": {
             "color": "#2a3f5f"
            },
            "error_y": {
             "color": "#2a3f5f"
            },
            "marker": {
             "line": {
              "color": "#E5ECF6",
              "width": 0.5
             },
             "pattern": {
              "fillmode": "overlay",
              "size": 10,
              "solidity": 0.2
             }
            },
            "type": "bar"
           }
          ],
          "barpolar": [
           {
            "marker": {
             "line": {
              "color": "#E5ECF6",
              "width": 0.5
             },
             "pattern": {
              "fillmode": "overlay",
              "size": 10,
              "solidity": 0.2
             }
            },
            "type": "barpolar"
           }
          ],
          "carpet": [
           {
            "aaxis": {
             "endlinecolor": "#2a3f5f",
             "gridcolor": "white",
             "linecolor": "white",
             "minorgridcolor": "white",
             "startlinecolor": "#2a3f5f"
            },
            "baxis": {
             "endlinecolor": "#2a3f5f",
             "gridcolor": "white",
             "linecolor": "white",
             "minorgridcolor": "white",
             "startlinecolor": "#2a3f5f"
            },
            "type": "carpet"
           }
          ],
          "choropleth": [
           {
            "colorbar": {
             "outlinewidth": 0,
             "ticks": ""
            },
            "type": "choropleth"
           }
          ],
          "contour": [
           {
            "colorbar": {
             "outlinewidth": 0,
             "ticks": ""
            },
            "colorscale": [
             [
              0,
              "#0d0887"
             ],
             [
              0.1111111111111111,
              "#46039f"
             ],
             [
              0.2222222222222222,
              "#7201a8"
             ],
             [
              0.3333333333333333,
              "#9c179e"
             ],
             [
              0.4444444444444444,
              "#bd3786"
             ],
             [
              0.5555555555555556,
              "#d8576b"
             ],
             [
              0.6666666666666666,
              "#ed7953"
             ],
             [
              0.7777777777777778,
              "#fb9f3a"
             ],
             [
              0.8888888888888888,
              "#fdca26"
             ],
             [
              1,
              "#f0f921"
             ]
            ],
            "type": "contour"
           }
          ],
          "contourcarpet": [
           {
            "colorbar": {
             "outlinewidth": 0,
             "ticks": ""
            },
            "type": "contourcarpet"
           }
          ],
          "heatmap": [
           {
            "colorbar": {
             "outlinewidth": 0,
             "ticks": ""
            },
            "colorscale": [
             [
              0,
              "#0d0887"
             ],
             [
              0.1111111111111111,
              "#46039f"
             ],
             [
              0.2222222222222222,
              "#7201a8"
             ],
             [
              0.3333333333333333,
              "#9c179e"
             ],
             [
              0.4444444444444444,
              "#bd3786"
             ],
             [
              0.5555555555555556,
              "#d8576b"
             ],
             [
              0.6666666666666666,
              "#ed7953"
             ],
             [
              0.7777777777777778,
              "#fb9f3a"
             ],
             [
              0.8888888888888888,
              "#fdca26"
             ],
             [
              1,
              "#f0f921"
             ]
            ],
            "type": "heatmap"
           }
          ],
          "histogram": [
           {
            "marker": {
             "pattern": {
              "fillmode": "overlay",
              "size": 10,
              "solidity": 0.2
             }
            },
            "type": "histogram"
           }
          ],
          "histogram2d": [
           {
            "colorbar": {
             "outlinewidth": 0,
             "ticks": ""
            },
            "colorscale": [
             [
              0,
              "#0d0887"
             ],
             [
              0.1111111111111111,
              "#46039f"
             ],
             [
              0.2222222222222222,
              "#7201a8"
             ],
             [
              0.3333333333333333,
              "#9c179e"
             ],
             [
              0.4444444444444444,
              "#bd3786"
             ],
             [
              0.5555555555555556,
              "#d8576b"
             ],
             [
              0.6666666666666666,
              "#ed7953"
             ],
             [
              0.7777777777777778,
              "#fb9f3a"
             ],
             [
              0.8888888888888888,
              "#fdca26"
             ],
             [
              1,
              "#f0f921"
             ]
            ],
            "type": "histogram2d"
           }
          ],
          "histogram2dcontour": [
           {
            "colorbar": {
             "outlinewidth": 0,
             "ticks": ""
            },
            "colorscale": [
             [
              0,
              "#0d0887"
             ],
             [
              0.1111111111111111,
              "#46039f"
             ],
             [
              0.2222222222222222,
              "#7201a8"
             ],
             [
              0.3333333333333333,
              "#9c179e"
             ],
             [
              0.4444444444444444,
              "#bd3786"
             ],
             [
              0.5555555555555556,
              "#d8576b"
             ],
             [
              0.6666666666666666,
              "#ed7953"
             ],
             [
              0.7777777777777778,
              "#fb9f3a"
             ],
             [
              0.8888888888888888,
              "#fdca26"
             ],
             [
              1,
              "#f0f921"
             ]
            ],
            "type": "histogram2dcontour"
           }
          ],
          "mesh3d": [
           {
            "colorbar": {
             "outlinewidth": 0,
             "ticks": ""
            },
            "type": "mesh3d"
           }
          ],
          "parcoords": [
           {
            "line": {
             "colorbar": {
              "outlinewidth": 0,
              "ticks": ""
             }
            },
            "type": "parcoords"
           }
          ],
          "pie": [
           {
            "automargin": true,
            "type": "pie"
           }
          ],
          "scatter": [
           {
            "fillpattern": {
             "fillmode": "overlay",
             "size": 10,
             "solidity": 0.2
            },
            "type": "scatter"
           }
          ],
          "scatter3d": [
           {
            "line": {
             "colorbar": {
              "outlinewidth": 0,
              "ticks": ""
             }
            },
            "marker": {
             "colorbar": {
              "outlinewidth": 0,
              "ticks": ""
             }
            },
            "type": "scatter3d"
           }
          ],
          "scattercarpet": [
           {
            "marker": {
             "colorbar": {
              "outlinewidth": 0,
              "ticks": ""
             }
            },
            "type": "scattercarpet"
           }
          ],
          "scattergeo": [
           {
            "marker": {
             "colorbar": {
              "outlinewidth": 0,
              "ticks": ""
             }
            },
            "type": "scattergeo"
           }
          ],
          "scattergl": [
           {
            "marker": {
             "colorbar": {
              "outlinewidth": 0,
              "ticks": ""
             }
            },
            "type": "scattergl"
           }
          ],
          "scattermap": [
           {
            "marker": {
             "colorbar": {
              "outlinewidth": 0,
              "ticks": ""
             }
            },
            "type": "scattermap"
           }
          ],
          "scattermapbox": [
           {
            "marker": {
             "colorbar": {
              "outlinewidth": 0,
              "ticks": ""
             }
            },
            "type": "scattermapbox"
           }
          ],
          "scatterpolar": [
           {
            "marker": {
             "colorbar": {
              "outlinewidth": 0,
              "ticks": ""
             }
            },
            "type": "scatterpolar"
           }
          ],
          "scatterpolargl": [
           {
            "marker": {
             "colorbar": {
              "outlinewidth": 0,
              "ticks": ""
             }
            },
            "type": "scatterpolargl"
           }
          ],
          "scatterternary": [
           {
            "marker": {
             "colorbar": {
              "outlinewidth": 0,
              "ticks": ""
             }
            },
            "type": "scatterternary"
           }
          ],
          "surface": [
           {
            "colorbar": {
             "outlinewidth": 0,
             "ticks": ""
            },
            "colorscale": [
             [
              0,
              "#0d0887"
             ],
             [
              0.1111111111111111,
              "#46039f"
             ],
             [
              0.2222222222222222,
              "#7201a8"
             ],
             [
              0.3333333333333333,
              "#9c179e"
             ],
             [
              0.4444444444444444,
              "#bd3786"
             ],
             [
              0.5555555555555556,
              "#d8576b"
             ],
             [
              0.6666666666666666,
              "#ed7953"
             ],
             [
              0.7777777777777778,
              "#fb9f3a"
             ],
             [
              0.8888888888888888,
              "#fdca26"
             ],
             [
              1,
              "#f0f921"
             ]
            ],
            "type": "surface"
           }
          ],
          "table": [
           {
            "cells": {
             "fill": {
              "color": "#EBF0F8"
             },
             "line": {
              "color": "white"
             }
            },
            "header": {
             "fill": {
              "color": "#C8D4E3"
             },
             "line": {
              "color": "white"
             }
            },
            "type": "table"
           }
          ]
         },
         "layout": {
          "annotationdefaults": {
           "arrowcolor": "#2a3f5f",
           "arrowhead": 0,
           "arrowwidth": 1
          },
          "autotypenumbers": "strict",
          "coloraxis": {
           "colorbar": {
            "outlinewidth": 0,
            "ticks": ""
           }
          },
          "colorscale": {
           "diverging": [
            [
             0,
             "#8e0152"
            ],
            [
             0.1,
             "#c51b7d"
            ],
            [
             0.2,
             "#de77ae"
            ],
            [
             0.3,
             "#f1b6da"
            ],
            [
             0.4,
             "#fde0ef"
            ],
            [
             0.5,
             "#f7f7f7"
            ],
            [
             0.6,
             "#e6f5d0"
            ],
            [
             0.7,
             "#b8e186"
            ],
            [
             0.8,
             "#7fbc41"
            ],
            [
             0.9,
             "#4d9221"
            ],
            [
             1,
             "#276419"
            ]
           ],
           "sequential": [
            [
             0,
             "#0d0887"
            ],
            [
             0.1111111111111111,
             "#46039f"
            ],
            [
             0.2222222222222222,
             "#7201a8"
            ],
            [
             0.3333333333333333,
             "#9c179e"
            ],
            [
             0.4444444444444444,
             "#bd3786"
            ],
            [
             0.5555555555555556,
             "#d8576b"
            ],
            [
             0.6666666666666666,
             "#ed7953"
            ],
            [
             0.7777777777777778,
             "#fb9f3a"
            ],
            [
             0.8888888888888888,
             "#fdca26"
            ],
            [
             1,
             "#f0f921"
            ]
           ],
           "sequentialminus": [
            [
             0,
             "#0d0887"
            ],
            [
             0.1111111111111111,
             "#46039f"
            ],
            [
             0.2222222222222222,
             "#7201a8"
            ],
            [
             0.3333333333333333,
             "#9c179e"
            ],
            [
             0.4444444444444444,
             "#bd3786"
            ],
            [
             0.5555555555555556,
             "#d8576b"
            ],
            [
             0.6666666666666666,
             "#ed7953"
            ],
            [
             0.7777777777777778,
             "#fb9f3a"
            ],
            [
             0.8888888888888888,
             "#fdca26"
            ],
            [
             1,
             "#f0f921"
            ]
           ]
          },
          "colorway": [
           "#636efa",
           "#EF553B",
           "#00cc96",
           "#ab63fa",
           "#FFA15A",
           "#19d3f3",
           "#FF6692",
           "#B6E880",
           "#FF97FF",
           "#FECB52"
          ],
          "font": {
           "color": "#2a3f5f"
          },
          "geo": {
           "bgcolor": "white",
           "lakecolor": "white",
           "landcolor": "#E5ECF6",
           "showlakes": true,
           "showland": true,
           "subunitcolor": "white"
          },
          "hoverlabel": {
           "align": "left"
          },
          "hovermode": "closest",
          "mapbox": {
           "style": "light"
          },
          "paper_bgcolor": "white",
          "plot_bgcolor": "#E5ECF6",
          "polar": {
           "angularaxis": {
            "gridcolor": "white",
            "linecolor": "white",
            "ticks": ""
           },
           "bgcolor": "#E5ECF6",
           "radialaxis": {
            "gridcolor": "white",
            "linecolor": "white",
            "ticks": ""
           }
          },
          "scene": {
           "xaxis": {
            "backgroundcolor": "#E5ECF6",
            "gridcolor": "white",
            "gridwidth": 2,
            "linecolor": "white",
            "showbackground": true,
            "ticks": "",
            "zerolinecolor": "white"
           },
           "yaxis": {
            "backgroundcolor": "#E5ECF6",
            "gridcolor": "white",
            "gridwidth": 2,
            "linecolor": "white",
            "showbackground": true,
            "ticks": "",
            "zerolinecolor": "white"
           },
           "zaxis": {
            "backgroundcolor": "#E5ECF6",
            "gridcolor": "white",
            "gridwidth": 2,
            "linecolor": "white",
            "showbackground": true,
            "ticks": "",
            "zerolinecolor": "white"
           }
          },
          "shapedefaults": {
           "line": {
            "color": "#2a3f5f"
           }
          },
          "ternary": {
           "aaxis": {
            "gridcolor": "white",
            "linecolor": "white",
            "ticks": ""
           },
           "baxis": {
            "gridcolor": "white",
            "linecolor": "white",
            "ticks": ""
           },
           "bgcolor": "#E5ECF6",
           "caxis": {
            "gridcolor": "white",
            "linecolor": "white",
            "ticks": ""
           }
          },
          "title": {
           "x": 0.05
          },
          "xaxis": {
           "automargin": true,
           "gridcolor": "white",
           "linecolor": "white",
           "ticks": "",
           "title": {
            "standoff": 15
           },
           "zerolinecolor": "white",
           "zerolinewidth": 2
          },
          "yaxis": {
           "automargin": true,
           "gridcolor": "white",
           "linecolor": "white",
           "ticks": "",
           "title": {
            "standoff": 15
           },
           "zerolinecolor": "white",
           "zerolinewidth": 2
          }
         }
        },
        "title": {
         "font": {
          "size": 26
         },
         "pad": {
          "b": 10,
          "t": 10
         },
         "text": "Scatter Plot VibrationX versus Cycle with Preset_1 categories per Fail event",
         "x": 0.5,
         "xanchor": "center",
         "y": 0.94,
         "yanchor": "top"
        },
        "xaxis": {
         "anchor": "y",
         "domain": [
          0,
          1
         ],
         "title": {
          "text": "Cycle"
         }
        },
        "yaxis": {
         "anchor": "x",
         "domain": [
          0,
          1
         ],
         "range": [
          0,
          253.94725607064868
         ],
         "title": {
          "text": "VibrationX"
         }
        }
       }
      }
     },
     "metadata": {},
     "output_type": "display_data"
    },
    {
     "data": {
      "application/vnd.plotly.v1+json": {
       "config": {
        "plotlyServerURL": "https://plot.ly"
       },
       "data": [
        {
         "hovertemplate": "Preset_1=1<br>Cycle=%{x}<br>VibrationY=%{y}<extra></extra>",
         "legendgroup": "1",
         "marker": {
          "color": "#636efa",
          "symbol": "circle"
         },
         "mode": "markers",
         "name": "1",
         "orientation": "v",
         "showlegend": true,
         "type": "scatter",
         "x": {
          "bdata": "BgAHAAgACgANAA8AEQAZACcAKQAqACsALAAvADUAOAA6ADwAPQBAAEIAQwBEAEUASABJAEoATgBPAFEAUwBVAFkAYABjAGUAZwBoAGwAbwBxAHQAdQB6AH4AgwCFAIYAhwCIAIkAjACSAKAAoQCjAKQApQCmAKgAqQCqAKsArQCvALAAtQDDAMcA0ADTANQA1gDYAN4A5wDoAOoA7ADvAPAA9AD6APsA/AD+AAEBAwEFAQYBBwEIAQsBDQEQARcBGAEbAR0BIQEiASYBKAEsATABMgE0ATcBOQE/AUMBRgFIAUsBTQFPAVEBUgFTAVYBWAFaAVsBXQFgAWMBaQFsAXABcQFzAXQBdwF8AYkBigGNAY4BjwGTAZQBlQGXAZgBnQGgAaEBogGjAaQBpwGoAakBrQGuAa8BsAG0AbkBvwHFAc4BzwHUAdYB3AHjAeUB5gHpAeoB6wHsAfMB9gH4AfkB/gH/AQECAwIGAgoCCwIOAhMCFAIVAhwCJgInAikCLAItAi4CLwI4Aj4CPwJBAkQCRgJNAk8CUAJUAlYCVwJYAmMCZQJmAmgCbQJxAnQCdwJ5AnwCgQKEAoYChwKIAooCiwKVApYCmgKeAqACpQKpAqwCsAKzArgCuQLGAssC1ALWAtoC3gLkAuUC5wLqAu0C8ALxAvkC+gL7Av8CAgMDAwUDBwMUAxkDGgMdAx4D",
          "dtype": "i2"
         },
         "xaxis": "x",
         "y": {
          "bdata": "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",
          "dtype": "f8"
         },
         "yaxis": "y"
        },
        {
         "hovertemplate": "Preset_1=2<br>Cycle=%{x}<br>VibrationY=%{y}<extra></extra>",
         "legendgroup": "2",
         "marker": {
          "color": "#EF553B",
          "symbol": "circle"
         },
         "mode": "markers",
         "name": "2",
         "orientation": "v",
         "showlegend": true,
         "type": "scatter",
         "x": {
          "bdata": "AgADAAQABQALAAwAEgAUABUAFgAYABoAGwAcAB4AHwAgACMAJAAlACYAKAAwADEAMgA0ADYAOQA/AEYARwBNAFIAVABWAFsAXABdAGQAaQBzAHYAdwB4AHkAewB9AH8AgACBAIQAigCLAI0AkQCXAJkAmgCcAJ4AogCuALIAtgC4ALsAvAC9AL4AvwDCAMQAxQDLAM0A1wDaANsA3wDgAOIA5ADpAOsA7QDuAPMA9QD2APcA+AD9AP8AAAEKAQ8BEwEUARUBFgEZARoBJwEpASsBLQEvATEBMwE1AT0BPgFAAUQBTAFQAVQBVQFXAV4BXwFhAWQBawFuAW8BcgF1AXgBeQF7AX0BfwGAAYEBhAGHAZIBmQGcAZ4BpQGyAbMBtwG4AbwBvQG+AcABwgHKAcsBzQHQAdEB0gHTAdUB1wHaAdsB3QHeAeAB5AHtAe4B7wHwAfQB9QH6AfsB/QECAgUCBwIIAhECEgIWAhgCGQIbAh0CHgIfAiECIgIkAigCKgIxAjICNAI1AjwCQgJHAkgCSQJLAlICUwJVAlkCWgJbAl4CXwJgAmICZAJnAmkCawJuAnoCewJ9An4CgwKJAo0CjgKPApACkQKXApgCnwKmAqoCqwKxAroCuwK8Ar4CvwLAAsICwwLJAsoCzALPAtAC0gLTAtUC2ALZAtsC3QLhAuYC6wLsAu8C8gL0AvUC+AL8AgEDBAMGAwkDCgMLAw4DDwMRAxMDFgMYAxsDHAMfAw==",
          "dtype": "i2"
         },
         "xaxis": "x",
         "y": {
          "bdata": "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",
          "dtype": "f8"
         },
         "yaxis": "y"
        },
        {
         "hovertemplate": "Preset_1=3<br>Cycle=%{x}<br>VibrationY=%{y}<extra></extra>",
         "legendgroup": "3",
         "marker": {
          "color": "#00cc96",
          "symbol": "circle"
         },
         "mode": "markers",
         "name": "3",
         "orientation": "v",
         "showlegend": true,
         "type": "scatter",
         "x": {
          "bdata": "AQAJAA4AEAATABcAHQAhACIALQAuADMANwA7AD4AQQBLAEwAUABXAFgAWgBeAF8AYQBiAGYAagBrAG0AbgBwAHIAfACCAI4AjwCQAJMAlACVAJYAmACbAJ0AnwCnAKwAsQCzALQAtwC5ALoAwADBAMYAyADJAMoAzADOAM8A0QDSANUA2QDcAN0A4QDjAOUA5gDxAPIA+QACAQQBCQEMAQ4BEQESARwBHgEfASABIwEkASUBKgEuATYBOAE6ATsBPAFBAUIBRQFHAUkBSgFOAVkBXAFiAWUBZgFnAWgBagFtAXYBegF+AYIBgwGFAYYBiAGLAYwBkAGRAZYBmgGbAZ8BpgGqAasBrAGxAbUBtgG6AbsBwQHDAcQBxgHHAcgByQHMAdgB2QHfAeEB4gHnAegB8QHyAfcB/AEAAgQCCQIMAg0CDwIQAhcCGgIgAiMCJQIrAjACMwI2AjcCOQI6AjsCPQJAAkMCRQJKAkwCTgJRAlwCXQJhAmoCbAJvAnACcgJzAnUCdgJ4An8CgAKCAoUCjAKSApMClAKZApsCnAKdAqECogKjAqQCpwKoAq0CrgKvArICtAK1ArYCtwK9AsECxALFAscCyALNAs4C0QLXAtwC3wLgAuIC4wLoAukC7gLzAvYC9wL9Av4CAAMIAwwDDQMQAxIDFQMXAyAD",
          "dtype": "i2"
         },
         "xaxis": "x",
         "y": {
          "bdata": "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",
          "dtype": "f8"
         },
         "yaxis": "y"
        }
       ],
       "layout": {
        "legend": {
         "title": {
          "text": "Preset_1"
         },
         "tracegroupgap": 0
        },
        "margin": {
         "b": 50,
         "l": 60,
         "r": 40,
         "t": 120
        },
        "shapes": [
         {
          "line": {
           "color": "black",
           "width": 1
          },
          "type": "line",
          "x0": 13,
          "x1": 13,
          "xref": "x",
          "y0": 0,
          "y1": 1,
          "yref": "y domain"
         },
         {
          "line": {
           "color": "black",
           "width": 1
          },
          "type": "line",
          "x0": 157,
          "x1": 157,
          "xref": "x",
          "y0": 0,
          "y1": 1,
          "yref": "y domain"
         },
         {
          "line": {
           "color": "black",
           "width": 1
          },
          "type": "line",
          "x0": 158,
          "x1": 158,
          "xref": "x",
          "y0": 0,
          "y1": 1,
          "yref": "y domain"
         },
         {
          "line": {
           "color": "black",
           "width": 1
          },
          "type": "line",
          "x0": 159,
          "x1": 159,
          "xref": "x",
          "y0": 0,
          "y1": 1,
          "yref": "y domain"
         },
         {
          "line": {
           "color": "black",
           "width": 1
          },
          "type": "line",
          "x0": 163,
          "x1": 163,
          "xref": "x",
          "y0": 0,
          "y1": 1,
          "yref": "y domain"
         },
         {
          "line": {
           "color": "black",
           "width": 1
          },
          "type": "line",
          "x0": 164,
          "x1": 164,
          "xref": "x",
          "y0": 0,
          "y1": 1,
          "yref": "y domain"
         },
         {
          "line": {
           "color": "black",
           "width": 1
          },
          "type": "line",
          "x0": 165,
          "x1": 165,
          "xref": "x",
          "y0": 0,
          "y1": 1,
          "yref": "y domain"
         },
         {
          "line": {
           "color": "black",
           "width": 1
          },
          "type": "line",
          "x0": 263,
          "x1": 263,
          "xref": "x",
          "y0": 0,
          "y1": 1,
          "yref": "y domain"
         },
         {
          "line": {
           "color": "black",
           "width": 1
          },
          "type": "line",
          "x0": 264,
          "x1": 264,
          "xref": "x",
          "y0": 0,
          "y1": 1,
          "yref": "y domain"
         },
         {
          "line": {
           "color": "black",
           "width": 1
          },
          "type": "line",
          "x0": 265,
          "x1": 265,
          "xref": "x",
          "y0": 0,
          "y1": 1,
          "yref": "y domain"
         },
         {
          "line": {
           "color": "black",
           "width": 1
          },
          "type": "line",
          "x0": 270,
          "x1": 270,
          "xref": "x",
          "y0": 0,
          "y1": 1,
          "yref": "y domain"
         },
         {
          "line": {
           "color": "black",
           "width": 1
          },
          "type": "line",
          "x0": 271,
          "x1": 271,
          "xref": "x",
          "y0": 0,
          "y1": 1,
          "yref": "y domain"
         },
         {
          "line": {
           "color": "black",
           "width": 1
          },
          "type": "line",
          "x0": 415,
          "x1": 415,
          "xref": "x",
          "y0": 0,
          "y1": 1,
          "yref": "y domain"
         },
         {
          "line": {
           "color": "black",
           "width": 1
          },
          "type": "line",
          "x0": 416,
          "x1": 416,
          "xref": "x",
          "y0": 0,
          "y1": 1,
          "yref": "y domain"
         },
         {
          "line": {
           "color": "black",
           "width": 1
          },
          "type": "line",
          "x0": 417,
          "x1": 417,
          "xref": "x",
          "y0": 0,
          "y1": 1,
          "yref": "y domain"
         },
         {
          "line": {
           "color": "black",
           "width": 1
          },
          "type": "line",
          "x0": 418,
          "x1": 418,
          "xref": "x",
          "y0": 0,
          "y1": 1,
          "yref": "y domain"
         },
         {
          "line": {
           "color": "black",
           "width": 1
          },
          "type": "line",
          "x0": 419,
          "x1": 419,
          "xref": "x",
          "y0": 0,
          "y1": 1,
          "yref": "y domain"
         },
         {
          "line": {
           "color": "black",
           "width": 1
          },
          "type": "line",
          "x0": 420,
          "x1": 420,
          "xref": "x",
          "y0": 0,
          "y1": 1,
          "yref": "y domain"
         },
         {
          "line": {
           "color": "black",
           "width": 1
          },
          "type": "line",
          "x0": 421,
          "x1": 421,
          "xref": "x",
          "y0": 0,
          "y1": 1,
          "yref": "y domain"
         },
         {
          "line": {
           "color": "black",
           "width": 1
          },
          "type": "line",
          "x0": 422,
          "x1": 422,
          "xref": "x",
          "y0": 0,
          "y1": 1,
          "yref": "y domain"
         },
         {
          "line": {
           "color": "black",
           "width": 1
          },
          "type": "line",
          "x0": 423,
          "x1": 423,
          "xref": "x",
          "y0": 0,
          "y1": 1,
          "yref": "y domain"
         },
         {
          "line": {
           "color": "black",
           "width": 1
          },
          "type": "line",
          "x0": 424,
          "x1": 424,
          "xref": "x",
          "y0": 0,
          "y1": 1,
          "yref": "y domain"
         },
         {
          "line": {
           "color": "black",
           "width": 1
          },
          "type": "line",
          "x0": 425,
          "x1": 425,
          "xref": "x",
          "y0": 0,
          "y1": 1,
          "yref": "y domain"
         },
         {
          "line": {
           "color": "black",
           "width": 1
          },
          "type": "line",
          "x0": 426,
          "x1": 426,
          "xref": "x",
          "y0": 0,
          "y1": 1,
          "yref": "y domain"
         },
         {
          "line": {
           "color": "black",
           "width": 1
          },
          "type": "line",
          "x0": 427,
          "x1": 427,
          "xref": "x",
          "y0": 0,
          "y1": 1,
          "yref": "y domain"
         },
         {
          "line": {
           "color": "black",
           "width": 1
          },
          "type": "line",
          "x0": 428,
          "x1": 428,
          "xref": "x",
          "y0": 0,
          "y1": 1,
          "yref": "y domain"
         },
         {
          "line": {
           "color": "black",
           "width": 1
          },
          "type": "line",
          "x0": 429,
          "x1": 429,
          "xref": "x",
          "y0": 0,
          "y1": 1,
          "yref": "y domain"
         },
         {
          "line": {
           "color": "black",
           "width": 1
          },
          "type": "line",
          "x0": 430,
          "x1": 430,
          "xref": "x",
          "y0": 0,
          "y1": 1,
          "yref": "y domain"
         },
         {
          "line": {
           "color": "black",
           "width": 1
          },
          "type": "line",
          "x0": 431,
          "x1": 431,
          "xref": "x",
          "y0": 0,
          "y1": 1,
          "yref": "y domain"
         },
         {
          "line": {
           "color": "black",
           "width": 1
          },
          "type": "line",
          "x0": 432,
          "x1": 432,
          "xref": "x",
          "y0": 0,
          "y1": 1,
          "yref": "y domain"
         },
         {
          "line": {
           "color": "black",
           "width": 1
          },
          "type": "line",
          "x0": 538,
          "x1": 538,
          "xref": "x",
          "y0": 0,
          "y1": 1,
          "yref": "y domain"
         },
         {
          "line": {
           "color": "black",
           "width": 1
          },
          "type": "line",
          "x0": 539,
          "x1": 539,
          "xref": "x",
          "y0": 0,
          "y1": 1,
          "yref": "y domain"
         },
         {
          "line": {
           "color": "black",
           "width": 1
          },
          "type": "line",
          "x0": 540,
          "x1": 540,
          "xref": "x",
          "y0": 0,
          "y1": 1,
          "yref": "y domain"
         },
         {
          "line": {
           "color": "black",
           "width": 1
          },
          "type": "line",
          "x0": 541,
          "x1": 541,
          "xref": "x",
          "y0": 0,
          "y1": 1,
          "yref": "y domain"
         },
         {
          "line": {
           "color": "black",
           "width": 1
          },
          "type": "line",
          "x0": 542,
          "x1": 542,
          "xref": "x",
          "y0": 0,
          "y1": 1,
          "yref": "y domain"
         },
         {
          "line": {
           "color": "black",
           "width": 1
          },
          "type": "line",
          "x0": 543,
          "x1": 543,
          "xref": "x",
          "y0": 0,
          "y1": 1,
          "yref": "y domain"
         },
         {
          "line": {
           "color": "black",
           "width": 1
          },
          "type": "line",
          "x0": 544,
          "x1": 544,
          "xref": "x",
          "y0": 0,
          "y1": 1,
          "yref": "y domain"
         },
         {
          "line": {
           "color": "black",
           "width": 1
          },
          "type": "line",
          "x0": 545,
          "x1": 545,
          "xref": "x",
          "y0": 0,
          "y1": 1,
          "yref": "y domain"
         },
         {
          "line": {
           "color": "black",
           "width": 1
          },
          "type": "line",
          "x0": 546,
          "x1": 546,
          "xref": "x",
          "y0": 0,
          "y1": 1,
          "yref": "y domain"
         },
         {
          "line": {
           "color": "black",
           "width": 1
          },
          "type": "line",
          "x0": 550,
          "x1": 550,
          "xref": "x",
          "y0": 0,
          "y1": 1,
          "yref": "y domain"
         },
         {
          "line": {
           "color": "black",
           "width": 1
          },
          "type": "line",
          "x0": 551,
          "x1": 551,
          "xref": "x",
          "y0": 0,
          "y1": 1,
          "yref": "y domain"
         },
         {
          "line": {
           "color": "black",
           "width": 1
          },
          "type": "line",
          "x0": 552,
          "x1": 552,
          "xref": "x",
          "y0": 0,
          "y1": 1,
          "yref": "y domain"
         },
         {
          "line": {
           "color": "black",
           "width": 1
          },
          "type": "line",
          "x0": 553,
          "x1": 553,
          "xref": "x",
          "y0": 0,
          "y1": 1,
          "yref": "y domain"
         },
         {
          "line": {
           "color": "black",
           "width": 1
          },
          "type": "line",
          "x0": 554,
          "x1": 554,
          "xref": "x",
          "y0": 0,
          "y1": 1,
          "yref": "y domain"
         },
         {
          "line": {
           "color": "black",
           "width": 1
          },
          "type": "line",
          "x0": 700,
          "x1": 700,
          "xref": "x",
          "y0": 0,
          "y1": 1,
          "yref": "y domain"
         },
         {
          "line": {
           "color": "black",
           "width": 1
          },
          "type": "line",
          "x0": 701,
          "x1": 701,
          "xref": "x",
          "y0": 0,
          "y1": 1,
          "yref": "y domain"
         },
         {
          "line": {
           "color": "black",
           "width": 1
          },
          "type": "line",
          "x0": 702,
          "x1": 702,
          "xref": "x",
          "y0": 0,
          "y1": 1,
          "yref": "y domain"
         },
         {
          "line": {
           "color": "black",
           "width": 1
          },
          "type": "line",
          "x0": 703,
          "x1": 703,
          "xref": "x",
          "y0": 0,
          "y1": 1,
          "yref": "y domain"
         },
         {
          "line": {
           "color": "black",
           "width": 1
          },
          "type": "line",
          "x0": 704,
          "x1": 704,
          "xref": "x",
          "y0": 0,
          "y1": 1,
          "yref": "y domain"
         },
         {
          "line": {
           "color": "black",
           "width": 1
          },
          "type": "line",
          "x0": 705,
          "x1": 705,
          "xref": "x",
          "y0": 0,
          "y1": 1,
          "yref": "y domain"
         },
         {
          "line": {
           "color": "black",
           "width": 1
          },
          "type": "line",
          "x0": 706,
          "x1": 706,
          "xref": "x",
          "y0": 0,
          "y1": 1,
          "yref": "y domain"
         },
         {
          "line": {
           "color": "black",
           "width": 1
          },
          "type": "line",
          "x0": 707,
          "x1": 707,
          "xref": "x",
          "y0": 0,
          "y1": 1,
          "yref": "y domain"
         },
         {
          "line": {
           "color": "black",
           "width": 1
          },
          "type": "line",
          "x0": 708,
          "x1": 708,
          "xref": "x",
          "y0": 0,
          "y1": 1,
          "yref": "y domain"
         },
         {
          "line": {
           "color": "black",
           "width": 1
          },
          "type": "line",
          "x0": 709,
          "x1": 709,
          "xref": "x",
          "y0": 0,
          "y1": 1,
          "yref": "y domain"
         },
         {
          "line": {
           "color": "black",
           "width": 1
          },
          "type": "line",
          "x0": 710,
          "x1": 710,
          "xref": "x",
          "y0": 0,
          "y1": 1,
          "yref": "y domain"
         },
         {
          "line": {
           "color": "black",
           "width": 1
          },
          "type": "line",
          "x0": 711,
          "x1": 711,
          "xref": "x",
          "y0": 0,
          "y1": 1,
          "yref": "y domain"
         },
         {
          "line": {
           "color": "black",
           "width": 1
          },
          "type": "line",
          "x0": 712,
          "x1": 712,
          "xref": "x",
          "y0": 0,
          "y1": 1,
          "yref": "y domain"
         },
         {
          "line": {
           "color": "black",
           "width": 1
          },
          "type": "line",
          "x0": 713,
          "x1": 713,
          "xref": "x",
          "y0": 0,
          "y1": 1,
          "yref": "y domain"
         },
         {
          "line": {
           "color": "black",
           "width": 1
          },
          "type": "line",
          "x0": 793,
          "x1": 793,
          "xref": "x",
          "y0": 0,
          "y1": 1,
          "yref": "y domain"
         },
         {
          "line": {
           "color": "black",
           "width": 1
          },
          "type": "line",
          "x0": 794,
          "x1": 794,
          "xref": "x",
          "y0": 0,
          "y1": 1,
          "yref": "y domain"
         },
         {
          "line": {
           "color": "black",
           "width": 1
          },
          "type": "line",
          "x0": 795,
          "x1": 795,
          "xref": "x",
          "y0": 0,
          "y1": 1,
          "yref": "y domain"
         },
         {
          "line": {
           "color": "black",
           "width": 1
          },
          "type": "line",
          "x0": 796,
          "x1": 796,
          "xref": "x",
          "y0": 0,
          "y1": 1,
          "yref": "y domain"
         },
         {
          "line": {
           "color": "black",
           "width": 1
          },
          "type": "line",
          "x0": 797,
          "x1": 797,
          "xref": "x",
          "y0": 0,
          "y1": 1,
          "yref": "y domain"
         },
         {
          "line": {
           "color": "black",
           "width": 1
          },
          "type": "line",
          "x0": 798,
          "x1": 798,
          "xref": "x",
          "y0": 0,
          "y1": 1,
          "yref": "y domain"
         },
         {
          "line": {
           "color": "black",
           "width": 1
          },
          "type": "line",
          "x0": 799,
          "x1": 799,
          "xref": "x",
          "y0": 0,
          "y1": 1,
          "yref": "y domain"
         },
         {
          "line": {
           "color": "black",
           "width": 1
          },
          "type": "line",
          "x0": 800,
          "x1": 800,
          "xref": "x",
          "y0": 0,
          "y1": 1,
          "yref": "y domain"
         }
        ],
        "template": {
         "data": {
          "bar": [
           {
            "error_x": {
             "color": "#2a3f5f"
            },
            "error_y": {
             "color": "#2a3f5f"
            },
            "marker": {
             "line": {
              "color": "#E5ECF6",
              "width": 0.5
             },
             "pattern": {
              "fillmode": "overlay",
              "size": 10,
              "solidity": 0.2
             }
            },
            "type": "bar"
           }
          ],
          "barpolar": [
           {
            "marker": {
             "line": {
              "color": "#E5ECF6",
              "width": 0.5
             },
             "pattern": {
              "fillmode": "overlay",
              "size": 10,
              "solidity": 0.2
             }
            },
            "type": "barpolar"
           }
          ],
          "carpet": [
           {
            "aaxis": {
             "endlinecolor": "#2a3f5f",
             "gridcolor": "white",
             "linecolor": "white",
             "minorgridcolor": "white",
             "startlinecolor": "#2a3f5f"
            },
            "baxis": {
             "endlinecolor": "#2a3f5f",
             "gridcolor": "white",
             "linecolor": "white",
             "minorgridcolor": "white",
             "startlinecolor": "#2a3f5f"
            },
            "type": "carpet"
           }
          ],
          "choropleth": [
           {
            "colorbar": {
             "outlinewidth": 0,
             "ticks": ""
            },
            "type": "choropleth"
           }
          ],
          "contour": [
           {
            "colorbar": {
             "outlinewidth": 0,
             "ticks": ""
            },
            "colorscale": [
             [
              0,
              "#0d0887"
             ],
             [
              0.1111111111111111,
              "#46039f"
             ],
             [
              0.2222222222222222,
              "#7201a8"
             ],
             [
              0.3333333333333333,
              "#9c179e"
             ],
             [
              0.4444444444444444,
              "#bd3786"
             ],
             [
              0.5555555555555556,
              "#d8576b"
             ],
             [
              0.6666666666666666,
              "#ed7953"
             ],
             [
              0.7777777777777778,
              "#fb9f3a"
             ],
             [
              0.8888888888888888,
              "#fdca26"
             ],
             [
              1,
              "#f0f921"
             ]
            ],
            "type": "contour"
           }
          ],
          "contourcarpet": [
           {
            "colorbar": {
             "outlinewidth": 0,
             "ticks": ""
            },
            "type": "contourcarpet"
           }
          ],
          "heatmap": [
           {
            "colorbar": {
             "outlinewidth": 0,
             "ticks": ""
            },
            "colorscale": [
             [
              0,
              "#0d0887"
             ],
             [
              0.1111111111111111,
              "#46039f"
             ],
             [
              0.2222222222222222,
              "#7201a8"
             ],
             [
              0.3333333333333333,
              "#9c179e"
             ],
             [
              0.4444444444444444,
              "#bd3786"
             ],
             [
              0.5555555555555556,
              "#d8576b"
             ],
             [
              0.6666666666666666,
              "#ed7953"
             ],
             [
              0.7777777777777778,
              "#fb9f3a"
             ],
             [
              0.8888888888888888,
              "#fdca26"
             ],
             [
              1,
              "#f0f921"
             ]
            ],
            "type": "heatmap"
           }
          ],
          "histogram": [
           {
            "marker": {
             "pattern": {
              "fillmode": "overlay",
              "size": 10,
              "solidity": 0.2
             }
            },
            "type": "histogram"
           }
          ],
          "histogram2d": [
           {
            "colorbar": {
             "outlinewidth": 0,
             "ticks": ""
            },
            "colorscale": [
             [
              0,
              "#0d0887"
             ],
             [
              0.1111111111111111,
              "#46039f"
             ],
             [
              0.2222222222222222,
              "#7201a8"
             ],
             [
              0.3333333333333333,
              "#9c179e"
             ],
             [
              0.4444444444444444,
              "#bd3786"
             ],
             [
              0.5555555555555556,
              "#d8576b"
             ],
             [
              0.6666666666666666,
              "#ed7953"
             ],
             [
              0.7777777777777778,
              "#fb9f3a"
             ],
             [
              0.8888888888888888,
              "#fdca26"
             ],
             [
              1,
              "#f0f921"
             ]
            ],
            "type": "histogram2d"
           }
          ],
          "histogram2dcontour": [
           {
            "colorbar": {
             "outlinewidth": 0,
             "ticks": ""
            },
            "colorscale": [
             [
              0,
              "#0d0887"
             ],
             [
              0.1111111111111111,
              "#46039f"
             ],
             [
              0.2222222222222222,
              "#7201a8"
             ],
             [
              0.3333333333333333,
              "#9c179e"
             ],
             [
              0.4444444444444444,
              "#bd3786"
             ],
             [
              0.5555555555555556,
              "#d8576b"
             ],
             [
              0.6666666666666666,
              "#ed7953"
             ],
             [
              0.7777777777777778,
              "#fb9f3a"
             ],
             [
              0.8888888888888888,
              "#fdca26"
             ],
             [
              1,
              "#f0f921"
             ]
            ],
            "type": "histogram2dcontour"
           }
          ],
          "mesh3d": [
           {
            "colorbar": {
             "outlinewidth": 0,
             "ticks": ""
            },
            "type": "mesh3d"
           }
          ],
          "parcoords": [
           {
            "line": {
             "colorbar": {
              "outlinewidth": 0,
              "ticks": ""
             }
            },
            "type": "parcoords"
           }
          ],
          "pie": [
           {
            "automargin": true,
            "type": "pie"
           }
          ],
          "scatter": [
           {
            "fillpattern": {
             "fillmode": "overlay",
             "size": 10,
             "solidity": 0.2
            },
            "type": "scatter"
           }
          ],
          "scatter3d": [
           {
            "line": {
             "colorbar": {
              "outlinewidth": 0,
              "ticks": ""
             }
            },
            "marker": {
             "colorbar": {
              "outlinewidth": 0,
              "ticks": ""
             }
            },
            "type": "scatter3d"
           }
          ],
          "scattercarpet": [
           {
            "marker": {
             "colorbar": {
              "outlinewidth": 0,
              "ticks": ""
             }
            },
            "type": "scattercarpet"
           }
          ],
          "scattergeo": [
           {
            "marker": {
             "colorbar": {
              "outlinewidth": 0,
              "ticks": ""
             }
            },
            "type": "scattergeo"
           }
          ],
          "scattergl": [
           {
            "marker": {
             "colorbar": {
              "outlinewidth": 0,
              "ticks": ""
             }
            },
            "type": "scattergl"
           }
          ],
          "scattermap": [
           {
            "marker": {
             "colorbar": {
              "outlinewidth": 0,
              "ticks": ""
             }
            },
            "type": "scattermap"
           }
          ],
          "scattermapbox": [
           {
            "marker": {
             "colorbar": {
              "outlinewidth": 0,
              "ticks": ""
             }
            },
            "type": "scattermapbox"
           }
          ],
          "scatterpolar": [
           {
            "marker": {
             "colorbar": {
              "outlinewidth": 0,
              "ticks": ""
             }
            },
            "type": "scatterpolar"
           }
          ],
          "scatterpolargl": [
           {
            "marker": {
             "colorbar": {
              "outlinewidth": 0,
              "ticks": ""
             }
            },
            "type": "scatterpolargl"
           }
          ],
          "scatterternary": [
           {
            "marker": {
             "colorbar": {
              "outlinewidth": 0,
              "ticks": ""
             }
            },
            "type": "scatterternary"
           }
          ],
          "surface": [
           {
            "colorbar": {
             "outlinewidth": 0,
             "ticks": ""
            },
            "colorscale": [
             [
              0,
              "#0d0887"
             ],
             [
              0.1111111111111111,
              "#46039f"
             ],
             [
              0.2222222222222222,
              "#7201a8"
             ],
             [
              0.3333333333333333,
              "#9c179e"
             ],
             [
              0.4444444444444444,
              "#bd3786"
             ],
             [
              0.5555555555555556,
              "#d8576b"
             ],
             [
              0.6666666666666666,
              "#ed7953"
             ],
             [
              0.7777777777777778,
              "#fb9f3a"
             ],
             [
              0.8888888888888888,
              "#fdca26"
             ],
             [
              1,
              "#f0f921"
             ]
            ],
            "type": "surface"
           }
          ],
          "table": [
           {
            "cells": {
             "fill": {
              "color": "#EBF0F8"
             },
             "line": {
              "color": "white"
             }
            },
            "header": {
             "fill": {
              "color": "#C8D4E3"
             },
             "line": {
              "color": "white"
             }
            },
            "type": "table"
           }
          ]
         },
         "layout": {
          "annotationdefaults": {
           "arrowcolor": "#2a3f5f",
           "arrowhead": 0,
           "arrowwidth": 1
          },
          "autotypenumbers": "strict",
          "coloraxis": {
           "colorbar": {
            "outlinewidth": 0,
            "ticks": ""
           }
          },
          "colorscale": {
           "diverging": [
            [
             0,
             "#8e0152"
            ],
            [
             0.1,
             "#c51b7d"
            ],
            [
             0.2,
             "#de77ae"
            ],
            [
             0.3,
             "#f1b6da"
            ],
            [
             0.4,
             "#fde0ef"
            ],
            [
             0.5,
             "#f7f7f7"
            ],
            [
             0.6,
             "#e6f5d0"
            ],
            [
             0.7,
             "#b8e186"
            ],
            [
             0.8,
             "#7fbc41"
            ],
            [
             0.9,
             "#4d9221"
            ],
            [
             1,
             "#276419"
            ]
           ],
           "sequential": [
            [
             0,
             "#0d0887"
            ],
            [
             0.1111111111111111,
             "#46039f"
            ],
            [
             0.2222222222222222,
             "#7201a8"
            ],
            [
             0.3333333333333333,
             "#9c179e"
            ],
            [
             0.4444444444444444,
             "#bd3786"
            ],
            [
             0.5555555555555556,
             "#d8576b"
            ],
            [
             0.6666666666666666,
             "#ed7953"
            ],
            [
             0.7777777777777778,
             "#fb9f3a"
            ],
            [
             0.8888888888888888,
             "#fdca26"
            ],
            [
             1,
             "#f0f921"
            ]
           ],
           "sequentialminus": [
            [
             0,
             "#0d0887"
            ],
            [
             0.1111111111111111,
             "#46039f"
            ],
            [
             0.2222222222222222,
             "#7201a8"
            ],
            [
             0.3333333333333333,
             "#9c179e"
            ],
            [
             0.4444444444444444,
             "#bd3786"
            ],
            [
             0.5555555555555556,
             "#d8576b"
            ],
            [
             0.6666666666666666,
             "#ed7953"
            ],
            [
             0.7777777777777778,
             "#fb9f3a"
            ],
            [
             0.8888888888888888,
             "#fdca26"
            ],
            [
             1,
             "#f0f921"
            ]
           ]
          },
          "colorway": [
           "#636efa",
           "#EF553B",
           "#00cc96",
           "#ab63fa",
           "#FFA15A",
           "#19d3f3",
           "#FF6692",
           "#B6E880",
           "#FF97FF",
           "#FECB52"
          ],
          "font": {
           "color": "#2a3f5f"
          },
          "geo": {
           "bgcolor": "white",
           "lakecolor": "white",
           "landcolor": "#E5ECF6",
           "showlakes": true,
           "showland": true,
           "subunitcolor": "white"
          },
          "hoverlabel": {
           "align": "left"
          },
          "hovermode": "closest",
          "mapbox": {
           "style": "light"
          },
          "paper_bgcolor": "white",
          "plot_bgcolor": "#E5ECF6",
          "polar": {
           "angularaxis": {
            "gridcolor": "white",
            "linecolor": "white",
            "ticks": ""
           },
           "bgcolor": "#E5ECF6",
           "radialaxis": {
            "gridcolor": "white",
            "linecolor": "white",
            "ticks": ""
           }
          },
          "scene": {
           "xaxis": {
            "backgroundcolor": "#E5ECF6",
            "gridcolor": "white",
            "gridwidth": 2,
            "linecolor": "white",
            "showbackground": true,
            "ticks": "",
            "zerolinecolor": "white"
           },
           "yaxis": {
            "backgroundcolor": "#E5ECF6",
            "gridcolor": "white",
            "gridwidth": 2,
            "linecolor": "white",
            "showbackground": true,
            "ticks": "",
            "zerolinecolor": "white"
           },
           "zaxis": {
            "backgroundcolor": "#E5ECF6",
            "gridcolor": "white",
            "gridwidth": 2,
            "linecolor": "white",
            "showbackground": true,
            "ticks": "",
            "zerolinecolor": "white"
           }
          },
          "shapedefaults": {
           "line": {
            "color": "#2a3f5f"
           }
          },
          "ternary": {
           "aaxis": {
            "gridcolor": "white",
            "linecolor": "white",
            "ticks": ""
           },
           "baxis": {
            "gridcolor": "white",
            "linecolor": "white",
            "ticks": ""
           },
           "bgcolor": "#E5ECF6",
           "caxis": {
            "gridcolor": "white",
            "linecolor": "white",
            "ticks": ""
           }
          },
          "title": {
           "x": 0.05
          },
          "xaxis": {
           "automargin": true,
           "gridcolor": "white",
           "linecolor": "white",
           "ticks": "",
           "title": {
            "standoff": 15
           },
           "zerolinecolor": "white",
           "zerolinewidth": 2
          },
          "yaxis": {
           "automargin": true,
           "gridcolor": "white",
           "linecolor": "white",
           "ticks": "",
           "title": {
            "standoff": 15
           },
           "zerolinecolor": "white",
           "zerolinewidth": 2
          }
         }
        },
        "title": {
         "font": {
          "size": 26
         },
         "pad": {
          "b": 10,
          "t": 10
         },
         "text": "Scatter Plot VibrationY versus Cycle with Preset_1 categories per Fail event",
         "x": 0.5,
         "xanchor": "center",
         "y": 0.94,
         "yanchor": "top"
        },
        "xaxis": {
         "anchor": "y",
         "domain": [
          0,
          1
         ],
         "title": {
          "text": "Cycle"
         }
        },
        "yaxis": {
         "anchor": "x",
         "domain": [
          0,
          1
         ],
         "range": [
          0,
          212.92694146377747
         ],
         "title": {
          "text": "VibrationY"
         }
        }
       }
      }
     },
     "metadata": {},
     "output_type": "display_data"
    },
    {
     "data": {
      "application/vnd.plotly.v1+json": {
       "config": {
        "plotlyServerURL": "https://plot.ly"
       },
       "data": [
        {
         "hovertemplate": "Preset_1=1<br>Cycle=%{x}<br>VibrationZ=%{y}<extra></extra>",
         "legendgroup": "1",
         "marker": {
          "color": "#636efa",
          "symbol": "circle"
         },
         "mode": "markers",
         "name": "1",
         "orientation": "v",
         "showlegend": true,
         "type": "scatter",
         "x": {
          "bdata": "BgAHAAgACgANAA8AEQAZACcAKQAqACsALAAvADUAOAA6ADwAPQBAAEIAQwBEAEUASABJAEoATgBPAFEAUwBVAFkAYABjAGUAZwBoAGwAbwBxAHQAdQB6AH4AgwCFAIYAhwCIAIkAjACSAKAAoQCjAKQApQCmAKgAqQCqAKsArQCvALAAtQDDAMcA0ADTANQA1gDYAN4A5wDoAOoA7ADvAPAA9AD6APsA/AD+AAEBAwEFAQYBBwEIAQsBDQEQARcBGAEbAR0BIQEiASYBKAEsATABMgE0ATcBOQE/AUMBRgFIAUsBTQFPAVEBUgFTAVYBWAFaAVsBXQFgAWMBaQFsAXABcQFzAXQBdwF8AYkBigGNAY4BjwGTAZQBlQGXAZgBnQGgAaEBogGjAaQBpwGoAakBrQGuAa8BsAG0AbkBvwHFAc4BzwHUAdYB3AHjAeUB5gHpAeoB6wHsAfMB9gH4AfkB/gH/AQECAwIGAgoCCwIOAhMCFAIVAhwCJgInAikCLAItAi4CLwI4Aj4CPwJBAkQCRgJNAk8CUAJUAlYCVwJYAmMCZQJmAmgCbQJxAnQCdwJ5AnwCgQKEAoYChwKIAooCiwKVApYCmgKeAqACpQKpAqwCsAKzArgCuQLGAssC1ALWAtoC3gLkAuUC5wLqAu0C8ALxAvkC+gL7Av8CAgMDAwUDBwMUAxkDGgMdAx4D",
          "dtype": "i2"
         },
         "xaxis": "x",
         "y": {
          "bdata": "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",
          "dtype": "f8"
         },
         "yaxis": "y"
        },
        {
         "hovertemplate": "Preset_1=2<br>Cycle=%{x}<br>VibrationZ=%{y}<extra></extra>",
         "legendgroup": "2",
         "marker": {
          "color": "#EF553B",
          "symbol": "circle"
         },
         "mode": "markers",
         "name": "2",
         "orientation": "v",
         "showlegend": true,
         "type": "scatter",
         "x": {
          "bdata": "AgADAAQABQALAAwAEgAUABUAFgAYABoAGwAcAB4AHwAgACMAJAAlACYAKAAwADEAMgA0ADYAOQA/AEYARwBNAFIAVABWAFsAXABdAGQAaQBzAHYAdwB4AHkAewB9AH8AgACBAIQAigCLAI0AkQCXAJkAmgCcAJ4AogCuALIAtgC4ALsAvAC9AL4AvwDCAMQAxQDLAM0A1wDaANsA3wDgAOIA5ADpAOsA7QDuAPMA9QD2APcA+AD9AP8AAAEKAQ8BEwEUARUBFgEZARoBJwEpASsBLQEvATEBMwE1AT0BPgFAAUQBTAFQAVQBVQFXAV4BXwFhAWQBawFuAW8BcgF1AXgBeQF7AX0BfwGAAYEBhAGHAZIBmQGcAZ4BpQGyAbMBtwG4AbwBvQG+AcABwgHKAcsBzQHQAdEB0gHTAdUB1wHaAdsB3QHeAeAB5AHtAe4B7wHwAfQB9QH6AfsB/QECAgUCBwIIAhECEgIWAhgCGQIbAh0CHgIfAiECIgIkAigCKgIxAjICNAI1AjwCQgJHAkgCSQJLAlICUwJVAlkCWgJbAl4CXwJgAmICZAJnAmkCawJuAnoCewJ9An4CgwKJAo0CjgKPApACkQKXApgCnwKmAqoCqwKxAroCuwK8Ar4CvwLAAsICwwLJAsoCzALPAtAC0gLTAtUC2ALZAtsC3QLhAuYC6wLsAu8C8gL0AvUC+AL8AgEDBAMGAwkDCgMLAw4DDwMRAxMDFgMYAxsDHAMfAw==",
          "dtype": "i2"
         },
         "xaxis": "x",
         "y": {
          "bdata": "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",
          "dtype": "f8"
         },
         "yaxis": "y"
        },
        {
         "hovertemplate": "Preset_1=3<br>Cycle=%{x}<br>VibrationZ=%{y}<extra></extra>",
         "legendgroup": "3",
         "marker": {
          "color": "#00cc96",
          "symbol": "circle"
         },
         "mode": "markers",
         "name": "3",
         "orientation": "v",
         "showlegend": true,
         "type": "scatter",
         "x": {
          "bdata": "AQAJAA4AEAATABcAHQAhACIALQAuADMANwA7AD4AQQBLAEwAUABXAFgAWgBeAF8AYQBiAGYAagBrAG0AbgBwAHIAfACCAI4AjwCQAJMAlACVAJYAmACbAJ0AnwCnAKwAsQCzALQAtwC5ALoAwADBAMYAyADJAMoAzADOAM8A0QDSANUA2QDcAN0A4QDjAOUA5gDxAPIA+QACAQQBCQEMAQ4BEQESARwBHgEfASABIwEkASUBKgEuATYBOAE6ATsBPAFBAUIBRQFHAUkBSgFOAVkBXAFiAWUBZgFnAWgBagFtAXYBegF+AYIBgwGFAYYBiAGLAYwBkAGRAZYBmgGbAZ8BpgGqAasBrAGxAbUBtgG6AbsBwQHDAcQBxgHHAcgByQHMAdgB2QHfAeEB4gHnAegB8QHyAfcB/AEAAgQCCQIMAg0CDwIQAhcCGgIgAiMCJQIrAjACMwI2AjcCOQI6AjsCPQJAAkMCRQJKAkwCTgJRAlwCXQJhAmoCbAJvAnACcgJzAnUCdgJ4An8CgAKCAoUCjAKSApMClAKZApsCnAKdAqECogKjAqQCpwKoAq0CrgKvArICtAK1ArYCtwK9AsECxALFAscCyALNAs4C0QLXAtwC3wLgAuIC4wLoAukC7gLzAvYC9wL9Av4CAAMIAwwDDQMQAxIDFQMXAyAD",
          "dtype": "i2"
         },
         "xaxis": "x",
         "y": {
          "bdata": "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",
          "dtype": "f8"
         },
         "yaxis": "y"
        }
       ],
       "layout": {
        "legend": {
         "title": {
          "text": "Preset_1"
         },
         "tracegroupgap": 0
        },
        "margin": {
         "b": 50,
         "l": 60,
         "r": 40,
         "t": 120
        },
        "shapes": [
         {
          "line": {
           "color": "black",
           "width": 1
          },
          "type": "line",
          "x0": 13,
          "x1": 13,
          "xref": "x",
          "y0": 0,
          "y1": 1,
          "yref": "y domain"
         },
         {
          "line": {
           "color": "black",
           "width": 1
          },
          "type": "line",
          "x0": 157,
          "x1": 157,
          "xref": "x",
          "y0": 0,
          "y1": 1,
          "yref": "y domain"
         },
         {
          "line": {
           "color": "black",
           "width": 1
          },
          "type": "line",
          "x0": 158,
          "x1": 158,
          "xref": "x",
          "y0": 0,
          "y1": 1,
          "yref": "y domain"
         },
         {
          "line": {
           "color": "black",
           "width": 1
          },
          "type": "line",
          "x0": 159,
          "x1": 159,
          "xref": "x",
          "y0": 0,
          "y1": 1,
          "yref": "y domain"
         },
         {
          "line": {
           "color": "black",
           "width": 1
          },
          "type": "line",
          "x0": 163,
          "x1": 163,
          "xref": "x",
          "y0": 0,
          "y1": 1,
          "yref": "y domain"
         },
         {
          "line": {
           "color": "black",
           "width": 1
          },
          "type": "line",
          "x0": 164,
          "x1": 164,
          "xref": "x",
          "y0": 0,
          "y1": 1,
          "yref": "y domain"
         },
         {
          "line": {
           "color": "black",
           "width": 1
          },
          "type": "line",
          "x0": 165,
          "x1": 165,
          "xref": "x",
          "y0": 0,
          "y1": 1,
          "yref": "y domain"
         },
         {
          "line": {
           "color": "black",
           "width": 1
          },
          "type": "line",
          "x0": 263,
          "x1": 263,
          "xref": "x",
          "y0": 0,
          "y1": 1,
          "yref": "y domain"
         },
         {
          "line": {
           "color": "black",
           "width": 1
          },
          "type": "line",
          "x0": 264,
          "x1": 264,
          "xref": "x",
          "y0": 0,
          "y1": 1,
          "yref": "y domain"
         },
         {
          "line": {
           "color": "black",
           "width": 1
          },
          "type": "line",
          "x0": 265,
          "x1": 265,
          "xref": "x",
          "y0": 0,
          "y1": 1,
          "yref": "y domain"
         },
         {
          "line": {
           "color": "black",
           "width": 1
          },
          "type": "line",
          "x0": 270,
          "x1": 270,
          "xref": "x",
          "y0": 0,
          "y1": 1,
          "yref": "y domain"
         },
         {
          "line": {
           "color": "black",
           "width": 1
          },
          "type": "line",
          "x0": 271,
          "x1": 271,
          "xref": "x",
          "y0": 0,
          "y1": 1,
          "yref": "y domain"
         },
         {
          "line": {
           "color": "black",
           "width": 1
          },
          "type": "line",
          "x0": 415,
          "x1": 415,
          "xref": "x",
          "y0": 0,
          "y1": 1,
          "yref": "y domain"
         },
         {
          "line": {
           "color": "black",
           "width": 1
          },
          "type": "line",
          "x0": 416,
          "x1": 416,
          "xref": "x",
          "y0": 0,
          "y1": 1,
          "yref": "y domain"
         },
         {
          "line": {
           "color": "black",
           "width": 1
          },
          "type": "line",
          "x0": 417,
          "x1": 417,
          "xref": "x",
          "y0": 0,
          "y1": 1,
          "yref": "y domain"
         },
         {
          "line": {
           "color": "black",
           "width": 1
          },
          "type": "line",
          "x0": 418,
          "x1": 418,
          "xref": "x",
          "y0": 0,
          "y1": 1,
          "yref": "y domain"
         },
         {
          "line": {
           "color": "black",
           "width": 1
          },
          "type": "line",
          "x0": 419,
          "x1": 419,
          "xref": "x",
          "y0": 0,
          "y1": 1,
          "yref": "y domain"
         },
         {
          "line": {
           "color": "black",
           "width": 1
          },
          "type": "line",
          "x0": 420,
          "x1": 420,
          "xref": "x",
          "y0": 0,
          "y1": 1,
          "yref": "y domain"
         },
         {
          "line": {
           "color": "black",
           "width": 1
          },
          "type": "line",
          "x0": 421,
          "x1": 421,
          "xref": "x",
          "y0": 0,
          "y1": 1,
          "yref": "y domain"
         },
         {
          "line": {
           "color": "black",
           "width": 1
          },
          "type": "line",
          "x0": 422,
          "x1": 422,
          "xref": "x",
          "y0": 0,
          "y1": 1,
          "yref": "y domain"
         },
         {
          "line": {
           "color": "black",
           "width": 1
          },
          "type": "line",
          "x0": 423,
          "x1": 423,
          "xref": "x",
          "y0": 0,
          "y1": 1,
          "yref": "y domain"
         },
         {
          "line": {
           "color": "black",
           "width": 1
          },
          "type": "line",
          "x0": 424,
          "x1": 424,
          "xref": "x",
          "y0": 0,
          "y1": 1,
          "yref": "y domain"
         },
         {
          "line": {
           "color": "black",
           "width": 1
          },
          "type": "line",
          "x0": 425,
          "x1": 425,
          "xref": "x",
          "y0": 0,
          "y1": 1,
          "yref": "y domain"
         },
         {
          "line": {
           "color": "black",
           "width": 1
          },
          "type": "line",
          "x0": 426,
          "x1": 426,
          "xref": "x",
          "y0": 0,
          "y1": 1,
          "yref": "y domain"
         },
         {
          "line": {
           "color": "black",
           "width": 1
          },
          "type": "line",
          "x0": 427,
          "x1": 427,
          "xref": "x",
          "y0": 0,
          "y1": 1,
          "yref": "y domain"
         },
         {
          "line": {
           "color": "black",
           "width": 1
          },
          "type": "line",
          "x0": 428,
          "x1": 428,
          "xref": "x",
          "y0": 0,
          "y1": 1,
          "yref": "y domain"
         },
         {
          "line": {
           "color": "black",
           "width": 1
          },
          "type": "line",
          "x0": 429,
          "x1": 429,
          "xref": "x",
          "y0": 0,
          "y1": 1,
          "yref": "y domain"
         },
         {
          "line": {
           "color": "black",
           "width": 1
          },
          "type": "line",
          "x0": 430,
          "x1": 430,
          "xref": "x",
          "y0": 0,
          "y1": 1,
          "yref": "y domain"
         },
         {
          "line": {
           "color": "black",
           "width": 1
          },
          "type": "line",
          "x0": 431,
          "x1": 431,
          "xref": "x",
          "y0": 0,
          "y1": 1,
          "yref": "y domain"
         },
         {
          "line": {
           "color": "black",
           "width": 1
          },
          "type": "line",
          "x0": 432,
          "x1": 432,
          "xref": "x",
          "y0": 0,
          "y1": 1,
          "yref": "y domain"
         },
         {
          "line": {
           "color": "black",
           "width": 1
          },
          "type": "line",
          "x0": 538,
          "x1": 538,
          "xref": "x",
          "y0": 0,
          "y1": 1,
          "yref": "y domain"
         },
         {
          "line": {
           "color": "black",
           "width": 1
          },
          "type": "line",
          "x0": 539,
          "x1": 539,
          "xref": "x",
          "y0": 0,
          "y1": 1,
          "yref": "y domain"
         },
         {
          "line": {
           "color": "black",
           "width": 1
          },
          "type": "line",
          "x0": 540,
          "x1": 540,
          "xref": "x",
          "y0": 0,
          "y1": 1,
          "yref": "y domain"
         },
         {
          "line": {
           "color": "black",
           "width": 1
          },
          "type": "line",
          "x0": 541,
          "x1": 541,
          "xref": "x",
          "y0": 0,
          "y1": 1,
          "yref": "y domain"
         },
         {
          "line": {
           "color": "black",
           "width": 1
          },
          "type": "line",
          "x0": 542,
          "x1": 542,
          "xref": "x",
          "y0": 0,
          "y1": 1,
          "yref": "y domain"
         },
         {
          "line": {
           "color": "black",
           "width": 1
          },
          "type": "line",
          "x0": 543,
          "x1": 543,
          "xref": "x",
          "y0": 0,
          "y1": 1,
          "yref": "y domain"
         },
         {
          "line": {
           "color": "black",
           "width": 1
          },
          "type": "line",
          "x0": 544,
          "x1": 544,
          "xref": "x",
          "y0": 0,
          "y1": 1,
          "yref": "y domain"
         },
         {
          "line": {
           "color": "black",
           "width": 1
          },
          "type": "line",
          "x0": 545,
          "x1": 545,
          "xref": "x",
          "y0": 0,
          "y1": 1,
          "yref": "y domain"
         },
         {
          "line": {
           "color": "black",
           "width": 1
          },
          "type": "line",
          "x0": 546,
          "x1": 546,
          "xref": "x",
          "y0": 0,
          "y1": 1,
          "yref": "y domain"
         },
         {
          "line": {
           "color": "black",
           "width": 1
          },
          "type": "line",
          "x0": 550,
          "x1": 550,
          "xref": "x",
          "y0": 0,
          "y1": 1,
          "yref": "y domain"
         },
         {
          "line": {
           "color": "black",
           "width": 1
          },
          "type": "line",
          "x0": 551,
          "x1": 551,
          "xref": "x",
          "y0": 0,
          "y1": 1,
          "yref": "y domain"
         },
         {
          "line": {
           "color": "black",
           "width": 1
          },
          "type": "line",
          "x0": 552,
          "x1": 552,
          "xref": "x",
          "y0": 0,
          "y1": 1,
          "yref": "y domain"
         },
         {
          "line": {
           "color": "black",
           "width": 1
          },
          "type": "line",
          "x0": 553,
          "x1": 553,
          "xref": "x",
          "y0": 0,
          "y1": 1,
          "yref": "y domain"
         },
         {
          "line": {
           "color": "black",
           "width": 1
          },
          "type": "line",
          "x0": 554,
          "x1": 554,
          "xref": "x",
          "y0": 0,
          "y1": 1,
          "yref": "y domain"
         },
         {
          "line": {
           "color": "black",
           "width": 1
          },
          "type": "line",
          "x0": 700,
          "x1": 700,
          "xref": "x",
          "y0": 0,
          "y1": 1,
          "yref": "y domain"
         },
         {
          "line": {
           "color": "black",
           "width": 1
          },
          "type": "line",
          "x0": 701,
          "x1": 701,
          "xref": "x",
          "y0": 0,
          "y1": 1,
          "yref": "y domain"
         },
         {
          "line": {
           "color": "black",
           "width": 1
          },
          "type": "line",
          "x0": 702,
          "x1": 702,
          "xref": "x",
          "y0": 0,
          "y1": 1,
          "yref": "y domain"
         },
         {
          "line": {
           "color": "black",
           "width": 1
          },
          "type": "line",
          "x0": 703,
          "x1": 703,
          "xref": "x",
          "y0": 0,
          "y1": 1,
          "yref": "y domain"
         },
         {
          "line": {
           "color": "black",
           "width": 1
          },
          "type": "line",
          "x0": 704,
          "x1": 704,
          "xref": "x",
          "y0": 0,
          "y1": 1,
          "yref": "y domain"
         },
         {
          "line": {
           "color": "black",
           "width": 1
          },
          "type": "line",
          "x0": 705,
          "x1": 705,
          "xref": "x",
          "y0": 0,
          "y1": 1,
          "yref": "y domain"
         },
         {
          "line": {
           "color": "black",
           "width": 1
          },
          "type": "line",
          "x0": 706,
          "x1": 706,
          "xref": "x",
          "y0": 0,
          "y1": 1,
          "yref": "y domain"
         },
         {
          "line": {
           "color": "black",
           "width": 1
          },
          "type": "line",
          "x0": 707,
          "x1": 707,
          "xref": "x",
          "y0": 0,
          "y1": 1,
          "yref": "y domain"
         },
         {
          "line": {
           "color": "black",
           "width": 1
          },
          "type": "line",
          "x0": 708,
          "x1": 708,
          "xref": "x",
          "y0": 0,
          "y1": 1,
          "yref": "y domain"
         },
         {
          "line": {
           "color": "black",
           "width": 1
          },
          "type": "line",
          "x0": 709,
          "x1": 709,
          "xref": "x",
          "y0": 0,
          "y1": 1,
          "yref": "y domain"
         },
         {
          "line": {
           "color": "black",
           "width": 1
          },
          "type": "line",
          "x0": 710,
          "x1": 710,
          "xref": "x",
          "y0": 0,
          "y1": 1,
          "yref": "y domain"
         },
         {
          "line": {
           "color": "black",
           "width": 1
          },
          "type": "line",
          "x0": 711,
          "x1": 711,
          "xref": "x",
          "y0": 0,
          "y1": 1,
          "yref": "y domain"
         },
         {
          "line": {
           "color": "black",
           "width": 1
          },
          "type": "line",
          "x0": 712,
          "x1": 712,
          "xref": "x",
          "y0": 0,
          "y1": 1,
          "yref": "y domain"
         },
         {
          "line": {
           "color": "black",
           "width": 1
          },
          "type": "line",
          "x0": 713,
          "x1": 713,
          "xref": "x",
          "y0": 0,
          "y1": 1,
          "yref": "y domain"
         },
         {
          "line": {
           "color": "black",
           "width": 1
          },
          "type": "line",
          "x0": 793,
          "x1": 793,
          "xref": "x",
          "y0": 0,
          "y1": 1,
          "yref": "y domain"
         },
         {
          "line": {
           "color": "black",
           "width": 1
          },
          "type": "line",
          "x0": 794,
          "x1": 794,
          "xref": "x",
          "y0": 0,
          "y1": 1,
          "yref": "y domain"
         },
         {
          "line": {
           "color": "black",
           "width": 1
          },
          "type": "line",
          "x0": 795,
          "x1": 795,
          "xref": "x",
          "y0": 0,
          "y1": 1,
          "yref": "y domain"
         },
         {
          "line": {
           "color": "black",
           "width": 1
          },
          "type": "line",
          "x0": 796,
          "x1": 796,
          "xref": "x",
          "y0": 0,
          "y1": 1,
          "yref": "y domain"
         },
         {
          "line": {
           "color": "black",
           "width": 1
          },
          "type": "line",
          "x0": 797,
          "x1": 797,
          "xref": "x",
          "y0": 0,
          "y1": 1,
          "yref": "y domain"
         },
         {
          "line": {
           "color": "black",
           "width": 1
          },
          "type": "line",
          "x0": 798,
          "x1": 798,
          "xref": "x",
          "y0": 0,
          "y1": 1,
          "yref": "y domain"
         },
         {
          "line": {
           "color": "black",
           "width": 1
          },
          "type": "line",
          "x0": 799,
          "x1": 799,
          "xref": "x",
          "y0": 0,
          "y1": 1,
          "yref": "y domain"
         },
         {
          "line": {
           "color": "black",
           "width": 1
          },
          "type": "line",
          "x0": 800,
          "x1": 800,
          "xref": "x",
          "y0": 0,
          "y1": 1,
          "yref": "y domain"
         }
        ],
        "template": {
         "data": {
          "bar": [
           {
            "error_x": {
             "color": "#2a3f5f"
            },
            "error_y": {
             "color": "#2a3f5f"
            },
            "marker": {
             "line": {
              "color": "#E5ECF6",
              "width": 0.5
             },
             "pattern": {
              "fillmode": "overlay",
              "size": 10,
              "solidity": 0.2
             }
            },
            "type": "bar"
           }
          ],
          "barpolar": [
           {
            "marker": {
             "line": {
              "color": "#E5ECF6",
              "width": 0.5
             },
             "pattern": {
              "fillmode": "overlay",
              "size": 10,
              "solidity": 0.2
             }
            },
            "type": "barpolar"
           }
          ],
          "carpet": [
           {
            "aaxis": {
             "endlinecolor": "#2a3f5f",
             "gridcolor": "white",
             "linecolor": "white",
             "minorgridcolor": "white",
             "startlinecolor": "#2a3f5f"
            },
            "baxis": {
             "endlinecolor": "#2a3f5f",
             "gridcolor": "white",
             "linecolor": "white",
             "minorgridcolor": "white",
             "startlinecolor": "#2a3f5f"
            },
            "type": "carpet"
           }
          ],
          "choropleth": [
           {
            "colorbar": {
             "outlinewidth": 0,
             "ticks": ""
            },
            "type": "choropleth"
           }
          ],
          "contour": [
           {
            "colorbar": {
             "outlinewidth": 0,
             "ticks": ""
            },
            "colorscale": [
             [
              0,
              "#0d0887"
             ],
             [
              0.1111111111111111,
              "#46039f"
             ],
             [
              0.2222222222222222,
              "#7201a8"
             ],
             [
              0.3333333333333333,
              "#9c179e"
             ],
             [
              0.4444444444444444,
              "#bd3786"
             ],
             [
              0.5555555555555556,
              "#d8576b"
             ],
             [
              0.6666666666666666,
              "#ed7953"
             ],
             [
              0.7777777777777778,
              "#fb9f3a"
             ],
             [
              0.8888888888888888,
              "#fdca26"
             ],
             [
              1,
              "#f0f921"
             ]
            ],
            "type": "contour"
           }
          ],
          "contourcarpet": [
           {
            "colorbar": {
             "outlinewidth": 0,
             "ticks": ""
            },
            "type": "contourcarpet"
           }
          ],
          "heatmap": [
           {
            "colorbar": {
             "outlinewidth": 0,
             "ticks": ""
            },
            "colorscale": [
             [
              0,
              "#0d0887"
             ],
             [
              0.1111111111111111,
              "#46039f"
             ],
             [
              0.2222222222222222,
              "#7201a8"
             ],
             [
              0.3333333333333333,
              "#9c179e"
             ],
             [
              0.4444444444444444,
              "#bd3786"
             ],
             [
              0.5555555555555556,
              "#d8576b"
             ],
             [
              0.6666666666666666,
              "#ed7953"
             ],
             [
              0.7777777777777778,
              "#fb9f3a"
             ],
             [
              0.8888888888888888,
              "#fdca26"
             ],
             [
              1,
              "#f0f921"
             ]
            ],
            "type": "heatmap"
           }
          ],
          "histogram": [
           {
            "marker": {
             "pattern": {
              "fillmode": "overlay",
              "size": 10,
              "solidity": 0.2
             }
            },
            "type": "histogram"
           }
          ],
          "histogram2d": [
           {
            "colorbar": {
             "outlinewidth": 0,
             "ticks": ""
            },
            "colorscale": [
             [
              0,
              "#0d0887"
             ],
             [
              0.1111111111111111,
              "#46039f"
             ],
             [
              0.2222222222222222,
              "#7201a8"
             ],
             [
              0.3333333333333333,
              "#9c179e"
             ],
             [
              0.4444444444444444,
              "#bd3786"
             ],
             [
              0.5555555555555556,
              "#d8576b"
             ],
             [
              0.6666666666666666,
              "#ed7953"
             ],
             [
              0.7777777777777778,
              "#fb9f3a"
             ],
             [
              0.8888888888888888,
              "#fdca26"
             ],
             [
              1,
              "#f0f921"
             ]
            ],
            "type": "histogram2d"
           }
          ],
          "histogram2dcontour": [
           {
            "colorbar": {
             "outlinewidth": 0,
             "ticks": ""
            },
            "colorscale": [
             [
              0,
              "#0d0887"
             ],
             [
              0.1111111111111111,
              "#46039f"
             ],
             [
              0.2222222222222222,
              "#7201a8"
             ],
             [
              0.3333333333333333,
              "#9c179e"
             ],
             [
              0.4444444444444444,
              "#bd3786"
             ],
             [
              0.5555555555555556,
              "#d8576b"
             ],
             [
              0.6666666666666666,
              "#ed7953"
             ],
             [
              0.7777777777777778,
              "#fb9f3a"
             ],
             [
              0.8888888888888888,
              "#fdca26"
             ],
             [
              1,
              "#f0f921"
             ]
            ],
            "type": "histogram2dcontour"
           }
          ],
          "mesh3d": [
           {
            "colorbar": {
             "outlinewidth": 0,
             "ticks": ""
            },
            "type": "mesh3d"
           }
          ],
          "parcoords": [
           {
            "line": {
             "colorbar": {
              "outlinewidth": 0,
              "ticks": ""
             }
            },
            "type": "parcoords"
           }
          ],
          "pie": [
           {
            "automargin": true,
            "type": "pie"
           }
          ],
          "scatter": [
           {
            "fillpattern": {
             "fillmode": "overlay",
             "size": 10,
             "solidity": 0.2
            },
            "type": "scatter"
           }
          ],
          "scatter3d": [
           {
            "line": {
             "colorbar": {
              "outlinewidth": 0,
              "ticks": ""
             }
            },
            "marker": {
             "colorbar": {
              "outlinewidth": 0,
              "ticks": ""
             }
            },
            "type": "scatter3d"
           }
          ],
          "scattercarpet": [
           {
            "marker": {
             "colorbar": {
              "outlinewidth": 0,
              "ticks": ""
             }
            },
            "type": "scattercarpet"
           }
          ],
          "scattergeo": [
           {
            "marker": {
             "colorbar": {
              "outlinewidth": 0,
              "ticks": ""
             }
            },
            "type": "scattergeo"
           }
          ],
          "scattergl": [
           {
            "marker": {
             "colorbar": {
              "outlinewidth": 0,
              "ticks": ""
             }
            },
            "type": "scattergl"
           }
          ],
          "scattermap": [
           {
            "marker": {
             "colorbar": {
              "outlinewidth": 0,
              "ticks": ""
             }
            },
            "type": "scattermap"
           }
          ],
          "scattermapbox": [
           {
            "marker": {
             "colorbar": {
              "outlinewidth": 0,
              "ticks": ""
             }
            },
            "type": "scattermapbox"
           }
          ],
          "scatterpolar": [
           {
            "marker": {
             "colorbar": {
              "outlinewidth": 0,
              "ticks": ""
             }
            },
            "type": "scatterpolar"
           }
          ],
          "scatterpolargl": [
           {
            "marker": {
             "colorbar": {
              "outlinewidth": 0,
              "ticks": ""
             }
            },
            "type": "scatterpolargl"
           }
          ],
          "scatterternary": [
           {
            "marker": {
             "colorbar": {
              "outlinewidth": 0,
              "ticks": ""
             }
            },
            "type": "scatterternary"
           }
          ],
          "surface": [
           {
            "colorbar": {
             "outlinewidth": 0,
             "ticks": ""
            },
            "colorscale": [
             [
              0,
              "#0d0887"
             ],
             [
              0.1111111111111111,
              "#46039f"
             ],
             [
              0.2222222222222222,
              "#7201a8"
             ],
             [
              0.3333333333333333,
              "#9c179e"
             ],
             [
              0.4444444444444444,
              "#bd3786"
             ],
             [
              0.5555555555555556,
              "#d8576b"
             ],
             [
              0.6666666666666666,
              "#ed7953"
             ],
             [
              0.7777777777777778,
              "#fb9f3a"
             ],
             [
              0.8888888888888888,
              "#fdca26"
             ],
             [
              1,
              "#f0f921"
             ]
            ],
            "type": "surface"
           }
          ],
          "table": [
           {
            "cells": {
             "fill": {
              "color": "#EBF0F8"
             },
             "line": {
              "color": "white"
             }
            },
            "header": {
             "fill": {
              "color": "#C8D4E3"
             },
             "line": {
              "color": "white"
             }
            },
            "type": "table"
           }
          ]
         },
         "layout": {
          "annotationdefaults": {
           "arrowcolor": "#2a3f5f",
           "arrowhead": 0,
           "arrowwidth": 1
          },
          "autotypenumbers": "strict",
          "coloraxis": {
           "colorbar": {
            "outlinewidth": 0,
            "ticks": ""
           }
          },
          "colorscale": {
           "diverging": [
            [
             0,
             "#8e0152"
            ],
            [
             0.1,
             "#c51b7d"
            ],
            [
             0.2,
             "#de77ae"
            ],
            [
             0.3,
             "#f1b6da"
            ],
            [
             0.4,
             "#fde0ef"
            ],
            [
             0.5,
             "#f7f7f7"
            ],
            [
             0.6,
             "#e6f5d0"
            ],
            [
             0.7,
             "#b8e186"
            ],
            [
             0.8,
             "#7fbc41"
            ],
            [
             0.9,
             "#4d9221"
            ],
            [
             1,
             "#276419"
            ]
           ],
           "sequential": [
            [
             0,
             "#0d0887"
            ],
            [
             0.1111111111111111,
             "#46039f"
            ],
            [
             0.2222222222222222,
             "#7201a8"
            ],
            [
             0.3333333333333333,
             "#9c179e"
            ],
            [
             0.4444444444444444,
             "#bd3786"
            ],
            [
             0.5555555555555556,
             "#d8576b"
            ],
            [
             0.6666666666666666,
             "#ed7953"
            ],
            [
             0.7777777777777778,
             "#fb9f3a"
            ],
            [
             0.8888888888888888,
             "#fdca26"
            ],
            [
             1,
             "#f0f921"
            ]
           ],
           "sequentialminus": [
            [
             0,
             "#0d0887"
            ],
            [
             0.1111111111111111,
             "#46039f"
            ],
            [
             0.2222222222222222,
             "#7201a8"
            ],
            [
             0.3333333333333333,
             "#9c179e"
            ],
            [
             0.4444444444444444,
             "#bd3786"
            ],
            [
             0.5555555555555556,
             "#d8576b"
            ],
            [
             0.6666666666666666,
             "#ed7953"
            ],
            [
             0.7777777777777778,
             "#fb9f3a"
            ],
            [
             0.8888888888888888,
             "#fdca26"
            ],
            [
             1,
             "#f0f921"
            ]
           ]
          },
          "colorway": [
           "#636efa",
           "#EF553B",
           "#00cc96",
           "#ab63fa",
           "#FFA15A",
           "#19d3f3",
           "#FF6692",
           "#B6E880",
           "#FF97FF",
           "#FECB52"
          ],
          "font": {
           "color": "#2a3f5f"
          },
          "geo": {
           "bgcolor": "white",
           "lakecolor": "white",
           "landcolor": "#E5ECF6",
           "showlakes": true,
           "showland": true,
           "subunitcolor": "white"
          },
          "hoverlabel": {
           "align": "left"
          },
          "hovermode": "closest",
          "mapbox": {
           "style": "light"
          },
          "paper_bgcolor": "white",
          "plot_bgcolor": "#E5ECF6",
          "polar": {
           "angularaxis": {
            "gridcolor": "white",
            "linecolor": "white",
            "ticks": ""
           },
           "bgcolor": "#E5ECF6",
           "radialaxis": {
            "gridcolor": "white",
            "linecolor": "white",
            "ticks": ""
           }
          },
          "scene": {
           "xaxis": {
            "backgroundcolor": "#E5ECF6",
            "gridcolor": "white",
            "gridwidth": 2,
            "linecolor": "white",
            "showbackground": true,
            "ticks": "",
            "zerolinecolor": "white"
           },
           "yaxis": {
            "backgroundcolor": "#E5ECF6",
            "gridcolor": "white",
            "gridwidth": 2,
            "linecolor": "white",
            "showbackground": true,
            "ticks": "",
            "zerolinecolor": "white"
           },
           "zaxis": {
            "backgroundcolor": "#E5ECF6",
            "gridcolor": "white",
            "gridwidth": 2,
            "linecolor": "white",
            "showbackground": true,
            "ticks": "",
            "zerolinecolor": "white"
           }
          },
          "shapedefaults": {
           "line": {
            "color": "#2a3f5f"
           }
          },
          "ternary": {
           "aaxis": {
            "gridcolor": "white",
            "linecolor": "white",
            "ticks": ""
           },
           "baxis": {
            "gridcolor": "white",
            "linecolor": "white",
            "ticks": ""
           },
           "bgcolor": "#E5ECF6",
           "caxis": {
            "gridcolor": "white",
            "linecolor": "white",
            "ticks": ""
           }
          },
          "title": {
           "x": 0.05
          },
          "xaxis": {
           "automargin": true,
           "gridcolor": "white",
           "linecolor": "white",
           "ticks": "",
           "title": {
            "standoff": 15
           },
           "zerolinecolor": "white",
           "zerolinewidth": 2
          },
          "yaxis": {
           "automargin": true,
           "gridcolor": "white",
           "linecolor": "white",
           "ticks": "",
           "title": {
            "standoff": 15
           },
           "zerolinecolor": "white",
           "zerolinewidth": 2
          }
         }
        },
        "title": {
         "font": {
          "size": 26
         },
         "pad": {
          "b": 10,
          "t": 10
         },
         "text": "Scatter Plot VibrationZ versus Cycle with Preset_1 categories per Fail event",
         "x": 0.5,
         "xanchor": "center",
         "y": 0.94,
         "yanchor": "top"
        },
        "xaxis": {
         "anchor": "y",
         "domain": [
          0,
          1
         ],
         "title": {
          "text": "Cycle"
         }
        },
        "yaxis": {
         "anchor": "x",
         "domain": [
          0,
          1
         ],
         "range": [
          0,
          254.0462479215578
         ],
         "title": {
          "text": "VibrationZ"
         }
        }
       }
      }
     },
     "metadata": {},
     "output_type": "display_data"
    },
    {
     "data": {
      "application/vnd.plotly.v1+json": {
       "config": {
        "plotlyServerURL": "https://plot.ly"
       },
       "data": [
        {
         "hovertemplate": "Preset_1=1<br>Cycle=%{x}<br>Frequency=%{y}<extra></extra>",
         "legendgroup": "1",
         "marker": {
          "color": "#636efa",
          "symbol": "circle"
         },
         "mode": "markers",
         "name": "1",
         "orientation": "v",
         "showlegend": true,
         "type": "scatter",
         "x": {
          "bdata": "BgAHAAgACgANAA8AEQAZACcAKQAqACsALAAvADUAOAA6ADwAPQBAAEIAQwBEAEUASABJAEoATgBPAFEAUwBVAFkAYABjAGUAZwBoAGwAbwBxAHQAdQB6AH4AgwCFAIYAhwCIAIkAjACSAKAAoQCjAKQApQCmAKgAqQCqAKsArQCvALAAtQDDAMcA0ADTANQA1gDYAN4A5wDoAOoA7ADvAPAA9AD6APsA/AD+AAEBAwEFAQYBBwEIAQsBDQEQARcBGAEbAR0BIQEiASYBKAEsATABMgE0ATcBOQE/AUMBRgFIAUsBTQFPAVEBUgFTAVYBWAFaAVsBXQFgAWMBaQFsAXABcQFzAXQBdwF8AYkBigGNAY4BjwGTAZQBlQGXAZgBnQGgAaEBogGjAaQBpwGoAakBrQGuAa8BsAG0AbkBvwHFAc4BzwHUAdYB3AHjAeUB5gHpAeoB6wHsAfMB9gH4AfkB/gH/AQECAwIGAgoCCwIOAhMCFAIVAhwCJgInAikCLAItAi4CLwI4Aj4CPwJBAkQCRgJNAk8CUAJUAlYCVwJYAmMCZQJmAmgCbQJxAnQCdwJ5AnwCgQKEAoYChwKIAooCiwKVApYCmgKeAqACpQKpAqwCsAKzArgCuQLGAssC1ALWAtoC3gLkAuUC5wLqAu0C8ALxAvkC+gL7Av8CAgMDAwUDBwMUAxkDGgMdAx4D",
          "dtype": "i2"
         },
         "xaxis": "x",
         "y": {
          "bdata": "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",
          "dtype": "f8"
         },
         "yaxis": "y"
        },
        {
         "hovertemplate": "Preset_1=2<br>Cycle=%{x}<br>Frequency=%{y}<extra></extra>",
         "legendgroup": "2",
         "marker": {
          "color": "#EF553B",
          "symbol": "circle"
         },
         "mode": "markers",
         "name": "2",
         "orientation": "v",
         "showlegend": true,
         "type": "scatter",
         "x": {
          "bdata": "AgADAAQABQALAAwAEgAUABUAFgAYABoAGwAcAB4AHwAgACMAJAAlACYAKAAwADEAMgA0ADYAOQA/AEYARwBNAFIAVABWAFsAXABdAGQAaQBzAHYAdwB4AHkAewB9AH8AgACBAIQAigCLAI0AkQCXAJkAmgCcAJ4AogCuALIAtgC4ALsAvAC9AL4AvwDCAMQAxQDLAM0A1wDaANsA3wDgAOIA5ADpAOsA7QDuAPMA9QD2APcA+AD9AP8AAAEKAQ8BEwEUARUBFgEZARoBJwEpASsBLQEvATEBMwE1AT0BPgFAAUQBTAFQAVQBVQFXAV4BXwFhAWQBawFuAW8BcgF1AXgBeQF7AX0BfwGAAYEBhAGHAZIBmQGcAZ4BpQGyAbMBtwG4AbwBvQG+AcABwgHKAcsBzQHQAdEB0gHTAdUB1wHaAdsB3QHeAeAB5AHtAe4B7wHwAfQB9QH6AfsB/QECAgUCBwIIAhECEgIWAhgCGQIbAh0CHgIfAiECIgIkAigCKgIxAjICNAI1AjwCQgJHAkgCSQJLAlICUwJVAlkCWgJbAl4CXwJgAmICZAJnAmkCawJuAnoCewJ9An4CgwKJAo0CjgKPApACkQKXApgCnwKmAqoCqwKxAroCuwK8Ar4CvwLAAsICwwLJAsoCzALPAtAC0gLTAtUC2ALZAtsC3QLhAuYC6wLsAu8C8gL0AvUC+AL8AgEDBAMGAwkDCgMLAw4DDwMRAxMDFgMYAxsDHAMfAw==",
          "dtype": "i2"
         },
         "xaxis": "x",
         "y": {
          "bdata": "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",
          "dtype": "f8"
         },
         "yaxis": "y"
        },
        {
         "hovertemplate": "Preset_1=3<br>Cycle=%{x}<br>Frequency=%{y}<extra></extra>",
         "legendgroup": "3",
         "marker": {
          "color": "#00cc96",
          "symbol": "circle"
         },
         "mode": "markers",
         "name": "3",
         "orientation": "v",
         "showlegend": true,
         "type": "scatter",
         "x": {
          "bdata": "AQAJAA4AEAATABcAHQAhACIALQAuADMANwA7AD4AQQBLAEwAUABXAFgAWgBeAF8AYQBiAGYAagBrAG0AbgBwAHIAfACCAI4AjwCQAJMAlACVAJYAmACbAJ0AnwCnAKwAsQCzALQAtwC5ALoAwADBAMYAyADJAMoAzADOAM8A0QDSANUA2QDcAN0A4QDjAOUA5gDxAPIA+QACAQQBCQEMAQ4BEQESARwBHgEfASABIwEkASUBKgEuATYBOAE6ATsBPAFBAUIBRQFHAUkBSgFOAVkBXAFiAWUBZgFnAWgBagFtAXYBegF+AYIBgwGFAYYBiAGLAYwBkAGRAZYBmgGbAZ8BpgGqAasBrAGxAbUBtgG6AbsBwQHDAcQBxgHHAcgByQHMAdgB2QHfAeEB4gHnAegB8QHyAfcB/AEAAgQCCQIMAg0CDwIQAhcCGgIgAiMCJQIrAjACMwI2AjcCOQI6AjsCPQJAAkMCRQJKAkwCTgJRAlwCXQJhAmoCbAJvAnACcgJzAnUCdgJ4An8CgAKCAoUCjAKSApMClAKZApsCnAKdAqECogKjAqQCpwKoAq0CrgKvArICtAK1ArYCtwK9AsECxALFAscCyALNAs4C0QLXAtwC3wLgAuIC4wLoAukC7gLzAvYC9wL9Av4CAAMIAwwDDQMQAxIDFQMXAyAD",
          "dtype": "i2"
         },
         "xaxis": "x",
         "y": {
          "bdata": "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",
          "dtype": "f8"
         },
         "yaxis": "y"
        }
       ],
       "layout": {
        "legend": {
         "title": {
          "text": "Preset_1"
         },
         "tracegroupgap": 0
        },
        "margin": {
         "b": 50,
         "l": 60,
         "r": 40,
         "t": 120
        },
        "shapes": [
         {
          "line": {
           "color": "black",
           "width": 1
          },
          "type": "line",
          "x0": 13,
          "x1": 13,
          "xref": "x",
          "y0": 0,
          "y1": 1,
          "yref": "y domain"
         },
         {
          "line": {
           "color": "black",
           "width": 1
          },
          "type": "line",
          "x0": 157,
          "x1": 157,
          "xref": "x",
          "y0": 0,
          "y1": 1,
          "yref": "y domain"
         },
         {
          "line": {
           "color": "black",
           "width": 1
          },
          "type": "line",
          "x0": 158,
          "x1": 158,
          "xref": "x",
          "y0": 0,
          "y1": 1,
          "yref": "y domain"
         },
         {
          "line": {
           "color": "black",
           "width": 1
          },
          "type": "line",
          "x0": 159,
          "x1": 159,
          "xref": "x",
          "y0": 0,
          "y1": 1,
          "yref": "y domain"
         },
         {
          "line": {
           "color": "black",
           "width": 1
          },
          "type": "line",
          "x0": 163,
          "x1": 163,
          "xref": "x",
          "y0": 0,
          "y1": 1,
          "yref": "y domain"
         },
         {
          "line": {
           "color": "black",
           "width": 1
          },
          "type": "line",
          "x0": 164,
          "x1": 164,
          "xref": "x",
          "y0": 0,
          "y1": 1,
          "yref": "y domain"
         },
         {
          "line": {
           "color": "black",
           "width": 1
          },
          "type": "line",
          "x0": 165,
          "x1": 165,
          "xref": "x",
          "y0": 0,
          "y1": 1,
          "yref": "y domain"
         },
         {
          "line": {
           "color": "black",
           "width": 1
          },
          "type": "line",
          "x0": 263,
          "x1": 263,
          "xref": "x",
          "y0": 0,
          "y1": 1,
          "yref": "y domain"
         },
         {
          "line": {
           "color": "black",
           "width": 1
          },
          "type": "line",
          "x0": 264,
          "x1": 264,
          "xref": "x",
          "y0": 0,
          "y1": 1,
          "yref": "y domain"
         },
         {
          "line": {
           "color": "black",
           "width": 1
          },
          "type": "line",
          "x0": 265,
          "x1": 265,
          "xref": "x",
          "y0": 0,
          "y1": 1,
          "yref": "y domain"
         },
         {
          "line": {
           "color": "black",
           "width": 1
          },
          "type": "line",
          "x0": 270,
          "x1": 270,
          "xref": "x",
          "y0": 0,
          "y1": 1,
          "yref": "y domain"
         },
         {
          "line": {
           "color": "black",
           "width": 1
          },
          "type": "line",
          "x0": 271,
          "x1": 271,
          "xref": "x",
          "y0": 0,
          "y1": 1,
          "yref": "y domain"
         },
         {
          "line": {
           "color": "black",
           "width": 1
          },
          "type": "line",
          "x0": 415,
          "x1": 415,
          "xref": "x",
          "y0": 0,
          "y1": 1,
          "yref": "y domain"
         },
         {
          "line": {
           "color": "black",
           "width": 1
          },
          "type": "line",
          "x0": 416,
          "x1": 416,
          "xref": "x",
          "y0": 0,
          "y1": 1,
          "yref": "y domain"
         },
         {
          "line": {
           "color": "black",
           "width": 1
          },
          "type": "line",
          "x0": 417,
          "x1": 417,
          "xref": "x",
          "y0": 0,
          "y1": 1,
          "yref": "y domain"
         },
         {
          "line": {
           "color": "black",
           "width": 1
          },
          "type": "line",
          "x0": 418,
          "x1": 418,
          "xref": "x",
          "y0": 0,
          "y1": 1,
          "yref": "y domain"
         },
         {
          "line": {
           "color": "black",
           "width": 1
          },
          "type": "line",
          "x0": 419,
          "x1": 419,
          "xref": "x",
          "y0": 0,
          "y1": 1,
          "yref": "y domain"
         },
         {
          "line": {
           "color": "black",
           "width": 1
          },
          "type": "line",
          "x0": 420,
          "x1": 420,
          "xref": "x",
          "y0": 0,
          "y1": 1,
          "yref": "y domain"
         },
         {
          "line": {
           "color": "black",
           "width": 1
          },
          "type": "line",
          "x0": 421,
          "x1": 421,
          "xref": "x",
          "y0": 0,
          "y1": 1,
          "yref": "y domain"
         },
         {
          "line": {
           "color": "black",
           "width": 1
          },
          "type": "line",
          "x0": 422,
          "x1": 422,
          "xref": "x",
          "y0": 0,
          "y1": 1,
          "yref": "y domain"
         },
         {
          "line": {
           "color": "black",
           "width": 1
          },
          "type": "line",
          "x0": 423,
          "x1": 423,
          "xref": "x",
          "y0": 0,
          "y1": 1,
          "yref": "y domain"
         },
         {
          "line": {
           "color": "black",
           "width": 1
          },
          "type": "line",
          "x0": 424,
          "x1": 424,
          "xref": "x",
          "y0": 0,
          "y1": 1,
          "yref": "y domain"
         },
         {
          "line": {
           "color": "black",
           "width": 1
          },
          "type": "line",
          "x0": 425,
          "x1": 425,
          "xref": "x",
          "y0": 0,
          "y1": 1,
          "yref": "y domain"
         },
         {
          "line": {
           "color": "black",
           "width": 1
          },
          "type": "line",
          "x0": 426,
          "x1": 426,
          "xref": "x",
          "y0": 0,
          "y1": 1,
          "yref": "y domain"
         },
         {
          "line": {
           "color": "black",
           "width": 1
          },
          "type": "line",
          "x0": 427,
          "x1": 427,
          "xref": "x",
          "y0": 0,
          "y1": 1,
          "yref": "y domain"
         },
         {
          "line": {
           "color": "black",
           "width": 1
          },
          "type": "line",
          "x0": 428,
          "x1": 428,
          "xref": "x",
          "y0": 0,
          "y1": 1,
          "yref": "y domain"
         },
         {
          "line": {
           "color": "black",
           "width": 1
          },
          "type": "line",
          "x0": 429,
          "x1": 429,
          "xref": "x",
          "y0": 0,
          "y1": 1,
          "yref": "y domain"
         },
         {
          "line": {
           "color": "black",
           "width": 1
          },
          "type": "line",
          "x0": 430,
          "x1": 430,
          "xref": "x",
          "y0": 0,
          "y1": 1,
          "yref": "y domain"
         },
         {
          "line": {
           "color": "black",
           "width": 1
          },
          "type": "line",
          "x0": 431,
          "x1": 431,
          "xref": "x",
          "y0": 0,
          "y1": 1,
          "yref": "y domain"
         },
         {
          "line": {
           "color": "black",
           "width": 1
          },
          "type": "line",
          "x0": 432,
          "x1": 432,
          "xref": "x",
          "y0": 0,
          "y1": 1,
          "yref": "y domain"
         },
         {
          "line": {
           "color": "black",
           "width": 1
          },
          "type": "line",
          "x0": 538,
          "x1": 538,
          "xref": "x",
          "y0": 0,
          "y1": 1,
          "yref": "y domain"
         },
         {
          "line": {
           "color": "black",
           "width": 1
          },
          "type": "line",
          "x0": 539,
          "x1": 539,
          "xref": "x",
          "y0": 0,
          "y1": 1,
          "yref": "y domain"
         },
         {
          "line": {
           "color": "black",
           "width": 1
          },
          "type": "line",
          "x0": 540,
          "x1": 540,
          "xref": "x",
          "y0": 0,
          "y1": 1,
          "yref": "y domain"
         },
         {
          "line": {
           "color": "black",
           "width": 1
          },
          "type": "line",
          "x0": 541,
          "x1": 541,
          "xref": "x",
          "y0": 0,
          "y1": 1,
          "yref": "y domain"
         },
         {
          "line": {
           "color": "black",
           "width": 1
          },
          "type": "line",
          "x0": 542,
          "x1": 542,
          "xref": "x",
          "y0": 0,
          "y1": 1,
          "yref": "y domain"
         },
         {
          "line": {
           "color": "black",
           "width": 1
          },
          "type": "line",
          "x0": 543,
          "x1": 543,
          "xref": "x",
          "y0": 0,
          "y1": 1,
          "yref": "y domain"
         },
         {
          "line": {
           "color": "black",
           "width": 1
          },
          "type": "line",
          "x0": 544,
          "x1": 544,
          "xref": "x",
          "y0": 0,
          "y1": 1,
          "yref": "y domain"
         },
         {
          "line": {
           "color": "black",
           "width": 1
          },
          "type": "line",
          "x0": 545,
          "x1": 545,
          "xref": "x",
          "y0": 0,
          "y1": 1,
          "yref": "y domain"
         },
         {
          "line": {
           "color": "black",
           "width": 1
          },
          "type": "line",
          "x0": 546,
          "x1": 546,
          "xref": "x",
          "y0": 0,
          "y1": 1,
          "yref": "y domain"
         },
         {
          "line": {
           "color": "black",
           "width": 1
          },
          "type": "line",
          "x0": 550,
          "x1": 550,
          "xref": "x",
          "y0": 0,
          "y1": 1,
          "yref": "y domain"
         },
         {
          "line": {
           "color": "black",
           "width": 1
          },
          "type": "line",
          "x0": 551,
          "x1": 551,
          "xref": "x",
          "y0": 0,
          "y1": 1,
          "yref": "y domain"
         },
         {
          "line": {
           "color": "black",
           "width": 1
          },
          "type": "line",
          "x0": 552,
          "x1": 552,
          "xref": "x",
          "y0": 0,
          "y1": 1,
          "yref": "y domain"
         },
         {
          "line": {
           "color": "black",
           "width": 1
          },
          "type": "line",
          "x0": 553,
          "x1": 553,
          "xref": "x",
          "y0": 0,
          "y1": 1,
          "yref": "y domain"
         },
         {
          "line": {
           "color": "black",
           "width": 1
          },
          "type": "line",
          "x0": 554,
          "x1": 554,
          "xref": "x",
          "y0": 0,
          "y1": 1,
          "yref": "y domain"
         },
         {
          "line": {
           "color": "black",
           "width": 1
          },
          "type": "line",
          "x0": 700,
          "x1": 700,
          "xref": "x",
          "y0": 0,
          "y1": 1,
          "yref": "y domain"
         },
         {
          "line": {
           "color": "black",
           "width": 1
          },
          "type": "line",
          "x0": 701,
          "x1": 701,
          "xref": "x",
          "y0": 0,
          "y1": 1,
          "yref": "y domain"
         },
         {
          "line": {
           "color": "black",
           "width": 1
          },
          "type": "line",
          "x0": 702,
          "x1": 702,
          "xref": "x",
          "y0": 0,
          "y1": 1,
          "yref": "y domain"
         },
         {
          "line": {
           "color": "black",
           "width": 1
          },
          "type": "line",
          "x0": 703,
          "x1": 703,
          "xref": "x",
          "y0": 0,
          "y1": 1,
          "yref": "y domain"
         },
         {
          "line": {
           "color": "black",
           "width": 1
          },
          "type": "line",
          "x0": 704,
          "x1": 704,
          "xref": "x",
          "y0": 0,
          "y1": 1,
          "yref": "y domain"
         },
         {
          "line": {
           "color": "black",
           "width": 1
          },
          "type": "line",
          "x0": 705,
          "x1": 705,
          "xref": "x",
          "y0": 0,
          "y1": 1,
          "yref": "y domain"
         },
         {
          "line": {
           "color": "black",
           "width": 1
          },
          "type": "line",
          "x0": 706,
          "x1": 706,
          "xref": "x",
          "y0": 0,
          "y1": 1,
          "yref": "y domain"
         },
         {
          "line": {
           "color": "black",
           "width": 1
          },
          "type": "line",
          "x0": 707,
          "x1": 707,
          "xref": "x",
          "y0": 0,
          "y1": 1,
          "yref": "y domain"
         },
         {
          "line": {
           "color": "black",
           "width": 1
          },
          "type": "line",
          "x0": 708,
          "x1": 708,
          "xref": "x",
          "y0": 0,
          "y1": 1,
          "yref": "y domain"
         },
         {
          "line": {
           "color": "black",
           "width": 1
          },
          "type": "line",
          "x0": 709,
          "x1": 709,
          "xref": "x",
          "y0": 0,
          "y1": 1,
          "yref": "y domain"
         },
         {
          "line": {
           "color": "black",
           "width": 1
          },
          "type": "line",
          "x0": 710,
          "x1": 710,
          "xref": "x",
          "y0": 0,
          "y1": 1,
          "yref": "y domain"
         },
         {
          "line": {
           "color": "black",
           "width": 1
          },
          "type": "line",
          "x0": 711,
          "x1": 711,
          "xref": "x",
          "y0": 0,
          "y1": 1,
          "yref": "y domain"
         },
         {
          "line": {
           "color": "black",
           "width": 1
          },
          "type": "line",
          "x0": 712,
          "x1": 712,
          "xref": "x",
          "y0": 0,
          "y1": 1,
          "yref": "y domain"
         },
         {
          "line": {
           "color": "black",
           "width": 1
          },
          "type": "line",
          "x0": 713,
          "x1": 713,
          "xref": "x",
          "y0": 0,
          "y1": 1,
          "yref": "y domain"
         },
         {
          "line": {
           "color": "black",
           "width": 1
          },
          "type": "line",
          "x0": 793,
          "x1": 793,
          "xref": "x",
          "y0": 0,
          "y1": 1,
          "yref": "y domain"
         },
         {
          "line": {
           "color": "black",
           "width": 1
          },
          "type": "line",
          "x0": 794,
          "x1": 794,
          "xref": "x",
          "y0": 0,
          "y1": 1,
          "yref": "y domain"
         },
         {
          "line": {
           "color": "black",
           "width": 1
          },
          "type": "line",
          "x0": 795,
          "x1": 795,
          "xref": "x",
          "y0": 0,
          "y1": 1,
          "yref": "y domain"
         },
         {
          "line": {
           "color": "black",
           "width": 1
          },
          "type": "line",
          "x0": 796,
          "x1": 796,
          "xref": "x",
          "y0": 0,
          "y1": 1,
          "yref": "y domain"
         },
         {
          "line": {
           "color": "black",
           "width": 1
          },
          "type": "line",
          "x0": 797,
          "x1": 797,
          "xref": "x",
          "y0": 0,
          "y1": 1,
          "yref": "y domain"
         },
         {
          "line": {
           "color": "black",
           "width": 1
          },
          "type": "line",
          "x0": 798,
          "x1": 798,
          "xref": "x",
          "y0": 0,
          "y1": 1,
          "yref": "y domain"
         },
         {
          "line": {
           "color": "black",
           "width": 1
          },
          "type": "line",
          "x0": 799,
          "x1": 799,
          "xref": "x",
          "y0": 0,
          "y1": 1,
          "yref": "y domain"
         },
         {
          "line": {
           "color": "black",
           "width": 1
          },
          "type": "line",
          "x0": 800,
          "x1": 800,
          "xref": "x",
          "y0": 0,
          "y1": 1,
          "yref": "y domain"
         }
        ],
        "template": {
         "data": {
          "bar": [
           {
            "error_x": {
             "color": "#2a3f5f"
            },
            "error_y": {
             "color": "#2a3f5f"
            },
            "marker": {
             "line": {
              "color": "#E5ECF6",
              "width": 0.5
             },
             "pattern": {
              "fillmode": "overlay",
              "size": 10,
              "solidity": 0.2
             }
            },
            "type": "bar"
           }
          ],
          "barpolar": [
           {
            "marker": {
             "line": {
              "color": "#E5ECF6",
              "width": 0.5
             },
             "pattern": {
              "fillmode": "overlay",
              "size": 10,
              "solidity": 0.2
             }
            },
            "type": "barpolar"
           }
          ],
          "carpet": [
           {
            "aaxis": {
             "endlinecolor": "#2a3f5f",
             "gridcolor": "white",
             "linecolor": "white",
             "minorgridcolor": "white",
             "startlinecolor": "#2a3f5f"
            },
            "baxis": {
             "endlinecolor": "#2a3f5f",
             "gridcolor": "white",
             "linecolor": "white",
             "minorgridcolor": "white",
             "startlinecolor": "#2a3f5f"
            },
            "type": "carpet"
           }
          ],
          "choropleth": [
           {
            "colorbar": {
             "outlinewidth": 0,
             "ticks": ""
            },
            "type": "choropleth"
           }
          ],
          "contour": [
           {
            "colorbar": {
             "outlinewidth": 0,
             "ticks": ""
            },
            "colorscale": [
             [
              0,
              "#0d0887"
             ],
             [
              0.1111111111111111,
              "#46039f"
             ],
             [
              0.2222222222222222,
              "#7201a8"
             ],
             [
              0.3333333333333333,
              "#9c179e"
             ],
             [
              0.4444444444444444,
              "#bd3786"
             ],
             [
              0.5555555555555556,
              "#d8576b"
             ],
             [
              0.6666666666666666,
              "#ed7953"
             ],
             [
              0.7777777777777778,
              "#fb9f3a"
             ],
             [
              0.8888888888888888,
              "#fdca26"
             ],
             [
              1,
              "#f0f921"
             ]
            ],
            "type": "contour"
           }
          ],
          "contourcarpet": [
           {
            "colorbar": {
             "outlinewidth": 0,
             "ticks": ""
            },
            "type": "contourcarpet"
           }
          ],
          "heatmap": [
           {
            "colorbar": {
             "outlinewidth": 0,
             "ticks": ""
            },
            "colorscale": [
             [
              0,
              "#0d0887"
             ],
             [
              0.1111111111111111,
              "#46039f"
             ],
             [
              0.2222222222222222,
              "#7201a8"
             ],
             [
              0.3333333333333333,
              "#9c179e"
             ],
             [
              0.4444444444444444,
              "#bd3786"
             ],
             [
              0.5555555555555556,
              "#d8576b"
             ],
             [
              0.6666666666666666,
              "#ed7953"
             ],
             [
              0.7777777777777778,
              "#fb9f3a"
             ],
             [
              0.8888888888888888,
              "#fdca26"
             ],
             [
              1,
              "#f0f921"
             ]
            ],
            "type": "heatmap"
           }
          ],
          "histogram": [
           {
            "marker": {
             "pattern": {
              "fillmode": "overlay",
              "size": 10,
              "solidity": 0.2
             }
            },
            "type": "histogram"
           }
          ],
          "histogram2d": [
           {
            "colorbar": {
             "outlinewidth": 0,
             "ticks": ""
            },
            "colorscale": [
             [
              0,
              "#0d0887"
             ],
             [
              0.1111111111111111,
              "#46039f"
             ],
             [
              0.2222222222222222,
              "#7201a8"
             ],
             [
              0.3333333333333333,
              "#9c179e"
             ],
             [
              0.4444444444444444,
              "#bd3786"
             ],
             [
              0.5555555555555556,
              "#d8576b"
             ],
             [
              0.6666666666666666,
              "#ed7953"
             ],
             [
              0.7777777777777778,
              "#fb9f3a"
             ],
             [
              0.8888888888888888,
              "#fdca26"
             ],
             [
              1,
              "#f0f921"
             ]
            ],
            "type": "histogram2d"
           }
          ],
          "histogram2dcontour": [
           {
            "colorbar": {
             "outlinewidth": 0,
             "ticks": ""
            },
            "colorscale": [
             [
              0,
              "#0d0887"
             ],
             [
              0.1111111111111111,
              "#46039f"
             ],
             [
              0.2222222222222222,
              "#7201a8"
             ],
             [
              0.3333333333333333,
              "#9c179e"
             ],
             [
              0.4444444444444444,
              "#bd3786"
             ],
             [
              0.5555555555555556,
              "#d8576b"
             ],
             [
              0.6666666666666666,
              "#ed7953"
             ],
             [
              0.7777777777777778,
              "#fb9f3a"
             ],
             [
              0.8888888888888888,
              "#fdca26"
             ],
             [
              1,
              "#f0f921"
             ]
            ],
            "type": "histogram2dcontour"
           }
          ],
          "mesh3d": [
           {
            "colorbar": {
             "outlinewidth": 0,
             "ticks": ""
            },
            "type": "mesh3d"
           }
          ],
          "parcoords": [
           {
            "line": {
             "colorbar": {
              "outlinewidth": 0,
              "ticks": ""
             }
            },
            "type": "parcoords"
           }
          ],
          "pie": [
           {
            "automargin": true,
            "type": "pie"
           }
          ],
          "scatter": [
           {
            "fillpattern": {
             "fillmode": "overlay",
             "size": 10,
             "solidity": 0.2
            },
            "type": "scatter"
           }
          ],
          "scatter3d": [
           {
            "line": {
             "colorbar": {
              "outlinewidth": 0,
              "ticks": ""
             }
            },
            "marker": {
             "colorbar": {
              "outlinewidth": 0,
              "ticks": ""
             }
            },
            "type": "scatter3d"
           }
          ],
          "scattercarpet": [
           {
            "marker": {
             "colorbar": {
              "outlinewidth": 0,
              "ticks": ""
             }
            },
            "type": "scattercarpet"
           }
          ],
          "scattergeo": [
           {
            "marker": {
             "colorbar": {
              "outlinewidth": 0,
              "ticks": ""
             }
            },
            "type": "scattergeo"
           }
          ],
          "scattergl": [
           {
            "marker": {
             "colorbar": {
              "outlinewidth": 0,
              "ticks": ""
             }
            },
            "type": "scattergl"
           }
          ],
          "scattermap": [
           {
            "marker": {
             "colorbar": {
              "outlinewidth": 0,
              "ticks": ""
             }
            },
            "type": "scattermap"
           }
          ],
          "scattermapbox": [
           {
            "marker": {
             "colorbar": {
              "outlinewidth": 0,
              "ticks": ""
             }
            },
            "type": "scattermapbox"
           }
          ],
          "scatterpolar": [
           {
            "marker": {
             "colorbar": {
              "outlinewidth": 0,
              "ticks": ""
             }
            },
            "type": "scatterpolar"
           }
          ],
          "scatterpolargl": [
           {
            "marker": {
             "colorbar": {
              "outlinewidth": 0,
              "ticks": ""
             }
            },
            "type": "scatterpolargl"
           }
          ],
          "scatterternary": [
           {
            "marker": {
             "colorbar": {
              "outlinewidth": 0,
              "ticks": ""
             }
            },
            "type": "scatterternary"
           }
          ],
          "surface": [
           {
            "colorbar": {
             "outlinewidth": 0,
             "ticks": ""
            },
            "colorscale": [
             [
              0,
              "#0d0887"
             ],
             [
              0.1111111111111111,
              "#46039f"
             ],
             [
              0.2222222222222222,
              "#7201a8"
             ],
             [
              0.3333333333333333,
              "#9c179e"
             ],
             [
              0.4444444444444444,
              "#bd3786"
             ],
             [
              0.5555555555555556,
              "#d8576b"
             ],
             [
              0.6666666666666666,
              "#ed7953"
             ],
             [
              0.7777777777777778,
              "#fb9f3a"
             ],
             [
              0.8888888888888888,
              "#fdca26"
             ],
             [
              1,
              "#f0f921"
             ]
            ],
            "type": "surface"
           }
          ],
          "table": [
           {
            "cells": {
             "fill": {
              "color": "#EBF0F8"
             },
             "line": {
              "color": "white"
             }
            },
            "header": {
             "fill": {
              "color": "#C8D4E3"
             },
             "line": {
              "color": "white"
             }
            },
            "type": "table"
           }
          ]
         },
         "layout": {
          "annotationdefaults": {
           "arrowcolor": "#2a3f5f",
           "arrowhead": 0,
           "arrowwidth": 1
          },
          "autotypenumbers": "strict",
          "coloraxis": {
           "colorbar": {
            "outlinewidth": 0,
            "ticks": ""
           }
          },
          "colorscale": {
           "diverging": [
            [
             0,
             "#8e0152"
            ],
            [
             0.1,
             "#c51b7d"
            ],
            [
             0.2,
             "#de77ae"
            ],
            [
             0.3,
             "#f1b6da"
            ],
            [
             0.4,
             "#fde0ef"
            ],
            [
             0.5,
             "#f7f7f7"
            ],
            [
             0.6,
             "#e6f5d0"
            ],
            [
             0.7,
             "#b8e186"
            ],
            [
             0.8,
             "#7fbc41"
            ],
            [
             0.9,
             "#4d9221"
            ],
            [
             1,
             "#276419"
            ]
           ],
           "sequential": [
            [
             0,
             "#0d0887"
            ],
            [
             0.1111111111111111,
             "#46039f"
            ],
            [
             0.2222222222222222,
             "#7201a8"
            ],
            [
             0.3333333333333333,
             "#9c179e"
            ],
            [
             0.4444444444444444,
             "#bd3786"
            ],
            [
             0.5555555555555556,
             "#d8576b"
            ],
            [
             0.6666666666666666,
             "#ed7953"
            ],
            [
             0.7777777777777778,
             "#fb9f3a"
            ],
            [
             0.8888888888888888,
             "#fdca26"
            ],
            [
             1,
             "#f0f921"
            ]
           ],
           "sequentialminus": [
            [
             0,
             "#0d0887"
            ],
            [
             0.1111111111111111,
             "#46039f"
            ],
            [
             0.2222222222222222,
             "#7201a8"
            ],
            [
             0.3333333333333333,
             "#9c179e"
            ],
            [
             0.4444444444444444,
             "#bd3786"
            ],
            [
             0.5555555555555556,
             "#d8576b"
            ],
            [
             0.6666666666666666,
             "#ed7953"
            ],
            [
             0.7777777777777778,
             "#fb9f3a"
            ],
            [
             0.8888888888888888,
             "#fdca26"
            ],
            [
             1,
             "#f0f921"
            ]
           ]
          },
          "colorway": [
           "#636efa",
           "#EF553B",
           "#00cc96",
           "#ab63fa",
           "#FFA15A",
           "#19d3f3",
           "#FF6692",
           "#B6E880",
           "#FF97FF",
           "#FECB52"
          ],
          "font": {
           "color": "#2a3f5f"
          },
          "geo": {
           "bgcolor": "white",
           "lakecolor": "white",
           "landcolor": "#E5ECF6",
           "showlakes": true,
           "showland": true,
           "subunitcolor": "white"
          },
          "hoverlabel": {
           "align": "left"
          },
          "hovermode": "closest",
          "mapbox": {
           "style": "light"
          },
          "paper_bgcolor": "white",
          "plot_bgcolor": "#E5ECF6",
          "polar": {
           "angularaxis": {
            "gridcolor": "white",
            "linecolor": "white",
            "ticks": ""
           },
           "bgcolor": "#E5ECF6",
           "radialaxis": {
            "gridcolor": "white",
            "linecolor": "white",
            "ticks": ""
           }
          },
          "scene": {
           "xaxis": {
            "backgroundcolor": "#E5ECF6",
            "gridcolor": "white",
            "gridwidth": 2,
            "linecolor": "white",
            "showbackground": true,
            "ticks": "",
            "zerolinecolor": "white"
           },
           "yaxis": {
            "backgroundcolor": "#E5ECF6",
            "gridcolor": "white",
            "gridwidth": 2,
            "linecolor": "white",
            "showbackground": true,
            "ticks": "",
            "zerolinecolor": "white"
           },
           "zaxis": {
            "backgroundcolor": "#E5ECF6",
            "gridcolor": "white",
            "gridwidth": 2,
            "linecolor": "white",
            "showbackground": true,
            "ticks": "",
            "zerolinecolor": "white"
           }
          },
          "shapedefaults": {
           "line": {
            "color": "#2a3f5f"
           }
          },
          "ternary": {
           "aaxis": {
            "gridcolor": "white",
            "linecolor": "white",
            "ticks": ""
           },
           "baxis": {
            "gridcolor": "white",
            "linecolor": "white",
            "ticks": ""
           },
           "bgcolor": "#E5ECF6",
           "caxis": {
            "gridcolor": "white",
            "linecolor": "white",
            "ticks": ""
           }
          },
          "title": {
           "x": 0.05
          },
          "xaxis": {
           "automargin": true,
           "gridcolor": "white",
           "linecolor": "white",
           "ticks": "",
           "title": {
            "standoff": 15
           },
           "zerolinecolor": "white",
           "zerolinewidth": 2
          },
          "yaxis": {
           "automargin": true,
           "gridcolor": "white",
           "linecolor": "white",
           "ticks": "",
           "title": {
            "standoff": 15
           },
           "zerolinecolor": "white",
           "zerolinewidth": 2
          }
         }
        },
        "title": {
         "font": {
          "size": 26
         },
         "pad": {
          "b": 10,
          "t": 10
         },
         "text": "Scatter Plot Frequency versus Cycle with Preset_1 categories per Fail event",
         "x": 0.5,
         "xanchor": "center",
         "y": 0.94,
         "yanchor": "top"
        },
        "xaxis": {
         "anchor": "y",
         "domain": [
          0,
          1
         ],
         "title": {
          "text": "Cycle"
         }
        },
        "yaxis": {
         "anchor": "x",
         "domain": [
          0,
          1
         ],
         "range": [
          0,
          195.89933292177872
         ],
         "title": {
          "text": "Frequency"
         }
        }
       }
      }
     },
     "metadata": {},
     "output_type": "display_data"
    }
   ],
   "source": [
    "for column in df.columns[3:-1]:\n",
    "    cycles_per_variable(df, \"Cycle\", column)\n",
    "\n",
    "aux_data = df.copy()\n",
    "\n",
    "aux_data[\"Module Vibration\"] = aux_data.apply(lambda x: ((x[\"VibrationX\"]**2) + (x[\"VibrationY\"]**2) + (x[\"VibrationZ\"]**2))**(1/2), axis=1)\n",
    "\n",
    "cycles_per_variable(aux_data, \"Cycle\", \"Module Vibration\")\n",
    "\n",
    "failure_2d_plot(df, \"Temperature\", \"Pressure\")\n",
    "\n",
    "failure_2d_plot(aux_data, \"Module Vibration\", \"Frequency\")\n",
    "\n",
    "failure_3d_plot(df, \"Temperature\", \"Pressure\", \"Frequency\")\n",
    "\n",
    "failure_3d_plot(df, \"VibrationX\", \"VibrationY\", \"VibrationZ\")\n",
    "\n",
    "for column in df.columns[3:-1]:\n",
    "    plot_scatter(df, \"Cycle\", column, 'Preset_1', \"Fail\")"
   ]
  },
  {
   "cell_type": "markdown",
   "id": "b1292f3a",
   "metadata": {},
   "source": [
    "## Task 3 answer"
   ]
  },
  {
   "cell_type": "markdown",
   "id": "c6ac5e31",
   "metadata": {},
   "source": [
    " - ans"
   ]
  },
  {
   "cell_type": "markdown",
   "id": "4d234fe3",
   "metadata": {},
   "source": [
    "## Task 4\n",
    "\n",
    "- Create a model (or models) using the technique you think is most appropriate and measure its performance.\n",
    "\n",
    "- Based on the given time-series dataset, which models or techniques are suitable for predicting whether the equipment will fail before it occurs? \n",
    "\n",
    "- Additionally, how can the model's performance be tuned and measured for this task?"
   ]
  },
  {
   "cell_type": "code",
   "execution_count": null,
   "id": "6f5304ee",
   "metadata": {},
   "outputs": [],
   "source": []
  },
  {
   "cell_type": "code",
   "execution_count": null,
   "id": "e535c315",
   "metadata": {},
   "outputs": [],
   "source": []
  },
  {
   "cell_type": "markdown",
   "id": "1f79d9cc",
   "metadata": {},
   "source": [
    "## Task 4 answer"
   ]
  },
  {
   "cell_type": "markdown",
   "id": "c8aaf396",
   "metadata": {},
   "source": [
    " - ans"
   ]
  },
  {
   "cell_type": "markdown",
   "id": "ec8a8193",
   "metadata": {},
   "source": [
    "## Task 5\n",
    "\n",
    "- Analyze variable importance.\n",
    "\n",
    "- After developing a model, how can we determine which variables had the greatest impact on the\n",
    "prediction?"
   ]
  },
  {
   "cell_type": "code",
   "execution_count": null,
   "id": "42b0cbb9",
   "metadata": {},
   "outputs": [],
   "source": []
  },
  {
   "cell_type": "code",
   "execution_count": null,
   "id": "fe67b9f9",
   "metadata": {},
   "outputs": [],
   "source": []
  },
  {
   "cell_type": "markdown",
   "id": "95d3fe6a",
   "metadata": {},
   "source": [
    "## Task 5 answer"
   ]
  },
  {
   "cell_type": "markdown",
   "id": "085a06c4",
   "metadata": {},
   "source": [
    " - ans"
   ]
  },
  {
   "cell_type": "markdown",
   "id": "3ea389e4",
   "metadata": {},
   "source": [
    "#### End"
   ]
  },
  {
   "cell_type": "markdown",
   "id": "1c5bfcba",
   "metadata": {},
   "source": []
  }
 ],
 "metadata": {
  "kernelspec": {
   "display_name": "ds_test_docs_env",
   "language": "python",
   "name": "python3"
  },
  "language_info": {
   "codemirror_mode": {
    "name": "ipython",
    "version": 3
   },
   "file_extension": ".py",
   "mimetype": "text/x-python",
   "name": "python",
   "nbconvert_exporter": "python",
   "pygments_lexer": "ipython3",
   "version": "3.10.12"
  }
 },
 "nbformat": 4,
 "nbformat_minor": 5
}
